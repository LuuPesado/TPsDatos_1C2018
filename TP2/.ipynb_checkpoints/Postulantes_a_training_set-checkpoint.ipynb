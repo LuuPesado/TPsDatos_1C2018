{
 "cells": [
  {
   "cell_type": "code",
   "execution_count": 1,
   "metadata": {
    "collapsed": true
   },
   "outputs": [],
   "source": [
    "import datetime as dt\n",
    "import pandas as pd\n",
    "import numpy as np"
   ]
  },
  {
   "cell_type": "code",
   "execution_count": 2,
   "metadata": {
    "collapsed": true
   },
   "outputs": [],
   "source": [
    "postulantes = pd.read_csv('/home/luupesado/7506_Datos/2018/TPsDatos_1C2018/TP2/Archivos_a_usar/postulantes')"
   ]
  },
  {
   "cell_type": "code",
   "execution_count": 3,
   "metadata": {},
   "outputs": [
    {
     "name": "stdout",
     "output_type": "stream",
     "text": [
      "<class 'pandas.core.frame.DataFrame'>\n",
      "RangeIndex: 438597 entries, 0 to 438596\n",
      "Data columns (total 8 columns):\n",
      "Unnamed: 0         438597 non-null int64\n",
      "idpostulante       438597 non-null object\n",
      "fechanacimiento    438597 non-null object\n",
      "sexo               438597 non-null object\n",
      "edad               438597 non-null int64\n",
      "nombre             438597 non-null object\n",
      "estado             438597 non-null object\n",
      "nombre-estado      438597 non-null object\n",
      "dtypes: int64(2), object(6)\n",
      "memory usage: 26.8+ MB\n"
     ]
    }
   ],
   "source": [
    "postulantes.info()"
   ]
  },
  {
   "cell_type": "code",
   "execution_count": 4,
   "metadata": {},
   "outputs": [
    {
     "data": {
      "text/html": [
       "<div>\n",
       "<style>\n",
       "    .dataframe thead tr:only-child th {\n",
       "        text-align: right;\n",
       "    }\n",
       "\n",
       "    .dataframe thead th {\n",
       "        text-align: left;\n",
       "    }\n",
       "\n",
       "    .dataframe tbody tr th {\n",
       "        vertical-align: top;\n",
       "    }\n",
       "</style>\n",
       "<table border=\"1\" class=\"dataframe\">\n",
       "  <thead>\n",
       "    <tr style=\"text-align: right;\">\n",
       "      <th></th>\n",
       "      <th>Unnamed: 0</th>\n",
       "      <th>idpostulante</th>\n",
       "      <th>fechanacimiento</th>\n",
       "      <th>sexo</th>\n",
       "      <th>edad</th>\n",
       "      <th>nombre</th>\n",
       "      <th>estado</th>\n",
       "      <th>nombre-estado</th>\n",
       "    </tr>\n",
       "  </thead>\n",
       "  <tbody>\n",
       "    <tr>\n",
       "      <th>0</th>\n",
       "      <td>0</td>\n",
       "      <td>YZP</td>\n",
       "      <td>1961-05-01</td>\n",
       "      <td>MASC</td>\n",
       "      <td>57</td>\n",
       "      <td>Master</td>\n",
       "      <td>En Curso</td>\n",
       "      <td>Master - En Curso</td>\n",
       "    </tr>\n",
       "    <tr>\n",
       "      <th>1</th>\n",
       "      <td>1</td>\n",
       "      <td>ebE</td>\n",
       "      <td>1952-07-07</td>\n",
       "      <td>MASC</td>\n",
       "      <td>66</td>\n",
       "      <td>Posgrado</td>\n",
       "      <td>Graduado</td>\n",
       "      <td>Posgrado - Graduado</td>\n",
       "    </tr>\n",
       "    <tr>\n",
       "      <th>2</th>\n",
       "      <td>3</td>\n",
       "      <td>ZjlZ</td>\n",
       "      <td>1970-01-25</td>\n",
       "      <td>MASC</td>\n",
       "      <td>48</td>\n",
       "      <td>Master</td>\n",
       "      <td>Graduado</td>\n",
       "      <td>Master - Graduado</td>\n",
       "    </tr>\n",
       "    <tr>\n",
       "      <th>3</th>\n",
       "      <td>5</td>\n",
       "      <td>aEW8J</td>\n",
       "      <td>1965-05-19</td>\n",
       "      <td>FEM</td>\n",
       "      <td>53</td>\n",
       "      <td>Universitario</td>\n",
       "      <td>En Curso</td>\n",
       "      <td>Universitario - En Curso</td>\n",
       "    </tr>\n",
       "    <tr>\n",
       "      <th>4</th>\n",
       "      <td>8</td>\n",
       "      <td>8QGRj</td>\n",
       "      <td>1980-09-07</td>\n",
       "      <td>FEM</td>\n",
       "      <td>38</td>\n",
       "      <td>Universitario</td>\n",
       "      <td>En Curso</td>\n",
       "      <td>Universitario - En Curso</td>\n",
       "    </tr>\n",
       "  </tbody>\n",
       "</table>\n",
       "</div>"
      ],
      "text/plain": [
       "   Unnamed: 0 idpostulante fechanacimiento  sexo  edad         nombre  \\\n",
       "0           0          YZP      1961-05-01  MASC    57         Master   \n",
       "1           1          ebE      1952-07-07  MASC    66       Posgrado   \n",
       "2           3         ZjlZ      1970-01-25  MASC    48         Master   \n",
       "3           5        aEW8J      1965-05-19   FEM    53  Universitario   \n",
       "4           8        8QGRj      1980-09-07   FEM    38  Universitario   \n",
       "\n",
       "     estado             nombre-estado  \n",
       "0  En Curso         Master - En Curso  \n",
       "1  Graduado       Posgrado - Graduado  \n",
       "2  Graduado         Master - Graduado  \n",
       "3  En Curso  Universitario - En Curso  \n",
       "4  En Curso  Universitario - En Curso  "
      ]
     },
     "execution_count": 4,
     "metadata": {},
     "output_type": "execute_result"
    }
   ],
   "source": [
    "postulantes.head()"
   ]
  },
  {
   "cell_type": "code",
   "execution_count": 5,
   "metadata": {
    "collapsed": true
   },
   "outputs": [],
   "source": [
    "#SEXO: Femenino 1 - Masculino 0\n",
    "def sexo_to_num(sexo):\n",
    "    if sexo == 'MASC':\n",
    "        return 0\n",
    "    if sexo == 'FEM':\n",
    "        return 1\n",
    "    else:\n",
    "        return 0.5"
   ]
  },
  {
   "cell_type": "code",
   "execution_count": 6,
   "metadata": {
    "collapsed": true
   },
   "outputs": [],
   "source": [
    "postulantes['sexo'] = postulantes['sexo'].apply(lambda s: sexo_to_num(s))"
   ]
  },
  {
   "cell_type": "code",
   "execution_count": 7,
   "metadata": {
    "collapsed": true
   },
   "outputs": [],
   "source": [
    "postulantes['fechanacimiento'] = pd.to_datetime(postulantes['fechanacimiento'])"
   ]
  },
  {
   "cell_type": "code",
   "execution_count": 8,
   "metadata": {
    "collapsed": true
   },
   "outputs": [],
   "source": [
    "#Fecha Nacimiento: a año, mes, día\n",
    "postulantes['anionacimiento'] = postulantes['fechanacimiento'].map(lambda f: f.year)\n",
    "postulantes['mesnacimiento'] = postulantes['fechanacimiento'].map(lambda f: f.month)\n",
    "postulantes['dianacimiento'] = postulantes['fechanacimiento'].map(lambda f: f.day)"
   ]
  },
  {
   "cell_type": "code",
   "execution_count": 9,
   "metadata": {
    "collapsed": true
   },
   "outputs": [],
   "source": [
    "del postulantes['Unnamed: 0']\n",
    "del postulantes['fechanacimiento']"
   ]
  },
  {
   "cell_type": "code",
   "execution_count": 10,
   "metadata": {},
   "outputs": [
    {
     "data": {
      "text/html": [
       "<div>\n",
       "<style>\n",
       "    .dataframe thead tr:only-child th {\n",
       "        text-align: right;\n",
       "    }\n",
       "\n",
       "    .dataframe thead th {\n",
       "        text-align: left;\n",
       "    }\n",
       "\n",
       "    .dataframe tbody tr th {\n",
       "        vertical-align: top;\n",
       "    }\n",
       "</style>\n",
       "<table border=\"1\" class=\"dataframe\">\n",
       "  <thead>\n",
       "    <tr style=\"text-align: right;\">\n",
       "      <th></th>\n",
       "      <th>idpostulante</th>\n",
       "      <th>sexo</th>\n",
       "      <th>edad</th>\n",
       "      <th>nombre</th>\n",
       "      <th>estado</th>\n",
       "      <th>nombre-estado</th>\n",
       "      <th>anionacimiento</th>\n",
       "      <th>mesnacimiento</th>\n",
       "      <th>dianacimiento</th>\n",
       "    </tr>\n",
       "  </thead>\n",
       "  <tbody>\n",
       "    <tr>\n",
       "      <th>0</th>\n",
       "      <td>YZP</td>\n",
       "      <td>0.0</td>\n",
       "      <td>57</td>\n",
       "      <td>Master</td>\n",
       "      <td>En Curso</td>\n",
       "      <td>Master - En Curso</td>\n",
       "      <td>1961</td>\n",
       "      <td>5</td>\n",
       "      <td>1</td>\n",
       "    </tr>\n",
       "    <tr>\n",
       "      <th>1</th>\n",
       "      <td>ebE</td>\n",
       "      <td>0.0</td>\n",
       "      <td>66</td>\n",
       "      <td>Posgrado</td>\n",
       "      <td>Graduado</td>\n",
       "      <td>Posgrado - Graduado</td>\n",
       "      <td>1952</td>\n",
       "      <td>7</td>\n",
       "      <td>7</td>\n",
       "    </tr>\n",
       "    <tr>\n",
       "      <th>2</th>\n",
       "      <td>ZjlZ</td>\n",
       "      <td>0.0</td>\n",
       "      <td>48</td>\n",
       "      <td>Master</td>\n",
       "      <td>Graduado</td>\n",
       "      <td>Master - Graduado</td>\n",
       "      <td>1970</td>\n",
       "      <td>1</td>\n",
       "      <td>25</td>\n",
       "    </tr>\n",
       "    <tr>\n",
       "      <th>3</th>\n",
       "      <td>aEW8J</td>\n",
       "      <td>1.0</td>\n",
       "      <td>53</td>\n",
       "      <td>Universitario</td>\n",
       "      <td>En Curso</td>\n",
       "      <td>Universitario - En Curso</td>\n",
       "      <td>1965</td>\n",
       "      <td>5</td>\n",
       "      <td>19</td>\n",
       "    </tr>\n",
       "    <tr>\n",
       "      <th>4</th>\n",
       "      <td>8QGRj</td>\n",
       "      <td>1.0</td>\n",
       "      <td>38</td>\n",
       "      <td>Universitario</td>\n",
       "      <td>En Curso</td>\n",
       "      <td>Universitario - En Curso</td>\n",
       "      <td>1980</td>\n",
       "      <td>9</td>\n",
       "      <td>7</td>\n",
       "    </tr>\n",
       "  </tbody>\n",
       "</table>\n",
       "</div>"
      ],
      "text/plain": [
       "  idpostulante  sexo  edad         nombre    estado             nombre-estado  \\\n",
       "0          YZP   0.0    57         Master  En Curso         Master - En Curso   \n",
       "1          ebE   0.0    66       Posgrado  Graduado       Posgrado - Graduado   \n",
       "2         ZjlZ   0.0    48         Master  Graduado         Master - Graduado   \n",
       "3        aEW8J   1.0    53  Universitario  En Curso  Universitario - En Curso   \n",
       "4        8QGRj   1.0    38  Universitario  En Curso  Universitario - En Curso   \n",
       "\n",
       "   anionacimiento  mesnacimiento  dianacimiento  \n",
       "0            1961              5              1  \n",
       "1            1952              7              7  \n",
       "2            1970              1             25  \n",
       "3            1965              5             19  \n",
       "4            1980              9              7  "
      ]
     },
     "execution_count": 10,
     "metadata": {},
     "output_type": "execute_result"
    }
   ],
   "source": [
    "postulantes.head()"
   ]
  },
  {
   "cell_type": "code",
   "execution_count": 11,
   "metadata": {
    "collapsed": true
   },
   "outputs": [],
   "source": [
    "estado_to_num_d = { 'Abandonado' : 0,\n",
    "                'En Curso': 1, \n",
    "                'Graduado': 2}\n",
    "\n",
    "def estado_to_num(estado):\n",
    "    return estado_to_num_d[estado]"
   ]
  },
  {
   "cell_type": "code",
   "execution_count": 12,
   "metadata": {
    "collapsed": true
   },
   "outputs": [],
   "source": [
    "postulantes['estado'] = postulantes['estado'].map(lambda e: estado_to_num(e))"
   ]
  },
  {
   "cell_type": "code",
   "execution_count": 13,
   "metadata": {
    "collapsed": true
   },
   "outputs": [],
   "source": [
    "nombre_to_num = {'Otro': 0,\n",
    "'Secundario': 1,\n",
    " 'Terciario/Tecnico':2,\n",
    " 'Universitario': 3,\n",
    " 'Posgrado': 4,\n",
    " 'Master': 5,\n",
    " 'Doctorado': 6}\n",
    "postulantes['nombre'] = postulantes['nombre'].map(lambda n: nombre_to_num[n]) "
   ]
  },
  {
   "cell_type": "code",
   "execution_count": 14,
   "metadata": {},
   "outputs": [
    {
     "data": {
      "text/html": [
       "<div>\n",
       "<style>\n",
       "    .dataframe thead tr:only-child th {\n",
       "        text-align: right;\n",
       "    }\n",
       "\n",
       "    .dataframe thead th {\n",
       "        text-align: left;\n",
       "    }\n",
       "\n",
       "    .dataframe tbody tr th {\n",
       "        vertical-align: top;\n",
       "    }\n",
       "</style>\n",
       "<table border=\"1\" class=\"dataframe\">\n",
       "  <thead>\n",
       "    <tr style=\"text-align: right;\">\n",
       "      <th></th>\n",
       "      <th>idpostulante</th>\n",
       "      <th>sexo</th>\n",
       "      <th>edad</th>\n",
       "      <th>nombre</th>\n",
       "      <th>estado</th>\n",
       "      <th>nombre-estado</th>\n",
       "      <th>anionacimiento</th>\n",
       "      <th>mesnacimiento</th>\n",
       "      <th>dianacimiento</th>\n",
       "    </tr>\n",
       "  </thead>\n",
       "  <tbody>\n",
       "    <tr>\n",
       "      <th>0</th>\n",
       "      <td>YZP</td>\n",
       "      <td>0.0</td>\n",
       "      <td>57</td>\n",
       "      <td>5</td>\n",
       "      <td>1</td>\n",
       "      <td>Master - En Curso</td>\n",
       "      <td>1961</td>\n",
       "      <td>5</td>\n",
       "      <td>1</td>\n",
       "    </tr>\n",
       "    <tr>\n",
       "      <th>1</th>\n",
       "      <td>ebE</td>\n",
       "      <td>0.0</td>\n",
       "      <td>66</td>\n",
       "      <td>4</td>\n",
       "      <td>2</td>\n",
       "      <td>Posgrado - Graduado</td>\n",
       "      <td>1952</td>\n",
       "      <td>7</td>\n",
       "      <td>7</td>\n",
       "    </tr>\n",
       "    <tr>\n",
       "      <th>2</th>\n",
       "      <td>ZjlZ</td>\n",
       "      <td>0.0</td>\n",
       "      <td>48</td>\n",
       "      <td>5</td>\n",
       "      <td>2</td>\n",
       "      <td>Master - Graduado</td>\n",
       "      <td>1970</td>\n",
       "      <td>1</td>\n",
       "      <td>25</td>\n",
       "    </tr>\n",
       "    <tr>\n",
       "      <th>3</th>\n",
       "      <td>aEW8J</td>\n",
       "      <td>1.0</td>\n",
       "      <td>53</td>\n",
       "      <td>3</td>\n",
       "      <td>1</td>\n",
       "      <td>Universitario - En Curso</td>\n",
       "      <td>1965</td>\n",
       "      <td>5</td>\n",
       "      <td>19</td>\n",
       "    </tr>\n",
       "    <tr>\n",
       "      <th>4</th>\n",
       "      <td>8QGRj</td>\n",
       "      <td>1.0</td>\n",
       "      <td>38</td>\n",
       "      <td>3</td>\n",
       "      <td>1</td>\n",
       "      <td>Universitario - En Curso</td>\n",
       "      <td>1980</td>\n",
       "      <td>9</td>\n",
       "      <td>7</td>\n",
       "    </tr>\n",
       "  </tbody>\n",
       "</table>\n",
       "</div>"
      ],
      "text/plain": [
       "  idpostulante  sexo  edad  nombre  estado             nombre-estado  \\\n",
       "0          YZP   0.0    57       5       1         Master - En Curso   \n",
       "1          ebE   0.0    66       4       2       Posgrado - Graduado   \n",
       "2         ZjlZ   0.0    48       5       2         Master - Graduado   \n",
       "3        aEW8J   1.0    53       3       1  Universitario - En Curso   \n",
       "4        8QGRj   1.0    38       3       1  Universitario - En Curso   \n",
       "\n",
       "   anionacimiento  mesnacimiento  dianacimiento  \n",
       "0            1961              5              1  \n",
       "1            1952              7              7  \n",
       "2            1970              1             25  \n",
       "3            1965              5             19  \n",
       "4            1980              9              7  "
      ]
     },
     "execution_count": 14,
     "metadata": {},
     "output_type": "execute_result"
    }
   ],
   "source": [
    "postulantes.head()"
   ]
  },
  {
   "cell_type": "code",
   "execution_count": 15,
   "metadata": {
    "collapsed": true
   },
   "outputs": [],
   "source": [
    "nombre_estado_to_num = {'Otro - Abandonado': 0,\n",
    " 'Otro - En Curso': 1,                                        \n",
    " 'Otro - Graduado': 2, \n",
    "'Secundario - Abandonado': 3,\n",
    " 'Secundario - En Curso':4,\n",
    " 'Secundario - Graduado':5,\n",
    " 'Terciario/Tecnico - Abandonado': 6,\n",
    " 'Terciario/Tecnico - En Curso':7,\n",
    " 'Terciario/Tecnico - Graduado':8,\n",
    " 'Universitario - Abandonado':9,\n",
    " 'Universitario - En Curso':10,\n",
    " 'Universitario - Graduado':11,\n",
    "'Posgrado - Abandonado':12,\n",
    " 'Posgrado - En Curso':13,\n",
    " 'Posgrado - Graduado':14,\n",
    " 'Master - Abandonado':15,\n",
    " 'Master - En Curso':16,\n",
    " 'Master - Graduado':17,\n",
    "'Doctorado - Abandonado':18,\n",
    " 'Doctorado - En Curso':19,\n",
    " 'Doctorado - Graduado':20}\n",
    "postulantes['nombre-estado'] = postulantes['nombre-estado'].map(lambda ne: nombre_estado_to_num[ne]) "
   ]
  },
  {
   "cell_type": "code",
   "execution_count": 16,
   "metadata": {},
   "outputs": [
    {
     "data": {
      "text/html": [
       "<div>\n",
       "<style>\n",
       "    .dataframe thead tr:only-child th {\n",
       "        text-align: right;\n",
       "    }\n",
       "\n",
       "    .dataframe thead th {\n",
       "        text-align: left;\n",
       "    }\n",
       "\n",
       "    .dataframe tbody tr th {\n",
       "        vertical-align: top;\n",
       "    }\n",
       "</style>\n",
       "<table border=\"1\" class=\"dataframe\">\n",
       "  <thead>\n",
       "    <tr style=\"text-align: right;\">\n",
       "      <th></th>\n",
       "      <th>idpostulante</th>\n",
       "      <th>sexo</th>\n",
       "      <th>edad</th>\n",
       "      <th>nombre</th>\n",
       "      <th>estado</th>\n",
       "      <th>nombre-estado</th>\n",
       "      <th>anionacimiento</th>\n",
       "      <th>mesnacimiento</th>\n",
       "      <th>dianacimiento</th>\n",
       "    </tr>\n",
       "  </thead>\n",
       "  <tbody>\n",
       "    <tr>\n",
       "      <th>0</th>\n",
       "      <td>YZP</td>\n",
       "      <td>0.0</td>\n",
       "      <td>57</td>\n",
       "      <td>5</td>\n",
       "      <td>1</td>\n",
       "      <td>16</td>\n",
       "      <td>1961</td>\n",
       "      <td>5</td>\n",
       "      <td>1</td>\n",
       "    </tr>\n",
       "    <tr>\n",
       "      <th>1</th>\n",
       "      <td>ebE</td>\n",
       "      <td>0.0</td>\n",
       "      <td>66</td>\n",
       "      <td>4</td>\n",
       "      <td>2</td>\n",
       "      <td>14</td>\n",
       "      <td>1952</td>\n",
       "      <td>7</td>\n",
       "      <td>7</td>\n",
       "    </tr>\n",
       "    <tr>\n",
       "      <th>2</th>\n",
       "      <td>ZjlZ</td>\n",
       "      <td>0.0</td>\n",
       "      <td>48</td>\n",
       "      <td>5</td>\n",
       "      <td>2</td>\n",
       "      <td>17</td>\n",
       "      <td>1970</td>\n",
       "      <td>1</td>\n",
       "      <td>25</td>\n",
       "    </tr>\n",
       "    <tr>\n",
       "      <th>3</th>\n",
       "      <td>aEW8J</td>\n",
       "      <td>1.0</td>\n",
       "      <td>53</td>\n",
       "      <td>3</td>\n",
       "      <td>1</td>\n",
       "      <td>10</td>\n",
       "      <td>1965</td>\n",
       "      <td>5</td>\n",
       "      <td>19</td>\n",
       "    </tr>\n",
       "    <tr>\n",
       "      <th>4</th>\n",
       "      <td>8QGRj</td>\n",
       "      <td>1.0</td>\n",
       "      <td>38</td>\n",
       "      <td>3</td>\n",
       "      <td>1</td>\n",
       "      <td>10</td>\n",
       "      <td>1980</td>\n",
       "      <td>9</td>\n",
       "      <td>7</td>\n",
       "    </tr>\n",
       "  </tbody>\n",
       "</table>\n",
       "</div>"
      ],
      "text/plain": [
       "  idpostulante  sexo  edad  nombre  estado  nombre-estado  anionacimiento  \\\n",
       "0          YZP   0.0    57       5       1             16            1961   \n",
       "1          ebE   0.0    66       4       2             14            1952   \n",
       "2         ZjlZ   0.0    48       5       2             17            1970   \n",
       "3        aEW8J   1.0    53       3       1             10            1965   \n",
       "4        8QGRj   1.0    38       3       1             10            1980   \n",
       "\n",
       "   mesnacimiento  dianacimiento  \n",
       "0              5              1  \n",
       "1              7              7  \n",
       "2              1             25  \n",
       "3              5             19  \n",
       "4              9              7  "
      ]
     },
     "execution_count": 16,
     "metadata": {},
     "output_type": "execute_result"
    }
   ],
   "source": [
    "postulantes.head()"
   ]
  },
  {
   "cell_type": "code",
   "execution_count": 17,
   "metadata": {
    "collapsed": true
   },
   "outputs": [],
   "source": [
    "postulantes.to_csv('/home/luupesado/7506_Datos/2018/datos_tp/real_test/TrainingSet/postulantes_to_train_1.csv', index = False)"
   ]
  },
  {
   "cell_type": "code",
   "execution_count": 18,
   "metadata": {
    "collapsed": true
   },
   "outputs": [],
   "source": [
    "p2 = pd.read_csv('/home/luupesado/7506_Datos/2018/datos_tp/real_test/TrainingSet/postulantes_to_train_1.csv')"
   ]
  },
  {
   "cell_type": "code",
   "execution_count": 19,
   "metadata": {},
   "outputs": [
    {
     "data": {
      "text/html": [
       "<div>\n",
       "<style>\n",
       "    .dataframe thead tr:only-child th {\n",
       "        text-align: right;\n",
       "    }\n",
       "\n",
       "    .dataframe thead th {\n",
       "        text-align: left;\n",
       "    }\n",
       "\n",
       "    .dataframe tbody tr th {\n",
       "        vertical-align: top;\n",
       "    }\n",
       "</style>\n",
       "<table border=\"1\" class=\"dataframe\">\n",
       "  <thead>\n",
       "    <tr style=\"text-align: right;\">\n",
       "      <th></th>\n",
       "      <th>idpostulante</th>\n",
       "      <th>sexo</th>\n",
       "      <th>edad</th>\n",
       "      <th>nombre</th>\n",
       "      <th>estado</th>\n",
       "      <th>nombre-estado</th>\n",
       "      <th>anionacimiento</th>\n",
       "      <th>mesnacimiento</th>\n",
       "      <th>dianacimiento</th>\n",
       "    </tr>\n",
       "  </thead>\n",
       "  <tbody>\n",
       "    <tr>\n",
       "      <th>0</th>\n",
       "      <td>YZP</td>\n",
       "      <td>0.0</td>\n",
       "      <td>57</td>\n",
       "      <td>5</td>\n",
       "      <td>1</td>\n",
       "      <td>16</td>\n",
       "      <td>1961</td>\n",
       "      <td>5</td>\n",
       "      <td>1</td>\n",
       "    </tr>\n",
       "    <tr>\n",
       "      <th>1</th>\n",
       "      <td>ebE</td>\n",
       "      <td>0.0</td>\n",
       "      <td>66</td>\n",
       "      <td>4</td>\n",
       "      <td>2</td>\n",
       "      <td>14</td>\n",
       "      <td>1952</td>\n",
       "      <td>7</td>\n",
       "      <td>7</td>\n",
       "    </tr>\n",
       "    <tr>\n",
       "      <th>2</th>\n",
       "      <td>ZjlZ</td>\n",
       "      <td>0.0</td>\n",
       "      <td>48</td>\n",
       "      <td>5</td>\n",
       "      <td>2</td>\n",
       "      <td>17</td>\n",
       "      <td>1970</td>\n",
       "      <td>1</td>\n",
       "      <td>25</td>\n",
       "    </tr>\n",
       "    <tr>\n",
       "      <th>3</th>\n",
       "      <td>aEW8J</td>\n",
       "      <td>1.0</td>\n",
       "      <td>53</td>\n",
       "      <td>3</td>\n",
       "      <td>1</td>\n",
       "      <td>10</td>\n",
       "      <td>1965</td>\n",
       "      <td>5</td>\n",
       "      <td>19</td>\n",
       "    </tr>\n",
       "    <tr>\n",
       "      <th>4</th>\n",
       "      <td>8QGRj</td>\n",
       "      <td>1.0</td>\n",
       "      <td>38</td>\n",
       "      <td>3</td>\n",
       "      <td>1</td>\n",
       "      <td>10</td>\n",
       "      <td>1980</td>\n",
       "      <td>9</td>\n",
       "      <td>7</td>\n",
       "    </tr>\n",
       "  </tbody>\n",
       "</table>\n",
       "</div>"
      ],
      "text/plain": [
       "  idpostulante  sexo  edad  nombre  estado  nombre-estado  anionacimiento  \\\n",
       "0          YZP   0.0    57       5       1             16            1961   \n",
       "1          ebE   0.0    66       4       2             14            1952   \n",
       "2         ZjlZ   0.0    48       5       2             17            1970   \n",
       "3        aEW8J   1.0    53       3       1             10            1965   \n",
       "4        8QGRj   1.0    38       3       1             10            1980   \n",
       "\n",
       "   mesnacimiento  dianacimiento  \n",
       "0              5              1  \n",
       "1              7              7  \n",
       "2              1             25  \n",
       "3              5             19  \n",
       "4              9              7  "
      ]
     },
     "execution_count": 19,
     "metadata": {},
     "output_type": "execute_result"
    }
   ],
   "source": [
    "p2.head()"
   ]
  },
  {
   "cell_type": "code",
   "execution_count": 20,
   "metadata": {},
   "outputs": [
    {
     "name": "stdout",
     "output_type": "stream",
     "text": [
      "<class 'pandas.core.frame.DataFrame'>\n",
      "RangeIndex: 438597 entries, 0 to 438596\n",
      "Data columns (total 9 columns):\n",
      "idpostulante      438597 non-null object\n",
      "sexo              438597 non-null float64\n",
      "edad              438597 non-null int64\n",
      "nombre            438597 non-null int64\n",
      "estado            438597 non-null int64\n",
      "nombre-estado     438597 non-null int64\n",
      "anionacimiento    438597 non-null int64\n",
      "mesnacimiento     438597 non-null int64\n",
      "dianacimiento     438597 non-null int64\n",
      "dtypes: float64(1), int64(7), object(1)\n",
      "memory usage: 30.1+ MB\n"
     ]
    }
   ],
   "source": [
    "p2.info()"
   ]
  }
 ],
 "metadata": {
  "kernelspec": {
   "display_name": "Python 2",
   "language": "python",
   "name": "python2"
  },
  "language_info": {
   "codemirror_mode": {
    "name": "ipython",
    "version": 2
   },
   "file_extension": ".py",
   "mimetype": "text/x-python",
   "name": "python",
   "nbconvert_exporter": "python",
   "pygments_lexer": "ipython2",
   "version": "2.7.12"
  }
 },
 "nbformat": 4,
 "nbformat_minor": 2
}
