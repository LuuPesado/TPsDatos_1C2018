{
 "cells": [
  {
   "cell_type": "code",
   "execution_count": 1,
   "metadata": {
    "collapsed": true
   },
   "outputs": [],
   "source": [
    "import datetime as dt\n",
    "import pandas as pd\n",
    "import numpy as np"
   ]
  },
  {
   "cell_type": "code",
   "execution_count": 2,
   "metadata": {
    "collapsed": true
   },
   "outputs": [],
   "source": [
    "detalle = pd.read_csv('/home/luupesado/7506_Datos/2018/datos_tp/joins/avisos_detalle.csv')\n",
    "online = pd.read_csv('/home/luupesado/7506_Datos/2018/datos_tp/joins/avisos_online.csv')"
   ]
  },
  {
   "cell_type": "markdown",
   "metadata": {},
   "source": [
    "Limpiamos el set de tados detalle"
   ]
  },
  {
   "cell_type": "code",
   "execution_count": 3,
   "metadata": {},
   "outputs": [
    {
     "name": "stdout",
     "output_type": "stream",
     "text": [
      "<class 'pandas.core.frame.DataFrame'>\n",
      "RangeIndex: 45969 entries, 0 to 45968\n",
      "Data columns (total 12 columns):\n",
      "Unnamed: 0              45969 non-null int64\n",
      "idaviso                 45969 non-null int64\n",
      "idpais                  45969 non-null int64\n",
      "titulo                  45969 non-null object\n",
      "descripcion             45969 non-null object\n",
      "nombre_zona             45969 non-null object\n",
      "ciudad                  225 non-null object\n",
      "mapacalle               3444 non-null object\n",
      "tipo_de_trabajo         45969 non-null object\n",
      "nivel_laboral           45634 non-null object\n",
      "nombre_area             45969 non-null object\n",
      "denominacion_empresa    45955 non-null object\n",
      "dtypes: int64(3), object(9)\n",
      "memory usage: 4.2+ MB\n"
     ]
    }
   ],
   "source": [
    "detalle.info()"
   ]
  },
  {
   "cell_type": "code",
   "execution_count": 4,
   "metadata": {
    "collapsed": true
   },
   "outputs": [],
   "source": [
    "del detalle['Unnamed: 0']\n",
    "del detalle['ciudad']\n",
    "del detalle['mapacalle']"
   ]
  },
  {
   "cell_type": "code",
   "execution_count": 5,
   "metadata": {
    "collapsed": true
   },
   "outputs": [],
   "source": [
    "detalle = detalle.dropna(axis = 0, subset = ['denominacion_empresa'], how = 'any')"
   ]
  },
  {
   "cell_type": "code",
   "execution_count": 6,
   "metadata": {
    "collapsed": true
   },
   "outputs": [],
   "source": [
    "del detalle['idpais']"
   ]
  },
  {
   "cell_type": "code",
   "execution_count": 19,
   "metadata": {
    "collapsed": true
   },
   "outputs": [],
   "source": [
    "detalle = detalle.drop_duplicates(subset = 'idaviso')"
   ]
  },
  {
   "cell_type": "code",
   "execution_count": 8,
   "metadata": {},
   "outputs": [
    {
     "data": {
      "text/plain": [
       "1112414205    1\n",
       "1112452639    1\n",
       "1111770658    1\n",
       "1112362531    1\n",
       "1112505893    1\n",
       "1112425196    1\n",
       "1112346155    1\n",
       "1112356396    1\n",
       "1112417838    1\n",
       "1112266288    1\n",
       "1112274484    1\n",
       "1112055353    1\n",
       "1112260157    1\n",
       "1111404095    1\n",
       "1112299072    1\n",
       "1112362563    1\n",
       "1112203053    1\n",
       "1112282696    1\n",
       "1112421964    1\n",
       "1111476991    1\n",
       "1111891514    1\n",
       "1112458834    1\n",
       "1112460883    1\n",
       "1112430112    1\n",
       "1112385054    1\n",
       "1112409578    1\n",
       "1111735837    1\n",
       "1112421868    1\n",
       "1112202737    1\n",
       "1111674355    1\n",
       "             ..\n",
       "1112261613    1\n",
       "1112136686    1\n",
       "1112396783    1\n",
       "1112220657    1\n",
       "1112409077    1\n",
       "1112413111    1\n",
       "1112224691    1\n",
       "1112357810    1\n",
       "1112289556    1\n",
       "1112243066    1\n",
       "1112300414    1\n",
       "1112378244    1\n",
       "1112376197    1\n",
       "1112511367    1\n",
       "1112482705    1\n",
       "1112423314    1\n",
       "1112470155    1\n",
       "1112474517    1\n",
       "1112374170    1\n",
       "1112220593    1\n",
       "1112425373    1\n",
       "1112257443    1\n",
       "1112472103    1\n",
       "1112402856    1\n",
       "1112400809    1\n",
       "1112341418    1\n",
       "1112273835    1\n",
       "1112202158    1\n",
       "1112325041    1\n",
       "1112342528    1\n",
       "Name: idaviso, Length: 25281, dtype: int64"
      ]
     },
     "execution_count": 8,
     "metadata": {},
     "output_type": "execute_result"
    }
   ],
   "source": [
    "detalle['idaviso'].value_counts()"
   ]
  },
  {
   "cell_type": "code",
   "execution_count": 9,
   "metadata": {},
   "outputs": [
    {
     "name": "stdout",
     "output_type": "stream",
     "text": [
      "<class 'pandas.core.frame.DataFrame'>\n",
      "Int64Index: 25281 entries, 0 to 45968\n",
      "Data columns (total 8 columns):\n",
      "idaviso                 25281 non-null int64\n",
      "titulo                  25281 non-null object\n",
      "descripcion             25281 non-null object\n",
      "nombre_zona             25281 non-null object\n",
      "tipo_de_trabajo         25281 non-null object\n",
      "nivel_laboral           24946 non-null object\n",
      "nombre_area             25281 non-null object\n",
      "denominacion_empresa    25281 non-null object\n",
      "dtypes: int64(1), object(7)\n",
      "memory usage: 1.7+ MB\n"
     ]
    }
   ],
   "source": [
    "detalle.info()"
   ]
  },
  {
   "cell_type": "code",
   "execution_count": 10,
   "metadata": {},
   "outputs": [
    {
     "name": "stdout",
     "output_type": "stream",
     "text": [
      "<class 'pandas.core.frame.DataFrame'>\n",
      "RangeIndex: 9886 entries, 0 to 9885\n",
      "Data columns (total 2 columns):\n",
      "Unnamed: 0    9886 non-null int64\n",
      "idaviso       9886 non-null int64\n",
      "dtypes: int64(2)\n",
      "memory usage: 154.5 KB\n"
     ]
    }
   ],
   "source": [
    "online.info()"
   ]
  },
  {
   "cell_type": "code",
   "execution_count": 11,
   "metadata": {},
   "outputs": [],
   "source": [
    "del online['Unnamed: 0']\n",
    "online['online'] = 1"
   ]
  },
  {
   "cell_type": "code",
   "execution_count": 12,
   "metadata": {},
   "outputs": [
    {
     "name": "stdout",
     "output_type": "stream",
     "text": [
      "<class 'pandas.core.frame.DataFrame'>\n",
      "RangeIndex: 9886 entries, 0 to 9885\n",
      "Data columns (total 2 columns):\n",
      "idaviso    9886 non-null int64\n",
      "online     9886 non-null int64\n",
      "dtypes: int64(2)\n",
      "memory usage: 154.5 KB\n"
     ]
    }
   ],
   "source": [
    "online.info()"
   ]
  },
  {
   "cell_type": "code",
   "execution_count": 13,
   "metadata": {
    "collapsed": true
   },
   "outputs": [],
   "source": [
    "avisos = pd.merge(detalle, online, on='idaviso', how='left')"
   ]
  },
  {
   "cell_type": "code",
   "execution_count": 14,
   "metadata": {
    "collapsed": true
   },
   "outputs": [],
   "source": [
    "avisos['online'] = avisos['online']"
   ]
  },
  {
   "cell_type": "code",
   "execution_count": 20,
   "metadata": {
    "collapsed": true
   },
   "outputs": [],
   "source": [
    "avisos = avisos.drop_duplicates(subset = 'idaviso')"
   ]
  },
  {
   "cell_type": "code",
   "execution_count": 21,
   "metadata": {
    "collapsed": true
   },
   "outputs": [],
   "source": [
    "avisos.to_csv('/home/luupesado/7506_Datos/2018/TPsDatos_1C2018/TP2/Archivos_a_usar/avisos')"
   ]
  },
  {
   "cell_type": "code",
   "execution_count": 22,
   "metadata": {},
   "outputs": [
    {
     "name": "stdout",
     "output_type": "stream",
     "text": [
      "<class 'pandas.core.frame.DataFrame'>\n",
      "Int64Index: 25737 entries, 0 to 25736\n",
      "Data columns (total 9 columns):\n",
      "idaviso                 25737 non-null int64\n",
      "titulo                  25737 non-null object\n",
      "descripcion             25737 non-null object\n",
      "nombre_zona             25737 non-null object\n",
      "tipo_de_trabajo         25737 non-null object\n",
      "nivel_laboral           25374 non-null object\n",
      "nombre_area             25737 non-null object\n",
      "denominacion_empresa    25737 non-null object\n",
      "online                  25737 non-null float64\n",
      "dtypes: float64(1), int64(1), object(7)\n",
      "memory usage: 2.0+ MB\n"
     ]
    }
   ],
   "source": [
    "avisos.info()"
   ]
  },
  {
   "cell_type": "code",
   "execution_count": 23,
   "metadata": {},
   "outputs": [
    {
     "data": {
      "text/plain": [
       "1112363253    2\n",
       "1112044105    2\n",
       "1112145679    2\n",
       "1112053606    2\n",
       "1000502125    2\n",
       "1112348632    2\n",
       "1112344754    2\n",
       "1112385096    2\n",
       "1112379215    2\n",
       "1112366633    2\n",
       "1111953893    2\n",
       "1112353250    2\n",
       "1112336264    2\n",
       "1112348530    2\n",
       "1112246640    2\n",
       "1112344960    2\n",
       "1112280937    2\n",
       "1111676684    2\n",
       "1112370939    2\n",
       "1112256169    2\n",
       "1112372518    2\n",
       "1111983524    2\n",
       "1112296292    2\n",
       "1112373608    2\n",
       "1112305373    2\n",
       "1112303812    2\n",
       "1112346093    2\n",
       "1112338811    2\n",
       "1112326525    2\n",
       "1112246650    2\n",
       "             ..\n",
       "1112107800    1\n",
       "1112490043    1\n",
       "1112359709    1\n",
       "1112431390    1\n",
       "1112253217    1\n",
       "1112357618    1\n",
       "1112484592    1\n",
       "1112357554    1\n",
       "1112402632    1\n",
       "1112500920    1\n",
       "1112308410    1\n",
       "1112228541    1\n",
       "1112253121    1\n",
       "1112259266    1\n",
       "1112246980    1\n",
       "1112441541    1\n",
       "1112513222    1\n",
       "1112249031    1\n",
       "1112466121    1\n",
       "1112462063    1\n",
       "1112287952    1\n",
       "1112220369    1\n",
       "1112220362    1\n",
       "1112367833    1\n",
       "1112306395    1\n",
       "1112409898    1\n",
       "1112247012    1\n",
       "1112249063    1\n",
       "1112261357    1\n",
       "1112342528    1\n",
       "Name: idaviso, Length: 25281, dtype: int64"
      ]
     },
     "execution_count": 23,
     "metadata": {},
     "output_type": "execute_result"
    }
   ],
   "source": [
    "avisos['idaviso'].value_counts()"
   ]
  }
 ],
 "metadata": {
  "kernelspec": {
   "display_name": "Python 2",
   "language": "python",
   "name": "python2"
  },
  "language_info": {
   "codemirror_mode": {
    "name": "ipython",
    "version": 2
   },
   "file_extension": ".py",
   "mimetype": "text/x-python",
   "name": "python",
   "nbconvert_exporter": "python",
   "pygments_lexer": "ipython2",
   "version": "2.7.12"
  }
 },
 "nbformat": 4,
 "nbformat_minor": 2
}
