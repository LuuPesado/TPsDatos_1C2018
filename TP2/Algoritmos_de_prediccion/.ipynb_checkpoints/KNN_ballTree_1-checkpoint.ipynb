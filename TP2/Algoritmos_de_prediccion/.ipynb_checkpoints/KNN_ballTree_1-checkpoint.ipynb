{
 "cells": [
  {
   "cell_type": "code",
   "execution_count": 1,
   "metadata": {
    "collapsed": true
   },
   "outputs": [],
   "source": [
    "import datetime as dt\n",
    "import pandas as pd\n",
    "import numpy as np\n",
    "from sklearn import neighbors\n",
    "from sklearn.metrics import mean_squared_error"
   ]
  },
  {
   "cell_type": "code",
   "execution_count": 18,
   "metadata": {
    "collapsed": true
   },
   "outputs": [],
   "source": [
    "ts = pd.read_csv('/home/luupesado/7506_Datos/2018/datos_tp/real_test/TrainingSet/Training_set1M.csv')\n",
    "df100k_or = pd.read_csv('/home/luupesado/7506_Datos/2018/datos_tp/real_test/TestsSet/100k_as_ts1M.csv')"
   ]
  },
  {
   "cell_type": "code",
   "execution_count": 4,
   "metadata": {},
   "outputs": [],
   "source": [
    "test= ts[0:15000]\n",
    "train = ts[15000:]"
   ]
  },
  {
   "cell_type": "code",
   "execution_count": 5,
   "metadata": {
    "collapsed": true
   },
   "outputs": [],
   "source": [
    "crossValidation = pd.DataFrame()\n",
    "crossValidation['sepostulo'] = test['sepostulo']\n",
    "test = test.drop(['sepostulo'], axis = 1)"
   ]
  },
  {
   "cell_type": "code",
   "execution_count": 7,
   "metadata": {
    "collapsed": true
   },
   "outputs": [],
   "source": [
    "trainx = train.drop(['sepostulo'], axis = 1)\n",
    "trainy = train['sepostulo']"
   ]
  },
  {
   "cell_type": "code",
   "execution_count": 9,
   "metadata": {},
   "outputs": [],
   "source": [
    "klist = [1,10,25,50,100, 250, 500]\n",
    "algorithms= ['ball_tree', 'kd_tree']\n",
    "predictionList=[]\n",
    "scoreList=[]\n",
    "for k in klist:\n",
    "    for a in algorithms:\n",
    "        knn = neighbors.KNeighborsRegressor(k, weights='distance', algorithm=a)\n",
    "        predictions = knn.fit(trainx, trainy)\n",
    "        predictions = predictions.predict(test)\n",
    "        predictionList.append('KNN-K: '+str(k)+'-algorithm: '+a)\n",
    "        score = mean_squared_error(crossValidation['sepostulo'].values, predictions)\n",
    "        scoreList.append(score)"
   ]
  },
  {
   "cell_type": "code",
   "execution_count": 11,
   "metadata": {
    "scrolled": true
   },
   "outputs": [
    {
     "name": "stdout",
     "output_type": "stream",
     "text": [
      "KNN-K: 1-algorithm: ball_tree 0.481333333333\n",
      "KNN-K: 1-algorithm: kd_tree 0.481333333333\n",
      "KNN-K: 10-algorithm: ball_tree 0.27731094379\n",
      "KNN-K: 10-algorithm: kd_tree 0.27731094379\n",
      "KNN-K: 25-algorithm: ball_tree 0.260624085153\n",
      "KNN-K: 25-algorithm: kd_tree 0.260624085153\n",
      "KNN-K: 50-algorithm: ball_tree 0.253763309533\n",
      "KNN-K: 50-algorithm: kd_tree 0.253764073885\n",
      "KNN-K: 100-algorithm: ball_tree 0.249240569547\n",
      "KNN-K: 100-algorithm: kd_tree 0.249240569547\n",
      "KNN-K: 250-algorithm: ball_tree 0.246061008296\n",
      "KNN-K: 250-algorithm: kd_tree 0.246061107382\n",
      "KNN-K: 500-algorithm: ball_tree 0.244666043907\n",
      "KNN-K: 500-algorithm: kd_tree 0.244666043907\n"
     ]
    }
   ],
   "source": [
    "for i in range(len(scoreList)):\n",
    "    print predictionList[i],scoreList[i]"
   ]
  },
  {
   "cell_type": "code",
   "execution_count": 15,
   "metadata": {},
   "outputs": [],
   "source": [
    "del df100k['id']"
   ]
  },
  {
   "cell_type": "code",
   "execution_count": 16,
   "metadata": {},
   "outputs": [],
   "source": [
    "klist = [1]\n",
    "algorithms= ['ball_tree']\n",
    "predictionList=[]\n",
    "scoreList=[]\n",
    "for k in klist:\n",
    "    for a in algorithms:\n",
    "        knn = neighbors.KNeighborsRegressor(k, weights='distance', algorithm=a)\n",
    "        predictions = knn.fit(trainx, trainy)\n",
    "        df100k = predictions.predict(df100k)"
   ]
  },
  {
   "cell_type": "code",
   "execution_count": 19,
   "metadata": {},
   "outputs": [
    {
     "data": {
      "text/plain": [
       "array([ 0.,  0.,  0., ...,  1.,  1.,  1.])"
      ]
     },
     "execution_count": 19,
     "metadata": {},
     "output_type": "execute_result"
    }
   ],
   "source": [
    "df100k"
   ]
  },
  {
   "cell_type": "code",
   "execution_count": 20,
   "metadata": {
    "collapsed": true
   },
   "outputs": [],
   "source": [
    "dic_knn = {'sepostulo': df100k}\n",
    "df100k_or['sepostulo'] ="
   ]
  }
 ],
 "metadata": {
  "kernelspec": {
   "display_name": "Python 2",
   "language": "python",
   "name": "python2"
  },
  "language_info": {
   "codemirror_mode": {
    "name": "ipython",
    "version": 2
   },
   "file_extension": ".py",
   "mimetype": "text/x-python",
   "name": "python",
   "nbconvert_exporter": "python",
   "pygments_lexer": "ipython2",
   "version": "2.7.12"
  }
 },
 "nbformat": 4,
 "nbformat_minor": 2
}
