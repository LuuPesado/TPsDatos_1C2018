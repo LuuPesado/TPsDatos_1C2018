{
 "cells": [
  {
   "cell_type": "code",
   "execution_count": 1,
   "metadata": {},
   "outputs": [],
   "source": [
    "import pandas as pd\n",
    "import numpy as np\n",
    "from sklearn.neighbors import KNeighborsClassifier\n",
    "from sklearn.metrics import mean_squared_error\n",
    "from sklearn.metrics import classification_report"
   ]
  },
  {
   "cell_type": "code",
   "execution_count": 2,
   "metadata": {},
   "outputs": [],
   "source": [
    "datos = pd.read_csv('ArchivosDatos/Training_set_4.csv')"
   ]
  },
  {
   "cell_type": "code",
   "execution_count": 3,
   "metadata": {},
   "outputs": [],
   "source": [
    "datos = datos.sample(n=5000)"
   ]
  },
  {
   "cell_type": "code",
   "execution_count": 4,
   "metadata": {},
   "outputs": [
    {
     "name": "stdout",
     "output_type": "stream",
     "text": [
      "<class 'pandas.core.frame.DataFrame'>\n",
      "Int64Index: 5000 entries, 5561963 to 6518284\n",
      "Data columns (total 14 columns):\n",
      "Unnamed: 0         5000 non-null int64\n",
      "ida                5000 non-null int64\n",
      "idp                4675 non-null float64\n",
      "nombre_zona        4675 non-null float64\n",
      "tipo_de_trabajo    4675 non-null float64\n",
      "nivel_laboral      4675 non-null float64\n",
      "nombre_area        4675 non-null float64\n",
      "online             4675 non-null float64\n",
      "sexo               4887 non-null float64\n",
      "edad               4887 non-null float64\n",
      "nombre             4887 non-null float64\n",
      "estado             4887 non-null float64\n",
      "nombre-estado      4887 non-null float64\n",
      "sepostulo          5000 non-null int64\n",
      "dtypes: float64(11), int64(3)\n",
      "memory usage: 585.9 KB\n"
     ]
    }
   ],
   "source": [
    "datos.info()"
   ]
  },
  {
   "cell_type": "code",
   "execution_count": 5,
   "metadata": {},
   "outputs": [],
   "source": [
    "datos.dropna(inplace=True)"
   ]
  },
  {
   "cell_type": "code",
   "execution_count": 6,
   "metadata": {},
   "outputs": [
    {
     "name": "stdout",
     "output_type": "stream",
     "text": [
      "<class 'pandas.core.frame.DataFrame'>\n",
      "Int64Index: 4574 entries, 5561963 to 6518284\n",
      "Data columns (total 14 columns):\n",
      "Unnamed: 0         4574 non-null int64\n",
      "ida                4574 non-null int64\n",
      "idp                4574 non-null float64\n",
      "nombre_zona        4574 non-null float64\n",
      "tipo_de_trabajo    4574 non-null float64\n",
      "nivel_laboral      4574 non-null float64\n",
      "nombre_area        4574 non-null float64\n",
      "online             4574 non-null float64\n",
      "sexo               4574 non-null float64\n",
      "edad               4574 non-null float64\n",
      "nombre             4574 non-null float64\n",
      "estado             4574 non-null float64\n",
      "nombre-estado      4574 non-null float64\n",
      "sepostulo          4574 non-null int64\n",
      "dtypes: float64(11), int64(3)\n",
      "memory usage: 536.0 KB\n"
     ]
    }
   ],
   "source": [
    "datos.info()"
   ]
  },
  {
   "cell_type": "code",
   "execution_count": 7,
   "metadata": {},
   "outputs": [],
   "source": [
    "x = np.array(datos.ix[:,0:12])\n",
    "y = np.array(datos['sepostulo'])"
   ]
  },
  {
   "cell_type": "code",
   "execution_count": 10,
   "metadata": {},
   "outputs": [
    {
     "name": "stdout",
     "output_type": "stream",
     "text": [
      "k=1, accuracy=100.00%\n"
     ]
    }
   ],
   "source": [
    "k = 1\n",
    "accuracies = []\n",
    "    #Inicializacion del modelo\n",
    "model = KNeighborsClassifier(n_neighbors=k)\n",
    "model.fit(x, y)\n",
    "\n",
    "score = model.score(x, y)\n",
    "print(\"k=%d, accuracy=%.2f%%\" % (k, score * 100))\n",
    "accuracies.append(score)"
   ]
  },
  {
   "cell_type": "code",
   "execution_count": 12,
   "metadata": {},
   "outputs": [
    {
     "name": "stdout",
     "output_type": "stream",
     "text": [
      "k=1, accuracy=100.00%\n",
      "k=3, accuracy=100.00%\n",
      "k=5, accuracy=100.00%\n",
      "k=7, accuracy=100.00%\n",
      "k=9, accuracy=100.00%\n",
      "k=11, accuracy=100.00%\n",
      "k=13, accuracy=100.00%\n",
      "k=15, accuracy=100.00%\n",
      "k=17, accuracy=100.00%\n",
      "k=19, accuracy=100.00%\n",
      "k=21, accuracy=100.00%\n",
      "k=23, accuracy=100.00%\n",
      "k=25, accuracy=100.00%\n",
      "k=27, accuracy=100.00%\n",
      "k=29, accuracy=100.00%\n",
      "k=31, accuracy=100.00%\n",
      "k=33, accuracy=100.00%\n",
      "k=35, accuracy=100.00%\n",
      "k=37, accuracy=100.00%\n",
      "k=39, accuracy=100.00%\n",
      "k=41, accuracy=100.00%\n",
      "k=43, accuracy=100.00%\n",
      "k=45, accuracy=100.00%\n",
      "k=47, accuracy=100.00%\n",
      "k=49, accuracy=100.00%\n",
      "k=51, accuracy=100.00%\n",
      "k=53, accuracy=100.00%\n",
      "k=55, accuracy=100.00%\n",
      "k=57, accuracy=100.00%\n",
      "k=59, accuracy=100.00%\n",
      "k=61, accuracy=100.00%\n",
      "k=63, accuracy=100.00%\n",
      "k=65, accuracy=100.00%\n",
      "k=67, accuracy=100.00%\n",
      "k=69, accuracy=100.00%\n",
      "k=71, accuracy=100.00%\n",
      "k=73, accuracy=100.00%\n",
      "k=75, accuracy=100.00%\n",
      "k=77, accuracy=100.00%\n",
      "k=79, accuracy=100.00%\n"
     ]
    }
   ],
   "source": [
    "kVals = range(1, 80, 2)\n",
    "accuracies = []\n",
    "\n",
    "#En este loop vamos a ver la precision del algoritmo en funcion de K\n",
    "\n",
    "for k in kVals:\n",
    "    #Inicializacion del modelo\n",
    "    model = KNeighborsClassifier(n_neighbors=k)\n",
    "    model.fit(x, y)\n",
    "\n",
    "    #A diferencia de otros algoritmos, en KNN no es necesario usar un set de validacion sino que se pueden usar los mismos datos\n",
    "    score = model.score(x, y)\n",
    "    print(\"k=%d, accuracy=%.2f%%\" % (k, score * 100))\n",
    "    accuracies.append(score)\n",
    "    "
   ]
  },
  {
   "cell_type": "code",
   "execution_count": 13,
   "metadata": {},
   "outputs": [],
   "source": [
    "test = pd.read_csv('ArchivosDatos/test_final_100k.csv')"
   ]
  },
  {
   "cell_type": "code",
   "execution_count": 14,
   "metadata": {},
   "outputs": [
    {
     "data": {
      "text/html": [
       "<div>\n",
       "<table border=\"1\" class=\"dataframe\">\n",
       "  <thead>\n",
       "    <tr style=\"text-align: right;\">\n",
       "      <th></th>\n",
       "      <th>id</th>\n",
       "      <th>idaviso</th>\n",
       "      <th>idpostulante</th>\n",
       "    </tr>\n",
       "  </thead>\n",
       "  <tbody>\n",
       "    <tr>\n",
       "      <th>0</th>\n",
       "      <td>0</td>\n",
       "      <td>739260</td>\n",
       "      <td>6M9ZQR</td>\n",
       "    </tr>\n",
       "    <tr>\n",
       "      <th>1</th>\n",
       "      <td>1</td>\n",
       "      <td>739260</td>\n",
       "      <td>6v1xdL</td>\n",
       "    </tr>\n",
       "    <tr>\n",
       "      <th>2</th>\n",
       "      <td>2</td>\n",
       "      <td>739260</td>\n",
       "      <td>ezRKm9</td>\n",
       "    </tr>\n",
       "    <tr>\n",
       "      <th>3</th>\n",
       "      <td>3</td>\n",
       "      <td>758580</td>\n",
       "      <td>1Q35ej</td>\n",
       "    </tr>\n",
       "    <tr>\n",
       "      <th>4</th>\n",
       "      <td>4</td>\n",
       "      <td>758580</td>\n",
       "      <td>EAN4J6</td>\n",
       "    </tr>\n",
       "  </tbody>\n",
       "</table>\n",
       "</div>"
      ],
      "text/plain": [
       "   id  idaviso idpostulante\n",
       "0   0   739260       6M9ZQR\n",
       "1   1   739260       6v1xdL\n",
       "2   2   739260       ezRKm9\n",
       "3   3   758580       1Q35ej\n",
       "4   4   758580       EAN4J6"
      ]
     },
     "execution_count": 14,
     "metadata": {},
     "output_type": "execute_result"
    }
   ],
   "source": [
    "test.head()"
   ]
  },
  {
   "cell_type": "code",
   "execution_count": 15,
   "metadata": {},
   "outputs": [
    {
     "data": {
      "text/plain": [
       "sepostulo\n",
       "0    2011\n",
       "1    2563\n",
       "dtype: int64"
      ]
     },
     "execution_count": 15,
     "metadata": {},
     "output_type": "execute_result"
    }
   ],
   "source": [
    "datos.loc[:,['sepostulo','idp']].groupby(['sepostulo']).size()\n"
   ]
  },
  {
   "cell_type": "code",
   "execution_count": 16,
   "metadata": {},
   "outputs": [],
   "source": [
    "data = pd.read_csv('ArchivosDatos/Training_set_4.csv')"
   ]
  },
  {
   "cell_type": "code",
   "execution_count": 17,
   "metadata": {},
   "outputs": [],
   "source": [
    "set_data = pd.read_csv('ArchivosDatos/postulantes_y_avisos.csv')"
   ]
  },
  {
   "cell_type": "code",
   "execution_count": 18,
   "metadata": {},
   "outputs": [
    {
     "data": {
      "text/html": [
       "<div>\n",
       "<table border=\"1\" class=\"dataframe\">\n",
       "  <thead>\n",
       "    <tr style=\"text-align: right;\">\n",
       "      <th></th>\n",
       "      <th>Unnamed: 0</th>\n",
       "      <th>ida</th>\n",
       "      <th>idaviso</th>\n",
       "      <th>idpostulante</th>\n",
       "      <th>idp</th>\n",
       "    </tr>\n",
       "  </thead>\n",
       "  <tbody>\n",
       "    <tr>\n",
       "      <th>0</th>\n",
       "      <td>0</td>\n",
       "      <td>0</td>\n",
       "      <td>1112257047</td>\n",
       "      <td>xke05Da</td>\n",
       "      <td>12530</td>\n",
       "    </tr>\n",
       "    <tr>\n",
       "      <th>1</th>\n",
       "      <td>1</td>\n",
       "      <td>1</td>\n",
       "      <td>1111920714</td>\n",
       "      <td>Y9lQVr</td>\n",
       "      <td>10137</td>\n",
       "    </tr>\n",
       "    <tr>\n",
       "      <th>2</th>\n",
       "      <td>2</td>\n",
       "      <td>2</td>\n",
       "      <td>1112346945</td>\n",
       "      <td>1MpolO</td>\n",
       "      <td>1356</td>\n",
       "    </tr>\n",
       "    <tr>\n",
       "      <th>3</th>\n",
       "      <td>3</td>\n",
       "      <td>3</td>\n",
       "      <td>1112345547</td>\n",
       "      <td>jk5DDEr</td>\n",
       "      <td>910</td>\n",
       "    </tr>\n",
       "    <tr>\n",
       "      <th>4</th>\n",
       "      <td>4</td>\n",
       "      <td>4</td>\n",
       "      <td>1112237522</td>\n",
       "      <td>EB23zz</td>\n",
       "      <td>7276</td>\n",
       "    </tr>\n",
       "  </tbody>\n",
       "</table>\n",
       "</div>"
      ],
      "text/plain": [
       "   Unnamed: 0  ida     idaviso idpostulante    idp\n",
       "0           0    0  1112257047      xke05Da  12530\n",
       "1           1    1  1111920714       Y9lQVr  10137\n",
       "2           2    2  1112346945       1MpolO   1356\n",
       "3           3    3  1112345547      jk5DDEr    910\n",
       "4           4    4  1112237522       EB23zz   7276"
      ]
     },
     "execution_count": 18,
     "metadata": {},
     "output_type": "execute_result"
    }
   ],
   "source": [
    "set_data.head()"
   ]
  },
  {
   "cell_type": "code",
   "execution_count": 21,
   "metadata": {},
   "outputs": [
    {
     "name": "stdout",
     "output_type": "stream",
     "text": [
      "<class 'pandas.core.frame.DataFrame'>\n",
      "Int64Index: 14915016 entries, 0 to 14915015\n",
      "Data columns (total 5 columns):\n",
      "Unnamed: 0      int64\n",
      "ida             int64\n",
      "idaviso         int64\n",
      "idpostulante    object\n",
      "idp             float64\n",
      "dtypes: float64(1), int64(3), object(1)\n",
      "memory usage: 682.8+ MB\n"
     ]
    }
   ],
   "source": [
    "set_data.info()"
   ]
  }
 ],
 "metadata": {
  "kernelspec": {
   "display_name": "Python 3",
   "language": "python",
   "name": "python3"
  },
  "language_info": {
   "codemirror_mode": {
    "name": "ipython",
    "version": 3
   },
   "file_extension": ".py",
   "mimetype": "text/x-python",
   "name": "python",
   "nbconvert_exporter": "python",
   "pygments_lexer": "ipython3",
   "version": "3.5.2"
  }
 },
 "nbformat": 4,
 "nbformat_minor": 2
}
