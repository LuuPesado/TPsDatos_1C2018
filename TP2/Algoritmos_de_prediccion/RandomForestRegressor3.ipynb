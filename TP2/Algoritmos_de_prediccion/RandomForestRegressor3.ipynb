{
 "cells": [
  {
   "cell_type": "code",
   "execution_count": 2,
   "metadata": {},
   "outputs": [],
   "source": [
    "import pandas as pd\n",
    "import numpy as np\n",
    "from sklearn.ensemble import RandomForestRegressor\n",
    "from sklearn.metrics import accuracy_score"
   ]
  },
  {
   "cell_type": "code",
   "execution_count": 3,
   "metadata": {},
   "outputs": [],
   "source": [
    "test = pd.read_csv('ArchivosDatos/100k_as_ts15M.csv')\n",
    "datos = pd.read_csv('ArchivosDatos/set_nuevo.csv')"
   ]
  },
  {
   "cell_type": "code",
   "execution_count": 4,
   "metadata": {},
   "outputs": [],
   "source": [
    "del test['online']\n",
    "del test['mesnacimiento']\n",
    "del test['dianacimiento']\n",
    "del test['anionacimiento']"
   ]
  },
  {
   "cell_type": "code",
   "execution_count": 5,
   "metadata": {},
   "outputs": [],
   "source": [
    "submit = test.loc[:,['id','sepostulo']]\n",
    "submit = pd.DataFrame(submit)\n",
    "del datos['idaviso']\n",
    "del datos['idpostulante']\n",
    "del datos['nombre_area']\n",
    "del test['id']\n",
    "del test['idaviso']\n",
    "del test['idpostulante']\n",
    "del test['nombre_area']"
   ]
  },
  {
   "cell_type": "code",
   "execution_count": 6,
   "metadata": {},
   "outputs": [
    {
     "name": "stdout",
     "output_type": "stream",
     "text": [
      "<class 'pandas.core.frame.DataFrame'>\n",
      "Int64Index: 13930871 entries, 0 to 13930870\n",
      "Data columns (total 9 columns):\n",
      "sepostulo          int64\n",
      "sexo               float64\n",
      "edad               int64\n",
      "nombre             int64\n",
      "estado             int64\n",
      "nombre-estado      int64\n",
      "nombre_zona        float64\n",
      "tipo_de_trabajo    float64\n",
      "nivel_laboral      float64\n",
      "dtypes: float64(4), int64(5)\n",
      "memory usage: 1.0 GB\n"
     ]
    }
   ],
   "source": [
    "datos.info()"
   ]
  },
  {
   "cell_type": "code",
   "execution_count": 7,
   "metadata": {},
   "outputs": [
    {
     "name": "stdout",
     "output_type": "stream",
     "text": [
      "<class 'pandas.core.frame.DataFrame'>\n",
      "Int64Index: 100000 entries, 0 to 99999\n",
      "Data columns (total 8 columns):\n",
      "nombre_zona        100000 non-null int64\n",
      "tipo_de_trabajo    100000 non-null int64\n",
      "nivel_laboral      100000 non-null int64\n",
      "sexo               100000 non-null float64\n",
      "edad               100000 non-null int64\n",
      "nombre             100000 non-null int64\n",
      "estado             100000 non-null int64\n",
      "nombre-estado      100000 non-null int64\n",
      "dtypes: float64(1), int64(7)\n",
      "memory usage: 6.9 MB\n"
     ]
    }
   ],
   "source": [
    "test.info()"
   ]
  },
  {
   "cell_type": "code",
   "execution_count": 8,
   "metadata": {},
   "outputs": [],
   "source": [
    "x = np.array(datos.ix[:,1:8])\n",
    "y = np.array(datos['sepostulo'])\n",
    "z = np.array(test.ix[:,0:7])"
   ]
  },
  {
   "cell_type": "code",
   "execution_count": 9,
   "metadata": {},
   "outputs": [
    {
     "name": "stdout",
     "output_type": "stream",
     "text": [
      "0.0519398626041\n",
      "0.0519354800621\n",
      "0.0519397767748\n",
      "0.0519392428762\n"
     ]
    }
   ],
   "source": [
    "r = [0, 1000, 10000, 500000]\n",
    "for i in r:\n",
    "    model = RandomForestRegressor(max_depth=50,random_state=i)\n",
    "    model.fit(x,y)\n",
    "    print(model.score(x,y))"
   ]
  },
  {
   "cell_type": "markdown",
   "metadata": {},
   "source": [
    "El entrenamiento del modelo de la celda anterior es el que peor aprendió, usando este algoritmo"
   ]
  },
  {
   "cell_type": "code",
   "execution_count": 11,
   "metadata": {},
   "outputs": [
    {
     "name": "stdout",
     "output_type": "stream",
     "text": [
      "<class 'pandas.core.frame.DataFrame'>\n",
      "Int64Index: 13930871 entries, 0 to 13930870\n",
      "Data columns (total 9 columns):\n",
      "sepostulo          int64\n",
      "sexo               float64\n",
      "edad               int64\n",
      "nombre             int64\n",
      "estado             int64\n",
      "nombre-estado      int64\n",
      "nombre_zona        float64\n",
      "tipo_de_trabajo    float64\n",
      "nivel_laboral      float64\n",
      "dtypes: float64(4), int64(5)\n",
      "memory usage: 1.0 GB\n"
     ]
    }
   ],
   "source": [
    "##Vamos a tomar una muestra del 20% de los datos\n",
    "datos.sample(frac=0.2, replace=True)\n",
    "datos.info()"
   ]
  },
  {
   "cell_type": "code",
   "execution_count": 12,
   "metadata": {},
   "outputs": [],
   "source": [
    "x = np.array(datos.ix[:,1:8])\n",
    "y = np.array(datos['sepostulo'])"
   ]
  },
  {
   "cell_type": "code",
   "execution_count": 13,
   "metadata": {},
   "outputs": [
    {
     "name": "stdout",
     "output_type": "stream",
     "text": [
      "0.0519176189412\n",
      "0.0519169480069\n",
      "0.0519111796268\n",
      "0.051910877932\n"
     ]
    }
   ],
   "source": [
    "for i in r:\n",
    "    model = RandomForestRegressor(max_depth=25,random_state=i)\n",
    "    model.fit(x,y)\n",
    "    print(model.score(x,y))"
   ]
  },
  {
   "cell_type": "code",
   "execution_count": 23,
   "metadata": {},
   "outputs": [
    {
     "name": "stdout",
     "output_type": "stream",
     "text": [
      "<class 'pandas.core.frame.DataFrame'>\n",
      "Int64Index: 1500000 entries, 0 to 1499999\n",
      "Data columns (total 16 columns):\n",
      "idaviso            1500000 non-null int64\n",
      "idpostulante       1500000 non-null object\n",
      "sepostulo          1500000 non-null int64\n",
      "nombre_zona        1500000 non-null float64\n",
      "tipo_de_trabajo    1500000 non-null float64\n",
      "nivel_laboral      1500000 non-null float64\n",
      "nombre_area        1500000 non-null float64\n",
      "online             1500000 non-null float64\n",
      "sexo               1500000 non-null float64\n",
      "edad               1500000 non-null int64\n",
      "nombre             1500000 non-null int64\n",
      "estado             1500000 non-null int64\n",
      "nombre-estado      1500000 non-null int64\n",
      "mesnacimiento      1500000 non-null int64\n",
      "dianacimiento      1500000 non-null int64\n",
      "anionacimiento     1500000 non-null int64\n",
      "dtypes: float64(6), int64(9), object(1)\n",
      "memory usage: 194.5+ MB\n"
     ]
    }
   ],
   "source": [
    "datos = pd.read_csv('ArchivosDatos/Training_set15M.csv')\n",
    "test = pd.read_csv('ArchivosDatos/100k_as_ts15M.csv')\n",
    "datos.info()"
   ]
  },
  {
   "cell_type": "code",
   "execution_count": 24,
   "metadata": {},
   "outputs": [],
   "source": [
    "del datos['idaviso']\n",
    "del datos['idpostulante']\n",
    "del datos['online']\n",
    "del datos['mesnacimiento']\n",
    "del datos['dianacimiento']\n",
    "del datos['anionacimiento']"
   ]
  },
  {
   "cell_type": "code",
   "execution_count": 26,
   "metadata": {},
   "outputs": [
    {
     "name": "stdout",
     "output_type": "stream",
     "text": [
      "<class 'pandas.core.frame.DataFrame'>\n",
      "Int64Index: 1500000 entries, 0 to 1499999\n",
      "Data columns (total 10 columns):\n",
      "sepostulo          1500000 non-null int64\n",
      "nombre_zona        1500000 non-null float64\n",
      "tipo_de_trabajo    1500000 non-null float64\n",
      "nivel_laboral      1500000 non-null float64\n",
      "nombre_area        1500000 non-null float64\n",
      "sexo               1500000 non-null float64\n",
      "edad               1500000 non-null int64\n",
      "nombre             1500000 non-null int64\n",
      "estado             1500000 non-null int64\n",
      "nombre-estado      1500000 non-null int64\n",
      "dtypes: float64(5), int64(5)\n",
      "memory usage: 125.9 MB\n"
     ]
    }
   ],
   "source": [
    "datos.info()"
   ]
  },
  {
   "cell_type": "code",
   "execution_count": 25,
   "metadata": {},
   "outputs": [],
   "source": [
    "del test['id']\n",
    "del test['idaviso']\n",
    "del test['idpostulante']\n",
    "del test['online']\n",
    "del test['mesnacimiento']\n",
    "del test['dianacimiento']\n",
    "del test['anionacimiento']"
   ]
  },
  {
   "cell_type": "code",
   "execution_count": 29,
   "metadata": {},
   "outputs": [],
   "source": [
    "x = np.array(datos.ix[:,1:9])\n",
    "y = np.array(datos['sepostulo'])\n",
    "z = np.array(test.ix[:,0:8])"
   ]
  },
  {
   "cell_type": "code",
   "execution_count": 30,
   "metadata": {},
   "outputs": [
    {
     "name": "stdout",
     "output_type": "stream",
     "text": [
      "0.263553354252\n",
      "0.263589243992\n",
      "0.263556343951\n",
      "0.263566104283\n"
     ]
    }
   ],
   "source": [
    "for i in r:\n",
    "    model = RandomForestRegressor(max_depth=100,random_state=i)\n",
    "    model.fit(x,y)\n",
    "    print(model.score(x,y))\n",
    "    "
   ]
  },
  {
   "cell_type": "code",
   "execution_count": 31,
   "metadata": {},
   "outputs": [],
   "source": [
    "predictions = model.predict(z)\n",
    "submit['sepostulo'] = pd.DataFrame({'sepostulo':predictions})\n"
   ]
  },
  {
   "cell_type": "code",
   "execution_count": 34,
   "metadata": {},
   "outputs": [],
   "source": [
    "def redondeo(x):\n",
    "    if(x>0.5):\n",
    "        return 1;\n",
    "    return 0;"
   ]
  },
  {
   "cell_type": "code",
   "execution_count": 35,
   "metadata": {},
   "outputs": [
    {
     "name": "stdout",
     "output_type": "stream",
     "text": [
      "0.58862820271\n"
     ]
    }
   ],
   "source": [
    "submit['sepostulo'] = submit['sepostulo'].apply(lambda x: redondeo(x))\n",
    "w = np.array(submit['sepostulo'])\n",
    "print(model.score(z,w))"
   ]
  },
  {
   "cell_type": "code",
   "execution_count": 36,
   "metadata": {},
   "outputs": [],
   "source": [
    "submit.to_csv('Submits/submitRFRFINAL.csv',index=False)"
   ]
  },
  {
   "cell_type": "code",
   "execution_count": null,
   "metadata": {},
   "outputs": [],
   "source": []
  }
 ],
 "metadata": {
  "kernelspec": {
   "display_name": "Python 3",
   "language": "python",
   "name": "python3"
  },
  "language_info": {
   "codemirror_mode": {
    "name": "ipython",
    "version": 3
   },
   "file_extension": ".py",
   "mimetype": "text/x-python",
   "name": "python",
   "nbconvert_exporter": "python",
   "pygments_lexer": "ipython3",
   "version": "3.5.2"
  }
 },
 "nbformat": 4,
 "nbformat_minor": 2
}
