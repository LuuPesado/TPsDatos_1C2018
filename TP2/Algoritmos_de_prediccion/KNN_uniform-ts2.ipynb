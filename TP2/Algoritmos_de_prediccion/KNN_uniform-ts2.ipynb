{
 "cells": [
  {
   "cell_type": "code",
   "execution_count": 1,
   "metadata": {
    "collapsed": true
   },
   "outputs": [],
   "source": [
    "import datetime as dt\n",
    "import pandas as pd\n",
    "import numpy as np\n",
    "from sklearn import neighbors\n",
    "from sklearn.metrics import mean_squared_error"
   ]
  },
  {
   "cell_type": "code",
   "execution_count": 33,
   "metadata": {
    "collapsed": true
   },
   "outputs": [],
   "source": [
    "ts = pd.read_csv('/home/luupesado/7506_Datos/2018/datos_tp/real_test/TrainingSet/Training_set15M.csv')\n",
    "df100k_or = pd.read_csv('/home/luupesado/7506_Datos/2018/datos_tp/real_test/TestsSet/100k_as_ts15M.csv')"
   ]
  },
  {
   "cell_type": "code",
   "execution_count": 34,
   "metadata": {
    "collapsed": true
   },
   "outputs": [],
   "source": [
    "test= ts[0:15000]\n",
    "train = ts[15000:]"
   ]
  },
  {
   "cell_type": "code",
   "execution_count": 35,
   "metadata": {
    "collapsed": true
   },
   "outputs": [],
   "source": [
    "crossValidation = pd.DataFrame()\n",
    "crossValidation['sepostulo'] = test['sepostulo']\n",
    "test = test.drop(['sepostulo'], axis = 1)"
   ]
  },
  {
   "cell_type": "code",
   "execution_count": 36,
   "metadata": {
    "collapsed": true
   },
   "outputs": [],
   "source": [
    "trainx = train.drop(['sepostulo'], axis = 1)\n",
    "trainy = train['sepostulo']"
   ]
  },
  {
   "cell_type": "code",
   "execution_count": 37,
   "metadata": {
    "collapsed": true
   },
   "outputs": [],
   "source": [
    "del trainx['idaviso']\n",
    "del trainx['idpostulante']\n",
    "del trainx['online']\n",
    "del trainx['mesnacimiento']\n",
    "del test['idaviso']\n",
    "del test['idpostulante']\n",
    "del test['online']\n",
    "del test['mesnacimiento']\n",
    "del df100k_or['idaviso']\n",
    "del df100k_or['idpostulante']\n",
    "del df100k_or['online']\n",
    "del df100k_or['mesnacimiento']"
   ]
  },
  {
   "cell_type": "code",
   "execution_count": 32,
   "metadata": {},
   "outputs": [
    {
     "name": "stdout",
     "output_type": "stream",
     "text": [
      "<class 'pandas.core.frame.DataFrame'>\n",
      "RangeIndex: 15000 entries, 0 to 14999\n",
      "Data columns (total 12 columns):\n",
      "nombre_zona        15000 non-null float64\n",
      "tipo_de_trabajo    15000 non-null float64\n",
      "nivel_laboral      15000 non-null float64\n",
      "nombre_area        15000 non-null float64\n",
      "sexo               15000 non-null float64\n",
      "edad               15000 non-null int64\n",
      "nombre             15000 non-null int64\n",
      "estado             15000 non-null int64\n",
      "nombre-estado      15000 non-null int64\n",
      "mesnacimiento      15000 non-null int64\n",
      "dianacimiento      15000 non-null int64\n",
      "anionacimiento     15000 non-null int64\n",
      "dtypes: float64(5), int64(7)\n",
      "memory usage: 1.4 MB\n"
     ]
    }
   ],
   "source": [
    "test.info()"
   ]
  },
  {
   "cell_type": "code",
   "execution_count": 31,
   "metadata": {},
   "outputs": [
    {
     "name": "stdout",
     "output_type": "stream",
     "text": [
      "KNN-K: 400-algorithm: kd_tree score: 0.239172655417\n",
      "KNN-K: 600-algorithm: kd_tree score: 0.239900567778\n",
      "KNN-K: 750-algorithm: kd_tree score: 0.240364449304\n",
      "KNN-K: 1000-algorithm: kd_tree score: 0.2410914512\n"
     ]
    }
   ],
   "source": [
    "klist = [400, 600, 750, 1000]\n",
    "algorithms= ['kd_tree']\n",
    "predictionList=[]\n",
    "scoreList=[]\n",
    "for k in klist:\n",
    "    for a in algorithms:\n",
    "        knn = neighbors.KNeighborsRegressor(k, weights='uniform', algorithm=a, p = 3)\n",
    "        predictions = knn.fit(trainx, trainy)\n",
    "        predictions = predictions.predict(test)\n",
    "        score = mean_squared_error(crossValidation['sepostulo'].values, predictions)\n",
    "        print('KNN-K: '+str(k)+'-algorithm: '+ a + ' score: ' + str(score))\n",
    "#        scoreList.append(score)"
   ]
  },
  {
   "cell_type": "code",
   "execution_count": 7,
   "metadata": {},
   "outputs": [
    {
     "name": "stdout",
     "output_type": "stream",
     "text": [
      "KNN-K: 150-algorithm: kd_tree score: 0.236922207407\n",
      "KNN-K: 200-algorithm: kd_tree score: 0.23768119\n",
      "KNN-K: 300-algorithm: kd_tree score: 0.23857388\n"
     ]
    }
   ],
   "source": [
    "klist = [150, 200, 300]\n",
    "algorithms= ['kd_tree']\n",
    "predictionList=[]\n",
    "scoreList=[]\n",
    "for k in klist:\n",
    "    for a in algorithms:\n",
    "        knn = neighbors.KNeighborsRegressor(k, weights='uniform', algorithm=a, p = 3)\n",
    "        predictions = knn.fit(trainx, trainy)\n",
    "        predictions = predictions.predict(test)\n",
    "        score = mean_squared_error(crossValidation['sepostulo'].values, predictions)\n",
    "        print('KNN-K: '+str(k)+'-algorithm: '+ a + ' score: ' + str(score))\n",
    "#        scoreList.append(score)"
   ]
  },
  {
   "cell_type": "code",
   "execution_count": 8,
   "metadata": {
    "scrolled": true
   },
   "outputs": [
    {
     "name": "stdout",
     "output_type": "stream",
     "text": [
      "KNN-K: 1-algorithm: ball_tree 0.372333333333\n",
      "KNN-K: 1-algorithm: kd_tree 0.370133333333\n",
      "KNN-K: 10-algorithm: ball_tree 0.236729333333\n",
      "KNN-K: 10-algorithm: kd_tree 0.236904\n",
      "KNN-K: 25-algorithm: ball_tree 0.231539093333\n",
      "KNN-K: 25-algorithm: kd_tree 0.23174336\n",
      "KNN-K: 50-algorithm: ball_tree 0.230887253333\n",
      "KNN-K: 50-algorithm: kd_tree 0.230843066667\n",
      "KNN-K: 100-algorithm: ball_tree 0.232324733333\n",
      "KNN-K: 100-algorithm: kd_tree 0.232228693333\n"
     ]
    }
   ],
   "source": [
    "#p=3\n",
    "for i in range(len(scoreList)):\n",
    "    print predictionList[i],scoreList[i]"
   ]
  },
  {
   "cell_type": "code",
   "execution_count": 17,
   "metadata": {},
   "outputs": [
    {
     "name": "stdout",
     "output_type": "stream",
     "text": [
      "KNN-K: 1-algorithm: ball_tree 0.482466666667\n",
      "KNN-K: 1-algorithm: kd_tree 0.482466666667\n",
      "KNN-K: 10-algorithm: ball_tree 0.266064\n",
      "KNN-K: 10-algorithm: kd_tree 0.266064\n",
      "KNN-K: 25-algorithm: ball_tree 0.255565013333\n",
      "KNN-K: 25-algorithm: kd_tree 0.255567466667\n",
      "KNN-K: 50-algorithm: ball_tree 0.25116224\n",
      "KNN-K: 50-algorithm: kd_tree 0.251163813333\n",
      "KNN-K: 100-algorithm: ball_tree 0.248350046667\n",
      "KNN-K: 100-algorithm: kd_tree 0.248350046667\n"
     ]
    }
   ],
   "source": [
    "#p=4\n",
    "for i in range(len(scoreList)):\n",
    "    print predictionList[i],scoreList[i]"
   ]
  },
  {
   "cell_type": "code",
   "execution_count": 13,
   "metadata": {},
   "outputs": [
    {
     "name": "stdout",
     "output_type": "stream",
     "text": [
      " KNN-K: 1-algorithm: ball_tree 0.481333333333\n",
      "KNN-K: 1-algorithm: kd_tree 0.481333333333\n",
      "KNN-K: 10-algorithm: ball_tree 0.265929333333\n",
      "KNN-K: 10-algorithm: kd_tree 0.265929333333\n",
      "KNN-K: 25-algorithm: ball_tree 0.25515584\n",
      "KNN-K: 25-algorithm: kd_tree 0.25515584\n",
      "KNN-K: 50-algorithm: ball_tree 0.251198053333\n",
      "KNN-K: 50-algorithm: kd_tree 0.251199626667\n",
      "KNN-K: 100-algorithm: ball_tree 0.248419526667\n",
      "KNN-K: 100-algorithm: kd_tree 0.248419526667\n",
      "KNN-K: 250-algorithm: ball_tree 0.247104219733\n",
      "KNN-K: 250-algorithm: kd_tree 0.247104449067\n",
      "KNN-K: 500-algorithm: ball_tree 0.246364124267\n",
      "KNN-K: 500-algorithm: kd_tree 0.246364124267\n"
     ]
    }
   ],
   "source": [
    "for i in range(len(scoreList)):\n",
    "    print predictionList[i],scoreList[i]"
   ]
  },
  {
   "cell_type": "code",
   "execution_count": null,
   "metadata": {
    "collapsed": true
   },
   "outputs": [],
   "source": []
  },
  {
   "cell_type": "code",
   "execution_count": 38,
   "metadata": {
    "collapsed": true
   },
   "outputs": [],
   "source": [
    "del df100k_or['id']"
   ]
  },
  {
   "cell_type": "code",
   "execution_count": 40,
   "metadata": {},
   "outputs": [],
   "source": [
    "klist = [450]\n",
    "algorithms= ['kd_tree']\n",
    "predictionList=[]\n",
    "scoreList=[]\n",
    "for k in klist:\n",
    "    for a in algorithms:\n",
    "        knn = neighbors.KNeighborsRegressor(k, weights='uniform', algorithm=a, p=3)\n",
    "        predictions = knn.fit(trainx, trainy)\n",
    "        df = predictions.predict(df100k_or)"
   ]
  },
  {
   "cell_type": "code",
   "execution_count": 41,
   "metadata": {
    "collapsed": true
   },
   "outputs": [],
   "source": [
    "dic_knn = {'sepostulo': df}\n",
    "df = pd.DataFrame.from_dict(dic_knn)"
   ]
  },
  {
   "cell_type": "code",
   "execution_count": 42,
   "metadata": {
    "collapsed": true
   },
   "outputs": [],
   "source": [
    "df['id'] = df.index"
   ]
  },
  {
   "cell_type": "code",
   "execution_count": 43,
   "metadata": {
    "collapsed": true
   },
   "outputs": [],
   "source": [
    "df['sepostula'] = df['sepostulo']\n",
    "del df['sepostulo']"
   ]
  },
  {
   "cell_type": "code",
   "execution_count": 44,
   "metadata": {},
   "outputs": [
    {
     "data": {
      "text/html": [
       "<div>\n",
       "<style>\n",
       "    .dataframe thead tr:only-child th {\n",
       "        text-align: right;\n",
       "    }\n",
       "\n",
       "    .dataframe thead th {\n",
       "        text-align: left;\n",
       "    }\n",
       "\n",
       "    .dataframe tbody tr th {\n",
       "        vertical-align: top;\n",
       "    }\n",
       "</style>\n",
       "<table border=\"1\" class=\"dataframe\">\n",
       "  <thead>\n",
       "    <tr style=\"text-align: right;\">\n",
       "      <th></th>\n",
       "      <th>id</th>\n",
       "      <th>sepostula</th>\n",
       "      <th>sepostulo</th>\n",
       "    </tr>\n",
       "  </thead>\n",
       "  <tbody>\n",
       "    <tr>\n",
       "      <th>0</th>\n",
       "      <td>0</td>\n",
       "      <td>0.397778</td>\n",
       "      <td>0.397778</td>\n",
       "    </tr>\n",
       "    <tr>\n",
       "      <th>1</th>\n",
       "      <td>1</td>\n",
       "      <td>0.564444</td>\n",
       "      <td>0.564444</td>\n",
       "    </tr>\n",
       "    <tr>\n",
       "      <th>2</th>\n",
       "      <td>2</td>\n",
       "      <td>0.551111</td>\n",
       "      <td>0.551111</td>\n",
       "    </tr>\n",
       "    <tr>\n",
       "      <th>3</th>\n",
       "      <td>3</td>\n",
       "      <td>0.535556</td>\n",
       "      <td>0.535556</td>\n",
       "    </tr>\n",
       "    <tr>\n",
       "      <th>4</th>\n",
       "      <td>4</td>\n",
       "      <td>0.597778</td>\n",
       "      <td>0.597778</td>\n",
       "    </tr>\n",
       "    <tr>\n",
       "      <th>5</th>\n",
       "      <td>5</td>\n",
       "      <td>0.648889</td>\n",
       "      <td>0.648889</td>\n",
       "    </tr>\n",
       "    <tr>\n",
       "      <th>6</th>\n",
       "      <td>6</td>\n",
       "      <td>0.691111</td>\n",
       "      <td>0.691111</td>\n",
       "    </tr>\n",
       "    <tr>\n",
       "      <th>7</th>\n",
       "      <td>7</td>\n",
       "      <td>0.371111</td>\n",
       "      <td>0.371111</td>\n",
       "    </tr>\n",
       "    <tr>\n",
       "      <th>8</th>\n",
       "      <td>8</td>\n",
       "      <td>0.704444</td>\n",
       "      <td>0.704444</td>\n",
       "    </tr>\n",
       "    <tr>\n",
       "      <th>9</th>\n",
       "      <td>9</td>\n",
       "      <td>0.297778</td>\n",
       "      <td>0.297778</td>\n",
       "    </tr>\n",
       "    <tr>\n",
       "      <th>10</th>\n",
       "      <td>10</td>\n",
       "      <td>0.548889</td>\n",
       "      <td>0.548889</td>\n",
       "    </tr>\n",
       "    <tr>\n",
       "      <th>11</th>\n",
       "      <td>11</td>\n",
       "      <td>0.333333</td>\n",
       "      <td>0.333333</td>\n",
       "    </tr>\n",
       "    <tr>\n",
       "      <th>12</th>\n",
       "      <td>12</td>\n",
       "      <td>0.557778</td>\n",
       "      <td>0.557778</td>\n",
       "    </tr>\n",
       "    <tr>\n",
       "      <th>13</th>\n",
       "      <td>13</td>\n",
       "      <td>0.406667</td>\n",
       "      <td>0.406667</td>\n",
       "    </tr>\n",
       "    <tr>\n",
       "      <th>14</th>\n",
       "      <td>14</td>\n",
       "      <td>0.531111</td>\n",
       "      <td>0.531111</td>\n",
       "    </tr>\n",
       "    <tr>\n",
       "      <th>15</th>\n",
       "      <td>15</td>\n",
       "      <td>0.566667</td>\n",
       "      <td>0.566667</td>\n",
       "    </tr>\n",
       "    <tr>\n",
       "      <th>16</th>\n",
       "      <td>16</td>\n",
       "      <td>0.395556</td>\n",
       "      <td>0.395556</td>\n",
       "    </tr>\n",
       "    <tr>\n",
       "      <th>17</th>\n",
       "      <td>17</td>\n",
       "      <td>0.582222</td>\n",
       "      <td>0.582222</td>\n",
       "    </tr>\n",
       "    <tr>\n",
       "      <th>18</th>\n",
       "      <td>18</td>\n",
       "      <td>0.500000</td>\n",
       "      <td>0.500000</td>\n",
       "    </tr>\n",
       "    <tr>\n",
       "      <th>19</th>\n",
       "      <td>19</td>\n",
       "      <td>0.542222</td>\n",
       "      <td>0.542222</td>\n",
       "    </tr>\n",
       "    <tr>\n",
       "      <th>20</th>\n",
       "      <td>20</td>\n",
       "      <td>0.493333</td>\n",
       "      <td>0.493333</td>\n",
       "    </tr>\n",
       "    <tr>\n",
       "      <th>21</th>\n",
       "      <td>21</td>\n",
       "      <td>0.520000</td>\n",
       "      <td>0.520000</td>\n",
       "    </tr>\n",
       "    <tr>\n",
       "      <th>22</th>\n",
       "      <td>22</td>\n",
       "      <td>0.437778</td>\n",
       "      <td>0.437778</td>\n",
       "    </tr>\n",
       "    <tr>\n",
       "      <th>23</th>\n",
       "      <td>23</td>\n",
       "      <td>0.517778</td>\n",
       "      <td>0.517778</td>\n",
       "    </tr>\n",
       "    <tr>\n",
       "      <th>24</th>\n",
       "      <td>24</td>\n",
       "      <td>0.448889</td>\n",
       "      <td>0.448889</td>\n",
       "    </tr>\n",
       "    <tr>\n",
       "      <th>25</th>\n",
       "      <td>25</td>\n",
       "      <td>0.393333</td>\n",
       "      <td>0.393333</td>\n",
       "    </tr>\n",
       "    <tr>\n",
       "      <th>26</th>\n",
       "      <td>26</td>\n",
       "      <td>0.544444</td>\n",
       "      <td>0.544444</td>\n",
       "    </tr>\n",
       "    <tr>\n",
       "      <th>27</th>\n",
       "      <td>27</td>\n",
       "      <td>0.255556</td>\n",
       "      <td>0.255556</td>\n",
       "    </tr>\n",
       "    <tr>\n",
       "      <th>28</th>\n",
       "      <td>28</td>\n",
       "      <td>0.484444</td>\n",
       "      <td>0.484444</td>\n",
       "    </tr>\n",
       "    <tr>\n",
       "      <th>29</th>\n",
       "      <td>29</td>\n",
       "      <td>0.488889</td>\n",
       "      <td>0.488889</td>\n",
       "    </tr>\n",
       "    <tr>\n",
       "      <th>...</th>\n",
       "      <td>...</td>\n",
       "      <td>...</td>\n",
       "      <td>...</td>\n",
       "    </tr>\n",
       "    <tr>\n",
       "      <th>99970</th>\n",
       "      <td>99970</td>\n",
       "      <td>0.571111</td>\n",
       "      <td>0.571111</td>\n",
       "    </tr>\n",
       "    <tr>\n",
       "      <th>99971</th>\n",
       "      <td>99971</td>\n",
       "      <td>0.413333</td>\n",
       "      <td>0.413333</td>\n",
       "    </tr>\n",
       "    <tr>\n",
       "      <th>99972</th>\n",
       "      <td>99972</td>\n",
       "      <td>0.526667</td>\n",
       "      <td>0.526667</td>\n",
       "    </tr>\n",
       "    <tr>\n",
       "      <th>99973</th>\n",
       "      <td>99973</td>\n",
       "      <td>0.528889</td>\n",
       "      <td>0.528889</td>\n",
       "    </tr>\n",
       "    <tr>\n",
       "      <th>99974</th>\n",
       "      <td>99974</td>\n",
       "      <td>0.442222</td>\n",
       "      <td>0.442222</td>\n",
       "    </tr>\n",
       "    <tr>\n",
       "      <th>99975</th>\n",
       "      <td>99975</td>\n",
       "      <td>0.504444</td>\n",
       "      <td>0.504444</td>\n",
       "    </tr>\n",
       "    <tr>\n",
       "      <th>99976</th>\n",
       "      <td>99976</td>\n",
       "      <td>0.564444</td>\n",
       "      <td>0.564444</td>\n",
       "    </tr>\n",
       "    <tr>\n",
       "      <th>99977</th>\n",
       "      <td>99977</td>\n",
       "      <td>0.680000</td>\n",
       "      <td>0.680000</td>\n",
       "    </tr>\n",
       "    <tr>\n",
       "      <th>99978</th>\n",
       "      <td>99978</td>\n",
       "      <td>0.417778</td>\n",
       "      <td>0.417778</td>\n",
       "    </tr>\n",
       "    <tr>\n",
       "      <th>99979</th>\n",
       "      <td>99979</td>\n",
       "      <td>0.564444</td>\n",
       "      <td>0.564444</td>\n",
       "    </tr>\n",
       "    <tr>\n",
       "      <th>99980</th>\n",
       "      <td>99980</td>\n",
       "      <td>0.526667</td>\n",
       "      <td>0.526667</td>\n",
       "    </tr>\n",
       "    <tr>\n",
       "      <th>99981</th>\n",
       "      <td>99981</td>\n",
       "      <td>0.673333</td>\n",
       "      <td>0.673333</td>\n",
       "    </tr>\n",
       "    <tr>\n",
       "      <th>99982</th>\n",
       "      <td>99982</td>\n",
       "      <td>0.495556</td>\n",
       "      <td>0.495556</td>\n",
       "    </tr>\n",
       "    <tr>\n",
       "      <th>99983</th>\n",
       "      <td>99983</td>\n",
       "      <td>0.571111</td>\n",
       "      <td>0.571111</td>\n",
       "    </tr>\n",
       "    <tr>\n",
       "      <th>99984</th>\n",
       "      <td>99984</td>\n",
       "      <td>0.502222</td>\n",
       "      <td>0.502222</td>\n",
       "    </tr>\n",
       "    <tr>\n",
       "      <th>99985</th>\n",
       "      <td>99985</td>\n",
       "      <td>0.591111</td>\n",
       "      <td>0.591111</td>\n",
       "    </tr>\n",
       "    <tr>\n",
       "      <th>99986</th>\n",
       "      <td>99986</td>\n",
       "      <td>0.535556</td>\n",
       "      <td>0.535556</td>\n",
       "    </tr>\n",
       "    <tr>\n",
       "      <th>99987</th>\n",
       "      <td>99987</td>\n",
       "      <td>0.522222</td>\n",
       "      <td>0.522222</td>\n",
       "    </tr>\n",
       "    <tr>\n",
       "      <th>99988</th>\n",
       "      <td>99988</td>\n",
       "      <td>0.715556</td>\n",
       "      <td>0.715556</td>\n",
       "    </tr>\n",
       "    <tr>\n",
       "      <th>99989</th>\n",
       "      <td>99989</td>\n",
       "      <td>0.397778</td>\n",
       "      <td>0.397778</td>\n",
       "    </tr>\n",
       "    <tr>\n",
       "      <th>99990</th>\n",
       "      <td>99990</td>\n",
       "      <td>0.644444</td>\n",
       "      <td>0.644444</td>\n",
       "    </tr>\n",
       "    <tr>\n",
       "      <th>99991</th>\n",
       "      <td>99991</td>\n",
       "      <td>0.617778</td>\n",
       "      <td>0.617778</td>\n",
       "    </tr>\n",
       "    <tr>\n",
       "      <th>99992</th>\n",
       "      <td>99992</td>\n",
       "      <td>0.502222</td>\n",
       "      <td>0.502222</td>\n",
       "    </tr>\n",
       "    <tr>\n",
       "      <th>99993</th>\n",
       "      <td>99993</td>\n",
       "      <td>0.580000</td>\n",
       "      <td>0.580000</td>\n",
       "    </tr>\n",
       "    <tr>\n",
       "      <th>99994</th>\n",
       "      <td>99994</td>\n",
       "      <td>0.577778</td>\n",
       "      <td>0.577778</td>\n",
       "    </tr>\n",
       "    <tr>\n",
       "      <th>99995</th>\n",
       "      <td>99995</td>\n",
       "      <td>0.515556</td>\n",
       "      <td>0.515556</td>\n",
       "    </tr>\n",
       "    <tr>\n",
       "      <th>99996</th>\n",
       "      <td>99996</td>\n",
       "      <td>0.551111</td>\n",
       "      <td>0.551111</td>\n",
       "    </tr>\n",
       "    <tr>\n",
       "      <th>99997</th>\n",
       "      <td>99997</td>\n",
       "      <td>0.517778</td>\n",
       "      <td>0.517778</td>\n",
       "    </tr>\n",
       "    <tr>\n",
       "      <th>99998</th>\n",
       "      <td>99998</td>\n",
       "      <td>0.608889</td>\n",
       "      <td>0.608889</td>\n",
       "    </tr>\n",
       "    <tr>\n",
       "      <th>99999</th>\n",
       "      <td>99999</td>\n",
       "      <td>0.360000</td>\n",
       "      <td>0.360000</td>\n",
       "    </tr>\n",
       "  </tbody>\n",
       "</table>\n",
       "<p>100000 rows × 3 columns</p>\n",
       "</div>"
      ],
      "text/plain": [
       "          id  sepostula  sepostulo\n",
       "0          0   0.397778   0.397778\n",
       "1          1   0.564444   0.564444\n",
       "2          2   0.551111   0.551111\n",
       "3          3   0.535556   0.535556\n",
       "4          4   0.597778   0.597778\n",
       "5          5   0.648889   0.648889\n",
       "6          6   0.691111   0.691111\n",
       "7          7   0.371111   0.371111\n",
       "8          8   0.704444   0.704444\n",
       "9          9   0.297778   0.297778\n",
       "10        10   0.548889   0.548889\n",
       "11        11   0.333333   0.333333\n",
       "12        12   0.557778   0.557778\n",
       "13        13   0.406667   0.406667\n",
       "14        14   0.531111   0.531111\n",
       "15        15   0.566667   0.566667\n",
       "16        16   0.395556   0.395556\n",
       "17        17   0.582222   0.582222\n",
       "18        18   0.500000   0.500000\n",
       "19        19   0.542222   0.542222\n",
       "20        20   0.493333   0.493333\n",
       "21        21   0.520000   0.520000\n",
       "22        22   0.437778   0.437778\n",
       "23        23   0.517778   0.517778\n",
       "24        24   0.448889   0.448889\n",
       "25        25   0.393333   0.393333\n",
       "26        26   0.544444   0.544444\n",
       "27        27   0.255556   0.255556\n",
       "28        28   0.484444   0.484444\n",
       "29        29   0.488889   0.488889\n",
       "...      ...        ...        ...\n",
       "99970  99970   0.571111   0.571111\n",
       "99971  99971   0.413333   0.413333\n",
       "99972  99972   0.526667   0.526667\n",
       "99973  99973   0.528889   0.528889\n",
       "99974  99974   0.442222   0.442222\n",
       "99975  99975   0.504444   0.504444\n",
       "99976  99976   0.564444   0.564444\n",
       "99977  99977   0.680000   0.680000\n",
       "99978  99978   0.417778   0.417778\n",
       "99979  99979   0.564444   0.564444\n",
       "99980  99980   0.526667   0.526667\n",
       "99981  99981   0.673333   0.673333\n",
       "99982  99982   0.495556   0.495556\n",
       "99983  99983   0.571111   0.571111\n",
       "99984  99984   0.502222   0.502222\n",
       "99985  99985   0.591111   0.591111\n",
       "99986  99986   0.535556   0.535556\n",
       "99987  99987   0.522222   0.522222\n",
       "99988  99988   0.715556   0.715556\n",
       "99989  99989   0.397778   0.397778\n",
       "99990  99990   0.644444   0.644444\n",
       "99991  99991   0.617778   0.617778\n",
       "99992  99992   0.502222   0.502222\n",
       "99993  99993   0.580000   0.580000\n",
       "99994  99994   0.577778   0.577778\n",
       "99995  99995   0.515556   0.515556\n",
       "99996  99996   0.551111   0.551111\n",
       "99997  99997   0.517778   0.517778\n",
       "99998  99998   0.608889   0.608889\n",
       "99999  99999   0.360000   0.360000\n",
       "\n",
       "[100000 rows x 3 columns]"
      ]
     },
     "execution_count": 44,
     "metadata": {},
     "output_type": "execute_result"
    }
   ],
   "source": [
    "df['sepostulo'] = df['sepostula']\n",
    "df"
   ]
  },
  {
   "cell_type": "code",
   "execution_count": 45,
   "metadata": {
    "collapsed": true
   },
   "outputs": [],
   "source": [
    "del df['sepostula']"
   ]
  },
  {
   "cell_type": "code",
   "execution_count": 46,
   "metadata": {},
   "outputs": [
    {
     "data": {
      "text/html": [
       "<div>\n",
       "<style>\n",
       "    .dataframe thead tr:only-child th {\n",
       "        text-align: right;\n",
       "    }\n",
       "\n",
       "    .dataframe thead th {\n",
       "        text-align: left;\n",
       "    }\n",
       "\n",
       "    .dataframe tbody tr th {\n",
       "        vertical-align: top;\n",
       "    }\n",
       "</style>\n",
       "<table border=\"1\" class=\"dataframe\">\n",
       "  <thead>\n",
       "    <tr style=\"text-align: right;\">\n",
       "      <th></th>\n",
       "      <th>id</th>\n",
       "      <th>sepostulo</th>\n",
       "    </tr>\n",
       "  </thead>\n",
       "  <tbody>\n",
       "    <tr>\n",
       "      <th>0</th>\n",
       "      <td>0</td>\n",
       "      <td>0.397778</td>\n",
       "    </tr>\n",
       "    <tr>\n",
       "      <th>1</th>\n",
       "      <td>1</td>\n",
       "      <td>0.564444</td>\n",
       "    </tr>\n",
       "    <tr>\n",
       "      <th>2</th>\n",
       "      <td>2</td>\n",
       "      <td>0.551111</td>\n",
       "    </tr>\n",
       "    <tr>\n",
       "      <th>3</th>\n",
       "      <td>3</td>\n",
       "      <td>0.535556</td>\n",
       "    </tr>\n",
       "    <tr>\n",
       "      <th>4</th>\n",
       "      <td>4</td>\n",
       "      <td>0.597778</td>\n",
       "    </tr>\n",
       "  </tbody>\n",
       "</table>\n",
       "</div>"
      ],
      "text/plain": [
       "   id  sepostulo\n",
       "0   0   0.397778\n",
       "1   1   0.564444\n",
       "2   2   0.551111\n",
       "3   3   0.535556\n",
       "4   4   0.597778"
      ]
     },
     "execution_count": 46,
     "metadata": {},
     "output_type": "execute_result"
    }
   ],
   "source": [
    "df.head()"
   ]
  },
  {
   "cell_type": "code",
   "execution_count": 50,
   "metadata": {
    "collapsed": true
   },
   "outputs": [],
   "source": [
    "df.to_csv('/home/luupesado/7506_Datos/2018/TPsDatos_1C2018/TP2/Submits/submit_knn450_uniform_p3_right_ts2.csv', index = False)"
   ]
  },
  {
   "cell_type": "code",
   "execution_count": 60,
   "metadata": {
    "collapsed": true
   },
   "outputs": [],
   "source": [
    "df = pd.read_csv('/home/luupesado/7506_Datos/2018/TPsDatos_1C2018/TP2/Submits/submit_knn450_uniform_p3_right_ts2.csv')"
   ]
  },
  {
   "cell_type": "code",
   "execution_count": 61,
   "metadata": {
    "collapsed": true
   },
   "outputs": [],
   "source": [
    "df100k = df"
   ]
  },
  {
   "cell_type": "code",
   "execution_count": 62,
   "metadata": {},
   "outputs": [
    {
     "data": {
      "text/plain": [
       "0.540000    1011\n",
       "0.562222    1010\n",
       "0.555556     997\n",
       "0.571111     985\n",
       "0.548889     979\n",
       "0.553333     979\n",
       "0.524444     977\n",
       "0.586667     974\n",
       "0.546667     957\n",
       "0.560000     950\n",
       "0.557778     941\n",
       "0.566667     939\n",
       "0.573333     937\n",
       "0.577778     933\n",
       "0.531111     932\n",
       "0.588889     928\n",
       "0.542222     927\n",
       "0.580000     926\n",
       "0.568889     926\n",
       "0.544444     926\n",
       "0.597778     925\n",
       "0.551111     923\n",
       "0.522222     921\n",
       "0.537778     919\n",
       "0.564444     916\n",
       "0.582222     912\n",
       "0.535556     905\n",
       "0.513333     905\n",
       "0.593333     904\n",
       "0.575556     901\n",
       "            ... \n",
       "0.886667       2\n",
       "0.240000       1\n",
       "0.877778       1\n",
       "0.242222       1\n",
       "0.244444       1\n",
       "0.904444       1\n",
       "0.213333       1\n",
       "0.902222       1\n",
       "0.848889       1\n",
       "0.871111       1\n",
       "0.940000       1\n",
       "0.880000       1\n",
       "0.235556       1\n",
       "0.844444       1\n",
       "0.937778       1\n",
       "0.231111       1\n",
       "0.915556       1\n",
       "0.964444       1\n",
       "0.224444       1\n",
       "0.928889       1\n",
       "0.228889       1\n",
       "0.922222       1\n",
       "0.931111       1\n",
       "0.875556       1\n",
       "0.222222       1\n",
       "0.888889       1\n",
       "0.253333       1\n",
       "0.233333       1\n",
       "0.935556       1\n",
       "0.828889       1\n",
       "Name: sepostulo, Length: 347, dtype: int64"
      ]
     },
     "execution_count": 62,
     "metadata": {},
     "output_type": "execute_result"
    }
   ],
   "source": [
    "df100k['sepostulo'].value_counts()"
   ]
  },
  {
   "cell_type": "code",
   "execution_count": 63,
   "metadata": {
    "collapsed": true
   },
   "outputs": [],
   "source": [
    "df = df100k"
   ]
  },
  {
   "cell_type": "code",
   "execution_count": 64,
   "metadata": {
    "collapsed": true
   },
   "outputs": [],
   "source": [
    "values = df['sepostulo'].value_counts()"
   ]
  },
  {
   "cell_type": "code",
   "execution_count": 65,
   "metadata": {},
   "outputs": [
    {
     "data": {
      "text/plain": [
       "<bound method Series.keys of 0.540000    1011\n",
       "0.562222    1010\n",
       "0.555556     997\n",
       "0.571111     985\n",
       "0.548889     979\n",
       "0.553333     979\n",
       "0.524444     977\n",
       "0.586667     974\n",
       "0.546667     957\n",
       "0.560000     950\n",
       "0.557778     941\n",
       "0.566667     939\n",
       "0.573333     937\n",
       "0.577778     933\n",
       "0.531111     932\n",
       "0.588889     928\n",
       "0.542222     927\n",
       "0.580000     926\n",
       "0.568889     926\n",
       "0.544444     926\n",
       "0.597778     925\n",
       "0.551111     923\n",
       "0.522222     921\n",
       "0.537778     919\n",
       "0.564444     916\n",
       "0.582222     912\n",
       "0.535556     905\n",
       "0.513333     905\n",
       "0.593333     904\n",
       "0.575556     901\n",
       "            ... \n",
       "0.886667       2\n",
       "0.240000       1\n",
       "0.877778       1\n",
       "0.242222       1\n",
       "0.244444       1\n",
       "0.904444       1\n",
       "0.213333       1\n",
       "0.902222       1\n",
       "0.848889       1\n",
       "0.871111       1\n",
       "0.940000       1\n",
       "0.880000       1\n",
       "0.235556       1\n",
       "0.844444       1\n",
       "0.937778       1\n",
       "0.231111       1\n",
       "0.915556       1\n",
       "0.964444       1\n",
       "0.224444       1\n",
       "0.928889       1\n",
       "0.228889       1\n",
       "0.922222       1\n",
       "0.931111       1\n",
       "0.875556       1\n",
       "0.222222       1\n",
       "0.888889       1\n",
       "0.253333       1\n",
       "0.233333       1\n",
       "0.935556       1\n",
       "0.828889       1\n",
       "Name: sepostulo, Length: 347, dtype: int64>"
      ]
     },
     "execution_count": 65,
     "metadata": {},
     "output_type": "execute_result"
    }
   ],
   "source": [
    "values.keys"
   ]
  },
  {
   "cell_type": "code",
   "execution_count": 66,
   "metadata": {},
   "outputs": [
    {
     "data": {
      "text/plain": [
       "array([1011, 1010,  997,  985,  979,  979,  977,  974,  957,  950,  941,\n",
       "        939,  937,  933,  932,  928,  927,  926,  926,  926,  925,  923,\n",
       "        921,  919,  916,  912,  905,  905,  904,  901,  897,  895,  888,\n",
       "        884,  877,  866,  865,  863,  857,  855,  851,  851,  847,  846,\n",
       "        842,  834,  820,  816,  815,  814,  810,  784,  778,  762,  761,\n",
       "        743,  739,  737,  734,  730,  725,  723,  722,  704,  692,  688,\n",
       "        684,  672,  666,  664,  658,  658,  654,  633,  631,  616,  615,\n",
       "        615,  612,  608,  604,  586,  581,  559,  557,  554,  554,  544,\n",
       "        542,  534,  529,  518,  509,  508,  492,  482,  480,  467,  464,\n",
       "        464,  456,  455,  453,  449,  443,  426,  416,  404,  397,  395,\n",
       "        390,  374,  372,  354,  351,  349,  347,  346,  345,  341,  323,\n",
       "        314,  312,  308,  303,  295,  293,  291,  287,  273,  271,  269,\n",
       "        253,  252,  245,  235,  234,  230,  229,  227,  222,  220,  219,\n",
       "        209,  204,  203,  202,  201,  198,  194,  193,  188,  182,  176,\n",
       "        174,  173,  168,  167,  163,  149,  148,  147,  145,  144,  141,\n",
       "        141,  136,  132,  131,  130,  125,  123,  120,  119,  117,  114,\n",
       "        111,  111,  110,  105,  104,  100,  100,   92,   91,   89,   87,\n",
       "         82,   82,   81,   78,   77,   77,   77,   72,   67,   67,   66,\n",
       "         59,   56,   55,   54,   54,   51,   50,   49,   48,   48,   46,\n",
       "         45,   44,   44,   43,   43,   42,   42,   41,   38,   38,   37,\n",
       "         36,   34,   33,   32,   30,   29,   29,   29,   29,   28,   28,\n",
       "         27,   27,   25,   24,   24,   22,   22,   22,   22,   21,   21,\n",
       "         20,   19,   16,   16,   16,   16,   16,   15,   15,   15,   13,\n",
       "         13,   13,   13,   12,   12,   11,   11,   10,   10,   10,   10,\n",
       "          9,    9,    9,    8,    7,    7,    7,    7,    6,    6,    5,\n",
       "          5,    5,    5,    5,    5,    4,    4,    4,    4,    4,    4,\n",
       "          3,    3,    3,    3,    3,    3,    3,    3,    3,    3,    2,\n",
       "          2,    2,    2,    2,    2,    2,    2,    2,    2,    2,    2,\n",
       "          2,    2,    2,    2,    2,    2,    2,    2,    2,    2,    1,\n",
       "          1,    1,    1,    1,    1,    1,    1,    1,    1,    1,    1,\n",
       "          1,    1,    1,    1,    1,    1,    1,    1,    1,    1,    1,\n",
       "          1,    1,    1,    1,    1,    1])"
      ]
     },
     "execution_count": 66,
     "metadata": {},
     "output_type": "execute_result"
    }
   ],
   "source": [
    "values.values"
   ]
  },
  {
   "cell_type": "code",
   "execution_count": 67,
   "metadata": {},
   "outputs": [
    {
     "data": {
      "text/plain": [
       "1    50475\n",
       "0    49525\n",
       "Name: sepostulo, dtype: int64"
      ]
     },
     "execution_count": 67,
     "metadata": {},
     "output_type": "execute_result"
    }
   ],
   "source": [
    "df['sepostulo'].apply(lambda x: 1 if x>0.55 else 0).value_counts()"
   ]
  },
  {
   "cell_type": "code",
   "execution_count": 59,
   "metadata": {
    "collapsed": true
   },
   "outputs": [],
   "source": [
    "df['sepostulo'] = df['sepostulo'].apply(lambda x: 1 if x>0.55 else 0)"
   ]
  },
  {
   "cell_type": "code",
   "execution_count": 36,
   "metadata": {
    "collapsed": true
   },
   "outputs": [],
   "source": [
    "df.to_csv('/home/luupesado/7506_Datos/2018/TPsDatos_1C2018/TP2/Submits/submit_knn1000_uniform_p3_right_balanced55_ts2.csv', index = False)"
   ]
  },
  {
   "cell_type": "code",
   "execution_count": 49,
   "metadata": {
    "collapsed": true
   },
   "outputs": [],
   "source": [
    "df = df100k"
   ]
  },
  {
   "cell_type": "code",
   "execution_count": 68,
   "metadata": {
    "collapsed": true
   },
   "outputs": [],
   "source": [
    "def balance(x):\n",
    "    if x >0.70:\n",
    "        return 1\n",
    "    if x<0.35:\n",
    "        return 0\n",
    "    else:\n",
    "        return x"
   ]
  },
  {
   "cell_type": "code",
   "execution_count": 69,
   "metadata": {},
   "outputs": [
    {
     "data": {
      "text/plain": [
       "1.000000    5211\n",
       "0.000000    1925\n",
       "0.540000    1011\n",
       "0.562222    1010\n",
       "0.555556     997\n",
       "0.571111     985\n",
       "0.548889     979\n",
       "0.553333     979\n",
       "0.524444     977\n",
       "0.586667     974\n",
       "0.546667     957\n",
       "0.560000     950\n",
       "0.557778     941\n",
       "0.566667     939\n",
       "0.573333     937\n",
       "0.577778     933\n",
       "0.531111     932\n",
       "0.588889     928\n",
       "0.542222     927\n",
       "0.544444     926\n",
       "0.568889     926\n",
       "0.580000     926\n",
       "0.597778     925\n",
       "0.551111     923\n",
       "0.522222     921\n",
       "0.537778     919\n",
       "0.564444     916\n",
       "0.582222     912\n",
       "0.535556     905\n",
       "0.513333     905\n",
       "            ... \n",
       "0.693333     287\n",
       "0.688889     273\n",
       "0.691111     271\n",
       "0.404444     269\n",
       "0.397778     252\n",
       "0.393333     245\n",
       "0.697778     235\n",
       "0.395556     234\n",
       "0.402222     229\n",
       "0.388889     222\n",
       "0.695556     220\n",
       "0.386667     219\n",
       "0.384444     209\n",
       "0.380000     204\n",
       "0.700000     203\n",
       "0.391111     202\n",
       "0.382222     194\n",
       "0.373333     182\n",
       "0.368889     176\n",
       "0.377778     173\n",
       "0.366667     168\n",
       "0.375556     163\n",
       "0.371111     148\n",
       "0.362222     144\n",
       "0.364444     141\n",
       "0.360000     131\n",
       "0.355556     130\n",
       "0.357778     120\n",
       "0.353333     114\n",
       "0.351111     110\n",
       "Name: sepostulo, Length: 160, dtype: int64"
      ]
     },
     "execution_count": 69,
     "metadata": {},
     "output_type": "execute_result"
    }
   ],
   "source": [
    "df['sepostulo'].apply(lambda x: balance(x)).value_counts()"
   ]
  },
  {
   "cell_type": "code",
   "execution_count": 70,
   "metadata": {
    "collapsed": true
   },
   "outputs": [],
   "source": [
    "df['sepostulo'] = df['sepostulo'].apply(lambda x: balance(x))"
   ]
  },
  {
   "cell_type": "code",
   "execution_count": 71,
   "metadata": {},
   "outputs": [
    {
     "data": {
      "text/html": [
       "<div>\n",
       "<style>\n",
       "    .dataframe thead tr:only-child th {\n",
       "        text-align: right;\n",
       "    }\n",
       "\n",
       "    .dataframe thead th {\n",
       "        text-align: left;\n",
       "    }\n",
       "\n",
       "    .dataframe tbody tr th {\n",
       "        vertical-align: top;\n",
       "    }\n",
       "</style>\n",
       "<table border=\"1\" class=\"dataframe\">\n",
       "  <thead>\n",
       "    <tr style=\"text-align: right;\">\n",
       "      <th></th>\n",
       "      <th>id</th>\n",
       "      <th>sepostulo</th>\n",
       "    </tr>\n",
       "  </thead>\n",
       "  <tbody>\n",
       "    <tr>\n",
       "      <th>0</th>\n",
       "      <td>0</td>\n",
       "      <td>0.397778</td>\n",
       "    </tr>\n",
       "    <tr>\n",
       "      <th>1</th>\n",
       "      <td>1</td>\n",
       "      <td>0.564444</td>\n",
       "    </tr>\n",
       "    <tr>\n",
       "      <th>2</th>\n",
       "      <td>2</td>\n",
       "      <td>0.551111</td>\n",
       "    </tr>\n",
       "    <tr>\n",
       "      <th>3</th>\n",
       "      <td>3</td>\n",
       "      <td>0.535556</td>\n",
       "    </tr>\n",
       "    <tr>\n",
       "      <th>4</th>\n",
       "      <td>4</td>\n",
       "      <td>0.597778</td>\n",
       "    </tr>\n",
       "  </tbody>\n",
       "</table>\n",
       "</div>"
      ],
      "text/plain": [
       "   id  sepostulo\n",
       "0   0   0.397778\n",
       "1   1   0.564444\n",
       "2   2   0.551111\n",
       "3   3   0.535556\n",
       "4   4   0.597778"
      ]
     },
     "execution_count": 71,
     "metadata": {},
     "output_type": "execute_result"
    }
   ],
   "source": [
    "df.head()"
   ]
  },
  {
   "cell_type": "code",
   "execution_count": 72,
   "metadata": {
    "collapsed": true
   },
   "outputs": [],
   "source": [
    "df.to_csv('/home/luupesado/7506_Datos/2018/TPsDatos_1C2018/TP2/Submits/submit_knn450_uniform_p3_right_balanced7035_ts2.csv', index = False)"
   ]
  }
 ],
 "metadata": {
  "kernelspec": {
   "display_name": "Python 2",
   "language": "python",
   "name": "python2"
  },
  "language_info": {
   "codemirror_mode": {
    "name": "ipython",
    "version": 2
   },
   "file_extension": ".py",
   "mimetype": "text/x-python",
   "name": "python",
   "nbconvert_exporter": "python",
   "pygments_lexer": "ipython2",
   "version": "2.7.12"
  }
 },
 "nbformat": 4,
 "nbformat_minor": 2
}
