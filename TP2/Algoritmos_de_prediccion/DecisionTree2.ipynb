{
 "cells": [
  {
   "cell_type": "code",
   "execution_count": 2,
   "metadata": {},
   "outputs": [
    {
     "name": "stderr",
     "output_type": "stream",
     "text": [
      "/usr/local/lib/python3.5/dist-packages/sklearn/cross_validation.py:41: DeprecationWarning: This module was deprecated in version 0.18 in favor of the model_selection module into which all the refactored classes and functions are moved. Also note that the interface of the new CV iterators are different from that of this module. This module will be removed in 0.20.\n",
      "  \"This module will be removed in 0.20.\", DeprecationWarning)\n"
     ]
    }
   ],
   "source": [
    "import numpy as np\n",
    "import pandas as pd\n",
    "from sklearn.cross_validation import train_test_split\n",
    "from sklearn.tree import DecisionTreeClassifier\n",
    "from sklearn.metrics import accuracy_score\n",
    "from sklearn import tree"
   ]
  },
  {
   "cell_type": "code",
   "execution_count": 2,
   "metadata": {},
   "outputs": [],
   "source": [
    "test = pd.read_csv('ArchivosDatos/100k_as_ts15M.csv')\n",
    "datos = pd.read_csv('ArchivosDatos/set_nuevo.csv')"
   ]
  },
  {
   "cell_type": "code",
   "execution_count": 3,
   "metadata": {},
   "outputs": [],
   "source": [
    "del test['online']\n",
    "del test['mesnacimiento']\n",
    "del test['dianacimiento']\n",
    "del test['anionacimiento']"
   ]
  },
  {
   "cell_type": "code",
   "execution_count": 4,
   "metadata": {},
   "outputs": [],
   "source": [
    "submit = test.loc[:,['id','sepostulo']]\n",
    "submit = pd.DataFrame(submit)\n",
    "del datos['idaviso']\n",
    "del datos['idpostulante']\n",
    "del datos['nombre_area']\n",
    "del test['id']\n",
    "del test['idaviso']\n",
    "del test['idpostulante']\n",
    "del test['nombre_area']"
   ]
  },
  {
   "cell_type": "code",
   "execution_count": 5,
   "metadata": {},
   "outputs": [],
   "source": [
    "x = np.array(datos.ix[:,1:8])\n",
    "y = np.array(datos['sepostulo'])\n",
    "z = np.array(test.ix[:,0:7])"
   ]
  },
  {
   "cell_type": "code",
   "execution_count": 6,
   "metadata": {},
   "outputs": [
    {
     "name": "stdout",
     "output_type": "stream",
     "text": [
      " accuracy=59.22%\n",
      " accuracy=59.22%\n",
      " accuracy=59.22%\n",
      " accuracy=59.22%\n"
     ]
    }
   ],
   "source": [
    "r = [0,1000,10000,50000]\n",
    "for i in r:\n",
    "    model = DecisionTreeClassifier(criterion = \"entropy\", random_state=i)\n",
    "    model.fit(x, y)\n",
    "    score = model.score(x, y)\n",
    "    print(\" accuracy=%.2f%%\" % ( score * 100))"
   ]
  },
  {
   "cell_type": "code",
   "execution_count": 8,
   "metadata": {},
   "outputs": [
    {
     "name": "stdout",
     "output_type": "stream",
     "text": [
      " accuracy=59.22%\n",
      " accuracy=59.22%\n",
      " accuracy=59.22%\n",
      " accuracy=59.22%\n"
     ]
    }
   ],
   "source": [
    "r = [0,1000,10000,50000]\n",
    "for i in r:\n",
    "    model = DecisionTreeClassifier(criterion = \"entropy\", max_depth=50, random_state=i)\n",
    "    model.fit(x, y)\n",
    "    score = model.score(x, y)\n",
    "    print(\" accuracy=%.2f%%\" % ( score * 100))"
   ]
  },
  {
   "cell_type": "code",
   "execution_count": 9,
   "metadata": {},
   "outputs": [
    {
     "name": "stdout",
     "output_type": "stream",
     "text": [
      " accuracy=59.22%\n"
     ]
    }
   ],
   "source": [
    "model = DecisionTreeClassifier(criterion = \"entropy\", max_depth=50)\n",
    "model.fit(x, y)\n",
    "score = model.score(x, y)\n",
    "print(\" accuracy=%.2f%%\" % ( score * 100))"
   ]
  },
  {
   "cell_type": "code",
   "execution_count": 10,
   "metadata": {},
   "outputs": [
    {
     "name": "stdout",
     "output_type": "stream",
     "text": [
      "<class 'pandas.core.frame.DataFrame'>\n",
      "Int64Index: 1500000 entries, 0 to 1499999\n",
      "Data columns (total 16 columns):\n",
      "idaviso            1500000 non-null int64\n",
      "idpostulante       1500000 non-null object\n",
      "sepostulo          1500000 non-null int64\n",
      "nombre_zona        1500000 non-null float64\n",
      "tipo_de_trabajo    1500000 non-null float64\n",
      "nivel_laboral      1500000 non-null float64\n",
      "nombre_area        1500000 non-null float64\n",
      "online             1500000 non-null float64\n",
      "sexo               1500000 non-null float64\n",
      "edad               1500000 non-null int64\n",
      "nombre             1500000 non-null int64\n",
      "estado             1500000 non-null int64\n",
      "nombre-estado      1500000 non-null int64\n",
      "mesnacimiento      1500000 non-null int64\n",
      "dianacimiento      1500000 non-null int64\n",
      "anionacimiento     1500000 non-null int64\n",
      "dtypes: float64(6), int64(9), object(1)\n",
      "memory usage: 194.5+ MB\n"
     ]
    }
   ],
   "source": [
    "##con el set de datos reducido\n",
    "datos = pd.read_csv('ArchivosDatos/Training_set15M.csv')\n",
    "datos.info()"
   ]
  },
  {
   "cell_type": "code",
   "execution_count": 11,
   "metadata": {},
   "outputs": [],
   "source": [
    "del datos['idaviso']\n",
    "del datos['idpostulante']\n",
    "del datos['nombre_area']\n",
    "del datos['mesnacimiento']\n",
    "del datos['dianacimiento']\n",
    "del datos['anionacimiento']"
   ]
  },
  {
   "cell_type": "code",
   "execution_count": 15,
   "metadata": {},
   "outputs": [
    {
     "name": "stdout",
     "output_type": "stream",
     "text": [
      "<class 'pandas.core.frame.DataFrame'>\n",
      "Int64Index: 100000 entries, 0 to 99999\n",
      "Data columns (total 8 columns):\n",
      "nombre_zona        100000 non-null int64\n",
      "tipo_de_trabajo    100000 non-null int64\n",
      "nivel_laboral      100000 non-null int64\n",
      "sexo               100000 non-null float64\n",
      "edad               100000 non-null int64\n",
      "nombre             100000 non-null int64\n",
      "estado             100000 non-null int64\n",
      "nombre-estado      100000 non-null int64\n",
      "dtypes: float64(1), int64(7)\n",
      "memory usage: 6.9 MB\n"
     ]
    }
   ],
   "source": [
    "del datos['online']\n",
    "test.info()"
   ]
  },
  {
   "cell_type": "code",
   "execution_count": 16,
   "metadata": {},
   "outputs": [
    {
     "name": "stdout",
     "output_type": "stream",
     "text": [
      "<class 'pandas.core.frame.DataFrame'>\n",
      "Int64Index: 1500000 entries, 0 to 1499999\n",
      "Data columns (total 9 columns):\n",
      "sepostulo          1500000 non-null int64\n",
      "nombre_zona        1500000 non-null float64\n",
      "tipo_de_trabajo    1500000 non-null float64\n",
      "nivel_laboral      1500000 non-null float64\n",
      "sexo               1500000 non-null float64\n",
      "edad               1500000 non-null int64\n",
      "nombre             1500000 non-null int64\n",
      "estado             1500000 non-null int64\n",
      "nombre-estado      1500000 non-null int64\n",
      "dtypes: float64(4), int64(5)\n",
      "memory usage: 114.4 MB\n"
     ]
    }
   ],
   "source": [
    "datos.info()"
   ]
  },
  {
   "cell_type": "code",
   "execution_count": 18,
   "metadata": {},
   "outputs": [],
   "source": [
    "x = np.array(datos.ix[:,1:8])\n",
    "y = np.array(datos['sepostulo'])"
   ]
  },
  {
   "cell_type": "code",
   "execution_count": 19,
   "metadata": {},
   "outputs": [
    {
     "name": "stdout",
     "output_type": "stream",
     "text": [
      " accuracy=60.57%\n"
     ]
    }
   ],
   "source": [
    "model = DecisionTreeClassifier(criterion = \"entropy\")\n",
    "model.fit(x, y)\n",
    "score = model.score(x, y)\n",
    "print(\" accuracy=%.2f%%\" % ( score * 100))"
   ]
  },
  {
   "cell_type": "code",
   "execution_count": 21,
   "metadata": {},
   "outputs": [
    {
     "data": {
      "text/html": [
       "<div>\n",
       "<table border=\"1\" class=\"dataframe\">\n",
       "  <thead>\n",
       "    <tr style=\"text-align: right;\">\n",
       "      <th></th>\n",
       "      <th>id</th>\n",
       "      <th>sepostulo</th>\n",
       "    </tr>\n",
       "  </thead>\n",
       "  <tbody>\n",
       "    <tr>\n",
       "      <th>0</th>\n",
       "      <td>0</td>\n",
       "      <td>1</td>\n",
       "    </tr>\n",
       "    <tr>\n",
       "      <th>1</th>\n",
       "      <td>1</td>\n",
       "      <td>1</td>\n",
       "    </tr>\n",
       "    <tr>\n",
       "      <th>2</th>\n",
       "      <td>2</td>\n",
       "      <td>1</td>\n",
       "    </tr>\n",
       "    <tr>\n",
       "      <th>3</th>\n",
       "      <td>3</td>\n",
       "      <td>1</td>\n",
       "    </tr>\n",
       "    <tr>\n",
       "      <th>4</th>\n",
       "      <td>4</td>\n",
       "      <td>1</td>\n",
       "    </tr>\n",
       "  </tbody>\n",
       "</table>\n",
       "</div>"
      ],
      "text/plain": [
       "   id  sepostulo\n",
       "0   0          1\n",
       "1   1          1\n",
       "2   2          1\n",
       "3   3          1\n",
       "4   4          1"
      ]
     },
     "execution_count": 21,
     "metadata": {},
     "output_type": "execute_result"
    }
   ],
   "source": [
    "predictions = model.predict(z)\n",
    "submit['sepostulo'] = pd.DataFrame({'sepostulo':predictions})\n",
    "submit.head()"
   ]
  },
  {
   "cell_type": "code",
   "execution_count": 22,
   "metadata": {},
   "outputs": [],
   "source": [
    "submit.to_csv('Submits/submitDTFINAL.csv',index=False)\n",
    "##Submit de kaggle: 0.61"
   ]
  },
  {
   "cell_type": "code",
   "execution_count": 3,
   "metadata": {},
   "outputs": [],
   "source": [
    "##si le agrego el nombre de area\n",
    "test = pd.read_csv('ArchivosDatos/100k_as_ts15M.csv')\n",
    "datos = pd.read_csv('ArchivosDatos/Training_set15M.csv')"
   ]
  },
  {
   "cell_type": "code",
   "execution_count": 4,
   "metadata": {},
   "outputs": [],
   "source": [
    "del test['online']\n",
    "del test['mesnacimiento']\n",
    "del test['dianacimiento']\n",
    "del test['anionacimiento']\n",
    "submit = test.loc[:,['id','sepostulo']]\n",
    "submit = pd.DataFrame(submit)\n",
    "del datos['idaviso']\n",
    "del datos['idpostulante']\n",
    "del test['id']\n",
    "del test['idaviso']\n",
    "del test['idpostulante']"
   ]
  },
  {
   "cell_type": "code",
   "execution_count": 6,
   "metadata": {},
   "outputs": [],
   "source": [
    "del datos['online']\n",
    "del datos['mesnacimiento']\n",
    "del datos['dianacimiento']\n",
    "del datos['anionacimiento']"
   ]
  },
  {
   "cell_type": "code",
   "execution_count": 8,
   "metadata": {},
   "outputs": [],
   "source": [
    "x = np.array(datos.ix[:,1:9])\n",
    "y = np.array(datos['sepostulo'])\n",
    "z = np.array(test.ix[:,1:8])"
   ]
  },
  {
   "cell_type": "code",
   "execution_count": 10,
   "metadata": {},
   "outputs": [
    {
     "name": "stdout",
     "output_type": "stream",
     "text": [
      " accuracy=71.78%\n"
     ]
    }
   ],
   "source": [
    "model = DecisionTreeClassifier(criterion = \"entropy\")\n",
    "model.fit(x, y)\n",
    "score = model.score(x, y)\n",
    "print(\" accuracy=%.2f%%\" % ( score * 100))"
   ]
  },
  {
   "cell_type": "code",
   "execution_count": 11,
   "metadata": {},
   "outputs": [],
   "source": [
    "submit.to_csv('Submits/submitDTFINAL2.csv',index=False)\n",
    "##Submit de kaggle: "
   ]
  },
  {
   "cell_type": "code",
   "execution_count": null,
   "metadata": {},
   "outputs": [],
   "source": []
  }
 ],
 "metadata": {
  "kernelspec": {
   "display_name": "Python 3",
   "language": "python",
   "name": "python3"
  },
  "language_info": {
   "codemirror_mode": {
    "name": "ipython",
    "version": 3
   },
   "file_extension": ".py",
   "mimetype": "text/x-python",
   "name": "python",
   "nbconvert_exporter": "python",
   "pygments_lexer": "ipython3",
   "version": "3.5.2"
  }
 },
 "nbformat": 4,
 "nbformat_minor": 2
}
