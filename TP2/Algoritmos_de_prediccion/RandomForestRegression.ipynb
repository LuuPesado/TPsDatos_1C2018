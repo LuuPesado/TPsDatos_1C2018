{
 "cells": [
  {
   "cell_type": "code",
   "execution_count": 1,
   "metadata": {},
   "outputs": [],
   "source": [
    "import pandas as pd\n",
    "import numpy as np\n",
    "from sklearn.ensemble import RandomForestRegressor\n",
    "from sklearn.datasets import make_regression"
   ]
  },
  {
   "cell_type": "code",
   "execution_count": 2,
   "metadata": {},
   "outputs": [],
   "source": [
    "datos = pd.read_csv('ArchivosDatos/Training_set_4.csv')"
   ]
  },
  {
   "cell_type": "code",
   "execution_count": 3,
   "metadata": {},
   "outputs": [],
   "source": [
    "test = pd.read_csv('ArchivosDatos/test_set_1.csv')"
   ]
  },
  {
   "cell_type": "code",
   "execution_count": 8,
   "metadata": {},
   "outputs": [
    {
     "name": "stdout",
     "output_type": "stream",
     "text": [
      "<class 'pandas.core.frame.DataFrame'>\n",
      "Int64Index: 14915016 entries, 0 to 14915015\n",
      "Data columns (total 13 columns):\n",
      "ida                int64\n",
      "idp                float64\n",
      "nombre_zona        float64\n",
      "tipo_de_trabajo    float64\n",
      "nivel_laboral      float64\n",
      "nombre_area        float64\n",
      "online             float64\n",
      "sexo               float64\n",
      "edad               float64\n",
      "nombre             float64\n",
      "estado             float64\n",
      "nombre-estado      float64\n",
      "sepostulo          int64\n",
      "dtypes: float64(11), int64(2)\n",
      "memory usage: 1.6 GB\n"
     ]
    }
   ],
   "source": [
    "datos.info()"
   ]
  },
  {
   "cell_type": "code",
   "execution_count": 5,
   "metadata": {},
   "outputs": [],
   "source": [
    "del datos['Unnamed: 0']"
   ]
  },
  {
   "cell_type": "code",
   "execution_count": 6,
   "metadata": {},
   "outputs": [
    {
     "name": "stdout",
     "output_type": "stream",
     "text": [
      "<class 'pandas.core.frame.DataFrame'>\n",
      "Int64Index: 100000 entries, 0 to 99999\n",
      "Data columns (total 17 columns):\n",
      "Unnamed: 0         100000 non-null int64\n",
      "id                 100000 non-null int64\n",
      "idaviso            100000 non-null int64\n",
      "idpostulante       100000 non-null object\n",
      "ida                100000 non-null int64\n",
      "idp                100000 non-null float64\n",
      "nombre_zona        100000 non-null float64\n",
      "tipo_de_trabajo    100000 non-null float64\n",
      "nivel_laboral      100000 non-null float64\n",
      "nombre_area        100000 non-null float64\n",
      "online             100000 non-null float64\n",
      "sexo               100000 non-null float64\n",
      "edad               100000 non-null float64\n",
      "nombre             100000 non-null float64\n",
      "estado             100000 non-null float64\n",
      "nombre-estado      100000 non-null float64\n",
      "sepostulo          100000 non-null int64\n",
      "dtypes: float64(11), int64(5), object(1)\n",
      "memory usage: 13.7+ MB\n"
     ]
    }
   ],
   "source": [
    "test.info()"
   ]
  },
  {
   "cell_type": "code",
   "execution_count": 7,
   "metadata": {},
   "outputs": [],
   "source": [
    "del test['Unnamed: 0']\n",
    "del test['id']\n",
    "del test['idaviso']\n",
    "del test['idpostulante']\n"
   ]
  },
  {
   "cell_type": "code",
   "execution_count": 9,
   "metadata": {},
   "outputs": [],
   "source": [
    "datos.dropna(inplace=True)"
   ]
  },
  {
   "cell_type": "code",
   "execution_count": 10,
   "metadata": {},
   "outputs": [],
   "source": [
    "x = np.array(datos.ix[:,0:12])\n",
    "y = np.array(datos['sepostulo'])"
   ]
  },
  {
   "cell_type": "code",
   "execution_count": 12,
   "metadata": {},
   "outputs": [
    {
     "data": {
      "text/plain": [
       "RandomForestRegressor(bootstrap=True, criterion='mse', max_depth=20,\n",
       "           max_features='auto', max_leaf_nodes=None,\n",
       "           min_impurity_decrease=0.0, min_impurity_split=None,\n",
       "           min_samples_leaf=1, min_samples_split=2,\n",
       "           min_weight_fraction_leaf=0.0, n_estimators=10, n_jobs=1,\n",
       "           oob_score=False, random_state=None, verbose=0, warm_start=False)"
      ]
     },
     "execution_count": 12,
     "metadata": {},
     "output_type": "execute_result"
    }
   ],
   "source": [
    "model = RandomForestRegressor(criterion=\"mae\",max_depth=20)\n",
    "model.fit(x,y)"
   ]
  },
  {
   "cell_type": "code",
   "execution_count": 13,
   "metadata": {},
   "outputs": [
    {
     "name": "stdout",
     "output_type": "stream",
     "text": [
      "accuracy=31.70%\n"
     ]
    }
   ],
   "source": [
    "score = model.score(x, y)\n",
    "print(\"accuracy=%.2f%%\" % ( score * 100))\n"
   ]
  },
  {
   "cell_type": "code",
   "execution_count": 14,
   "metadata": {},
   "outputs": [],
   "source": [
    "from sklearn.metrics import accuracy_score"
   ]
  },
  {
   "cell_type": "code",
   "execution_count": 18,
   "metadata": {},
   "outputs": [],
   "source": [
    "test_data = np.array(test.ix[:,0:12])\n",
    "test_label = np.array(test['sepostulo'])\n",
    "\n",
    "predictions_test = model.predict(test_data)"
   ]
  },
  {
   "cell_type": "code",
   "execution_count": 19,
   "metadata": {},
   "outputs": [],
   "source": [
    "test2 = pd.read_csv('ArchivosDatos/test_set_1.csv')"
   ]
  },
  {
   "cell_type": "code",
   "execution_count": 20,
   "metadata": {},
   "outputs": [],
   "source": [
    "del test2['Unnamed: 0']"
   ]
  },
  {
   "cell_type": "code",
   "execution_count": 21,
   "metadata": {},
   "outputs": [],
   "source": [
    "del test2['idpostulante']\n",
    "del test2['idaviso']"
   ]
  },
  {
   "cell_type": "code",
   "execution_count": 39,
   "metadata": {},
   "outputs": [],
   "source": [
    "submit = test2.loc[:,['id','sepostulo']]"
   ]
  },
  {
   "cell_type": "code",
   "execution_count": 40,
   "metadata": {},
   "outputs": [],
   "source": [
    "submit = pd.DataFrame(submit)"
   ]
  },
  {
   "cell_type": "code",
   "execution_count": 46,
   "metadata": {},
   "outputs": [],
   "source": [
    "submit['sepostulo'] = pd.DataFrame({'sepostulo':predictions_test})"
   ]
  },
  {
   "cell_type": "code",
   "execution_count": 47,
   "metadata": {},
   "outputs": [
    {
     "name": "stdout",
     "output_type": "stream",
     "text": [
      "<class 'pandas.core.frame.DataFrame'>\n",
      "Int64Index: 100000 entries, 0 to 99999\n",
      "Data columns (total 2 columns):\n",
      "id           100000 non-null int64\n",
      "sepostulo    100000 non-null float64\n",
      "dtypes: float64(1), int64(1)\n",
      "memory usage: 2.3 MB\n"
     ]
    }
   ],
   "source": [
    "submit.info()"
   ]
  },
  {
   "cell_type": "code",
   "execution_count": 48,
   "metadata": {},
   "outputs": [],
   "source": [
    "submit.to_csv('Submits/submitFR.csv',index=False)\n",
    "##score en kaggle 0.52859 "
   ]
  },
  {
   "cell_type": "code",
   "execution_count": 49,
   "metadata": {},
   "outputs": [
    {
     "data": {
      "text/plain": [
       "sepostulo\n",
       "0.000000    3536\n",
       "0.000276       1\n",
       "0.000457       1\n",
       "0.000505      12\n",
       "0.000616       5\n",
       "0.000704       1\n",
       "0.000769       1\n",
       "0.000775       1\n",
       "0.000781       1\n",
       "0.000800       4\n",
       "0.000837       1\n",
       "0.000909       1\n",
       "0.000926       1\n",
       "0.000962       1\n",
       "0.000980       3\n",
       "0.001007      12\n",
       "0.001031       1\n",
       "0.001073       4\n",
       "0.001146       1\n",
       "0.001159       1\n",
       "0.001190       5\n",
       "0.001220       8\n",
       "0.001235       1\n",
       "0.001266       3\n",
       "0.001271       1\n",
       "0.001455       1\n",
       "0.001493       3\n",
       "0.001519       2\n",
       "0.001527       1\n",
       "0.001568       1\n",
       "            ... \n",
       "0.855676       1\n",
       "0.856003       1\n",
       "0.856618       1\n",
       "0.860317       4\n",
       "0.860468       1\n",
       "0.860495       1\n",
       "0.860962       1\n",
       "0.863963       1\n",
       "0.864295       1\n",
       "0.866533       1\n",
       "0.866950       1\n",
       "0.874118       1\n",
       "0.874938       1\n",
       "0.875678       4\n",
       "0.875879       1\n",
       "0.881034       1\n",
       "0.881266       1\n",
       "0.881866       2\n",
       "0.882049       1\n",
       "0.891647       1\n",
       "0.891660       1\n",
       "0.892951       1\n",
       "0.894397       1\n",
       "0.894725       1\n",
       "0.900000       1\n",
       "0.914963       1\n",
       "0.937650       1\n",
       "0.962069       1\n",
       "0.981127       3\n",
       "1.000000       1\n",
       "dtype: int64"
      ]
     },
     "execution_count": 49,
     "metadata": {},
     "output_type": "execute_result"
    }
   ],
   "source": [
    "submit.loc[:,['sepostulo']].groupby('sepostulo').size()"
   ]
  },
  {
   "cell_type": "code",
   "execution_count": 50,
   "metadata": {},
   "outputs": [],
   "source": [
    "##submit['sepostulo'] = submit['sepostulo'].apply(lambda x: 1-x)\n",
    "def aproximar(x):\n",
    "    m=0;\n",
    "    if(x>0.5):\n",
    "        m=1;\n",
    "    return m;"
   ]
  },
  {
   "cell_type": "code",
   "execution_count": 51,
   "metadata": {},
   "outputs": [],
   "source": [
    "submit['sepostulo']=submit['sepostulo'].apply(lambda x: aproximar(x))"
   ]
  },
  {
   "cell_type": "code",
   "execution_count": 53,
   "metadata": {},
   "outputs": [
    {
     "data": {
      "text/plain": [
       "sepostulo\n",
       "0    71523\n",
       "1    28477\n",
       "dtype: int64"
      ]
     },
     "execution_count": 53,
     "metadata": {},
     "output_type": "execute_result"
    }
   ],
   "source": [
    "submit.loc[:,['sepostulo']].groupby('sepostulo').size()\n"
   ]
  },
  {
   "cell_type": "code",
   "execution_count": 54,
   "metadata": {},
   "outputs": [],
   "source": [
    "submit.to_csv('Submits/submitFR2.csv',index=False)\n",
    "###score en kaggle 0.51377"
   ]
  },
  {
   "cell_type": "code",
   "execution_count": 56,
   "metadata": {},
   "outputs": [],
   "source": [
    "###Si ivertimos los resultados\n",
    "submit['sepostulo'] = submit['sepostulo'].apply(lambda x: 1-x)"
   ]
  },
  {
   "cell_type": "code",
   "execution_count": 57,
   "metadata": {},
   "outputs": [
    {
     "data": {
      "text/plain": [
       "sepostulo\n",
       "0    28477\n",
       "1    71523\n",
       "dtype: int64"
      ]
     },
     "execution_count": 57,
     "metadata": {},
     "output_type": "execute_result"
    }
   ],
   "source": [
    "submit.loc[:,['sepostulo']].groupby('sepostulo').size()"
   ]
  },
  {
   "cell_type": "code",
   "execution_count": 58,
   "metadata": {},
   "outputs": [],
   "source": [
    "submit.to_csv('Submits/submitFRI.csv',index=False)\n",
    "##score en kaggle 0.48622"
   ]
  },
  {
   "cell_type": "code",
   "execution_count": null,
   "metadata": {},
   "outputs": [],
   "source": []
  }
 ],
 "metadata": {
  "kernelspec": {
   "display_name": "Python 3",
   "language": "python",
   "name": "python3"
  },
  "language_info": {
   "codemirror_mode": {
    "name": "ipython",
    "version": 3
   },
   "file_extension": ".py",
   "mimetype": "text/x-python",
   "name": "python",
   "nbconvert_exporter": "python",
   "pygments_lexer": "ipython3",
   "version": "3.5.2"
  }
 },
 "nbformat": 4,
 "nbformat_minor": 2
}
