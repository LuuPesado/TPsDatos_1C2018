{
 "cells": [
  {
   "cell_type": "code",
   "execution_count": 1,
   "metadata": {},
   "outputs": [],
   "source": [
    "import pandas as pd\n",
    "import numpy as np\n",
    "from sklearn.neighbors import KNeighborsClassifier\n",
    "from sklearn.metrics import mean_squared_error\n",
    "from sklearn.metrics import classification_report"
   ]
  },
  {
   "cell_type": "code",
   "execution_count": 2,
   "metadata": {},
   "outputs": [],
   "source": [
    "test = pd.read_csv('ArchivosDatos/100k_as_ts15M.csv')\n",
    "datos = pd.read_csv('ArchivosDatos/set_nuevo.csv')"
   ]
  },
  {
   "cell_type": "code",
   "execution_count": 3,
   "metadata": {},
   "outputs": [],
   "source": [
    "del test['online']\n",
    "del test['mesnacimiento']\n",
    "del test['dianacimiento']\n",
    "del test['anionacimiento']"
   ]
  },
  {
   "cell_type": "code",
   "execution_count": 8,
   "metadata": {},
   "outputs": [
    {
     "name": "stdout",
     "output_type": "stream",
     "text": [
      "<class 'pandas.core.frame.DataFrame'>\n",
      "Int64Index: 13930871 entries, 0 to 13930870\n",
      "Data columns (total 10 columns):\n",
      "sepostulo          int64\n",
      "sexo               float64\n",
      "edad               int64\n",
      "nombre             int64\n",
      "estado             int64\n",
      "nombre-estado      int64\n",
      "nombre_zona        float64\n",
      "tipo_de_trabajo    float64\n",
      "nivel_laboral      float64\n",
      "nombre_area        float64\n",
      "dtypes: float64(5), int64(5)\n",
      "memory usage: 1.1 GB\n"
     ]
    }
   ],
   "source": [
    "datos.info()"
   ]
  },
  {
   "cell_type": "code",
   "execution_count": 6,
   "metadata": {},
   "outputs": [],
   "source": [
    "submit = test.loc[:,['id','sepostulo']]\n",
    "submit = pd.DataFrame(submit)\n",
    "del datos['idaviso']\n",
    "del datos['idpostulante']\n",
    "del test['id']\n",
    "del test['idaviso']\n",
    "del test['idpostulante']"
   ]
  },
  {
   "cell_type": "code",
   "execution_count": 7,
   "metadata": {},
   "outputs": [
    {
     "name": "stdout",
     "output_type": "stream",
     "text": [
      "<class 'pandas.core.frame.DataFrame'>\n",
      "Int64Index: 100000 entries, 0 to 99999\n",
      "Data columns (total 9 columns):\n",
      "nombre_zona        100000 non-null int64\n",
      "tipo_de_trabajo    100000 non-null int64\n",
      "nivel_laboral      100000 non-null int64\n",
      "nombre_area        100000 non-null int64\n",
      "sexo               100000 non-null float64\n",
      "edad               100000 non-null int64\n",
      "nombre             100000 non-null int64\n",
      "estado             100000 non-null int64\n",
      "nombre-estado      100000 non-null int64\n",
      "dtypes: float64(1), int64(8)\n",
      "memory usage: 7.6 MB\n"
     ]
    }
   ],
   "source": [
    "test.info()"
   ]
  },
  {
   "cell_type": "code",
   "execution_count": 9,
   "metadata": {},
   "outputs": [],
   "source": [
    "x = np.array(datos.ix[:,1:9])\n",
    "y = np.array(datos['sepostulo'])\n",
    "z = np.array(test.ix[:,0:8])"
   ]
  },
  {
   "cell_type": "code",
   "execution_count": null,
   "metadata": {},
   "outputs": [],
   "source": [
    "k = [1,41,71,100]\n",
    "for i in k:\n",
    "    model = KNeighborsClassifier(n_neighbors=i)\n",
    "    model.fit(x, y)\n",
    "\n",
    "    score = model.score(x, y)\n",
    "    print(\"k=%d, score=%.2f%%\" % (k, score * 100))"
   ]
  },
  {
   "cell_type": "code",
   "execution_count": null,
   "metadata": {},
   "outputs": [],
   "source": []
  }
 ],
 "metadata": {
  "kernelspec": {
   "display_name": "Python 3",
   "language": "python",
   "name": "python3"
  },
  "language_info": {
   "codemirror_mode": {
    "name": "ipython",
    "version": 3
   },
   "file_extension": ".py",
   "mimetype": "text/x-python",
   "name": "python",
   "nbconvert_exporter": "python",
   "pygments_lexer": "ipython3",
   "version": "3.5.2"
  }
 },
 "nbformat": 4,
 "nbformat_minor": 2
}
