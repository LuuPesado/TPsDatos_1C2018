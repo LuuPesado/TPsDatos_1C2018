{
 "cells": [
  {
   "cell_type": "code",
   "execution_count": 1,
   "metadata": {},
   "outputs": [],
   "source": [
    "import pandas as pd\n",
    "import numpy as np\n",
    "from sklearn.ensemble import RandomForestClassifier"
   ]
  },
  {
   "cell_type": "code",
   "execution_count": 2,
   "metadata": {},
   "outputs": [],
   "source": [
    "test = pd.read_csv('ArchivosDatos/100k_as_ts15M.csv')\n",
    "datos = pd.read_csv('ArchivosDatos/set_nuevo.csv')"
   ]
  },
  {
   "cell_type": "code",
   "execution_count": 3,
   "metadata": {},
   "outputs": [],
   "source": [
    "del test['online']\n",
    "del test['mesnacimiento']\n",
    "del test['dianacimiento']\n",
    "del test['anionacimiento']"
   ]
  },
  {
   "cell_type": "code",
   "execution_count": 4,
   "metadata": {},
   "outputs": [],
   "source": [
    "submit = test.loc[:,['id','sepostulo']]\n",
    "submit = pd.DataFrame(submit)\n",
    "del datos['idaviso']\n",
    "del datos['idpostulante']\n",
    "del test['id']\n",
    "del test['idaviso']\n",
    "del test['idpostulante']"
   ]
  },
  {
   "cell_type": "code",
   "execution_count": 5,
   "metadata": {},
   "outputs": [],
   "source": [
    "x = np.array(datos.ix[:,1:9])\n",
    "y = np.array(datos['sepostulo'])\n",
    "z = np.array(test.ix[:,0:8])"
   ]
  },
  {
   "cell_type": "code",
   "execution_count": 6,
   "metadata": {},
   "outputs": [
    {
     "name": "stdout",
     "output_type": "stream",
     "text": [
      "Score: =60.26%\n"
     ]
    }
   ],
   "source": [
    "model = RandomForestClassifier(criterion=\"entropy\")\n",
    "model.fit(x,y)\n",
    "score = model.score(x,y)\n",
    "print(\"Score: =%.2f%%\" % (score*100))"
   ]
  },
  {
   "cell_type": "code",
   "execution_count": null,
   "metadata": {},
   "outputs": [],
   "source": [
    "##Es el mismo resultado que se obtuvo con el set de datos reducido"
   ]
  }
 ],
 "metadata": {
  "kernelspec": {
   "display_name": "Python 3",
   "language": "python",
   "name": "python3"
  },
  "language_info": {
   "codemirror_mode": {
    "name": "ipython",
    "version": 3
   },
   "file_extension": ".py",
   "mimetype": "text/x-python",
   "name": "python",
   "nbconvert_exporter": "python",
   "pygments_lexer": "ipython3",
   "version": "3.5.2"
  }
 },
 "nbformat": 4,
 "nbformat_minor": 2
}
