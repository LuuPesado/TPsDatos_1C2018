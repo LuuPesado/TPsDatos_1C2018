{
 "cells": [
  {
   "cell_type": "code",
   "execution_count": 1,
   "metadata": {},
   "outputs": [],
   "source": [
    "import pandas as pd\n",
    "import numpy as np\n",
    "from sklearn.neighbors import KNeighborsClassifier\n",
    "from sklearn.metrics import mean_squared_error\n",
    "from sklearn.metrics import classification_report"
   ]
  },
  {
   "cell_type": "code",
   "execution_count": 2,
   "metadata": {},
   "outputs": [],
   "source": [
    "datos = pd.read_csv('ArchivosDatos/Training_set_4.csv')"
   ]
  },
  {
   "cell_type": "code",
   "execution_count": 3,
   "metadata": {},
   "outputs": [],
   "source": [
    "datos = datos.sample(800000)"
   ]
  },
  {
   "cell_type": "code",
   "execution_count": 3,
   "metadata": {},
   "outputs": [],
   "source": [
    "datos.dropna(inplace=True)"
   ]
  },
  {
   "cell_type": "code",
   "execution_count": 5,
   "metadata": {},
   "outputs": [
    {
     "name": "stdout",
     "output_type": "stream",
     "text": [
      "<class 'pandas.core.frame.DataFrame'>\n",
      "Int64Index: 731193 entries, 2704654 to 611050\n",
      "Data columns (total 14 columns):\n",
      "Unnamed: 0         731193 non-null int64\n",
      "ida                731193 non-null int64\n",
      "idp                731193 non-null float64\n",
      "nombre_zona        731193 non-null float64\n",
      "tipo_de_trabajo    731193 non-null float64\n",
      "nivel_laboral      731193 non-null float64\n",
      "nombre_area        731193 non-null float64\n",
      "online             731193 non-null float64\n",
      "sexo               731193 non-null float64\n",
      "edad               731193 non-null float64\n",
      "nombre             731193 non-null float64\n",
      "estado             731193 non-null float64\n",
      "nombre-estado      731193 non-null float64\n",
      "sepostulo          731193 non-null int64\n",
      "dtypes: float64(11), int64(3)\n",
      "memory usage: 83.7 MB\n"
     ]
    }
   ],
   "source": [
    "datos.info()"
   ]
  },
  {
   "cell_type": "code",
   "execution_count": 4,
   "metadata": {},
   "outputs": [],
   "source": [
    "del datos['Unnamed: 0']"
   ]
  },
  {
   "cell_type": "code",
   "execution_count": 5,
   "metadata": {},
   "outputs": [],
   "source": [
    "test = pd.read_csv('ArchivosDatos/test_set_1.csv')"
   ]
  },
  {
   "cell_type": "code",
   "execution_count": 8,
   "metadata": {},
   "outputs": [
    {
     "name": "stdout",
     "output_type": "stream",
     "text": [
      "<class 'pandas.core.frame.DataFrame'>\n",
      "Int64Index: 100000 entries, 0 to 99999\n",
      "Data columns (total 17 columns):\n",
      "Unnamed: 0         100000 non-null int64\n",
      "id                 100000 non-null int64\n",
      "idaviso            100000 non-null int64\n",
      "idpostulante       100000 non-null object\n",
      "ida                100000 non-null int64\n",
      "idp                100000 non-null float64\n",
      "nombre_zona        100000 non-null float64\n",
      "tipo_de_trabajo    100000 non-null float64\n",
      "nivel_laboral      100000 non-null float64\n",
      "nombre_area        100000 non-null float64\n",
      "online             100000 non-null float64\n",
      "sexo               100000 non-null float64\n",
      "edad               100000 non-null float64\n",
      "nombre             100000 non-null float64\n",
      "estado             100000 non-null float64\n",
      "nombre-estado      100000 non-null float64\n",
      "sepostulo          100000 non-null int64\n",
      "dtypes: float64(11), int64(5), object(1)\n",
      "memory usage: 13.7+ MB\n"
     ]
    }
   ],
   "source": [
    "test.info()"
   ]
  },
  {
   "cell_type": "code",
   "execution_count": 6,
   "metadata": {},
   "outputs": [],
   "source": [
    "del test['Unnamed: 0']"
   ]
  },
  {
   "cell_type": "code",
   "execution_count": 7,
   "metadata": {},
   "outputs": [],
   "source": [
    "idt = test['id']\n",
    "del test['id']\n",
    "del test['idaviso']\n",
    "del test['idpostulante']"
   ]
  },
  {
   "cell_type": "code",
   "execution_count": 8,
   "metadata": {},
   "outputs": [],
   "source": [
    "x = np.array(datos.ix[:,0:12])\n",
    "y = np.array(datos['sepostulo'])"
   ]
  },
  {
   "cell_type": "code",
   "execution_count": 11,
   "metadata": {},
   "outputs": [
    {
     "name": "stdout",
     "output_type": "stream",
     "text": [
      "k=41, accuracy=61.56%\n"
     ]
    }
   ],
   "source": [
    "k = 41\n",
    "accuracies = []\n",
    "    #Inicializacion del modelo\n",
    "model = KNeighborsClassifier(n_neighbors=k)\n",
    "model.fit(x, y)\n",
    "\n",
    "score = model.score(x, y)\n",
    "print(\"k=%d, accuracy=%.2f%%\" % (k, score * 100))\n",
    "accuracies.append(score)"
   ]
  },
  {
   "cell_type": "markdown",
   "metadata": {},
   "source": [
    "Como se puede observar el accurancy aumentó con mas datos "
   ]
  },
  {
   "cell_type": "code",
   "execution_count": 13,
   "metadata": {},
   "outputs": [],
   "source": [
    "z = np.array(test.ix[:,0:12])"
   ]
  },
  {
   "cell_type": "code",
   "execution_count": 20,
   "metadata": {},
   "outputs": [],
   "source": [
    "predictions = model.predict(z)"
   ]
  },
  {
   "cell_type": "code",
   "execution_count": 21,
   "metadata": {},
   "outputs": [
    {
     "name": "stdout",
     "output_type": "stream",
     "text": [
      "<class 'pandas.core.frame.DataFrame'>\n",
      "Index: 100001 entries, 0 to sepostulo\n",
      "Data columns (total 2 columns):\n",
      "id           100001 non-null object\n",
      "sepostulo    100000 non-null float64\n",
      "dtypes: float64(1), object(1)\n",
      "memory usage: 2.3+ MB\n"
     ]
    }
   ],
   "source": [
    "submit['id'] = idt\n",
    "submit['sepostulo'] = pd.DataFrame({'sepostulo':predictions})\n",
    "submit.info()"
   ]
  },
  {
   "cell_type": "code",
   "execution_count": 24,
   "metadata": {},
   "outputs": [],
   "source": [
    "idt = idt.head(100000)\n"
   ]
  },
  {
   "cell_type": "code",
   "execution_count": 25,
   "metadata": {},
   "outputs": [
    {
     "name": "stdout",
     "output_type": "stream",
     "text": [
      "<class 'pandas.core.frame.DataFrame'>\n",
      "Index: 100000 entries, 0 to 99999\n",
      "Data columns (total 2 columns):\n",
      "id           100000 non-null object\n",
      "sepostulo    100000 non-null float64\n",
      "dtypes: float64(1), object(1)\n",
      "memory usage: 2.3+ MB\n"
     ]
    }
   ],
   "source": [
    "submit = submit.head(100000)\n",
    "submit.info()"
   ]
  },
  {
   "cell_type": "code",
   "execution_count": 26,
   "metadata": {},
   "outputs": [],
   "source": [
    "submit['sepostulo'] = submit['sepostulo'].apply(lambda x: int(x))\n"
   ]
  },
  {
   "cell_type": "code",
   "execution_count": 27,
   "metadata": {},
   "outputs": [
    {
     "name": "stdout",
     "output_type": "stream",
     "text": [
      "<class 'pandas.core.frame.DataFrame'>\n",
      "Index: 100000 entries, 0 to 99999\n",
      "Data columns (total 2 columns):\n",
      "id           100000 non-null object\n",
      "sepostulo    100000 non-null int64\n",
      "dtypes: int64(1), object(1)\n",
      "memory usage: 2.3+ MB\n"
     ]
    }
   ],
   "source": [
    "submit.info()"
   ]
  },
  {
   "cell_type": "code",
   "execution_count": 29,
   "metadata": {},
   "outputs": [],
   "source": [
    "submit.to_csv('Submits_KNN/submitKNN3.csv', index=False)"
   ]
  },
  {
   "cell_type": "code",
   "execution_count": null,
   "metadata": {},
   "outputs": [],
   "source": []
  },
  {
   "cell_type": "code",
   "execution_count": 30,
   "metadata": {},
   "outputs": [
    {
     "name": "stdout",
     "output_type": "stream",
     "text": [
      "k=21, accuracy=61.56%\n"
     ]
    }
   ],
   "source": [
    "k = 21\n",
    "accuracies = []\n",
    "    #Inicializacion del modelo\n",
    "model_2 = KNeighborsClassifier(n_neighbors=k)\n",
    "model_2.fit(x, y)\n",
    "\n",
    "score = model.score(x, y)\n",
    "print(\"k=%d, accuracy=%.2f%%\" % (k, score * 100))\n",
    "accuracies.append(score)"
   ]
  },
  {
   "cell_type": "code",
   "execution_count": 31,
   "metadata": {},
   "outputs": [],
   "source": [
    "predictions = model_2.predict(z)"
   ]
  },
  {
   "cell_type": "markdown",
   "metadata": {},
   "source": [
    "Tiene la misma precision que k=41 "
   ]
  },
  {
   "cell_type": "code",
   "execution_count": 32,
   "metadata": {},
   "outputs": [],
   "source": [
    "submit['sepostulo'] = predictions"
   ]
  },
  {
   "cell_type": "code",
   "execution_count": 34,
   "metadata": {},
   "outputs": [],
   "source": [
    "submit.to_csv('Submits_KNN/submitknn4.csv',index=False)"
   ]
  },
  {
   "cell_type": "markdown",
   "metadata": {},
   "source": [
    "Del submit hecho en kaggle demuestra que el que da mejor resultado es el modelo con K=41"
   ]
  },
  {
   "cell_type": "code",
   "execution_count": 35,
   "metadata": {},
   "outputs": [],
   "source": [
    "datos = pd.read_csv('ArchivosDatos/Training_set_4.csv')"
   ]
  },
  {
   "cell_type": "markdown",
   "metadata": {},
   "source": [
    "Probaremos con todos los datos y con k=41"
   ]
  },
  {
   "cell_type": "code",
   "execution_count": 37,
   "metadata": {},
   "outputs": [],
   "source": [
    "datos.dropna(inplace=True)"
   ]
  },
  {
   "cell_type": "code",
   "execution_count": 38,
   "metadata": {},
   "outputs": [
    {
     "name": "stdout",
     "output_type": "stream",
     "text": [
      "<class 'pandas.core.frame.DataFrame'>\n",
      "Int64Index: 13627970 entries, 0 to 14915015\n",
      "Data columns (total 14 columns):\n",
      "Unnamed: 0         int64\n",
      "ida                int64\n",
      "idp                float64\n",
      "nombre_zona        float64\n",
      "tipo_de_trabajo    float64\n",
      "nivel_laboral      float64\n",
      "nombre_area        float64\n",
      "online             float64\n",
      "sexo               float64\n",
      "edad               float64\n",
      "nombre             float64\n",
      "estado             float64\n",
      "nombre-estado      float64\n",
      "sepostulo          int64\n",
      "dtypes: float64(11), int64(3)\n",
      "memory usage: 1.5 GB\n"
     ]
    }
   ],
   "source": [
    "datos.info()"
   ]
  },
  {
   "cell_type": "code",
   "execution_count": 39,
   "metadata": {},
   "outputs": [],
   "source": [
    "del datos['Unnamed: 0']"
   ]
  },
  {
   "cell_type": "code",
   "execution_count": 40,
   "metadata": {},
   "outputs": [],
   "source": [
    "x = np.array(datos.ix[:,0:12])\n",
    "y = np.array(datos['sepostulo'])"
   ]
  },
  {
   "cell_type": "code",
   "execution_count": null,
   "metadata": {},
   "outputs": [],
   "source": [
    "k = 41\n",
    "    #Inicializacion del modelo\n",
    "model = KNeighborsClassifier(n_neighbors=k)\n",
    "model.fit(x, y)\n",
    "\n",
    "score = model.score(x, y)\n",
    "print(\"k=%d, accuracy=%.2f%%\" % (k, score * 100))"
   ]
  },
  {
   "cell_type": "code",
   "execution_count": null,
   "metadata": {},
   "outputs": [],
   "source": [
    "predictions = model.predict(z)\n",
    "submit['sepostulo'] = predictions\n",
    "submit.to_csv('Submits_KNN/submitknn5.csv')"
   ]
  }
 ],
 "metadata": {
  "kernelspec": {
   "display_name": "Python 3",
   "language": "python",
   "name": "python3"
  },
  "language_info": {
   "codemirror_mode": {
    "name": "ipython",
    "version": 3
   },
   "file_extension": ".py",
   "mimetype": "text/x-python",
   "name": "python",
   "nbconvert_exporter": "python",
   "pygments_lexer": "ipython3",
   "version": "3.5.2"
  }
 },
 "nbformat": 4,
 "nbformat_minor": 2
}
