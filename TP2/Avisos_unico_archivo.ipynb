{
 "cells": [
  {
   "cell_type": "code",
   "execution_count": 15,
   "metadata": {
    "collapsed": true
   },
   "outputs": [],
   "source": [
    "import datetime as dt\n",
    "import pandas as pd\n",
    "import numpy as np"
   ]
  },
  {
   "cell_type": "code",
   "execution_count": 16,
   "metadata": {
    "collapsed": true
   },
   "outputs": [],
   "source": [
    "detalle = pd.read_csv('/home/luupesado/7506_Datos/2018/datos_tp/joins/avisos_detalle.csv')\n",
    "online = pd.read_csv('/home/luupesado/7506_Datos/2018/datos_tp/joins/avisos_online.csv')"
   ]
  },
  {
   "cell_type": "markdown",
   "metadata": {},
   "source": [
    "Limpiamos el set de tados detalle"
   ]
  },
  {
   "cell_type": "code",
   "execution_count": 19,
   "metadata": {},
   "outputs": [
    {
     "name": "stdout",
     "output_type": "stream",
     "text": [
      "<class 'pandas.core.frame.DataFrame'>\n",
      "RangeIndex: 31833 entries, 0 to 31832\n",
      "Data columns (total 12 columns):\n",
      "Unnamed: 0              31833 non-null int64\n",
      "idaviso                 31833 non-null int64\n",
      "idpais                  31833 non-null int64\n",
      "titulo                  31833 non-null object\n",
      "descripcion             31833 non-null object\n",
      "nombre_zona             31833 non-null object\n",
      "ciudad                  111 non-null object\n",
      "mapacalle               2154 non-null object\n",
      "tipo_de_trabajo         31833 non-null object\n",
      "nivel_laboral           31833 non-null object\n",
      "nombre_area             31833 non-null object\n",
      "denominacion_empresa    31822 non-null object\n",
      "dtypes: int64(3), object(9)\n",
      "memory usage: 2.9+ MB\n"
     ]
    }
   ],
   "source": [
    "detalle.info()"
   ]
  },
  {
   "cell_type": "code",
   "execution_count": 20,
   "metadata": {
    "collapsed": true
   },
   "outputs": [],
   "source": [
    "del detalle['Unnamed: 0']\n",
    "del detalle['ciudad']\n",
    "del detalle['mapacalle']"
   ]
  },
  {
   "cell_type": "code",
   "execution_count": 21,
   "metadata": {
    "collapsed": true
   },
   "outputs": [],
   "source": [
    "detalle = detalle.dropna(axis = 0, subset = ['denominacion_empresa'], how = 'any')"
   ]
  },
  {
   "cell_type": "code",
   "execution_count": 35,
   "metadata": {
    "collapsed": true
   },
   "outputs": [],
   "source": [
    "del detalle['idpais']"
   ]
  },
  {
   "cell_type": "code",
   "execution_count": 40,
   "metadata": {},
   "outputs": [],
   "source": [
    "detalle = detalle.drop_duplicates(subset = 'idaviso')"
   ]
  },
  {
   "cell_type": "code",
   "execution_count": 41,
   "metadata": {},
   "outputs": [
    {
     "data": {
      "text/plain": [
       "1112270059    1\n",
       "1112257171    1\n",
       "1112343189    1\n",
       "1112349334    1\n",
       "1112463152    1\n",
       "1112369816    1\n",
       "1112403199    1\n",
       "1112427164    1\n",
       "1112460712    1\n",
       "1112287904    1\n",
       "1112285857    1\n",
       "1111526052    1\n",
       "1112414886    1\n",
       "1112150695    1\n",
       "1112454852    1\n",
       "1112341708    1\n",
       "1002490173    1\n",
       "1112214164    1\n",
       "1112363663    1\n",
       "1112263340    1\n",
       "1112464014    1\n",
       "1112226418    1\n",
       "1112410740    1\n",
       "1112458130    1\n",
       "1112264745    1\n",
       "1112315062    1\n",
       "1112394364    1\n",
       "1112386700    1\n",
       "1112267390    1\n",
       "1112363647    1\n",
       "             ..\n",
       "1112399831    1\n",
       "1112212842    1\n",
       "1112257900    1\n",
       "1112253806    1\n",
       "1112464753    1\n",
       "1112425842    1\n",
       "1112309109    1\n",
       "1112368502    1\n",
       "1112402610    1\n",
       "1112278394    1\n",
       "1112403375    1\n",
       "1112378715    1\n",
       "1112350041    1\n",
       "1112203179    1\n",
       "1112376650    1\n",
       "1112393026    1\n",
       "1112460611    1\n",
       "1112171846    1\n",
       "1112468269    1\n",
       "1112282440    1\n",
       "1112350025    1\n",
       "1112323404    1\n",
       "1002530245    1\n",
       "1112286542    1\n",
       "1112463274    1\n",
       "1112260785    1\n",
       "1112341318    1\n",
       "1112427859    1\n",
       "1112102055    1\n",
       "1112342528    1\n",
       "Name: idaviso, Length: 19352, dtype: int64"
      ]
     },
     "execution_count": 41,
     "metadata": {},
     "output_type": "execute_result"
    }
   ],
   "source": [
    "detalle['idaviso'].value_counts()"
   ]
  },
  {
   "cell_type": "code",
   "execution_count": 42,
   "metadata": {},
   "outputs": [
    {
     "name": "stdout",
     "output_type": "stream",
     "text": [
      "<class 'pandas.core.frame.DataFrame'>\n",
      "Int64Index: 19352 entries, 0 to 30960\n",
      "Data columns (total 8 columns):\n",
      "idaviso                 19352 non-null int64\n",
      "titulo                  19352 non-null object\n",
      "descripcion             19352 non-null object\n",
      "nombre_zona             19352 non-null object\n",
      "tipo_de_trabajo         19352 non-null object\n",
      "nivel_laboral           19352 non-null object\n",
      "nombre_area             19352 non-null object\n",
      "denominacion_empresa    19352 non-null object\n",
      "dtypes: int64(1), object(7)\n",
      "memory usage: 1.3+ MB\n"
     ]
    }
   ],
   "source": [
    "detalle.info()"
   ]
  },
  {
   "cell_type": "code",
   "execution_count": 43,
   "metadata": {},
   "outputs": [
    {
     "name": "stdout",
     "output_type": "stream",
     "text": [
      "<class 'pandas.core.frame.DataFrame'>\n",
      "RangeIndex: 9886 entries, 0 to 9885\n",
      "Data columns (total 2 columns):\n",
      "idaviso    9886 non-null int64\n",
      "online     9886 non-null int64\n",
      "dtypes: int64(2)\n",
      "memory usage: 154.5 KB\n"
     ]
    }
   ],
   "source": [
    "online.info()"
   ]
  },
  {
   "cell_type": "code",
   "execution_count": 44,
   "metadata": {},
   "outputs": [
    {
     "ename": "KeyError",
     "evalue": "'Unnamed: 0'",
     "output_type": "error",
     "traceback": [
      "\u001b[0;31m---------------------------------------------------------------------------\u001b[0m",
      "\u001b[0;31mKeyError\u001b[0m                                  Traceback (most recent call last)",
      "\u001b[0;32m<ipython-input-44-7cb7ae9e9b08>\u001b[0m in \u001b[0;36m<module>\u001b[0;34m()\u001b[0m\n\u001b[0;32m----> 1\u001b[0;31m \u001b[0;32mdel\u001b[0m \u001b[0monline\u001b[0m\u001b[0;34m[\u001b[0m\u001b[0;34m'Unnamed: 0'\u001b[0m\u001b[0;34m]\u001b[0m\u001b[0;34m\u001b[0m\u001b[0m\n\u001b[0m\u001b[1;32m      2\u001b[0m \u001b[0monline\u001b[0m\u001b[0;34m[\u001b[0m\u001b[0;34m'online'\u001b[0m\u001b[0;34m]\u001b[0m \u001b[0;34m=\u001b[0m \u001b[0;36m1\u001b[0m\u001b[0;34m\u001b[0m\u001b[0m\n",
      "\u001b[0;32m/usr/local/lib/python2.7/dist-packages/pandas/core/generic.pyc\u001b[0m in \u001b[0;36m__delitem__\u001b[0;34m(self, key)\u001b[0m\n\u001b[1;32m   1899\u001b[0m             \u001b[0;31m# there was no match, this call should raise the appropriate\u001b[0m\u001b[0;34m\u001b[0m\u001b[0;34m\u001b[0m\u001b[0m\n\u001b[1;32m   1900\u001b[0m             \u001b[0;31m# exception:\u001b[0m\u001b[0;34m\u001b[0m\u001b[0;34m\u001b[0m\u001b[0m\n\u001b[0;32m-> 1901\u001b[0;31m             \u001b[0mself\u001b[0m\u001b[0;34m.\u001b[0m\u001b[0m_data\u001b[0m\u001b[0;34m.\u001b[0m\u001b[0mdelete\u001b[0m\u001b[0;34m(\u001b[0m\u001b[0mkey\u001b[0m\u001b[0;34m)\u001b[0m\u001b[0;34m\u001b[0m\u001b[0m\n\u001b[0m\u001b[1;32m   1902\u001b[0m \u001b[0;34m\u001b[0m\u001b[0m\n\u001b[1;32m   1903\u001b[0m         \u001b[0;31m# delete from the caches\u001b[0m\u001b[0;34m\u001b[0m\u001b[0;34m\u001b[0m\u001b[0m\n",
      "\u001b[0;32m/usr/local/lib/python2.7/dist-packages/pandas/core/internals.pyc\u001b[0m in \u001b[0;36mdelete\u001b[0;34m(self, item)\u001b[0m\n\u001b[1;32m   3647\u001b[0m         \u001b[0mDelete\u001b[0m \u001b[0mselected\u001b[0m \u001b[0mitem\u001b[0m \u001b[0;34m(\u001b[0m\u001b[0mitems\u001b[0m \u001b[0;32mif\u001b[0m \u001b[0mnon\u001b[0m\u001b[0;34m-\u001b[0m\u001b[0munique\u001b[0m\u001b[0;34m)\u001b[0m \u001b[0;32min\u001b[0m\u001b[0;34m-\u001b[0m\u001b[0mplace\u001b[0m\u001b[0;34m.\u001b[0m\u001b[0;34m\u001b[0m\u001b[0m\n\u001b[1;32m   3648\u001b[0m         \"\"\"\n\u001b[0;32m-> 3649\u001b[0;31m         \u001b[0mindexer\u001b[0m \u001b[0;34m=\u001b[0m \u001b[0mself\u001b[0m\u001b[0;34m.\u001b[0m\u001b[0mitems\u001b[0m\u001b[0;34m.\u001b[0m\u001b[0mget_loc\u001b[0m\u001b[0;34m(\u001b[0m\u001b[0mitem\u001b[0m\u001b[0;34m)\u001b[0m\u001b[0;34m\u001b[0m\u001b[0m\n\u001b[0m\u001b[1;32m   3650\u001b[0m \u001b[0;34m\u001b[0m\u001b[0m\n\u001b[1;32m   3651\u001b[0m         \u001b[0mis_deleted\u001b[0m \u001b[0;34m=\u001b[0m \u001b[0mnp\u001b[0m\u001b[0;34m.\u001b[0m\u001b[0mzeros\u001b[0m\u001b[0;34m(\u001b[0m\u001b[0mself\u001b[0m\u001b[0;34m.\u001b[0m\u001b[0mshape\u001b[0m\u001b[0;34m[\u001b[0m\u001b[0;36m0\u001b[0m\u001b[0;34m]\u001b[0m\u001b[0;34m,\u001b[0m \u001b[0mdtype\u001b[0m\u001b[0;34m=\u001b[0m\u001b[0mnp\u001b[0m\u001b[0;34m.\u001b[0m\u001b[0mbool_\u001b[0m\u001b[0;34m)\u001b[0m\u001b[0;34m\u001b[0m\u001b[0m\n",
      "\u001b[0;32m/usr/local/lib/python2.7/dist-packages/pandas/core/indexes/base.pyc\u001b[0m in \u001b[0;36mget_loc\u001b[0;34m(self, key, method, tolerance)\u001b[0m\n\u001b[1;32m   2442\u001b[0m                 \u001b[0;32mreturn\u001b[0m \u001b[0mself\u001b[0m\u001b[0;34m.\u001b[0m\u001b[0m_engine\u001b[0m\u001b[0;34m.\u001b[0m\u001b[0mget_loc\u001b[0m\u001b[0;34m(\u001b[0m\u001b[0mkey\u001b[0m\u001b[0;34m)\u001b[0m\u001b[0;34m\u001b[0m\u001b[0m\n\u001b[1;32m   2443\u001b[0m             \u001b[0;32mexcept\u001b[0m \u001b[0mKeyError\u001b[0m\u001b[0;34m:\u001b[0m\u001b[0;34m\u001b[0m\u001b[0m\n\u001b[0;32m-> 2444\u001b[0;31m                 \u001b[0;32mreturn\u001b[0m \u001b[0mself\u001b[0m\u001b[0;34m.\u001b[0m\u001b[0m_engine\u001b[0m\u001b[0;34m.\u001b[0m\u001b[0mget_loc\u001b[0m\u001b[0;34m(\u001b[0m\u001b[0mself\u001b[0m\u001b[0;34m.\u001b[0m\u001b[0m_maybe_cast_indexer\u001b[0m\u001b[0;34m(\u001b[0m\u001b[0mkey\u001b[0m\u001b[0;34m)\u001b[0m\u001b[0;34m)\u001b[0m\u001b[0;34m\u001b[0m\u001b[0m\n\u001b[0m\u001b[1;32m   2445\u001b[0m \u001b[0;34m\u001b[0m\u001b[0m\n\u001b[1;32m   2446\u001b[0m         \u001b[0mindexer\u001b[0m \u001b[0;34m=\u001b[0m \u001b[0mself\u001b[0m\u001b[0;34m.\u001b[0m\u001b[0mget_indexer\u001b[0m\u001b[0;34m(\u001b[0m\u001b[0;34m[\u001b[0m\u001b[0mkey\u001b[0m\u001b[0;34m]\u001b[0m\u001b[0;34m,\u001b[0m \u001b[0mmethod\u001b[0m\u001b[0;34m=\u001b[0m\u001b[0mmethod\u001b[0m\u001b[0;34m,\u001b[0m \u001b[0mtolerance\u001b[0m\u001b[0;34m=\u001b[0m\u001b[0mtolerance\u001b[0m\u001b[0;34m)\u001b[0m\u001b[0;34m\u001b[0m\u001b[0m\n",
      "\u001b[0;32mpandas/_libs/index.pyx\u001b[0m in \u001b[0;36mpandas._libs.index.IndexEngine.get_loc (pandas/_libs/index.c:5280)\u001b[0;34m()\u001b[0m\n",
      "\u001b[0;32mpandas/_libs/index.pyx\u001b[0m in \u001b[0;36mpandas._libs.index.IndexEngine.get_loc (pandas/_libs/index.c:5126)\u001b[0;34m()\u001b[0m\n",
      "\u001b[0;32mpandas/_libs/hashtable_class_helper.pxi\u001b[0m in \u001b[0;36mpandas._libs.hashtable.PyObjectHashTable.get_item (pandas/_libs/hashtable.c:20523)\u001b[0;34m()\u001b[0m\n",
      "\u001b[0;32mpandas/_libs/hashtable_class_helper.pxi\u001b[0m in \u001b[0;36mpandas._libs.hashtable.PyObjectHashTable.get_item (pandas/_libs/hashtable.c:20477)\u001b[0;34m()\u001b[0m\n",
      "\u001b[0;31mKeyError\u001b[0m: 'Unnamed: 0'"
     ]
    }
   ],
   "source": [
    "del online['Unnamed: 0']\n",
    "online['online'] = 1"
   ]
  },
  {
   "cell_type": "code",
   "execution_count": 46,
   "metadata": {},
   "outputs": [
    {
     "name": "stdout",
     "output_type": "stream",
     "text": [
      "<class 'pandas.core.frame.DataFrame'>\n",
      "RangeIndex: 9886 entries, 0 to 9885\n",
      "Data columns (total 2 columns):\n",
      "idaviso    9886 non-null int64\n",
      "online     9886 non-null int64\n",
      "dtypes: int64(2)\n",
      "memory usage: 154.5 KB\n"
     ]
    }
   ],
   "source": [
    "online.info()"
   ]
  },
  {
   "cell_type": "code",
   "execution_count": 52,
   "metadata": {
    "collapsed": true
   },
   "outputs": [],
   "source": [
    "avisos = pd.merge(detalle, online, on='idaviso', how='left')"
   ]
  },
  {
   "cell_type": "code",
   "execution_count": 53,
   "metadata": {},
   "outputs": [],
   "source": [
    "avisos['online'] = avisos['online'].fillna(0)"
   ]
  },
  {
   "cell_type": "code",
   "execution_count": 55,
   "metadata": {
    "collapsed": true
   },
   "outputs": [],
   "source": [
    "avisos.to_csv('/home/luupesado/7506_Datos/2018/TPsDatos_1C2018/TP2/Archivos_a_usar/avisos')"
   ]
  },
  {
   "cell_type": "code",
   "execution_count": 54,
   "metadata": {},
   "outputs": [
    {
     "name": "stdout",
     "output_type": "stream",
     "text": [
      "<class 'pandas.core.frame.DataFrame'>\n",
      "Int64Index: 19778 entries, 0 to 19777\n",
      "Data columns (total 9 columns):\n",
      "idaviso                 19778 non-null int64\n",
      "titulo                  19778 non-null object\n",
      "descripcion             19778 non-null object\n",
      "nombre_zona             19778 non-null object\n",
      "tipo_de_trabajo         19778 non-null object\n",
      "nivel_laboral           19778 non-null object\n",
      "nombre_area             19778 non-null object\n",
      "denominacion_empresa    19778 non-null object\n",
      "online                  19778 non-null float64\n",
      "dtypes: float64(1), int64(1), object(7)\n",
      "memory usage: 1.5+ MB\n"
     ]
    }
   ],
   "source": [
    "avisos.info()"
   ]
  },
  {
   "cell_type": "code",
   "execution_count": 29,
   "metadata": {},
   "outputs": [
    {
     "data": {
      "text/plain": [
       "1112381519    4\n",
       "1112356532    4\n",
       "1112371040    4\n",
       "1111294620    4\n",
       "1112339238    4\n",
       "1112280937    4\n",
       "1112265111    4\n",
       "1112387712    4\n",
       "1111967568    4\n",
       "1112295731    4\n",
       "1112171625    4\n",
       "1112340789    4\n",
       "1112347055    4\n",
       "1112320440    4\n",
       "1112359934    4\n",
       "1112385096    4\n",
       "1001135716    4\n",
       "1111963372    4\n",
       "1111903673    4\n",
       "1112373091    4\n",
       "1112344754    4\n",
       "1112374671    4\n",
       "1112288411    4\n",
       "1112351994    4\n",
       "1112348520    4\n",
       "1112346943    4\n",
       "1112338963    4\n",
       "1112212854    4\n",
       "1112208702    4\n",
       "1112218534    4\n",
       "             ..\n",
       "1112448027    1\n",
       "1112420260    1\n",
       "1112451673    1\n",
       "1112390802    1\n",
       "1112421523    1\n",
       "1112470155    1\n",
       "1112464542    1\n",
       "1112396959    1\n",
       "1111403680    1\n",
       "1112405872    1\n",
       "1111576515    1\n",
       "1112396022    1\n",
       "1112460630    1\n",
       "1112437931    1\n",
       "1112237241    1\n",
       "1112466853    1\n",
       "1112463341    1\n",
       "1112445502    1\n",
       "1112410685    1\n",
       "1112417473    1\n",
       "1112105602    1\n",
       "1112469978    1\n",
       "1112448198    1\n",
       "1112467929    1\n",
       "1112397007    1\n",
       "1110812921    1\n",
       "1112437298    1\n",
       "1112423634    1\n",
       "1112454355    1\n",
       "1112461346    1\n",
       "Name: idaviso, Length: 19352, dtype: int64"
      ]
     },
     "execution_count": 29,
     "metadata": {},
     "output_type": "execute_result"
    }
   ],
   "source": [
    "avisos['idaviso'].value_counts()"
   ]
  }
 ],
 "metadata": {
  "kernelspec": {
   "display_name": "Python 2",
   "language": "python",
   "name": "python2"
  },
  "language_info": {
   "codemirror_mode": {
    "name": "ipython",
    "version": 2
   },
   "file_extension": ".py",
   "mimetype": "text/x-python",
   "name": "python",
   "nbconvert_exporter": "python",
   "pygments_lexer": "ipython2",
   "version": "2.7.12"
  }
 },
 "nbformat": 4,
 "nbformat_minor": 2
}
