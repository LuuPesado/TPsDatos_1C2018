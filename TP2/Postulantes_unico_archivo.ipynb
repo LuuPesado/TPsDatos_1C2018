{
 "cells": [
  {
   "cell_type": "code",
   "execution_count": 1,
   "metadata": {
    "collapsed": true
   },
   "outputs": [],
   "source": [
    "%matplotlib inline\n",
    "import datetime as datetime\n",
    "import pandas as pd\n",
    "import numpy as np\n",
    "import matplotlib.pyplot as plt\n",
    "import seaborn as sns"
   ]
  },
  {
   "cell_type": "code",
   "execution_count": 2,
   "metadata": {
    "collapsed": true
   },
   "outputs": [],
   "source": [
    "educacion = pd.read_csv('/home/luupesado/7506_Datos/2018/datos_tp/joins/educacion.csv')\n",
    "genero_y_edad = pd.read_csv('/home/luupesado/7506_Datos/2018/datos_tp/joins/genero_y_edad.csv')"
   ]
  },
  {
   "cell_type": "markdown",
   "metadata": {},
   "source": [
    "Limpiamos el set de datos de educación para quedarnos con el mayor nivel educativo de cada postulante, tal cual lo hicimos en el tp 1"
   ]
  },
  {
   "cell_type": "code",
   "execution_count": 4,
   "metadata": {},
   "outputs": [],
   "source": [
    "educacion['nombre'] = educacion['nombre'].astype('string')"
   ]
  },
  {
   "cell_type": "code",
   "execution_count": 5,
   "metadata": {
    "collapsed": true
   },
   "outputs": [],
   "source": [
    "import unicodedata\n",
    "def elimina_tildes(s):\n",
    "   return ''.join((c for c in unicodedata.normalize('NFD', s) if unicodedata.category(c) != 'Mn'))"
   ]
  },
  {
   "cell_type": "code",
   "execution_count": 6,
   "metadata": {
    "collapsed": true
   },
   "outputs": [],
   "source": [
    "educacion['nombre'] = educacion['nombre'].apply(lambda x: elimina_tildes(x.decode('utf-8')))"
   ]
  },
  {
   "cell_type": "code",
   "execution_count": 7,
   "metadata": {
    "collapsed": true
   },
   "outputs": [],
   "source": [
    "educacion['nombre-estado'] = educacion['nombre'] + ' - ' + educacion['estado']"
   ]
  },
  {
   "cell_type": "markdown",
   "metadata": {},
   "source": [
    "educacion['nombre-estado'] = educacion['nombre-estado'].astype('category')"
   ]
  },
  {
   "cell_type": "code",
   "execution_count": 12,
   "metadata": {
    "collapsed": true
   },
   "outputs": [],
   "source": [
    "categories_order = ['Otro - Abandonado',\n",
    " 'Otro - En Curso',                                        \n",
    " 'Otro - Graduado', \n",
    "'Secundario - Abandonado',\n",
    " 'Secundario - En Curso',\n",
    " 'Secundario - Graduado',\n",
    " 'Terciario/Tecnico - Abandonado',\n",
    " 'Terciario/Tecnico - En Curso',\n",
    " 'Terciario/Tecnico - Graduado',\n",
    " 'Universitario - Abandonado',\n",
    " 'Universitario - En Curso',\n",
    " 'Universitario - Graduado',\n",
    "'Posgrado - Abandonado',\n",
    " 'Posgrado - En Curso',\n",
    " 'Posgrado - Graduado',\n",
    " 'Master - Abandonado',\n",
    " 'Master - En Curso',\n",
    " 'Master - Graduado',\n",
    "'Doctorado - Abandonado',\n",
    " 'Doctorado - En Curso',\n",
    " 'Doctorado - Graduado']"
   ]
  },
  {
   "cell_type": "code",
   "execution_count": 13,
   "metadata": {},
   "outputs": [],
   "source": [
    "educacion['nombre-estado'] = educacion['nombre-estado'].cat \\\n",
    "                                        .set_categories(categories_order, ordered = True)"
   ]
  },
  {
   "cell_type": "code",
   "execution_count": 15,
   "metadata": {},
   "outputs": [],
   "source": [
    "educacion = educacion.sort_values('nombre-estado', ascending= False).drop_duplicates(subset='idpostulante', keep = 'first')"
   ]
  },
  {
   "cell_type": "markdown",
   "metadata": {},
   "source": [
    "Ahora limpiamos el set de datos de genero y edad, tal cual lo hicims el el tp1"
   ]
  },
  {
   "cell_type": "code",
   "execution_count": 34,
   "metadata": {
    "collapsed": true
   },
   "outputs": [],
   "source": [
    "import datetime as dt"
   ]
  },
  {
   "cell_type": "code",
   "execution_count": 35,
   "metadata": {
    "collapsed": true
   },
   "outputs": [],
   "source": [
    "def strdate_to_age(string):\n",
    "    \n",
    "    date = dt.datetime.strptime(string, \"%Y-%m-%d\")\n",
    "    today = dt.datetime(2018, 4, 1)\n",
    "    edad = today.year - date.year\n",
    "    if today.month >= date.month and today.day >= date.day:\n",
    "        edad = edad +1\n",
    "    return edad\n"
   ]
  },
  {
   "cell_type": "code",
   "execution_count": 19,
   "metadata": {},
   "outputs": [],
   "source": [
    "genero_y_edad = genero_y_edad.dropna()"
   ]
  },
  {
   "cell_type": "code",
   "execution_count": 36,
   "metadata": {},
   "outputs": [],
   "source": [
    "genero_y_edad['edad'] = genero_y_edad['fechanacimiento'].apply(lambda x: strdate_to_age(str(x)))"
   ]
  },
  {
   "cell_type": "code",
   "execution_count": 37,
   "metadata": {},
   "outputs": [
    {
     "name": "stdout",
     "output_type": "stream",
     "text": [
      "<class 'pandas.core.frame.DataFrame'>\n",
      "Int64Index: 477265 entries, 0 to 498633\n",
      "Data columns (total 5 columns):\n",
      "Unnamed: 0         477265 non-null int64\n",
      "idpostulante       477265 non-null object\n",
      "fechanacimiento    477265 non-null object\n",
      "sexo               477265 non-null object\n",
      "edad               477265 non-null int64\n",
      "dtypes: int64(2), object(3)\n",
      "memory usage: 21.8+ MB\n"
     ]
    }
   ],
   "source": [
    "genero_y_edad.info()"
   ]
  },
  {
   "cell_type": "markdown",
   "metadata": {},
   "source": [
    "Ahora hago el merge"
   ]
  },
  {
   "cell_type": "code",
   "execution_count": 38,
   "metadata": {},
   "outputs": [
    {
     "name": "stdout",
     "output_type": "stream",
     "text": [
      "<class 'pandas.core.frame.DataFrame'>\n",
      "Int64Index: 366395 entries, 649440 to 684313\n",
      "Data columns (total 5 columns):\n",
      "Unnamed: 0       366395 non-null int64\n",
      "idpostulante     366395 non-null object\n",
      "nombre           366395 non-null object\n",
      "estado           366395 non-null object\n",
      "nombre-estado    366395 non-null category\n",
      "dtypes: category(1), int64(1), object(3)\n",
      "memory usage: 14.3+ MB\n"
     ]
    }
   ],
   "source": [
    "educacion.info()"
   ]
  },
  {
   "cell_type": "code",
   "execution_count": 39,
   "metadata": {},
   "outputs": [
    {
     "data": {
      "text/html": [
       "<div>\n",
       "<style>\n",
       "    .dataframe thead tr:only-child th {\n",
       "        text-align: right;\n",
       "    }\n",
       "\n",
       "    .dataframe thead th {\n",
       "        text-align: left;\n",
       "    }\n",
       "\n",
       "    .dataframe tbody tr th {\n",
       "        vertical-align: top;\n",
       "    }\n",
       "</style>\n",
       "<table border=\"1\" class=\"dataframe\">\n",
       "  <thead>\n",
       "    <tr style=\"text-align: right;\">\n",
       "      <th></th>\n",
       "      <th>Unnamed: 0</th>\n",
       "      <th>idpostulante</th>\n",
       "      <th>fechanacimiento</th>\n",
       "      <th>sexo</th>\n",
       "      <th>edad</th>\n",
       "    </tr>\n",
       "  </thead>\n",
       "  <tbody>\n",
       "    <tr>\n",
       "      <th>498625</th>\n",
       "      <td>297737</td>\n",
       "      <td>PmGx0vJ</td>\n",
       "      <td>1997-02-27</td>\n",
       "      <td>FEM</td>\n",
       "      <td>21</td>\n",
       "    </tr>\n",
       "    <tr>\n",
       "      <th>498627</th>\n",
       "      <td>297739</td>\n",
       "      <td>3NPqmBx</td>\n",
       "      <td>1990-01-08</td>\n",
       "      <td>FEM</td>\n",
       "      <td>28</td>\n",
       "    </tr>\n",
       "    <tr>\n",
       "      <th>498629</th>\n",
       "      <td>297741</td>\n",
       "      <td>wVkvPrQ</td>\n",
       "      <td>1994-02-24</td>\n",
       "      <td>MASC</td>\n",
       "      <td>24</td>\n",
       "    </tr>\n",
       "    <tr>\n",
       "      <th>498630</th>\n",
       "      <td>297742</td>\n",
       "      <td>MVrow99</td>\n",
       "      <td>1999-09-27</td>\n",
       "      <td>FEM</td>\n",
       "      <td>19</td>\n",
       "    </tr>\n",
       "    <tr>\n",
       "      <th>498633</th>\n",
       "      <td>297745</td>\n",
       "      <td>X95z68O</td>\n",
       "      <td>1998-10-29</td>\n",
       "      <td>MASC</td>\n",
       "      <td>20</td>\n",
       "    </tr>\n",
       "  </tbody>\n",
       "</table>\n",
       "</div>"
      ],
      "text/plain": [
       "        Unnamed: 0 idpostulante fechanacimiento  sexo  edad\n",
       "498625      297737      PmGx0vJ      1997-02-27   FEM    21\n",
       "498627      297739      3NPqmBx      1990-01-08   FEM    28\n",
       "498629      297741      wVkvPrQ      1994-02-24  MASC    24\n",
       "498630      297742      MVrow99      1999-09-27   FEM    19\n",
       "498633      297745      X95z68O      1998-10-29  MASC    20"
      ]
     },
     "execution_count": 39,
     "metadata": {},
     "output_type": "execute_result"
    }
   ],
   "source": [
    "genero_y_edad.tail()"
   ]
  },
  {
   "cell_type": "code",
   "execution_count": 40,
   "metadata": {
    "collapsed": true
   },
   "outputs": [],
   "source": [
    "del genero_y_edad['Unnamed: 0']\n",
    "del educacion['Unnamed: 0']"
   ]
  },
  {
   "cell_type": "code",
   "execution_count": 41,
   "metadata": {},
   "outputs": [],
   "source": [
    "postulantes = pd.merge(genero_y_edad, educacion, on='idpostulante', how='inner')"
   ]
  },
  {
   "cell_type": "code",
   "execution_count": 42,
   "metadata": {},
   "outputs": [
    {
     "data": {
      "text/html": [
       "<div>\n",
       "<style>\n",
       "    .dataframe thead tr:only-child th {\n",
       "        text-align: right;\n",
       "    }\n",
       "\n",
       "    .dataframe thead th {\n",
       "        text-align: left;\n",
       "    }\n",
       "\n",
       "    .dataframe tbody tr th {\n",
       "        vertical-align: top;\n",
       "    }\n",
       "</style>\n",
       "<table border=\"1\" class=\"dataframe\">\n",
       "  <thead>\n",
       "    <tr style=\"text-align: right;\">\n",
       "      <th></th>\n",
       "      <th>idpostulante</th>\n",
       "      <th>fechanacimiento</th>\n",
       "      <th>sexo</th>\n",
       "      <th>edad</th>\n",
       "      <th>nombre</th>\n",
       "      <th>estado</th>\n",
       "      <th>nombre-estado</th>\n",
       "    </tr>\n",
       "  </thead>\n",
       "  <tbody>\n",
       "    <tr>\n",
       "      <th>0</th>\n",
       "      <td>NM5M</td>\n",
       "      <td>1970-12-03</td>\n",
       "      <td>FEM</td>\n",
       "      <td>48</td>\n",
       "      <td>Secundario</td>\n",
       "      <td>Graduado</td>\n",
       "      <td>Secundario - Graduado</td>\n",
       "    </tr>\n",
       "    <tr>\n",
       "      <th>1</th>\n",
       "      <td>5awk</td>\n",
       "      <td>1962-12-04</td>\n",
       "      <td>FEM</td>\n",
       "      <td>56</td>\n",
       "      <td>Universitario</td>\n",
       "      <td>Graduado</td>\n",
       "      <td>Universitario - Graduado</td>\n",
       "    </tr>\n",
       "    <tr>\n",
       "      <th>2</th>\n",
       "      <td>ZaO5</td>\n",
       "      <td>1978-08-10</td>\n",
       "      <td>FEM</td>\n",
       "      <td>40</td>\n",
       "      <td>Universitario</td>\n",
       "      <td>Abandonado</td>\n",
       "      <td>Universitario - Abandonado</td>\n",
       "    </tr>\n",
       "    <tr>\n",
       "      <th>3</th>\n",
       "      <td>ZaO5</td>\n",
       "      <td>1978-08-10</td>\n",
       "      <td>FEM</td>\n",
       "      <td>40</td>\n",
       "      <td>Universitario</td>\n",
       "      <td>Abandonado</td>\n",
       "      <td>Universitario - Abandonado</td>\n",
       "    </tr>\n",
       "    <tr>\n",
       "      <th>4</th>\n",
       "      <td>NdJl</td>\n",
       "      <td>1969-05-09</td>\n",
       "      <td>MASC</td>\n",
       "      <td>49</td>\n",
       "      <td>Posgrado</td>\n",
       "      <td>En Curso</td>\n",
       "      <td>Posgrado - En Curso</td>\n",
       "    </tr>\n",
       "  </tbody>\n",
       "</table>\n",
       "</div>"
      ],
      "text/plain": [
       "  idpostulante fechanacimiento  sexo  edad         nombre      estado  \\\n",
       "0         NM5M      1970-12-03   FEM    48     Secundario    Graduado   \n",
       "1         5awk      1962-12-04   FEM    56  Universitario    Graduado   \n",
       "2         ZaO5      1978-08-10   FEM    40  Universitario  Abandonado   \n",
       "3         ZaO5      1978-08-10   FEM    40  Universitario  Abandonado   \n",
       "4         NdJl      1969-05-09  MASC    49       Posgrado    En Curso   \n",
       "\n",
       "                nombre-estado  \n",
       "0       Secundario - Graduado  \n",
       "1    Universitario - Graduado  \n",
       "2  Universitario - Abandonado  \n",
       "3  Universitario - Abandonado  \n",
       "4         Posgrado - En Curso  "
      ]
     },
     "execution_count": 42,
     "metadata": {},
     "output_type": "execute_result"
    }
   ],
   "source": [
    "postulantes.head()"
   ]
  },
  {
   "cell_type": "code",
   "execution_count": 43,
   "metadata": {},
   "outputs": [
    {
     "name": "stdout",
     "output_type": "stream",
     "text": [
      "<class 'pandas.core.frame.DataFrame'>\n",
      "Int64Index: 444083 entries, 0 to 444082\n",
      "Data columns (total 7 columns):\n",
      "idpostulante       444083 non-null object\n",
      "fechanacimiento    444083 non-null object\n",
      "sexo               444083 non-null object\n",
      "edad               444083 non-null int64\n",
      "nombre             444083 non-null object\n",
      "estado             444083 non-null object\n",
      "nombre-estado      444083 non-null category\n",
      "dtypes: category(1), int64(1), object(5)\n",
      "memory usage: 24.1+ MB\n"
     ]
    }
   ],
   "source": [
    "postulantes.info()"
   ]
  },
  {
   "cell_type": "markdown",
   "metadata": {},
   "source": [
    "Ahora filtramos los postulantes por edad, que no habíamos olvidade de hacer antes del merge. NOs quedamos con los postulantes entre 16 y 70 años. Según vimos en el primer TP había muy pocos datos de gente de otras edades. Además los menores de 16 no pueden trabajar legalmente y si bien la edad jubilatoria no es 70 perdemos muy pocos datos con esta restricvción según vimos en el TP1."
   ]
  },
  {
   "cell_type": "code",
   "execution_count": 44,
   "metadata": {
    "collapsed": true
   },
   "outputs": [],
   "source": [
    "postulantes = postulantes[postulantes['edad'] >=16]\n",
    "postulantes = postulantes[postulantes['edad'] <=70]"
   ]
  },
  {
   "cell_type": "code",
   "execution_count": 45,
   "metadata": {},
   "outputs": [
    {
     "name": "stdout",
     "output_type": "stream",
     "text": [
      "<class 'pandas.core.frame.DataFrame'>\n",
      "Int64Index: 443959 entries, 0 to 444082\n",
      "Data columns (total 7 columns):\n",
      "idpostulante       443959 non-null object\n",
      "fechanacimiento    443959 non-null object\n",
      "sexo               443959 non-null object\n",
      "edad               443959 non-null int64\n",
      "nombre             443959 non-null object\n",
      "estado             443959 non-null object\n",
      "nombre-estado      443959 non-null category\n",
      "dtypes: category(1), int64(1), object(5)\n",
      "memory usage: 24.1+ MB\n"
     ]
    }
   ],
   "source": [
    "postulantes.info()"
   ]
  },
  {
   "cell_type": "code",
   "execution_count": 46,
   "metadata": {
    "collapsed": true
   },
   "outputs": [],
   "source": [
    "postulantes.to_csv('/home/luupesado/7506_Datos/2018/TPsDatos_1C2018/TP2/Archivos_a_usar/postulantes')"
   ]
  }
 ],
 "metadata": {
  "kernelspec": {
   "display_name": "Python 2",
   "language": "python",
   "name": "python2"
  },
  "language_info": {
   "codemirror_mode": {
    "name": "ipython",
    "version": 2
   },
   "file_extension": ".py",
   "mimetype": "text/x-python",
   "name": "python",
   "nbconvert_exporter": "python",
   "pygments_lexer": "ipython2",
   "version": "2.7.12"
  }
 },
 "nbformat": 4,
 "nbformat_minor": 2
}
