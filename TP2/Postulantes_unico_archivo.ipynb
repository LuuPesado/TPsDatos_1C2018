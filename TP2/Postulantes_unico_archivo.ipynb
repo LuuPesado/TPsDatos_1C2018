{
 "cells": [
  {
   "cell_type": "code",
   "execution_count": 1,
   "metadata": {
    "collapsed": true
   },
   "outputs": [],
   "source": [
    "import datetime as dt\n",
    "import pandas as pd\n",
    "import numpy as np"
   ]
  },
  {
   "cell_type": "code",
   "execution_count": 15,
   "metadata": {
    "collapsed": true
   },
   "outputs": [],
   "source": [
    "educacion = pd.read_csv('/home/luupesado/7506_Datos/2018/datos_tp/joins/educacion.csv')\n",
    "genero_y_edad = pd.read_csv('/home/luupesado/7506_Datos/2018/datos_tp/joins/genero_y_edad.csv')"
   ]
  },
  {
   "cell_type": "markdown",
   "metadata": {},
   "source": [
    "Limpiamos el set de datos de educación para quedarnos con el mayor nivel educativo de cada postulante, tal cual lo hicimos en el tp 1"
   ]
  },
  {
   "cell_type": "code",
   "execution_count": 16,
   "metadata": {
    "collapsed": true
   },
   "outputs": [],
   "source": [
    "educacion['nombre'] = educacion['nombre'].astype('string')"
   ]
  },
  {
   "cell_type": "code",
   "execution_count": 17,
   "metadata": {
    "collapsed": true
   },
   "outputs": [],
   "source": [
    "import unicodedata\n",
    "def elimina_tildes(s):\n",
    "   return ''.join((c for c in unicodedata.normalize('NFD', s) if unicodedata.category(c) != 'Mn'))"
   ]
  },
  {
   "cell_type": "code",
   "execution_count": 18,
   "metadata": {
    "collapsed": true
   },
   "outputs": [],
   "source": [
    "educacion['nombre'] = educacion['nombre'].apply(lambda x: elimina_tildes(x.decode('utf-8')))"
   ]
  },
  {
   "cell_type": "code",
   "execution_count": 19,
   "metadata": {
    "collapsed": true
   },
   "outputs": [],
   "source": [
    "educacion['nombre-estado'] = educacion['nombre'] + ' - ' + educacion['estado']"
   ]
  },
  {
   "cell_type": "code",
   "execution_count": 20,
   "metadata": {
    "collapsed": true
   },
   "outputs": [],
   "source": [
    "educacion['nombre-estado'] = educacion['nombre-estado'].astype('category')"
   ]
  },
  {
   "cell_type": "code",
   "execution_count": 21,
   "metadata": {
    "collapsed": true
   },
   "outputs": [],
   "source": [
    "categories_order = ['Otro - Abandonado',\n",
    " 'Otro - En Curso',                                        \n",
    " 'Otro - Graduado', \n",
    "'Secundario - Abandonado',\n",
    " 'Secundario - En Curso',\n",
    " 'Secundario - Graduado',\n",
    " 'Terciario/Tecnico - Abandonado',\n",
    " 'Terciario/Tecnico - En Curso',\n",
    " 'Terciario/Tecnico - Graduado',\n",
    " 'Universitario - Abandonado',\n",
    " 'Universitario - En Curso',\n",
    " 'Universitario - Graduado',\n",
    "'Posgrado - Abandonado',\n",
    " 'Posgrado - En Curso',\n",
    " 'Posgrado - Graduado',\n",
    " 'Master - Abandonado',\n",
    " 'Master - En Curso',\n",
    " 'Master - Graduado',\n",
    "'Doctorado - Abandonado',\n",
    " 'Doctorado - En Curso',\n",
    " 'Doctorado - Graduado']"
   ]
  },
  {
   "cell_type": "code",
   "execution_count": 22,
   "metadata": {
    "collapsed": true
   },
   "outputs": [],
   "source": [
    "educacion['nombre-estado'] = educacion['nombre-estado'].cat \\\n",
    "                                        .set_categories(categories_order, ordered = True)"
   ]
  },
  {
   "cell_type": "code",
   "execution_count": 23,
   "metadata": {
    "collapsed": true
   },
   "outputs": [],
   "source": [
    "educacion = educacion.sort_values('nombre-estado', ascending= False).drop_duplicates(subset='idpostulante', keep = 'first')"
   ]
  },
  {
   "cell_type": "markdown",
   "metadata": {},
   "source": [
    "Ahora limpiamos el set de datos de genero y edad, tal cual lo hicims el el tp1"
   ]
  },
  {
   "cell_type": "code",
   "execution_count": 24,
   "metadata": {
    "collapsed": true
   },
   "outputs": [],
   "source": [
    "import datetime as dt"
   ]
  },
  {
   "cell_type": "code",
   "execution_count": 46,
   "metadata": {
    "collapsed": true
   },
   "outputs": [],
   "source": [
    "def strdate_to_age(string):\n",
    "    if string == 'nan':\n",
    "        return int(np.random.rand()*100)\n",
    "    date = dt.datetime.strptime(string, \"%Y-%m-%d\")\n",
    "    today = dt.datetime(2018, 4, 1)\n",
    "    edad = today.year - date.year\n",
    "    if today.month >= date.month and today.day >= date.day:\n",
    "        edad = edad +1\n",
    "    return edad\n"
   ]
  },
  {
   "cell_type": "code",
   "execution_count": 14,
   "metadata": {
    "collapsed": true
   },
   "outputs": [],
   "source": [
    "genero_y_edad = genero_y_edad.dropna()"
   ]
  },
  {
   "cell_type": "code",
   "execution_count": 45,
   "metadata": {},
   "outputs": [
    {
     "data": {
      "text/plain": [
       "21"
      ]
     },
     "execution_count": 45,
     "metadata": {},
     "output_type": "execute_result"
    }
   ],
   "source": [
    "int(np.random.rand()*100)"
   ]
  },
  {
   "cell_type": "code",
   "execution_count": 47,
   "metadata": {},
   "outputs": [],
   "source": [
    "genero_y_edad['edad'] = genero_y_edad['fechanacimiento'].apply(lambda x: strdate_to_age(str(x)))"
   ]
  },
  {
   "cell_type": "code",
   "execution_count": 48,
   "metadata": {},
   "outputs": [
    {
     "name": "stdout",
     "output_type": "stream",
     "text": [
      "<class 'pandas.core.frame.DataFrame'>\n",
      "RangeIndex: 780020 entries, 0 to 780019\n",
      "Data columns (total 5 columns):\n",
      "Unnamed: 0         780020 non-null int64\n",
      "idpostulante       780020 non-null object\n",
      "fechanacimiento    745747 non-null object\n",
      "sexo               780020 non-null object\n",
      "edad               780020 non-null int64\n",
      "dtypes: int64(2), object(3)\n",
      "memory usage: 29.8+ MB\n"
     ]
    }
   ],
   "source": [
    "genero_y_edad.info()"
   ]
  },
  {
   "cell_type": "markdown",
   "metadata": {},
   "source": [
    "Ahora hago el merge"
   ]
  },
  {
   "cell_type": "code",
   "execution_count": 49,
   "metadata": {},
   "outputs": [
    {
     "name": "stdout",
     "output_type": "stream",
     "text": [
      "<class 'pandas.core.frame.DataFrame'>\n",
      "Int64Index: 447909 entries, 1070867 to 641978\n",
      "Data columns (total 5 columns):\n",
      "Unnamed: 0       447909 non-null int64\n",
      "idpostulante     447909 non-null object\n",
      "nombre           447909 non-null object\n",
      "estado           447909 non-null object\n",
      "nombre-estado    447909 non-null category\n",
      "dtypes: category(1), int64(1), object(3)\n",
      "memory usage: 17.5+ MB\n"
     ]
    }
   ],
   "source": [
    "educacion.info()"
   ]
  },
  {
   "cell_type": "code",
   "execution_count": 50,
   "metadata": {},
   "outputs": [
    {
     "data": {
      "text/html": [
       "<div>\n",
       "<style>\n",
       "    .dataframe thead tr:only-child th {\n",
       "        text-align: right;\n",
       "    }\n",
       "\n",
       "    .dataframe thead th {\n",
       "        text-align: left;\n",
       "    }\n",
       "\n",
       "    .dataframe tbody tr th {\n",
       "        vertical-align: top;\n",
       "    }\n",
       "</style>\n",
       "<table border=\"1\" class=\"dataframe\">\n",
       "  <thead>\n",
       "    <tr style=\"text-align: right;\">\n",
       "      <th></th>\n",
       "      <th>Unnamed: 0</th>\n",
       "      <th>idpostulante</th>\n",
       "      <th>fechanacimiento</th>\n",
       "      <th>sexo</th>\n",
       "      <th>edad</th>\n",
       "    </tr>\n",
       "  </thead>\n",
       "  <tbody>\n",
       "    <tr>\n",
       "      <th>780015</th>\n",
       "      <td>297742</td>\n",
       "      <td>MVrow99</td>\n",
       "      <td>1999-09-27</td>\n",
       "      <td>FEM</td>\n",
       "      <td>19</td>\n",
       "    </tr>\n",
       "    <tr>\n",
       "      <th>780016</th>\n",
       "      <td>297743</td>\n",
       "      <td>dYjl8Mq</td>\n",
       "      <td>NaN</td>\n",
       "      <td>NO_DECLARA</td>\n",
       "      <td>49</td>\n",
       "    </tr>\n",
       "    <tr>\n",
       "      <th>780017</th>\n",
       "      <td>297744</td>\n",
       "      <td>RzrDOmR</td>\n",
       "      <td>NaN</td>\n",
       "      <td>NO_DECLARA</td>\n",
       "      <td>17</td>\n",
       "    </tr>\n",
       "    <tr>\n",
       "      <th>780018</th>\n",
       "      <td>297745</td>\n",
       "      <td>X95z68O</td>\n",
       "      <td>1998-10-29</td>\n",
       "      <td>MASC</td>\n",
       "      <td>20</td>\n",
       "    </tr>\n",
       "    <tr>\n",
       "      <th>780019</th>\n",
       "      <td>297746</td>\n",
       "      <td>vVjoqbj</td>\n",
       "      <td>NaN</td>\n",
       "      <td>NO_DECLARA</td>\n",
       "      <td>32</td>\n",
       "    </tr>\n",
       "  </tbody>\n",
       "</table>\n",
       "</div>"
      ],
      "text/plain": [
       "        Unnamed: 0 idpostulante fechanacimiento        sexo  edad\n",
       "780015      297742      MVrow99      1999-09-27         FEM    19\n",
       "780016      297743      dYjl8Mq             NaN  NO_DECLARA    49\n",
       "780017      297744      RzrDOmR             NaN  NO_DECLARA    17\n",
       "780018      297745      X95z68O      1998-10-29        MASC    20\n",
       "780019      297746      vVjoqbj             NaN  NO_DECLARA    32"
      ]
     },
     "execution_count": 50,
     "metadata": {},
     "output_type": "execute_result"
    }
   ],
   "source": [
    "genero_y_edad.tail()"
   ]
  },
  {
   "cell_type": "code",
   "execution_count": 51,
   "metadata": {
    "collapsed": true
   },
   "outputs": [],
   "source": [
    "del genero_y_edad['Unnamed: 0']\n",
    "del educacion['Unnamed: 0']"
   ]
  },
  {
   "cell_type": "code",
   "execution_count": 59,
   "metadata": {
    "collapsed": true
   },
   "outputs": [],
   "source": [
    "postulantes = pd.merge(genero_y_edad, educacion, on='idpostulante', how='outer')"
   ]
  },
  {
   "cell_type": "code",
   "execution_count": 60,
   "metadata": {},
   "outputs": [
    {
     "data": {
      "text/html": [
       "<div>\n",
       "<style>\n",
       "    .dataframe thead tr:only-child th {\n",
       "        text-align: right;\n",
       "    }\n",
       "\n",
       "    .dataframe thead th {\n",
       "        text-align: left;\n",
       "    }\n",
       "\n",
       "    .dataframe tbody tr th {\n",
       "        vertical-align: top;\n",
       "    }\n",
       "</style>\n",
       "<table border=\"1\" class=\"dataframe\">\n",
       "  <thead>\n",
       "    <tr style=\"text-align: right;\">\n",
       "      <th></th>\n",
       "      <th>idpostulante</th>\n",
       "      <th>fechanacimiento</th>\n",
       "      <th>sexo</th>\n",
       "      <th>edad</th>\n",
       "      <th>nombre</th>\n",
       "      <th>estado</th>\n",
       "      <th>nombre-estado</th>\n",
       "    </tr>\n",
       "  </thead>\n",
       "  <tbody>\n",
       "    <tr>\n",
       "      <th>0</th>\n",
       "      <td>6MM</td>\n",
       "      <td>1985-01-01</td>\n",
       "      <td>MASC</td>\n",
       "      <td>34</td>\n",
       "      <td>NaN</td>\n",
       "      <td>NaN</td>\n",
       "      <td>NaN</td>\n",
       "    </tr>\n",
       "    <tr>\n",
       "      <th>1</th>\n",
       "      <td>6MM</td>\n",
       "      <td>1985-01-01</td>\n",
       "      <td>MASC</td>\n",
       "      <td>34</td>\n",
       "      <td>NaN</td>\n",
       "      <td>NaN</td>\n",
       "      <td>NaN</td>\n",
       "    </tr>\n",
       "    <tr>\n",
       "      <th>2</th>\n",
       "      <td>ZX1</td>\n",
       "      <td>NaN</td>\n",
       "      <td>NO_DECLARA</td>\n",
       "      <td>56</td>\n",
       "      <td>NaN</td>\n",
       "      <td>NaN</td>\n",
       "      <td>NaN</td>\n",
       "    </tr>\n",
       "    <tr>\n",
       "      <th>3</th>\n",
       "      <td>ZX1</td>\n",
       "      <td>NaN</td>\n",
       "      <td>NO_DECLARA</td>\n",
       "      <td>94</td>\n",
       "      <td>NaN</td>\n",
       "      <td>NaN</td>\n",
       "      <td>NaN</td>\n",
       "    </tr>\n",
       "    <tr>\n",
       "      <th>4</th>\n",
       "      <td>YZP</td>\n",
       "      <td>1961-05-01</td>\n",
       "      <td>MASC</td>\n",
       "      <td>57</td>\n",
       "      <td>Master</td>\n",
       "      <td>En Curso</td>\n",
       "      <td>Master - En Curso</td>\n",
       "    </tr>\n",
       "  </tbody>\n",
       "</table>\n",
       "</div>"
      ],
      "text/plain": [
       "  idpostulante fechanacimiento        sexo  edad  nombre    estado  \\\n",
       "0          6MM      1985-01-01        MASC    34     NaN       NaN   \n",
       "1          6MM      1985-01-01        MASC    34     NaN       NaN   \n",
       "2          ZX1             NaN  NO_DECLARA    56     NaN       NaN   \n",
       "3          ZX1             NaN  NO_DECLARA    94     NaN       NaN   \n",
       "4          YZP      1961-05-01        MASC    57  Master  En Curso   \n",
       "\n",
       "       nombre-estado  \n",
       "0                NaN  \n",
       "1                NaN  \n",
       "2                NaN  \n",
       "3                NaN  \n",
       "4  Master - En Curso  "
      ]
     },
     "execution_count": 60,
     "metadata": {},
     "output_type": "execute_result"
    }
   ],
   "source": [
    "postulantes.head()"
   ]
  },
  {
   "cell_type": "code",
   "execution_count": 61,
   "metadata": {},
   "outputs": [
    {
     "name": "stdout",
     "output_type": "stream",
     "text": [
      "<class 'pandas.core.frame.DataFrame'>\n",
      "Int64Index: 780020 entries, 0 to 780019\n",
      "Data columns (total 7 columns):\n",
      "idpostulante       780020 non-null object\n",
      "fechanacimiento    745747 non-null object\n",
      "sexo               780020 non-null object\n",
      "edad               780020 non-null int64\n",
      "nombre             707486 non-null object\n",
      "estado             707486 non-null object\n",
      "nombre-estado      707486 non-null category\n",
      "dtypes: category(1), int64(1), object(5)\n",
      "memory usage: 42.4+ MB\n"
     ]
    }
   ],
   "source": [
    "postulantes.info()"
   ]
  },
  {
   "cell_type": "markdown",
   "metadata": {},
   "source": [
    "Ahora filtramos los postulantes por edad, que no habíamos olvidade de hacer antes del merge. NOs quedamos con los postulantes entre 16 y 70 años. Según vimos en el primer TP había muy pocos datos de gente de otras edades. Además los menores de 16 no pueden trabajar legalmente y si bien la edad jubilatoria no es 70 perdemos muy pocos datos con esta restricvción según vimos en el TP1."
   ]
  },
  {
   "cell_type": "code",
   "execution_count": 22,
   "metadata": {
    "collapsed": true
   },
   "outputs": [],
   "source": [
    "postulantes = postulantes[postulantes['edad'] >=16]\n",
    "postulantes = postulantes[postulantes['edad'] <=70]"
   ]
  },
  {
   "cell_type": "code",
   "execution_count": 23,
   "metadata": {},
   "outputs": [
    {
     "name": "stdout",
     "output_type": "stream",
     "text": [
      "<class 'pandas.core.frame.DataFrame'>\n",
      "Int64Index: 693517 entries, 0 to 693703\n",
      "Data columns (total 7 columns):\n",
      "idpostulante       693517 non-null object\n",
      "fechanacimiento    693517 non-null object\n",
      "sexo               693517 non-null object\n",
      "edad               693517 non-null int64\n",
      "nombre             693517 non-null object\n",
      "estado             693517 non-null object\n",
      "nombre-estado      693517 non-null category\n",
      "dtypes: category(1), int64(1), object(5)\n",
      "memory usage: 37.7+ MB\n"
     ]
    }
   ],
   "source": [
    "postulantes.info()"
   ]
  },
  {
   "cell_type": "code",
   "execution_count": 62,
   "metadata": {
    "collapsed": true
   },
   "outputs": [],
   "source": [
    "postulantes['idpostulante'] = postulantes.drop_duplicates(subset = 'idpostulante')"
   ]
  },
  {
   "cell_type": "code",
   "execution_count": 65,
   "metadata": {},
   "outputs": [],
   "source": [
    "postulantes = postulantes.dropna(subset = ['idpostulante'])"
   ]
  },
  {
   "cell_type": "code",
   "execution_count": 66,
   "metadata": {},
   "outputs": [
    {
     "name": "stdout",
     "output_type": "stream",
     "text": [
      "<class 'pandas.core.frame.DataFrame'>\n",
      "Int64Index: 504407 entries, 0 to 780019\n",
      "Data columns (total 7 columns):\n",
      "idpostulante       504407 non-null object\n",
      "fechanacimiento    478300 non-null object\n",
      "sexo               504407 non-null object\n",
      "edad               504407 non-null int64\n",
      "nombre             447909 non-null object\n",
      "estado             447909 non-null object\n",
      "nombre-estado      447909 non-null category\n",
      "dtypes: category(1), int64(1), object(5)\n",
      "memory usage: 27.4+ MB\n"
     ]
    }
   ],
   "source": [
    "postulantes.info()"
   ]
  },
  {
   "cell_type": "code",
   "execution_count": 67,
   "metadata": {},
   "outputs": [
    {
     "data": {
      "text/html": [
       "<div>\n",
       "<style>\n",
       "    .dataframe thead tr:only-child th {\n",
       "        text-align: right;\n",
       "    }\n",
       "\n",
       "    .dataframe thead th {\n",
       "        text-align: left;\n",
       "    }\n",
       "\n",
       "    .dataframe tbody tr th {\n",
       "        vertical-align: top;\n",
       "    }\n",
       "</style>\n",
       "<table border=\"1\" class=\"dataframe\">\n",
       "  <thead>\n",
       "    <tr style=\"text-align: right;\">\n",
       "      <th></th>\n",
       "      <th>idpostulante</th>\n",
       "      <th>fechanacimiento</th>\n",
       "      <th>sexo</th>\n",
       "      <th>edad</th>\n",
       "      <th>nombre</th>\n",
       "      <th>estado</th>\n",
       "      <th>nombre-estado</th>\n",
       "    </tr>\n",
       "  </thead>\n",
       "  <tbody>\n",
       "    <tr>\n",
       "      <th>780015</th>\n",
       "      <td>bOjBk8b</td>\n",
       "      <td>1974-12-19</td>\n",
       "      <td>FEM</td>\n",
       "      <td>44</td>\n",
       "      <td>Terciario/Tecnico</td>\n",
       "      <td>Graduado</td>\n",
       "      <td>Terciario/Tecnico - Graduado</td>\n",
       "    </tr>\n",
       "    <tr>\n",
       "      <th>780016</th>\n",
       "      <td>GNZr6QK</td>\n",
       "      <td>NaN</td>\n",
       "      <td>NO_DECLARA</td>\n",
       "      <td>60</td>\n",
       "      <td>NaN</td>\n",
       "      <td>NaN</td>\n",
       "      <td>NaN</td>\n",
       "    </tr>\n",
       "    <tr>\n",
       "      <th>780017</th>\n",
       "      <td>bOjBkvd</td>\n",
       "      <td>1995-01-05</td>\n",
       "      <td>FEM</td>\n",
       "      <td>23</td>\n",
       "      <td>NaN</td>\n",
       "      <td>NaN</td>\n",
       "      <td>NaN</td>\n",
       "    </tr>\n",
       "    <tr>\n",
       "      <th>780018</th>\n",
       "      <td>5mPzjGX</td>\n",
       "      <td>1996-06-17</td>\n",
       "      <td>FEM</td>\n",
       "      <td>22</td>\n",
       "      <td>NaN</td>\n",
       "      <td>NaN</td>\n",
       "      <td>NaN</td>\n",
       "    </tr>\n",
       "    <tr>\n",
       "      <th>780019</th>\n",
       "      <td>jkjPrKb</td>\n",
       "      <td>NaN</td>\n",
       "      <td>NO_DECLARA</td>\n",
       "      <td>33</td>\n",
       "      <td>NaN</td>\n",
       "      <td>NaN</td>\n",
       "      <td>NaN</td>\n",
       "    </tr>\n",
       "  </tbody>\n",
       "</table>\n",
       "</div>"
      ],
      "text/plain": [
       "       idpostulante fechanacimiento        sexo  edad             nombre  \\\n",
       "780015      bOjBk8b      1974-12-19         FEM    44  Terciario/Tecnico   \n",
       "780016      GNZr6QK             NaN  NO_DECLARA    60                NaN   \n",
       "780017      bOjBkvd      1995-01-05         FEM    23                NaN   \n",
       "780018      5mPzjGX      1996-06-17         FEM    22                NaN   \n",
       "780019      jkjPrKb             NaN  NO_DECLARA    33                NaN   \n",
       "\n",
       "          estado                 nombre-estado  \n",
       "780015  Graduado  Terciario/Tecnico - Graduado  \n",
       "780016       NaN                           NaN  \n",
       "780017       NaN                           NaN  \n",
       "780018       NaN                           NaN  \n",
       "780019       NaN                           NaN  "
      ]
     },
     "execution_count": 67,
     "metadata": {},
     "output_type": "execute_result"
    }
   ],
   "source": [
    "postulantes.tail()"
   ]
  },
  {
   "cell_type": "code",
   "execution_count": null,
   "metadata": {
    "collapsed": true
   },
   "outputs": [],
   "source": []
  },
  {
   "cell_type": "code",
   "execution_count": 68,
   "metadata": {
    "collapsed": true
   },
   "outputs": [],
   "source": [
    "postulantes.to_csv('/home/luupesado/7506_Datos/2018/TPsDatos_1C2018/TP2/Archivos_a_usar/postulantes2')"
   ]
  }
 ],
 "metadata": {
  "kernelspec": {
   "display_name": "Python 2",
   "language": "python",
   "name": "python2"
  },
  "language_info": {
   "codemirror_mode": {
    "name": "ipython",
    "version": 2
   },
   "file_extension": ".py",
   "mimetype": "text/x-python",
   "name": "python",
   "nbconvert_exporter": "python",
   "pygments_lexer": "ipython2",
   "version": "2.7.12"
  }
 },
 "nbformat": 4,
 "nbformat_minor": 2
}
