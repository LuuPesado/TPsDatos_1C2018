{
 "cells": [
  {
   "cell_type": "code",
   "execution_count": 1,
   "metadata": {
    "collapsed": true
   },
   "outputs": [],
   "source": [
    "import datetime as dt\n",
    "import pandas as pd\n",
    "import numpy as np"
   ]
  },
  {
   "cell_type": "code",
   "execution_count": 2,
   "metadata": {
    "collapsed": true
   },
   "outputs": [],
   "source": [
    "educacion = pd.read_csv('/home/luupesado/7506_Datos/2018/datos_tp/joins/educacion.csv')\n",
    "genero_y_edad = pd.read_csv('/home/luupesado/7506_Datos/2018/datos_tp/joins/genero_y_edad.csv')"
   ]
  },
  {
   "cell_type": "markdown",
   "metadata": {},
   "source": [
    "Limpiamos el set de datos de educación para quedarnos con el mayor nivel educativo de cada postulante, tal cual lo hicimos en el tp 1"
   ]
  },
  {
   "cell_type": "code",
   "execution_count": 3,
   "metadata": {
    "collapsed": true
   },
   "outputs": [],
   "source": [
    "educacion['nombre'] = educacion['nombre'].astype('string')"
   ]
  },
  {
   "cell_type": "code",
   "execution_count": 4,
   "metadata": {
    "collapsed": true
   },
   "outputs": [],
   "source": [
    "import unicodedata\n",
    "def elimina_tildes(s):\n",
    "   return ''.join((c for c in unicodedata.normalize('NFD', s) if unicodedata.category(c) != 'Mn'))"
   ]
  },
  {
   "cell_type": "code",
   "execution_count": 5,
   "metadata": {
    "collapsed": true
   },
   "outputs": [],
   "source": [
    "educacion['nombre'] = educacion['nombre'].apply(lambda x: elimina_tildes(x.decode('utf-8')))"
   ]
  },
  {
   "cell_type": "code",
   "execution_count": 6,
   "metadata": {
    "collapsed": true
   },
   "outputs": [],
   "source": [
    "educacion['nombre-estado'] = educacion['nombre'] + ' - ' + educacion['estado']"
   ]
  },
  {
   "cell_type": "code",
   "execution_count": 7,
   "metadata": {
    "collapsed": true
   },
   "outputs": [],
   "source": [
    "educacion['nombre-estado'] = educacion['nombre-estado'].astype('category')"
   ]
  },
  {
   "cell_type": "code",
   "execution_count": 8,
   "metadata": {
    "collapsed": true
   },
   "outputs": [],
   "source": [
    "categories_order = ['Otro - Abandonado',\n",
    " 'Otro - En Curso',                                        \n",
    " 'Otro - Graduado', \n",
    "'Secundario - Abandonado',\n",
    " 'Secundario - En Curso',\n",
    " 'Secundario - Graduado',\n",
    " 'Terciario/Tecnico - Abandonado',\n",
    " 'Terciario/Tecnico - En Curso',\n",
    " 'Terciario/Tecnico - Graduado',\n",
    " 'Universitario - Abandonado',\n",
    " 'Universitario - En Curso',\n",
    " 'Universitario - Graduado',\n",
    "'Posgrado - Abandonado',\n",
    " 'Posgrado - En Curso',\n",
    " 'Posgrado - Graduado',\n",
    " 'Master - Abandonado',\n",
    " 'Master - En Curso',\n",
    " 'Master - Graduado',\n",
    "'Doctorado - Abandonado',\n",
    " 'Doctorado - En Curso',\n",
    " 'Doctorado - Graduado']"
   ]
  },
  {
   "cell_type": "code",
   "execution_count": 9,
   "metadata": {
    "collapsed": true
   },
   "outputs": [],
   "source": [
    "educacion['nombre-estado'] = educacion['nombre-estado'].cat \\\n",
    "                                        .set_categories(categories_order, ordered = True)"
   ]
  },
  {
   "cell_type": "code",
   "execution_count": 10,
   "metadata": {
    "collapsed": true
   },
   "outputs": [],
   "source": [
    "educacion = educacion.sort_values('nombre-estado', ascending= False).drop_duplicates(subset='idpostulante', keep = 'first')"
   ]
  },
  {
   "cell_type": "markdown",
   "metadata": {},
   "source": [
    "Ahora limpiamos el set de datos de genero y edad, tal cual lo hicims el el tp1"
   ]
  },
  {
   "cell_type": "code",
   "execution_count": 11,
   "metadata": {
    "collapsed": true
   },
   "outputs": [],
   "source": [
    "import datetime as dt"
   ]
  },
  {
   "cell_type": "code",
   "execution_count": 12,
   "metadata": {
    "collapsed": true
   },
   "outputs": [],
   "source": [
    "def strdate_to_age(string):\n",
    "    \n",
    "    date = dt.datetime.strptime(string, \"%Y-%m-%d\")\n",
    "    today = dt.datetime(2018, 4, 1)\n",
    "    edad = today.year - date.year\n",
    "    if today.month >= date.month and today.day >= date.day:\n",
    "        edad = edad +1\n",
    "    return edad\n"
   ]
  },
  {
   "cell_type": "code",
   "execution_count": 13,
   "metadata": {
    "collapsed": true
   },
   "outputs": [],
   "source": [
    "genero_y_edad = genero_y_edad.dropna()"
   ]
  },
  {
   "cell_type": "code",
   "execution_count": 14,
   "metadata": {
    "collapsed": true
   },
   "outputs": [],
   "source": [
    "genero_y_edad['edad'] = genero_y_edad['fechanacimiento'].apply(lambda x: strdate_to_age(str(x)))"
   ]
  },
  {
   "cell_type": "code",
   "execution_count": 15,
   "metadata": {},
   "outputs": [
    {
     "name": "stdout",
     "output_type": "stream",
     "text": [
      "<class 'pandas.core.frame.DataFrame'>\n",
      "Int64Index: 745747 entries, 0 to 780018\n",
      "Data columns (total 5 columns):\n",
      "Unnamed: 0         745747 non-null int64\n",
      "idpostulante       745747 non-null object\n",
      "fechanacimiento    745747 non-null object\n",
      "sexo               745747 non-null object\n",
      "edad               745747 non-null int64\n",
      "dtypes: int64(2), object(3)\n",
      "memory usage: 34.1+ MB\n"
     ]
    }
   ],
   "source": [
    "genero_y_edad.info()"
   ]
  },
  {
   "cell_type": "markdown",
   "metadata": {},
   "source": [
    "Ahora hago el merge"
   ]
  },
  {
   "cell_type": "code",
   "execution_count": 16,
   "metadata": {},
   "outputs": [
    {
     "name": "stdout",
     "output_type": "stream",
     "text": [
      "<class 'pandas.core.frame.DataFrame'>\n",
      "Int64Index: 447909 entries, 1070867 to 641978\n",
      "Data columns (total 5 columns):\n",
      "Unnamed: 0       447909 non-null int64\n",
      "idpostulante     447909 non-null object\n",
      "nombre           447909 non-null object\n",
      "estado           447909 non-null object\n",
      "nombre-estado    447909 non-null category\n",
      "dtypes: category(1), int64(1), object(3)\n",
      "memory usage: 17.5+ MB\n"
     ]
    }
   ],
   "source": [
    "educacion.info()"
   ]
  },
  {
   "cell_type": "code",
   "execution_count": 17,
   "metadata": {},
   "outputs": [
    {
     "data": {
      "text/html": [
       "<div>\n",
       "<style>\n",
       "    .dataframe thead tr:only-child th {\n",
       "        text-align: right;\n",
       "    }\n",
       "\n",
       "    .dataframe thead th {\n",
       "        text-align: left;\n",
       "    }\n",
       "\n",
       "    .dataframe tbody tr th {\n",
       "        vertical-align: top;\n",
       "    }\n",
       "</style>\n",
       "<table border=\"1\" class=\"dataframe\">\n",
       "  <thead>\n",
       "    <tr style=\"text-align: right;\">\n",
       "      <th></th>\n",
       "      <th>Unnamed: 0</th>\n",
       "      <th>idpostulante</th>\n",
       "      <th>fechanacimiento</th>\n",
       "      <th>sexo</th>\n",
       "      <th>edad</th>\n",
       "    </tr>\n",
       "  </thead>\n",
       "  <tbody>\n",
       "    <tr>\n",
       "      <th>780010</th>\n",
       "      <td>297737</td>\n",
       "      <td>PmGx0vJ</td>\n",
       "      <td>1997-02-27</td>\n",
       "      <td>FEM</td>\n",
       "      <td>21</td>\n",
       "    </tr>\n",
       "    <tr>\n",
       "      <th>780012</th>\n",
       "      <td>297739</td>\n",
       "      <td>3NPqmBx</td>\n",
       "      <td>1990-01-08</td>\n",
       "      <td>FEM</td>\n",
       "      <td>28</td>\n",
       "    </tr>\n",
       "    <tr>\n",
       "      <th>780014</th>\n",
       "      <td>297741</td>\n",
       "      <td>wVkvPrQ</td>\n",
       "      <td>1994-02-24</td>\n",
       "      <td>MASC</td>\n",
       "      <td>24</td>\n",
       "    </tr>\n",
       "    <tr>\n",
       "      <th>780015</th>\n",
       "      <td>297742</td>\n",
       "      <td>MVrow99</td>\n",
       "      <td>1999-09-27</td>\n",
       "      <td>FEM</td>\n",
       "      <td>19</td>\n",
       "    </tr>\n",
       "    <tr>\n",
       "      <th>780018</th>\n",
       "      <td>297745</td>\n",
       "      <td>X95z68O</td>\n",
       "      <td>1998-10-29</td>\n",
       "      <td>MASC</td>\n",
       "      <td>20</td>\n",
       "    </tr>\n",
       "  </tbody>\n",
       "</table>\n",
       "</div>"
      ],
      "text/plain": [
       "        Unnamed: 0 idpostulante fechanacimiento  sexo  edad\n",
       "780010      297737      PmGx0vJ      1997-02-27   FEM    21\n",
       "780012      297739      3NPqmBx      1990-01-08   FEM    28\n",
       "780014      297741      wVkvPrQ      1994-02-24  MASC    24\n",
       "780015      297742      MVrow99      1999-09-27   FEM    19\n",
       "780018      297745      X95z68O      1998-10-29  MASC    20"
      ]
     },
     "execution_count": 17,
     "metadata": {},
     "output_type": "execute_result"
    }
   ],
   "source": [
    "genero_y_edad.tail()"
   ]
  },
  {
   "cell_type": "code",
   "execution_count": 18,
   "metadata": {
    "collapsed": true
   },
   "outputs": [],
   "source": [
    "del genero_y_edad['Unnamed: 0']\n",
    "del educacion['Unnamed: 0']"
   ]
  },
  {
   "cell_type": "code",
   "execution_count": 19,
   "metadata": {
    "collapsed": true
   },
   "outputs": [],
   "source": [
    "postulantes = pd.merge(genero_y_edad, educacion, on='idpostulante', how='inner')"
   ]
  },
  {
   "cell_type": "code",
   "execution_count": 20,
   "metadata": {},
   "outputs": [
    {
     "data": {
      "text/html": [
       "<div>\n",
       "<style>\n",
       "    .dataframe thead tr:only-child th {\n",
       "        text-align: right;\n",
       "    }\n",
       "\n",
       "    .dataframe thead th {\n",
       "        text-align: left;\n",
       "    }\n",
       "\n",
       "    .dataframe tbody tr th {\n",
       "        vertical-align: top;\n",
       "    }\n",
       "</style>\n",
       "<table border=\"1\" class=\"dataframe\">\n",
       "  <thead>\n",
       "    <tr style=\"text-align: right;\">\n",
       "      <th></th>\n",
       "      <th>idpostulante</th>\n",
       "      <th>fechanacimiento</th>\n",
       "      <th>sexo</th>\n",
       "      <th>edad</th>\n",
       "      <th>nombre</th>\n",
       "      <th>estado</th>\n",
       "      <th>nombre-estado</th>\n",
       "    </tr>\n",
       "  </thead>\n",
       "  <tbody>\n",
       "    <tr>\n",
       "      <th>0</th>\n",
       "      <td>YZP</td>\n",
       "      <td>1961-05-01</td>\n",
       "      <td>MASC</td>\n",
       "      <td>57</td>\n",
       "      <td>Master</td>\n",
       "      <td>En Curso</td>\n",
       "      <td>Master - En Curso</td>\n",
       "    </tr>\n",
       "    <tr>\n",
       "      <th>1</th>\n",
       "      <td>ebE</td>\n",
       "      <td>1952-07-07</td>\n",
       "      <td>MASC</td>\n",
       "      <td>66</td>\n",
       "      <td>Posgrado</td>\n",
       "      <td>Graduado</td>\n",
       "      <td>Posgrado - Graduado</td>\n",
       "    </tr>\n",
       "    <tr>\n",
       "      <th>2</th>\n",
       "      <td>ebE</td>\n",
       "      <td>1952-07-07</td>\n",
       "      <td>MASC</td>\n",
       "      <td>66</td>\n",
       "      <td>Posgrado</td>\n",
       "      <td>Graduado</td>\n",
       "      <td>Posgrado - Graduado</td>\n",
       "    </tr>\n",
       "    <tr>\n",
       "      <th>3</th>\n",
       "      <td>ZjlZ</td>\n",
       "      <td>1970-01-25</td>\n",
       "      <td>MASC</td>\n",
       "      <td>48</td>\n",
       "      <td>Master</td>\n",
       "      <td>Graduado</td>\n",
       "      <td>Master - Graduado</td>\n",
       "    </tr>\n",
       "    <tr>\n",
       "      <th>4</th>\n",
       "      <td>ZjlZ</td>\n",
       "      <td>1970-01-25</td>\n",
       "      <td>MASC</td>\n",
       "      <td>48</td>\n",
       "      <td>Master</td>\n",
       "      <td>Graduado</td>\n",
       "      <td>Master - Graduado</td>\n",
       "    </tr>\n",
       "  </tbody>\n",
       "</table>\n",
       "</div>"
      ],
      "text/plain": [
       "  idpostulante fechanacimiento  sexo  edad    nombre    estado  \\\n",
       "0          YZP      1961-05-01  MASC    57    Master  En Curso   \n",
       "1          ebE      1952-07-07  MASC    66  Posgrado  Graduado   \n",
       "2          ebE      1952-07-07  MASC    66  Posgrado  Graduado   \n",
       "3         ZjlZ      1970-01-25  MASC    48    Master  Graduado   \n",
       "4         ZjlZ      1970-01-25  MASC    48    Master  Graduado   \n",
       "\n",
       "         nombre-estado  \n",
       "0    Master - En Curso  \n",
       "1  Posgrado - Graduado  \n",
       "2  Posgrado - Graduado  \n",
       "3    Master - Graduado  \n",
       "4    Master - Graduado  "
      ]
     },
     "execution_count": 20,
     "metadata": {},
     "output_type": "execute_result"
    }
   ],
   "source": [
    "postulantes.head()"
   ]
  },
  {
   "cell_type": "code",
   "execution_count": 21,
   "metadata": {},
   "outputs": [
    {
     "name": "stdout",
     "output_type": "stream",
     "text": [
      "<class 'pandas.core.frame.DataFrame'>\n",
      "Int64Index: 693704 entries, 0 to 693703\n",
      "Data columns (total 7 columns):\n",
      "idpostulante       693704 non-null object\n",
      "fechanacimiento    693704 non-null object\n",
      "sexo               693704 non-null object\n",
      "edad               693704 non-null int64\n",
      "nombre             693704 non-null object\n",
      "estado             693704 non-null object\n",
      "nombre-estado      693704 non-null category\n",
      "dtypes: category(1), int64(1), object(5)\n",
      "memory usage: 37.7+ MB\n"
     ]
    }
   ],
   "source": [
    "postulantes.info()"
   ]
  },
  {
   "cell_type": "markdown",
   "metadata": {},
   "source": [
    "Ahora filtramos los postulantes por edad, que no habíamos olvidade de hacer antes del merge. NOs quedamos con los postulantes entre 16 y 70 años. Según vimos en el primer TP había muy pocos datos de gente de otras edades. Además los menores de 16 no pueden trabajar legalmente y si bien la edad jubilatoria no es 70 perdemos muy pocos datos con esta restricvción según vimos en el TP1."
   ]
  },
  {
   "cell_type": "code",
   "execution_count": 22,
   "metadata": {
    "collapsed": true
   },
   "outputs": [],
   "source": [
    "postulantes = postulantes[postulantes['edad'] >=16]\n",
    "postulantes = postulantes[postulantes['edad'] <=70]"
   ]
  },
  {
   "cell_type": "code",
   "execution_count": 23,
   "metadata": {},
   "outputs": [
    {
     "name": "stdout",
     "output_type": "stream",
     "text": [
      "<class 'pandas.core.frame.DataFrame'>\n",
      "Int64Index: 693517 entries, 0 to 693703\n",
      "Data columns (total 7 columns):\n",
      "idpostulante       693517 non-null object\n",
      "fechanacimiento    693517 non-null object\n",
      "sexo               693517 non-null object\n",
      "edad               693517 non-null int64\n",
      "nombre             693517 non-null object\n",
      "estado             693517 non-null object\n",
      "nombre-estado      693517 non-null category\n",
      "dtypes: category(1), int64(1), object(5)\n",
      "memory usage: 37.7+ MB\n"
     ]
    }
   ],
   "source": [
    "postulantes.info()"
   ]
  },
  {
   "cell_type": "code",
   "execution_count": 24,
   "metadata": {
    "collapsed": true
   },
   "outputs": [],
   "source": [
    "postulantes['idpostulante'] = postulantes.drop_duplicates(subset = 'idpostulante')"
   ]
  },
  {
   "cell_type": "code",
   "execution_count": 25,
   "metadata": {
    "collapsed": true
   },
   "outputs": [],
   "source": [
    "postulantes = postulantes.dropna()"
   ]
  },
  {
   "cell_type": "code",
   "execution_count": 26,
   "metadata": {},
   "outputs": [
    {
     "name": "stdout",
     "output_type": "stream",
     "text": [
      "<class 'pandas.core.frame.DataFrame'>\n",
      "Int64Index: 438597 entries, 0 to 693703\n",
      "Data columns (total 7 columns):\n",
      "idpostulante       438597 non-null object\n",
      "fechanacimiento    438597 non-null object\n",
      "sexo               438597 non-null object\n",
      "edad               438597 non-null int64\n",
      "nombre             438597 non-null object\n",
      "estado             438597 non-null object\n",
      "nombre-estado      438597 non-null category\n",
      "dtypes: category(1), int64(1), object(5)\n",
      "memory usage: 23.8+ MB\n"
     ]
    }
   ],
   "source": [
    "postulantes.info()"
   ]
  },
  {
   "cell_type": "code",
   "execution_count": 27,
   "metadata": {
    "collapsed": true
   },
   "outputs": [],
   "source": [
    "postulantes.to_csv('/home/luupesado/7506_Datos/2018/TPsDatos_1C2018/TP2/Archivos_a_usar/postulantes')"
   ]
  }
 ],
 "metadata": {
  "kernelspec": {
   "display_name": "Python 2",
   "language": "python",
   "name": "python2"
  },
  "language_info": {
   "codemirror_mode": {
    "name": "ipython",
    "version": 2
   },
   "file_extension": ".py",
   "mimetype": "text/x-python",
   "name": "python",
   "nbconvert_exporter": "python",
   "pygments_lexer": "ipython2",
   "version": "2.7.12"
  }
 },
 "nbformat": 4,
 "nbformat_minor": 2
}
