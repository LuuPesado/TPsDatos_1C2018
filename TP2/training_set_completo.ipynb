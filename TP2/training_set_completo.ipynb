{
 "cells": [
  {
   "cell_type": "code",
   "execution_count": 1,
   "metadata": {},
   "outputs": [
    {
     "name": "stdout",
     "output_type": "stream",
     "text": [
      "set(['SHA1', 'SHA224', 'SHA', 'SHA384', 'ecdsa-with-SHA1', 'SHA256', 'SHA512', 'md4', 'md5', 'sha1', 'dsaWithSHA', 'DSA-SHA', 'sha224', 'dsaEncryption', 'DSA', 'ripemd160', 'sha', 'MD5', 'MD4', 'sha384', 'sha256', 'sha512', 'RIPEMD160', 'whirlpool'])\n"
     ]
    }
   ],
   "source": [
    "import hashlib\n",
    "print(hashlib.algorithms_available)"
   ]
  },
  {
   "cell_type": "code",
   "execution_count": 1,
   "metadata": {
    "collapsed": true
   },
   "outputs": [],
   "source": [
    "import pandas as pd\n",
    "import pyspark as py\n",
    "import numpy as np"
   ]
  },
  {
   "cell_type": "code",
   "execution_count": 2,
   "metadata": {
    "collapsed": true
   },
   "outputs": [],
   "source": [
    "ts = pd.read_csv('/home/luupesado/7506_Datos/2018/datos_tp/real_test/TrainingSet/Training_set.csv')"
   ]
  },
  {
   "cell_type": "code",
   "execution_count": 3,
   "metadata": {},
   "outputs": [
    {
     "data": {
      "text/html": [
       "<div>\n",
       "<style>\n",
       "    .dataframe thead tr:only-child th {\n",
       "        text-align: right;\n",
       "    }\n",
       "\n",
       "    .dataframe thead th {\n",
       "        text-align: left;\n",
       "    }\n",
       "\n",
       "    .dataframe tbody tr th {\n",
       "        vertical-align: top;\n",
       "    }\n",
       "</style>\n",
       "<table border=\"1\" class=\"dataframe\">\n",
       "  <thead>\n",
       "    <tr style=\"text-align: right;\">\n",
       "      <th></th>\n",
       "      <th>Unnamed: 0</th>\n",
       "      <th>idaviso</th>\n",
       "      <th>idpostulante</th>\n",
       "      <th>sepostulo</th>\n",
       "    </tr>\n",
       "  </thead>\n",
       "  <tbody>\n",
       "    <tr>\n",
       "      <th>14915011</th>\n",
       "      <td>8311259</td>\n",
       "      <td>1112334789</td>\n",
       "      <td>5mPJNDG</td>\n",
       "      <td>1</td>\n",
       "    </tr>\n",
       "    <tr>\n",
       "      <th>14915012</th>\n",
       "      <td>8311260</td>\n",
       "      <td>1112334784</td>\n",
       "      <td>5mPJNDG</td>\n",
       "      <td>1</td>\n",
       "    </tr>\n",
       "    <tr>\n",
       "      <th>14915013</th>\n",
       "      <td>8311261</td>\n",
       "      <td>1112334806</td>\n",
       "      <td>5mPJNDG</td>\n",
       "      <td>1</td>\n",
       "    </tr>\n",
       "    <tr>\n",
       "      <th>14915014</th>\n",
       "      <td>8311262</td>\n",
       "      <td>1112303592</td>\n",
       "      <td>zvabRzD</td>\n",
       "      <td>1</td>\n",
       "    </tr>\n",
       "    <tr>\n",
       "      <th>14915015</th>\n",
       "      <td>8311263</td>\n",
       "      <td>1110591925</td>\n",
       "      <td>zvabRzD</td>\n",
       "      <td>1</td>\n",
       "    </tr>\n",
       "  </tbody>\n",
       "</table>\n",
       "</div>"
      ],
      "text/plain": [
       "          Unnamed: 0     idaviso idpostulante  sepostulo\n",
       "14915011     8311259  1112334789      5mPJNDG          1\n",
       "14915012     8311260  1112334784      5mPJNDG          1\n",
       "14915013     8311261  1112334806      5mPJNDG          1\n",
       "14915014     8311262  1112303592      zvabRzD          1\n",
       "14915015     8311263  1110591925      zvabRzD          1"
      ]
     },
     "execution_count": 3,
     "metadata": {},
     "output_type": "execute_result"
    }
   ],
   "source": [
    "ts.tail()"
   ]
  },
  {
   "cell_type": "code",
   "execution_count": 4,
   "metadata": {
    "collapsed": true
   },
   "outputs": [],
   "source": [
    "ts = ts.sample(n=1500000)"
   ]
  },
  {
   "cell_type": "code",
   "execution_count": 5,
   "metadata": {},
   "outputs": [
    {
     "data": {
      "text/html": [
       "<div>\n",
       "<style>\n",
       "    .dataframe thead tr:only-child th {\n",
       "        text-align: right;\n",
       "    }\n",
       "\n",
       "    .dataframe thead th {\n",
       "        text-align: left;\n",
       "    }\n",
       "\n",
       "    .dataframe tbody tr th {\n",
       "        vertical-align: top;\n",
       "    }\n",
       "</style>\n",
       "<table border=\"1\" class=\"dataframe\">\n",
       "  <thead>\n",
       "    <tr style=\"text-align: right;\">\n",
       "      <th></th>\n",
       "      <th>Unnamed: 0</th>\n",
       "      <th>idaviso</th>\n",
       "      <th>idpostulante</th>\n",
       "      <th>sepostulo</th>\n",
       "    </tr>\n",
       "  </thead>\n",
       "  <tbody>\n",
       "    <tr>\n",
       "      <th>8622639</th>\n",
       "      <td>2018887</td>\n",
       "      <td>1112351629</td>\n",
       "      <td>MVedJAe</td>\n",
       "      <td>1</td>\n",
       "    </tr>\n",
       "    <tr>\n",
       "      <th>12818872</th>\n",
       "      <td>6215120</td>\n",
       "      <td>1112228888</td>\n",
       "      <td>e9OxGE</td>\n",
       "      <td>1</td>\n",
       "    </tr>\n",
       "    <tr>\n",
       "      <th>724295</th>\n",
       "      <td>724295</td>\n",
       "      <td>1112257047</td>\n",
       "      <td>xkvaNvx</td>\n",
       "      <td>0</td>\n",
       "    </tr>\n",
       "    <tr>\n",
       "      <th>3673030</th>\n",
       "      <td>3673030</td>\n",
       "      <td>1112429440</td>\n",
       "      <td>dYzYAd2</td>\n",
       "      <td>0</td>\n",
       "    </tr>\n",
       "    <tr>\n",
       "      <th>10418873</th>\n",
       "      <td>3815121</td>\n",
       "      <td>1112437647</td>\n",
       "      <td>9690Vv8</td>\n",
       "      <td>1</td>\n",
       "    </tr>\n",
       "  </tbody>\n",
       "</table>\n",
       "</div>"
      ],
      "text/plain": [
       "          Unnamed: 0     idaviso idpostulante  sepostulo\n",
       "8622639      2018887  1112351629      MVedJAe          1\n",
       "12818872     6215120  1112228888       e9OxGE          1\n",
       "724295        724295  1112257047      xkvaNvx          0\n",
       "3673030      3673030  1112429440      dYzYAd2          0\n",
       "10418873     3815121  1112437647      9690Vv8          1"
      ]
     },
     "execution_count": 5,
     "metadata": {},
     "output_type": "execute_result"
    }
   ],
   "source": [
    "ts.tail()"
   ]
  },
  {
   "cell_type": "code",
   "execution_count": 6,
   "metadata": {
    "collapsed": true
   },
   "outputs": [],
   "source": [
    "del ts['Unnamed: 0']"
   ]
  },
  {
   "cell_type": "code",
   "execution_count": 7,
   "metadata": {},
   "outputs": [
    {
     "name": "stdout",
     "output_type": "stream",
     "text": [
      "<class 'pandas.core.frame.DataFrame'>\n",
      "Int64Index: 1500000 entries, 7702601 to 10418873\n",
      "Data columns (total 3 columns):\n",
      "idaviso         1500000 non-null int64\n",
      "idpostulante    1500000 non-null object\n",
      "sepostulo       1500000 non-null int64\n",
      "dtypes: int64(2), object(1)\n",
      "memory usage: 45.8+ MB\n"
     ]
    }
   ],
   "source": [
    "ts.info()"
   ]
  },
  {
   "cell_type": "code",
   "execution_count": 8,
   "metadata": {
    "collapsed": true
   },
   "outputs": [],
   "source": [
    "ts.to_csv('/home/luupesado/7506_Datos/2018/datos_tp/real_test/TrainingSet/Training_set15M.csv', index = False)"
   ]
  },
  {
   "cell_type": "code",
   "execution_count": 9,
   "metadata": {
    "collapsed": true
   },
   "outputs": [],
   "source": [
    "ts = pd.read_csv('/home/luupesado/7506_Datos/2018/datos_tp/real_test/TrainingSet/Training_set15M.csv')"
   ]
  },
  {
   "cell_type": "code",
   "execution_count": 10,
   "metadata": {
    "collapsed": true
   },
   "outputs": [],
   "source": [
    "avisos = pd.read_csv('/home/luupesado/7506_Datos/2018/datos_tp/real_test/TrainingSet/avisos_ts2.csv')\n",
    "postulantes = pd.read_csv('/home/luupesado/7506_Datos/2018/datos_tp/real_test/TrainingSet/postulantes_to_train_2.csv')"
   ]
  },
  {
   "cell_type": "code",
   "execution_count": 11,
   "metadata": {},
   "outputs": [
    {
     "name": "stdout",
     "output_type": "stream",
     "text": [
      "<class 'pandas.core.frame.DataFrame'>\n",
      "RangeIndex: 25288 entries, 0 to 25287\n",
      "Data columns (total 7 columns):\n",
      "Unnamed: 0         25288 non-null int64\n",
      "idaviso            25288 non-null int64\n",
      "nombre_zona        25288 non-null int64\n",
      "tipo_de_trabajo    25288 non-null int64\n",
      "nivel_laboral      25288 non-null int64\n",
      "nombre_area        25288 non-null int64\n",
      "online             25288 non-null float64\n",
      "dtypes: float64(1), int64(6)\n",
      "memory usage: 1.4 MB\n"
     ]
    }
   ],
   "source": [
    "avisos.info()"
   ]
  },
  {
   "cell_type": "code",
   "execution_count": 12,
   "metadata": {
    "collapsed": true
   },
   "outputs": [],
   "source": [
    "ts = pd.merge(ts, avisos, on = 'idaviso', how='left')"
   ]
  },
  {
   "cell_type": "code",
   "execution_count": 13,
   "metadata": {
    "collapsed": true
   },
   "outputs": [],
   "source": [
    "ts = pd.merge(ts, postulantes, on = 'idpostulante', how = 'left')"
   ]
  },
  {
   "cell_type": "code",
   "execution_count": 14,
   "metadata": {},
   "outputs": [
    {
     "name": "stdout",
     "output_type": "stream",
     "text": [
      "<class 'pandas.core.frame.DataFrame'>\n",
      "Int64Index: 1500000 entries, 0 to 1499999\n",
      "Data columns (total 17 columns):\n",
      "idaviso            1500000 non-null int64\n",
      "idpostulante       1500000 non-null object\n",
      "sepostulo          1500000 non-null int64\n",
      "Unnamed: 0         1400945 non-null float64\n",
      "nombre_zona        1400945 non-null float64\n",
      "tipo_de_trabajo    1400945 non-null float64\n",
      "nivel_laboral      1400945 non-null float64\n",
      "nombre_area        1400945 non-null float64\n",
      "online             1400945 non-null float64\n",
      "sexo               1500000 non-null float64\n",
      "edad               1500000 non-null int64\n",
      "nombre             1500000 non-null int64\n",
      "estado             1500000 non-null int64\n",
      "nombre-estado      1500000 non-null int64\n",
      "mesnacimiento      1500000 non-null int64\n",
      "dianacimiento      1500000 non-null int64\n",
      "anionacimiento     1500000 non-null int64\n",
      "dtypes: float64(7), int64(9), object(1)\n",
      "memory usage: 206.0+ MB\n"
     ]
    }
   ],
   "source": [
    "ts.info()"
   ]
  },
  {
   "cell_type": "code",
   "execution_count": 15,
   "metadata": {
    "collapsed": true
   },
   "outputs": [],
   "source": [
    "del ts['Unnamed: 0']"
   ]
  },
  {
   "cell_type": "code",
   "execution_count": 16,
   "metadata": {
    "collapsed": true
   },
   "outputs": [],
   "source": [
    "ts.to_csv('/home/luupesado/7506_Datos/2018/datos_tp/real_test/TrainingSet/Training_set15M.csv', index = False)"
   ]
  },
  {
   "cell_type": "code",
   "execution_count": 17,
   "metadata": {
    "collapsed": true
   },
   "outputs": [],
   "source": [
    "ts = pd.read_csv('/home/luupesado/7506_Datos/2018/datos_tp/real_test/TrainingSet/Training_set15M.csv')"
   ]
  },
  {
   "cell_type": "code",
   "execution_count": 18,
   "metadata": {
    "collapsed": true
   },
   "outputs": [],
   "source": [
    "df100k = pd.read_csv('/home/luupesado/7506_Datos/2018/test_final_100k.csv')"
   ]
  },
  {
   "cell_type": "code",
   "execution_count": 19,
   "metadata": {
    "collapsed": true
   },
   "outputs": [],
   "source": [
    "df100k = pd.merge(df100k, avisos, on = 'idaviso', how='left')\n",
    "df100k = pd.merge(df100k, postulantes, on = 'idpostulante', how = 'left')"
   ]
  },
  {
   "cell_type": "code",
   "execution_count": 20,
   "metadata": {
    "collapsed": true
   },
   "outputs": [],
   "source": [
    "del df100k['Unnamed: 0']"
   ]
  },
  {
   "cell_type": "code",
   "execution_count": 21,
   "metadata": {
    "collapsed": true
   },
   "outputs": [],
   "source": [
    "df100k.to_csv('/home/luupesado/7506_Datos/2018/datos_tp/real_test/TestsSet/100k_as_ts15M.csv', index = False)"
   ]
  },
  {
   "cell_type": "code",
   "execution_count": 22,
   "metadata": {
    "collapsed": true
   },
   "outputs": [],
   "source": [
    "df100k = pd.read_csv('/home/luupesado/7506_Datos/2018/datos_tp/real_test/TestsSet/100k_as_ts15M.csv')"
   ]
  },
  {
   "cell_type": "code",
   "execution_count": 23,
   "metadata": {},
   "outputs": [
    {
     "name": "stdout",
     "output_type": "stream",
     "text": [
      "<class 'pandas.core.frame.DataFrame'>\n",
      "RangeIndex: 1500000 entries, 0 to 1499999\n",
      "Data columns (total 16 columns):\n",
      "idaviso            1500000 non-null int64\n",
      "idpostulante       1500000 non-null object\n",
      "sepostulo          1500000 non-null int64\n",
      "nombre_zona        1400945 non-null float64\n",
      "tipo_de_trabajo    1400945 non-null float64\n",
      "nivel_laboral      1400945 non-null float64\n",
      "nombre_area        1400945 non-null float64\n",
      "online             1400945 non-null float64\n",
      "sexo               1500000 non-null float64\n",
      "edad               1500000 non-null int64\n",
      "nombre             1500000 non-null int64\n",
      "estado             1500000 non-null int64\n",
      "nombre-estado      1500000 non-null int64\n",
      "mesnacimiento      1500000 non-null int64\n",
      "dianacimiento      1500000 non-null int64\n",
      "anionacimiento     1500000 non-null int64\n",
      "dtypes: float64(6), int64(9), object(1)\n",
      "memory usage: 183.1+ MB\n"
     ]
    }
   ],
   "source": [
    "ts.info()"
   ]
  },
  {
   "cell_type": "code",
   "execution_count": 24,
   "metadata": {},
   "outputs": [
    {
     "name": "stdout",
     "output_type": "stream",
     "text": [
      "<class 'pandas.core.frame.DataFrame'>\n",
      "RangeIndex: 100000 entries, 0 to 99999\n",
      "Data columns (total 16 columns):\n",
      "id                 100000 non-null int64\n",
      "idaviso            100000 non-null int64\n",
      "idpostulante       100000 non-null object\n",
      "nombre_zona        100000 non-null int64\n",
      "tipo_de_trabajo    100000 non-null int64\n",
      "nivel_laboral      100000 non-null int64\n",
      "nombre_area        100000 non-null int64\n",
      "online             100000 non-null float64\n",
      "sexo               100000 non-null float64\n",
      "edad               100000 non-null int64\n",
      "nombre             100000 non-null int64\n",
      "estado             100000 non-null int64\n",
      "nombre-estado      100000 non-null int64\n",
      "mesnacimiento      100000 non-null int64\n",
      "dianacimiento      100000 non-null int64\n",
      "anionacimiento     100000 non-null int64\n",
      "dtypes: float64(2), int64(13), object(1)\n",
      "memory usage: 12.2+ MB\n"
     ]
    }
   ],
   "source": [
    "df100k.info()"
   ]
  },
  {
   "cell_type": "code",
   "execution_count": 25,
   "metadata": {},
   "outputs": [
    {
     "data": {
      "text/html": [
       "<div>\n",
       "<style>\n",
       "    .dataframe thead tr:only-child th {\n",
       "        text-align: right;\n",
       "    }\n",
       "\n",
       "    .dataframe thead th {\n",
       "        text-align: left;\n",
       "    }\n",
       "\n",
       "    .dataframe tbody tr th {\n",
       "        vertical-align: top;\n",
       "    }\n",
       "</style>\n",
       "<table border=\"1\" class=\"dataframe\">\n",
       "  <thead>\n",
       "    <tr style=\"text-align: right;\">\n",
       "      <th></th>\n",
       "      <th>id</th>\n",
       "      <th>idaviso</th>\n",
       "      <th>idpostulante</th>\n",
       "      <th>nombre_zona</th>\n",
       "      <th>tipo_de_trabajo</th>\n",
       "      <th>nivel_laboral</th>\n",
       "      <th>nombre_area</th>\n",
       "      <th>online</th>\n",
       "      <th>sexo</th>\n",
       "      <th>edad</th>\n",
       "      <th>nombre</th>\n",
       "      <th>estado</th>\n",
       "      <th>nombre-estado</th>\n",
       "      <th>mesnacimiento</th>\n",
       "      <th>dianacimiento</th>\n",
       "      <th>anionacimiento</th>\n",
       "    </tr>\n",
       "  </thead>\n",
       "  <tbody>\n",
       "    <tr>\n",
       "      <th>99995</th>\n",
       "      <td>99995</td>\n",
       "      <td>1112515111</td>\n",
       "      <td>5RVZBp</td>\n",
       "      <td>0</td>\n",
       "      <td>0</td>\n",
       "      <td>1</td>\n",
       "      <td>51</td>\n",
       "      <td>0.0</td>\n",
       "      <td>0.0</td>\n",
       "      <td>40</td>\n",
       "      <td>3</td>\n",
       "      <td>2</td>\n",
       "      <td>11</td>\n",
       "      <td>8</td>\n",
       "      <td>30</td>\n",
       "      <td>1978</td>\n",
       "    </tr>\n",
       "    <tr>\n",
       "      <th>99996</th>\n",
       "      <td>99996</td>\n",
       "      <td>1112515111</td>\n",
       "      <td>ZvQXN1</td>\n",
       "      <td>0</td>\n",
       "      <td>0</td>\n",
       "      <td>1</td>\n",
       "      <td>51</td>\n",
       "      <td>0.0</td>\n",
       "      <td>1.0</td>\n",
       "      <td>39</td>\n",
       "      <td>3</td>\n",
       "      <td>2</td>\n",
       "      <td>11</td>\n",
       "      <td>12</td>\n",
       "      <td>26</td>\n",
       "      <td>1979</td>\n",
       "    </tr>\n",
       "    <tr>\n",
       "      <th>99997</th>\n",
       "      <td>99997</td>\n",
       "      <td>1112515116</td>\n",
       "      <td>NmpwAB</td>\n",
       "      <td>0</td>\n",
       "      <td>4</td>\n",
       "      <td>0</td>\n",
       "      <td>81</td>\n",
       "      <td>0.0</td>\n",
       "      <td>1.0</td>\n",
       "      <td>41</td>\n",
       "      <td>3</td>\n",
       "      <td>0</td>\n",
       "      <td>9</td>\n",
       "      <td>7</td>\n",
       "      <td>22</td>\n",
       "      <td>1977</td>\n",
       "    </tr>\n",
       "    <tr>\n",
       "      <th>99998</th>\n",
       "      <td>99998</td>\n",
       "      <td>1112515116</td>\n",
       "      <td>aZJMqJ</td>\n",
       "      <td>0</td>\n",
       "      <td>4</td>\n",
       "      <td>0</td>\n",
       "      <td>81</td>\n",
       "      <td>0.0</td>\n",
       "      <td>1.0</td>\n",
       "      <td>32</td>\n",
       "      <td>3</td>\n",
       "      <td>1</td>\n",
       "      <td>10</td>\n",
       "      <td>8</td>\n",
       "      <td>12</td>\n",
       "      <td>1986</td>\n",
       "    </tr>\n",
       "    <tr>\n",
       "      <th>99999</th>\n",
       "      <td>99999</td>\n",
       "      <td>1112515116</td>\n",
       "      <td>8R48Ex</td>\n",
       "      <td>0</td>\n",
       "      <td>4</td>\n",
       "      <td>0</td>\n",
       "      <td>81</td>\n",
       "      <td>0.0</td>\n",
       "      <td>0.0</td>\n",
       "      <td>45</td>\n",
       "      <td>1</td>\n",
       "      <td>2</td>\n",
       "      <td>5</td>\n",
       "      <td>10</td>\n",
       "      <td>12</td>\n",
       "      <td>1973</td>\n",
       "    </tr>\n",
       "  </tbody>\n",
       "</table>\n",
       "</div>"
      ],
      "text/plain": [
       "          id     idaviso idpostulante  nombre_zona  tipo_de_trabajo  \\\n",
       "99995  99995  1112515111       5RVZBp            0                0   \n",
       "99996  99996  1112515111       ZvQXN1            0                0   \n",
       "99997  99997  1112515116       NmpwAB            0                4   \n",
       "99998  99998  1112515116       aZJMqJ            0                4   \n",
       "99999  99999  1112515116       8R48Ex            0                4   \n",
       "\n",
       "       nivel_laboral  nombre_area  online  sexo  edad  nombre  estado  \\\n",
       "99995              1           51     0.0   0.0    40       3       2   \n",
       "99996              1           51     0.0   1.0    39       3       2   \n",
       "99997              0           81     0.0   1.0    41       3       0   \n",
       "99998              0           81     0.0   1.0    32       3       1   \n",
       "99999              0           81     0.0   0.0    45       1       2   \n",
       "\n",
       "       nombre-estado  mesnacimiento  dianacimiento  anionacimiento  \n",
       "99995             11              8             30            1978  \n",
       "99996             11             12             26            1979  \n",
       "99997              9              7             22            1977  \n",
       "99998             10              8             12            1986  \n",
       "99999              5             10             12            1973  "
      ]
     },
     "execution_count": 25,
     "metadata": {},
     "output_type": "execute_result"
    }
   ],
   "source": [
    "df100k.tail()"
   ]
  },
  {
   "cell_type": "code",
   "execution_count": 26,
   "metadata": {},
   "outputs": [
    {
     "name": "stdout",
     "output_type": "stream",
     "text": [
      "<class 'pandas.core.frame.DataFrame'>\n",
      "RangeIndex: 100000 entries, 0 to 99999\n",
      "Data columns (total 16 columns):\n",
      "id                 100000 non-null int64\n",
      "idaviso            100000 non-null int64\n",
      "idpostulante       100000 non-null object\n",
      "nombre_zona        100000 non-null int64\n",
      "tipo_de_trabajo    100000 non-null int64\n",
      "nivel_laboral      100000 non-null int64\n",
      "nombre_area        100000 non-null int64\n",
      "online             100000 non-null float64\n",
      "sexo               100000 non-null float64\n",
      "edad               100000 non-null int64\n",
      "nombre             100000 non-null int64\n",
      "estado             100000 non-null int64\n",
      "nombre-estado      100000 non-null int64\n",
      "mesnacimiento      100000 non-null int64\n",
      "dianacimiento      100000 non-null int64\n",
      "anionacimiento     100000 non-null int64\n",
      "dtypes: float64(2), int64(13), object(1)\n",
      "memory usage: 12.2+ MB\n"
     ]
    }
   ],
   "source": [
    "df100k.info()"
   ]
  },
  {
   "cell_type": "code",
   "execution_count": 26,
   "metadata": {},
   "outputs": [],
   "source": [
    "df100k['nombre_zona'] = df100k['nombre_zona'].fillna(ts['nombre_zona'].mean())\n",
    "df100k['tipo_de_trabajo'] = df100k['tipo_de_trabajo'].fillna(ts['tipo_de_trabajo'].mean())\n",
    "df100k['nivel_laboral'] = df100k['nivel_laboral'].fillna(ts['nivel_laboral'].mean())\n",
    "df100k['nombre_area'] = df100k['nombre_area'].fillna(ts['nombre_area'].mean())\n",
    "df100k['online'] = df100k['online'].fillna(ts['online'].mean())\n",
    "df100k['sexo'] = df100k['sexo'].fillna(ts['sexo'].mean())\n",
    "df100k['edad'] = df100k['edad'].fillna(ts['edad'].mean())\n",
    "df100k['nombre'] = df100k['nombre'].fillna(ts['nombre'].mean())\n",
    "df100k['estado'] = df100k['estado'].fillna(ts['estado'].mean())\n",
    "df100k['nombre-estado'] = df100k['nombre-estado'].fillna(ts['nombre-estado'].mean())\n",
    "df100k['anionacimiento'] = df100k['anionacimiento'].fillna(ts['anionacimiento'].mean())\n",
    "df100k['mesnacimiento'] = df100k['mesnacimiento'].fillna(ts['mesnacimiento'].mean())\n",
    "df100k['dianacimiento'] = df100k['dianacimiento'].fillna(ts['dianacimiento'].mean())\n"
   ]
  },
  {
   "cell_type": "code",
   "execution_count": 27,
   "metadata": {},
   "outputs": [
    {
     "name": "stdout",
     "output_type": "stream",
     "text": [
      "<class 'pandas.core.frame.DataFrame'>\n",
      "RangeIndex: 100000 entries, 0 to 99999\n",
      "Data columns (total 16 columns):\n",
      "id                 100000 non-null int64\n",
      "idaviso            100000 non-null int64\n",
      "idpostulante       100000 non-null object\n",
      "nombre_zona        100000 non-null int64\n",
      "tipo_de_trabajo    100000 non-null int64\n",
      "nivel_laboral      100000 non-null int64\n",
      "nombre_area        100000 non-null int64\n",
      "online             100000 non-null float64\n",
      "sexo               100000 non-null float64\n",
      "edad               100000 non-null int64\n",
      "nombre             100000 non-null int64\n",
      "estado             100000 non-null int64\n",
      "nombre-estado      100000 non-null int64\n",
      "mesnacimiento      100000 non-null int64\n",
      "dianacimiento      100000 non-null int64\n",
      "anionacimiento     100000 non-null int64\n",
      "dtypes: float64(2), int64(13), object(1)\n",
      "memory usage: 12.2+ MB\n"
     ]
    }
   ],
   "source": [
    "df100k.info()"
   ]
  },
  {
   "cell_type": "code",
   "execution_count": 28,
   "metadata": {
    "collapsed": true
   },
   "outputs": [],
   "source": [
    "df100k.to_csv('/home/luupesado/7506_Datos/2018/datos_tp/real_test/TestsSet/100k_as_ts15M.csv', index = False)"
   ]
  },
  {
   "cell_type": "code",
   "execution_count": 29,
   "metadata": {},
   "outputs": [
    {
     "ename": "KeyError",
     "evalue": "'Unnamed: 0'",
     "output_type": "error",
     "traceback": [
      "\u001b[0;31m---------------------------------------------------------------------------\u001b[0m",
      "\u001b[0;31mKeyError\u001b[0m                                  Traceback (most recent call last)",
      "\u001b[0;32m<ipython-input-29-260478863ee4>\u001b[0m in \u001b[0;36m<module>\u001b[0;34m()\u001b[0m\n\u001b[1;32m     12\u001b[0m \u001b[0mts\u001b[0m\u001b[0;34m[\u001b[0m\u001b[0;34m'mesnacimiento'\u001b[0m\u001b[0;34m]\u001b[0m \u001b[0;34m=\u001b[0m \u001b[0mts\u001b[0m\u001b[0;34m[\u001b[0m\u001b[0;34m'mesnacimiento'\u001b[0m\u001b[0;34m]\u001b[0m\u001b[0;34m.\u001b[0m\u001b[0mfillna\u001b[0m\u001b[0;34m(\u001b[0m\u001b[0mts\u001b[0m\u001b[0;34m[\u001b[0m\u001b[0;34m'mesnacimiento'\u001b[0m\u001b[0;34m]\u001b[0m\u001b[0;34m.\u001b[0m\u001b[0mmean\u001b[0m\u001b[0;34m(\u001b[0m\u001b[0;34m)\u001b[0m\u001b[0;34m)\u001b[0m\u001b[0;34m\u001b[0m\u001b[0m\n\u001b[1;32m     13\u001b[0m \u001b[0mts\u001b[0m\u001b[0;34m[\u001b[0m\u001b[0;34m'dianacimiento'\u001b[0m\u001b[0;34m]\u001b[0m \u001b[0;34m=\u001b[0m \u001b[0mts\u001b[0m\u001b[0;34m[\u001b[0m\u001b[0;34m'dianacimiento'\u001b[0m\u001b[0;34m]\u001b[0m\u001b[0;34m.\u001b[0m\u001b[0mfillna\u001b[0m\u001b[0;34m(\u001b[0m\u001b[0mts\u001b[0m\u001b[0;34m[\u001b[0m\u001b[0;34m'dianacimiento'\u001b[0m\u001b[0;34m]\u001b[0m\u001b[0;34m.\u001b[0m\u001b[0mmean\u001b[0m\u001b[0;34m(\u001b[0m\u001b[0;34m)\u001b[0m\u001b[0;34m)\u001b[0m\u001b[0;34m\u001b[0m\u001b[0m\n\u001b[0;32m---> 14\u001b[0;31m \u001b[0;32mdel\u001b[0m \u001b[0mts\u001b[0m\u001b[0;34m[\u001b[0m\u001b[0;34m'Unnamed: 0'\u001b[0m\u001b[0;34m]\u001b[0m\u001b[0;34m\u001b[0m\u001b[0m\n\u001b[0m",
      "\u001b[0;32m/usr/local/lib/python2.7/dist-packages/pandas/core/generic.pyc\u001b[0m in \u001b[0;36m__delitem__\u001b[0;34m(self, key)\u001b[0m\n\u001b[1;32m   1899\u001b[0m             \u001b[0;31m# there was no match, this call should raise the appropriate\u001b[0m\u001b[0;34m\u001b[0m\u001b[0;34m\u001b[0m\u001b[0m\n\u001b[1;32m   1900\u001b[0m             \u001b[0;31m# exception:\u001b[0m\u001b[0;34m\u001b[0m\u001b[0;34m\u001b[0m\u001b[0m\n\u001b[0;32m-> 1901\u001b[0;31m             \u001b[0mself\u001b[0m\u001b[0;34m.\u001b[0m\u001b[0m_data\u001b[0m\u001b[0;34m.\u001b[0m\u001b[0mdelete\u001b[0m\u001b[0;34m(\u001b[0m\u001b[0mkey\u001b[0m\u001b[0;34m)\u001b[0m\u001b[0;34m\u001b[0m\u001b[0m\n\u001b[0m\u001b[1;32m   1902\u001b[0m \u001b[0;34m\u001b[0m\u001b[0m\n\u001b[1;32m   1903\u001b[0m         \u001b[0;31m# delete from the caches\u001b[0m\u001b[0;34m\u001b[0m\u001b[0;34m\u001b[0m\u001b[0m\n",
      "\u001b[0;32m/usr/local/lib/python2.7/dist-packages/pandas/core/internals.pyc\u001b[0m in \u001b[0;36mdelete\u001b[0;34m(self, item)\u001b[0m\n\u001b[1;32m   3647\u001b[0m         \u001b[0mDelete\u001b[0m \u001b[0mselected\u001b[0m \u001b[0mitem\u001b[0m \u001b[0;34m(\u001b[0m\u001b[0mitems\u001b[0m \u001b[0;32mif\u001b[0m \u001b[0mnon\u001b[0m\u001b[0;34m-\u001b[0m\u001b[0munique\u001b[0m\u001b[0;34m)\u001b[0m \u001b[0;32min\u001b[0m\u001b[0;34m-\u001b[0m\u001b[0mplace\u001b[0m\u001b[0;34m.\u001b[0m\u001b[0;34m\u001b[0m\u001b[0m\n\u001b[1;32m   3648\u001b[0m         \"\"\"\n\u001b[0;32m-> 3649\u001b[0;31m         \u001b[0mindexer\u001b[0m \u001b[0;34m=\u001b[0m \u001b[0mself\u001b[0m\u001b[0;34m.\u001b[0m\u001b[0mitems\u001b[0m\u001b[0;34m.\u001b[0m\u001b[0mget_loc\u001b[0m\u001b[0;34m(\u001b[0m\u001b[0mitem\u001b[0m\u001b[0;34m)\u001b[0m\u001b[0;34m\u001b[0m\u001b[0m\n\u001b[0m\u001b[1;32m   3650\u001b[0m \u001b[0;34m\u001b[0m\u001b[0m\n\u001b[1;32m   3651\u001b[0m         \u001b[0mis_deleted\u001b[0m \u001b[0;34m=\u001b[0m \u001b[0mnp\u001b[0m\u001b[0;34m.\u001b[0m\u001b[0mzeros\u001b[0m\u001b[0;34m(\u001b[0m\u001b[0mself\u001b[0m\u001b[0;34m.\u001b[0m\u001b[0mshape\u001b[0m\u001b[0;34m[\u001b[0m\u001b[0;36m0\u001b[0m\u001b[0;34m]\u001b[0m\u001b[0;34m,\u001b[0m \u001b[0mdtype\u001b[0m\u001b[0;34m=\u001b[0m\u001b[0mnp\u001b[0m\u001b[0;34m.\u001b[0m\u001b[0mbool_\u001b[0m\u001b[0;34m)\u001b[0m\u001b[0;34m\u001b[0m\u001b[0m\n",
      "\u001b[0;32m/usr/local/lib/python2.7/dist-packages/pandas/core/indexes/base.pyc\u001b[0m in \u001b[0;36mget_loc\u001b[0;34m(self, key, method, tolerance)\u001b[0m\n\u001b[1;32m   2442\u001b[0m                 \u001b[0;32mreturn\u001b[0m \u001b[0mself\u001b[0m\u001b[0;34m.\u001b[0m\u001b[0m_engine\u001b[0m\u001b[0;34m.\u001b[0m\u001b[0mget_loc\u001b[0m\u001b[0;34m(\u001b[0m\u001b[0mkey\u001b[0m\u001b[0;34m)\u001b[0m\u001b[0;34m\u001b[0m\u001b[0m\n\u001b[1;32m   2443\u001b[0m             \u001b[0;32mexcept\u001b[0m \u001b[0mKeyError\u001b[0m\u001b[0;34m:\u001b[0m\u001b[0;34m\u001b[0m\u001b[0m\n\u001b[0;32m-> 2444\u001b[0;31m                 \u001b[0;32mreturn\u001b[0m \u001b[0mself\u001b[0m\u001b[0;34m.\u001b[0m\u001b[0m_engine\u001b[0m\u001b[0;34m.\u001b[0m\u001b[0mget_loc\u001b[0m\u001b[0;34m(\u001b[0m\u001b[0mself\u001b[0m\u001b[0;34m.\u001b[0m\u001b[0m_maybe_cast_indexer\u001b[0m\u001b[0;34m(\u001b[0m\u001b[0mkey\u001b[0m\u001b[0;34m)\u001b[0m\u001b[0;34m)\u001b[0m\u001b[0;34m\u001b[0m\u001b[0m\n\u001b[0m\u001b[1;32m   2445\u001b[0m \u001b[0;34m\u001b[0m\u001b[0m\n\u001b[1;32m   2446\u001b[0m         \u001b[0mindexer\u001b[0m \u001b[0;34m=\u001b[0m \u001b[0mself\u001b[0m\u001b[0;34m.\u001b[0m\u001b[0mget_indexer\u001b[0m\u001b[0;34m(\u001b[0m\u001b[0;34m[\u001b[0m\u001b[0mkey\u001b[0m\u001b[0;34m]\u001b[0m\u001b[0;34m,\u001b[0m \u001b[0mmethod\u001b[0m\u001b[0;34m=\u001b[0m\u001b[0mmethod\u001b[0m\u001b[0;34m,\u001b[0m \u001b[0mtolerance\u001b[0m\u001b[0;34m=\u001b[0m\u001b[0mtolerance\u001b[0m\u001b[0;34m)\u001b[0m\u001b[0;34m\u001b[0m\u001b[0m\n",
      "\u001b[0;32mpandas/_libs/index.pyx\u001b[0m in \u001b[0;36mpandas._libs.index.IndexEngine.get_loc (pandas/_libs/index.c:5280)\u001b[0;34m()\u001b[0m\n",
      "\u001b[0;32mpandas/_libs/index.pyx\u001b[0m in \u001b[0;36mpandas._libs.index.IndexEngine.get_loc (pandas/_libs/index.c:5126)\u001b[0;34m()\u001b[0m\n",
      "\u001b[0;32mpandas/_libs/hashtable_class_helper.pxi\u001b[0m in \u001b[0;36mpandas._libs.hashtable.PyObjectHashTable.get_item (pandas/_libs/hashtable.c:20523)\u001b[0;34m()\u001b[0m\n",
      "\u001b[0;32mpandas/_libs/hashtable_class_helper.pxi\u001b[0m in \u001b[0;36mpandas._libs.hashtable.PyObjectHashTable.get_item (pandas/_libs/hashtable.c:20477)\u001b[0;34m()\u001b[0m\n",
      "\u001b[0;31mKeyError\u001b[0m: 'Unnamed: 0'"
     ]
    }
   ],
   "source": [
    "ts['nombre_zona'] = ts['nombre_zona'].fillna(ts['nombre_zona'].mean())\n",
    "ts['tipo_de_trabajo'] = ts['tipo_de_trabajo'].fillna(ts['tipo_de_trabajo'].mean())\n",
    "ts['nivel_laboral'] = ts['nivel_laboral'].fillna(ts['nivel_laboral'].mean())\n",
    "ts['nombre_area'] = ts['nombre_area'].fillna(ts['nombre_area'].mean())\n",
    "ts['online'] = ts['online'].fillna(ts['online'].mean())\n",
    "ts['sexo'] = ts['sexo'].fillna(ts['sexo'].mean())\n",
    "ts['edad'] = ts['edad'].fillna(ts['edad'].mean())\n",
    "ts['nombre'] = ts['nombre'].fillna(ts['nombre'].mean())\n",
    "ts['estado'] = ts['estado'].fillna(ts['estado'].mean())\n",
    "ts['nombre-estado'] = ts['nombre-estado'].fillna(ts['nombre-estado'].mean())\n",
    "ts['anionacimiento'] = ts['anionacimiento'].fillna(ts['anionacimiento'].mean())\n",
    "ts['mesnacimiento'] = ts['mesnacimiento'].fillna(ts['mesnacimiento'].mean())\n",
    "ts['dianacimiento'] = ts['dianacimiento'].fillna(ts['dianacimiento'].mean())\n",
    "del ts['Unnamed: 0']"
   ]
  },
  {
   "cell_type": "code",
   "execution_count": 30,
   "metadata": {},
   "outputs": [
    {
     "name": "stdout",
     "output_type": "stream",
     "text": [
      "<class 'pandas.core.frame.DataFrame'>\n",
      "RangeIndex: 1500000 entries, 0 to 1499999\n",
      "Data columns (total 16 columns):\n",
      "idaviso            1500000 non-null int64\n",
      "idpostulante       1500000 non-null object\n",
      "sepostulo          1500000 non-null int64\n",
      "nombre_zona        1500000 non-null float64\n",
      "tipo_de_trabajo    1500000 non-null float64\n",
      "nivel_laboral      1500000 non-null float64\n",
      "nombre_area        1500000 non-null float64\n",
      "online             1500000 non-null float64\n",
      "sexo               1500000 non-null float64\n",
      "edad               1500000 non-null int64\n",
      "nombre             1500000 non-null int64\n",
      "estado             1500000 non-null int64\n",
      "nombre-estado      1500000 non-null int64\n",
      "mesnacimiento      1500000 non-null int64\n",
      "dianacimiento      1500000 non-null int64\n",
      "anionacimiento     1500000 non-null int64\n",
      "dtypes: float64(6), int64(9), object(1)\n",
      "memory usage: 183.1+ MB\n"
     ]
    }
   ],
   "source": [
    "ts.info()"
   ]
  },
  {
   "cell_type": "code",
   "execution_count": 31,
   "metadata": {},
   "outputs": [],
   "source": [
    "ts.to_csv('/home/luupesado/7506_Datos/2018/datos_tp/real_test/TrainingSet/Training_set15M.csv', index = False)"
   ]
  },
  {
   "cell_type": "code",
   "execution_count": 3,
   "metadata": {
    "collapsed": true
   },
   "outputs": [],
   "source": [
    "ts = pd.read_csv('/home/luupesado/7506_Datos/2018/datos_tp/real_test/TrainingSet/Training_set1M.csv')\n",
    "df100k = pd.read_csv('/home/luupesado/7506_Datos/2018/datos_tp/real_test/TestsSet/100k_as_ts1M.csv')"
   ]
  },
  {
   "cell_type": "code",
   "execution_count": 26,
   "metadata": {},
   "outputs": [
    {
     "data": {
      "text/plain": [
       "811695"
      ]
     },
     "execution_count": 26,
     "metadata": {},
     "output_type": "execute_result"
    }
   ],
   "source": [
    "import hashlib\n",
    "int(int(hashlib.sha1('323').hexdigest(), 16) % (1000000))"
   ]
  },
  {
   "cell_type": "code",
   "execution_count": 20,
   "metadata": {
    "collapsed": true
   },
   "outputs": [],
   "source": [
    "ts['idaviso'] = ts['idaviso'].apply(lambda x: int(int(hashlib.sha1(str(x)).hexdigest(), 16) % (1000000)))\n",
    "ts['idpostulante'] = ts['idpostulante'].apply(lambda x: int(int(hashlib.sha1(x).hexdigest(), 16) % (1000000)))"
   ]
  },
  {
   "cell_type": "code",
   "execution_count": 21,
   "metadata": {},
   "outputs": [
    {
     "data": {
      "text/html": [
       "<div>\n",
       "<style>\n",
       "    .dataframe thead tr:only-child th {\n",
       "        text-align: right;\n",
       "    }\n",
       "\n",
       "    .dataframe thead th {\n",
       "        text-align: left;\n",
       "    }\n",
       "\n",
       "    .dataframe tbody tr th {\n",
       "        vertical-align: top;\n",
       "    }\n",
       "</style>\n",
       "<table border=\"1\" class=\"dataframe\">\n",
       "  <thead>\n",
       "    <tr style=\"text-align: right;\">\n",
       "      <th></th>\n",
       "      <th>idaviso</th>\n",
       "      <th>idpostulante</th>\n",
       "      <th>sepostulo</th>\n",
       "      <th>nombre_zona</th>\n",
       "      <th>tipo_de_trabajo</th>\n",
       "      <th>nivel_laboral</th>\n",
       "      <th>nombre_area</th>\n",
       "      <th>online</th>\n",
       "      <th>sexo</th>\n",
       "      <th>edad</th>\n",
       "      <th>nombre</th>\n",
       "      <th>estado</th>\n",
       "      <th>nombre-estado</th>\n",
       "      <th>anionacimiento</th>\n",
       "      <th>mesnacimiento</th>\n",
       "      <th>dianacimiento</th>\n",
       "    </tr>\n",
       "  </thead>\n",
       "  <tbody>\n",
       "    <tr>\n",
       "      <th>0</th>\n",
       "      <td>153264</td>\n",
       "      <td>478854</td>\n",
       "      <td>1</td>\n",
       "      <td>0.00000</td>\n",
       "      <td>0.000000</td>\n",
       "      <td>2.00000</td>\n",
       "      <td>0.000000</td>\n",
       "      <td>1.000000</td>\n",
       "      <td>1.000000</td>\n",
       "      <td>29.000000</td>\n",
       "      <td>3.000000</td>\n",
       "      <td>1.000000</td>\n",
       "      <td>10.000000</td>\n",
       "      <td>1989.00000</td>\n",
       "      <td>1.000000</td>\n",
       "      <td>27.000000</td>\n",
       "    </tr>\n",
       "    <tr>\n",
       "      <th>1</th>\n",
       "      <td>907499</td>\n",
       "      <td>766176</td>\n",
       "      <td>0</td>\n",
       "      <td>0.00000</td>\n",
       "      <td>0.000000</td>\n",
       "      <td>2.00000</td>\n",
       "      <td>25.000000</td>\n",
       "      <td>1.000000</td>\n",
       "      <td>0.000000</td>\n",
       "      <td>23.000000</td>\n",
       "      <td>1.000000</td>\n",
       "      <td>2.000000</td>\n",
       "      <td>5.000000</td>\n",
       "      <td>1995.00000</td>\n",
       "      <td>5.000000</td>\n",
       "      <td>9.000000</td>\n",
       "    </tr>\n",
       "    <tr>\n",
       "      <th>2</th>\n",
       "      <td>15491</td>\n",
       "      <td>603749</td>\n",
       "      <td>0</td>\n",
       "      <td>0.09115</td>\n",
       "      <td>0.202169</td>\n",
       "      <td>1.61753</td>\n",
       "      <td>19.474092</td>\n",
       "      <td>0.577958</td>\n",
       "      <td>0.000000</td>\n",
       "      <td>28.000000</td>\n",
       "      <td>3.000000</td>\n",
       "      <td>2.000000</td>\n",
       "      <td>11.000000</td>\n",
       "      <td>1990.00000</td>\n",
       "      <td>5.000000</td>\n",
       "      <td>22.000000</td>\n",
       "    </tr>\n",
       "    <tr>\n",
       "      <th>3</th>\n",
       "      <td>735621</td>\n",
       "      <td>465629</td>\n",
       "      <td>1</td>\n",
       "      <td>0.00000</td>\n",
       "      <td>0.000000</td>\n",
       "      <td>2.00000</td>\n",
       "      <td>2.000000</td>\n",
       "      <td>0.000000</td>\n",
       "      <td>1.000000</td>\n",
       "      <td>44.000000</td>\n",
       "      <td>1.000000</td>\n",
       "      <td>2.000000</td>\n",
       "      <td>5.000000</td>\n",
       "      <td>1974.00000</td>\n",
       "      <td>12.000000</td>\n",
       "      <td>8.000000</td>\n",
       "    </tr>\n",
       "    <tr>\n",
       "      <th>4</th>\n",
       "      <td>60971</td>\n",
       "      <td>334445</td>\n",
       "      <td>1</td>\n",
       "      <td>0.00000</td>\n",
       "      <td>0.000000</td>\n",
       "      <td>2.00000</td>\n",
       "      <td>5.000000</td>\n",
       "      <td>1.000000</td>\n",
       "      <td>0.000000</td>\n",
       "      <td>39.000000</td>\n",
       "      <td>3.000000</td>\n",
       "      <td>2.000000</td>\n",
       "      <td>11.000000</td>\n",
       "      <td>1979.00000</td>\n",
       "      <td>9.000000</td>\n",
       "      <td>20.000000</td>\n",
       "    </tr>\n",
       "    <tr>\n",
       "      <th>5</th>\n",
       "      <td>342593</td>\n",
       "      <td>832131</td>\n",
       "      <td>1</td>\n",
       "      <td>0.00000</td>\n",
       "      <td>0.000000</td>\n",
       "      <td>2.00000</td>\n",
       "      <td>55.000000</td>\n",
       "      <td>1.000000</td>\n",
       "      <td>1.000000</td>\n",
       "      <td>26.000000</td>\n",
       "      <td>3.000000</td>\n",
       "      <td>2.000000</td>\n",
       "      <td>11.000000</td>\n",
       "      <td>1992.00000</td>\n",
       "      <td>11.000000</td>\n",
       "      <td>12.000000</td>\n",
       "    </tr>\n",
       "    <tr>\n",
       "      <th>6</th>\n",
       "      <td>409906</td>\n",
       "      <td>934104</td>\n",
       "      <td>1</td>\n",
       "      <td>0.00000</td>\n",
       "      <td>0.000000</td>\n",
       "      <td>2.00000</td>\n",
       "      <td>33.000000</td>\n",
       "      <td>1.000000</td>\n",
       "      <td>0.000000</td>\n",
       "      <td>27.000000</td>\n",
       "      <td>2.000000</td>\n",
       "      <td>2.000000</td>\n",
       "      <td>8.000000</td>\n",
       "      <td>1991.00000</td>\n",
       "      <td>3.000000</td>\n",
       "      <td>6.000000</td>\n",
       "    </tr>\n",
       "    <tr>\n",
       "      <th>7</th>\n",
       "      <td>549355</td>\n",
       "      <td>417047</td>\n",
       "      <td>1</td>\n",
       "      <td>0.00000</td>\n",
       "      <td>0.000000</td>\n",
       "      <td>0.00000</td>\n",
       "      <td>3.000000</td>\n",
       "      <td>0.000000</td>\n",
       "      <td>0.000000</td>\n",
       "      <td>49.000000</td>\n",
       "      <td>3.000000</td>\n",
       "      <td>1.000000</td>\n",
       "      <td>10.000000</td>\n",
       "      <td>1969.00000</td>\n",
       "      <td>5.000000</td>\n",
       "      <td>20.000000</td>\n",
       "    </tr>\n",
       "    <tr>\n",
       "      <th>8</th>\n",
       "      <td>885850</td>\n",
       "      <td>678766</td>\n",
       "      <td>1</td>\n",
       "      <td>0.00000</td>\n",
       "      <td>0.000000</td>\n",
       "      <td>2.00000</td>\n",
       "      <td>32.000000</td>\n",
       "      <td>0.000000</td>\n",
       "      <td>0.521798</td>\n",
       "      <td>30.433444</td>\n",
       "      <td>2.313715</td>\n",
       "      <td>1.484902</td>\n",
       "      <td>8.426047</td>\n",
       "      <td>1987.57707</td>\n",
       "      <td>6.497073</td>\n",
       "      <td>15.705428</td>\n",
       "    </tr>\n",
       "    <tr>\n",
       "      <th>9</th>\n",
       "      <td>92290</td>\n",
       "      <td>1247</td>\n",
       "      <td>0</td>\n",
       "      <td>0.00000</td>\n",
       "      <td>0.000000</td>\n",
       "      <td>0.00000</td>\n",
       "      <td>12.000000</td>\n",
       "      <td>1.000000</td>\n",
       "      <td>0.000000</td>\n",
       "      <td>25.000000</td>\n",
       "      <td>1.000000</td>\n",
       "      <td>1.000000</td>\n",
       "      <td>4.000000</td>\n",
       "      <td>1993.00000</td>\n",
       "      <td>9.000000</td>\n",
       "      <td>21.000000</td>\n",
       "    </tr>\n",
       "    <tr>\n",
       "      <th>10</th>\n",
       "      <td>593830</td>\n",
       "      <td>945586</td>\n",
       "      <td>1</td>\n",
       "      <td>0.00000</td>\n",
       "      <td>0.000000</td>\n",
       "      <td>1.00000</td>\n",
       "      <td>17.000000</td>\n",
       "      <td>0.000000</td>\n",
       "      <td>1.000000</td>\n",
       "      <td>39.000000</td>\n",
       "      <td>3.000000</td>\n",
       "      <td>2.000000</td>\n",
       "      <td>11.000000</td>\n",
       "      <td>1979.00000</td>\n",
       "      <td>11.000000</td>\n",
       "      <td>26.000000</td>\n",
       "    </tr>\n",
       "    <tr>\n",
       "      <th>11</th>\n",
       "      <td>343527</td>\n",
       "      <td>324331</td>\n",
       "      <td>1</td>\n",
       "      <td>0.00000</td>\n",
       "      <td>0.000000</td>\n",
       "      <td>2.00000</td>\n",
       "      <td>1.000000</td>\n",
       "      <td>1.000000</td>\n",
       "      <td>0.000000</td>\n",
       "      <td>26.000000</td>\n",
       "      <td>3.000000</td>\n",
       "      <td>1.000000</td>\n",
       "      <td>10.000000</td>\n",
       "      <td>1992.00000</td>\n",
       "      <td>4.000000</td>\n",
       "      <td>29.000000</td>\n",
       "    </tr>\n",
       "    <tr>\n",
       "      <th>12</th>\n",
       "      <td>589112</td>\n",
       "      <td>390511</td>\n",
       "      <td>1</td>\n",
       "      <td>0.00000</td>\n",
       "      <td>0.000000</td>\n",
       "      <td>2.00000</td>\n",
       "      <td>12.000000</td>\n",
       "      <td>1.000000</td>\n",
       "      <td>1.000000</td>\n",
       "      <td>23.000000</td>\n",
       "      <td>3.000000</td>\n",
       "      <td>1.000000</td>\n",
       "      <td>10.000000</td>\n",
       "      <td>1995.00000</td>\n",
       "      <td>4.000000</td>\n",
       "      <td>25.000000</td>\n",
       "    </tr>\n",
       "    <tr>\n",
       "      <th>13</th>\n",
       "      <td>678462</td>\n",
       "      <td>248753</td>\n",
       "      <td>1</td>\n",
       "      <td>0.00000</td>\n",
       "      <td>0.000000</td>\n",
       "      <td>0.00000</td>\n",
       "      <td>0.000000</td>\n",
       "      <td>1.000000</td>\n",
       "      <td>0.000000</td>\n",
       "      <td>24.000000</td>\n",
       "      <td>1.000000</td>\n",
       "      <td>2.000000</td>\n",
       "      <td>5.000000</td>\n",
       "      <td>1994.00000</td>\n",
       "      <td>5.000000</td>\n",
       "      <td>5.000000</td>\n",
       "    </tr>\n",
       "    <tr>\n",
       "      <th>14</th>\n",
       "      <td>877591</td>\n",
       "      <td>401722</td>\n",
       "      <td>1</td>\n",
       "      <td>1.00000</td>\n",
       "      <td>1.000000</td>\n",
       "      <td>1.00000</td>\n",
       "      <td>22.000000</td>\n",
       "      <td>1.000000</td>\n",
       "      <td>1.000000</td>\n",
       "      <td>24.000000</td>\n",
       "      <td>3.000000</td>\n",
       "      <td>1.000000</td>\n",
       "      <td>10.000000</td>\n",
       "      <td>1994.00000</td>\n",
       "      <td>10.000000</td>\n",
       "      <td>13.000000</td>\n",
       "    </tr>\n",
       "    <tr>\n",
       "      <th>15</th>\n",
       "      <td>539885</td>\n",
       "      <td>551574</td>\n",
       "      <td>1</td>\n",
       "      <td>0.00000</td>\n",
       "      <td>0.000000</td>\n",
       "      <td>2.00000</td>\n",
       "      <td>17.000000</td>\n",
       "      <td>1.000000</td>\n",
       "      <td>1.000000</td>\n",
       "      <td>21.000000</td>\n",
       "      <td>3.000000</td>\n",
       "      <td>1.000000</td>\n",
       "      <td>10.000000</td>\n",
       "      <td>1997.00000</td>\n",
       "      <td>9.000000</td>\n",
       "      <td>30.000000</td>\n",
       "    </tr>\n",
       "    <tr>\n",
       "      <th>16</th>\n",
       "      <td>339234</td>\n",
       "      <td>707146</td>\n",
       "      <td>1</td>\n",
       "      <td>0.00000</td>\n",
       "      <td>1.000000</td>\n",
       "      <td>2.00000</td>\n",
       "      <td>110.000000</td>\n",
       "      <td>0.000000</td>\n",
       "      <td>1.000000</td>\n",
       "      <td>31.000000</td>\n",
       "      <td>3.000000</td>\n",
       "      <td>2.000000</td>\n",
       "      <td>11.000000</td>\n",
       "      <td>1987.00000</td>\n",
       "      <td>5.000000</td>\n",
       "      <td>11.000000</td>\n",
       "    </tr>\n",
       "    <tr>\n",
       "      <th>17</th>\n",
       "      <td>556062</td>\n",
       "      <td>514241</td>\n",
       "      <td>0</td>\n",
       "      <td>0.00000</td>\n",
       "      <td>0.000000</td>\n",
       "      <td>2.00000</td>\n",
       "      <td>83.000000</td>\n",
       "      <td>1.000000</td>\n",
       "      <td>1.000000</td>\n",
       "      <td>37.000000</td>\n",
       "      <td>3.000000</td>\n",
       "      <td>2.000000</td>\n",
       "      <td>11.000000</td>\n",
       "      <td>1981.00000</td>\n",
       "      <td>3.000000</td>\n",
       "      <td>19.000000</td>\n",
       "    </tr>\n",
       "    <tr>\n",
       "      <th>18</th>\n",
       "      <td>123301</td>\n",
       "      <td>487791</td>\n",
       "      <td>1</td>\n",
       "      <td>0.00000</td>\n",
       "      <td>0.000000</td>\n",
       "      <td>2.00000</td>\n",
       "      <td>3.000000</td>\n",
       "      <td>0.000000</td>\n",
       "      <td>0.521798</td>\n",
       "      <td>30.433444</td>\n",
       "      <td>2.313715</td>\n",
       "      <td>1.484902</td>\n",
       "      <td>8.426047</td>\n",
       "      <td>1987.57707</td>\n",
       "      <td>6.497073</td>\n",
       "      <td>15.705428</td>\n",
       "    </tr>\n",
       "    <tr>\n",
       "      <th>19</th>\n",
       "      <td>22395</td>\n",
       "      <td>100413</td>\n",
       "      <td>0</td>\n",
       "      <td>0.00000</td>\n",
       "      <td>0.000000</td>\n",
       "      <td>2.00000</td>\n",
       "      <td>52.000000</td>\n",
       "      <td>0.000000</td>\n",
       "      <td>1.000000</td>\n",
       "      <td>28.000000</td>\n",
       "      <td>1.000000</td>\n",
       "      <td>2.000000</td>\n",
       "      <td>5.000000</td>\n",
       "      <td>1990.00000</td>\n",
       "      <td>7.000000</td>\n",
       "      <td>4.000000</td>\n",
       "    </tr>\n",
       "  </tbody>\n",
       "</table>\n",
       "</div>"
      ],
      "text/plain": [
       "    idaviso  idpostulante  sepostulo  nombre_zona  tipo_de_trabajo  \\\n",
       "0    153264        478854          1      0.00000         0.000000   \n",
       "1    907499        766176          0      0.00000         0.000000   \n",
       "2     15491        603749          0      0.09115         0.202169   \n",
       "3    735621        465629          1      0.00000         0.000000   \n",
       "4     60971        334445          1      0.00000         0.000000   \n",
       "5    342593        832131          1      0.00000         0.000000   \n",
       "6    409906        934104          1      0.00000         0.000000   \n",
       "7    549355        417047          1      0.00000         0.000000   \n",
       "8    885850        678766          1      0.00000         0.000000   \n",
       "9     92290          1247          0      0.00000         0.000000   \n",
       "10   593830        945586          1      0.00000         0.000000   \n",
       "11   343527        324331          1      0.00000         0.000000   \n",
       "12   589112        390511          1      0.00000         0.000000   \n",
       "13   678462        248753          1      0.00000         0.000000   \n",
       "14   877591        401722          1      1.00000         1.000000   \n",
       "15   539885        551574          1      0.00000         0.000000   \n",
       "16   339234        707146          1      0.00000         1.000000   \n",
       "17   556062        514241          0      0.00000         0.000000   \n",
       "18   123301        487791          1      0.00000         0.000000   \n",
       "19    22395        100413          0      0.00000         0.000000   \n",
       "\n",
       "    nivel_laboral  nombre_area    online      sexo       edad    nombre  \\\n",
       "0         2.00000     0.000000  1.000000  1.000000  29.000000  3.000000   \n",
       "1         2.00000    25.000000  1.000000  0.000000  23.000000  1.000000   \n",
       "2         1.61753    19.474092  0.577958  0.000000  28.000000  3.000000   \n",
       "3         2.00000     2.000000  0.000000  1.000000  44.000000  1.000000   \n",
       "4         2.00000     5.000000  1.000000  0.000000  39.000000  3.000000   \n",
       "5         2.00000    55.000000  1.000000  1.000000  26.000000  3.000000   \n",
       "6         2.00000    33.000000  1.000000  0.000000  27.000000  2.000000   \n",
       "7         0.00000     3.000000  0.000000  0.000000  49.000000  3.000000   \n",
       "8         2.00000    32.000000  0.000000  0.521798  30.433444  2.313715   \n",
       "9         0.00000    12.000000  1.000000  0.000000  25.000000  1.000000   \n",
       "10        1.00000    17.000000  0.000000  1.000000  39.000000  3.000000   \n",
       "11        2.00000     1.000000  1.000000  0.000000  26.000000  3.000000   \n",
       "12        2.00000    12.000000  1.000000  1.000000  23.000000  3.000000   \n",
       "13        0.00000     0.000000  1.000000  0.000000  24.000000  1.000000   \n",
       "14        1.00000    22.000000  1.000000  1.000000  24.000000  3.000000   \n",
       "15        2.00000    17.000000  1.000000  1.000000  21.000000  3.000000   \n",
       "16        2.00000   110.000000  0.000000  1.000000  31.000000  3.000000   \n",
       "17        2.00000    83.000000  1.000000  1.000000  37.000000  3.000000   \n",
       "18        2.00000     3.000000  0.000000  0.521798  30.433444  2.313715   \n",
       "19        2.00000    52.000000  0.000000  1.000000  28.000000  1.000000   \n",
       "\n",
       "      estado  nombre-estado  anionacimiento  mesnacimiento  dianacimiento  \n",
       "0   1.000000      10.000000      1989.00000       1.000000      27.000000  \n",
       "1   2.000000       5.000000      1995.00000       5.000000       9.000000  \n",
       "2   2.000000      11.000000      1990.00000       5.000000      22.000000  \n",
       "3   2.000000       5.000000      1974.00000      12.000000       8.000000  \n",
       "4   2.000000      11.000000      1979.00000       9.000000      20.000000  \n",
       "5   2.000000      11.000000      1992.00000      11.000000      12.000000  \n",
       "6   2.000000       8.000000      1991.00000       3.000000       6.000000  \n",
       "7   1.000000      10.000000      1969.00000       5.000000      20.000000  \n",
       "8   1.484902       8.426047      1987.57707       6.497073      15.705428  \n",
       "9   1.000000       4.000000      1993.00000       9.000000      21.000000  \n",
       "10  2.000000      11.000000      1979.00000      11.000000      26.000000  \n",
       "11  1.000000      10.000000      1992.00000       4.000000      29.000000  \n",
       "12  1.000000      10.000000      1995.00000       4.000000      25.000000  \n",
       "13  2.000000       5.000000      1994.00000       5.000000       5.000000  \n",
       "14  1.000000      10.000000      1994.00000      10.000000      13.000000  \n",
       "15  1.000000      10.000000      1997.00000       9.000000      30.000000  \n",
       "16  2.000000      11.000000      1987.00000       5.000000      11.000000  \n",
       "17  2.000000      11.000000      1981.00000       3.000000      19.000000  \n",
       "18  1.484902       8.426047      1987.57707       6.497073      15.705428  \n",
       "19  2.000000       5.000000      1990.00000       7.000000       4.000000  "
      ]
     },
     "execution_count": 21,
     "metadata": {},
     "output_type": "execute_result"
    }
   ],
   "source": [
    "ts.head(20)"
   ]
  },
  {
   "cell_type": "code",
   "execution_count": 22,
   "metadata": {
    "collapsed": true
   },
   "outputs": [],
   "source": [
    "ts.to_csv('/home/luupesado/7506_Datos/2018/datos_tp/real_test/TrainingSet/Training_set1M.csv', index = False)"
   ]
  },
  {
   "cell_type": "code",
   "execution_count": 27,
   "metadata": {
    "collapsed": true
   },
   "outputs": [],
   "source": [
    "df100k['idaviso'] = df100k['idaviso'].apply(lambda x: int(int(hashlib.sha1(str(x)).hexdigest(), 16) % (1000000)))\n",
    "df100k['idpostulante'] = df100k['idpostulante'].apply(lambda x: int(int(hashlib.sha1(x).hexdigest(), 16) % (1000000)))"
   ]
  },
  {
   "cell_type": "code",
   "execution_count": 29,
   "metadata": {},
   "outputs": [
    {
     "data": {
      "text/html": [
       "<div>\n",
       "<style>\n",
       "    .dataframe thead tr:only-child th {\n",
       "        text-align: right;\n",
       "    }\n",
       "\n",
       "    .dataframe thead th {\n",
       "        text-align: left;\n",
       "    }\n",
       "\n",
       "    .dataframe tbody tr th {\n",
       "        vertical-align: top;\n",
       "    }\n",
       "</style>\n",
       "<table border=\"1\" class=\"dataframe\">\n",
       "  <thead>\n",
       "    <tr style=\"text-align: right;\">\n",
       "      <th></th>\n",
       "      <th>id</th>\n",
       "      <th>idaviso</th>\n",
       "      <th>idpostulante</th>\n",
       "      <th>nombre_zona</th>\n",
       "      <th>tipo_de_trabajo</th>\n",
       "      <th>nivel_laboral</th>\n",
       "      <th>nombre_area</th>\n",
       "      <th>online</th>\n",
       "      <th>sexo</th>\n",
       "      <th>edad</th>\n",
       "      <th>nombre</th>\n",
       "      <th>estado</th>\n",
       "      <th>nombre-estado</th>\n",
       "      <th>anionacimiento</th>\n",
       "      <th>mesnacimiento</th>\n",
       "      <th>dianacimiento</th>\n",
       "    </tr>\n",
       "  </thead>\n",
       "  <tbody>\n",
       "    <tr>\n",
       "      <th>0</th>\n",
       "      <td>0</td>\n",
       "      <td>663149</td>\n",
       "      <td>32897</td>\n",
       "      <td>1.0</td>\n",
       "      <td>0.0</td>\n",
       "      <td>3.0</td>\n",
       "      <td>1.0</td>\n",
       "      <td>0.0</td>\n",
       "      <td>1.0</td>\n",
       "      <td>42.0</td>\n",
       "      <td>6.0</td>\n",
       "      <td>2.0</td>\n",
       "      <td>20.0</td>\n",
       "      <td>1976.0</td>\n",
       "      <td>3.0</td>\n",
       "      <td>29.0</td>\n",
       "    </tr>\n",
       "    <tr>\n",
       "      <th>1</th>\n",
       "      <td>1</td>\n",
       "      <td>663149</td>\n",
       "      <td>995369</td>\n",
       "      <td>1.0</td>\n",
       "      <td>0.0</td>\n",
       "      <td>3.0</td>\n",
       "      <td>1.0</td>\n",
       "      <td>0.0</td>\n",
       "      <td>0.0</td>\n",
       "      <td>31.0</td>\n",
       "      <td>2.0</td>\n",
       "      <td>2.0</td>\n",
       "      <td>8.0</td>\n",
       "      <td>1987.0</td>\n",
       "      <td>6.0</td>\n",
       "      <td>27.0</td>\n",
       "    </tr>\n",
       "    <tr>\n",
       "      <th>2</th>\n",
       "      <td>2</td>\n",
       "      <td>663149</td>\n",
       "      <td>32001</td>\n",
       "      <td>1.0</td>\n",
       "      <td>0.0</td>\n",
       "      <td>3.0</td>\n",
       "      <td>1.0</td>\n",
       "      <td>0.0</td>\n",
       "      <td>1.0</td>\n",
       "      <td>36.0</td>\n",
       "      <td>3.0</td>\n",
       "      <td>2.0</td>\n",
       "      <td>11.0</td>\n",
       "      <td>1982.0</td>\n",
       "      <td>2.0</td>\n",
       "      <td>17.0</td>\n",
       "    </tr>\n",
       "    <tr>\n",
       "      <th>3</th>\n",
       "      <td>3</td>\n",
       "      <td>102371</td>\n",
       "      <td>296405</td>\n",
       "      <td>1.0</td>\n",
       "      <td>0.0</td>\n",
       "      <td>0.0</td>\n",
       "      <td>6.0</td>\n",
       "      <td>0.0</td>\n",
       "      <td>0.0</td>\n",
       "      <td>69.0</td>\n",
       "      <td>4.0</td>\n",
       "      <td>2.0</td>\n",
       "      <td>14.0</td>\n",
       "      <td>1949.0</td>\n",
       "      <td>12.0</td>\n",
       "      <td>24.0</td>\n",
       "    </tr>\n",
       "    <tr>\n",
       "      <th>4</th>\n",
       "      <td>4</td>\n",
       "      <td>102371</td>\n",
       "      <td>141562</td>\n",
       "      <td>1.0</td>\n",
       "      <td>0.0</td>\n",
       "      <td>0.0</td>\n",
       "      <td>6.0</td>\n",
       "      <td>0.0</td>\n",
       "      <td>1.0</td>\n",
       "      <td>32.0</td>\n",
       "      <td>3.0</td>\n",
       "      <td>1.0</td>\n",
       "      <td>10.0</td>\n",
       "      <td>1986.0</td>\n",
       "      <td>5.0</td>\n",
       "      <td>27.0</td>\n",
       "    </tr>\n",
       "  </tbody>\n",
       "</table>\n",
       "</div>"
      ],
      "text/plain": [
       "   id  idaviso  idpostulante  nombre_zona  tipo_de_trabajo  nivel_laboral  \\\n",
       "0   0   663149         32897          1.0              0.0            3.0   \n",
       "1   1   663149        995369          1.0              0.0            3.0   \n",
       "2   2   663149         32001          1.0              0.0            3.0   \n",
       "3   3   102371        296405          1.0              0.0            0.0   \n",
       "4   4   102371        141562          1.0              0.0            0.0   \n",
       "\n",
       "   nombre_area  online  sexo  edad  nombre  estado  nombre-estado  \\\n",
       "0          1.0     0.0   1.0  42.0     6.0     2.0           20.0   \n",
       "1          1.0     0.0   0.0  31.0     2.0     2.0            8.0   \n",
       "2          1.0     0.0   1.0  36.0     3.0     2.0           11.0   \n",
       "3          6.0     0.0   0.0  69.0     4.0     2.0           14.0   \n",
       "4          6.0     0.0   1.0  32.0     3.0     1.0           10.0   \n",
       "\n",
       "   anionacimiento  mesnacimiento  dianacimiento  \n",
       "0          1976.0            3.0           29.0  \n",
       "1          1987.0            6.0           27.0  \n",
       "2          1982.0            2.0           17.0  \n",
       "3          1949.0           12.0           24.0  \n",
       "4          1986.0            5.0           27.0  "
      ]
     },
     "execution_count": 29,
     "metadata": {},
     "output_type": "execute_result"
    }
   ],
   "source": [
    "df100k.head()"
   ]
  },
  {
   "cell_type": "code",
   "execution_count": 30,
   "metadata": {
    "collapsed": true
   },
   "outputs": [],
   "source": [
    "df100k.to_csv('/home/luupesado/7506_Datos/2018/datos_tp/real_test/TestsSet/100k_as_ts1M.csv', index = False)"
   ]
  }
 ],
 "metadata": {
  "kernelspec": {
   "display_name": "Python 2",
   "language": "python",
   "name": "python2"
  },
  "language_info": {
   "codemirror_mode": {
    "name": "ipython",
    "version": 2
   },
   "file_extension": ".py",
   "mimetype": "text/x-python",
   "name": "python",
   "nbconvert_exporter": "python",
   "pygments_lexer": "ipython2",
   "version": "2.7.12"
  }
 },
 "nbformat": 4,
 "nbformat_minor": 2
}
