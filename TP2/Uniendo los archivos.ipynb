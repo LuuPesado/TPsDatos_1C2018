{
 "cells": [
  {
   "cell_type": "code",
   "execution_count": 2,
   "metadata": {
    "collapsed": true
   },
   "outputs": [],
   "source": [
    "import pandas as pd\n",
    "import glob, os"
   ]
  },
  {
   "cell_type": "code",
   "execution_count": 14,
   "metadata": {},
   "outputs": [],
   "source": [
    "os.chdir(\"/home/luupesado/7506_Datos/2018/datos_tp\")\n",
    "results = pd.DataFrame([])\n",
    " \n",
    "for counter, file in enumerate(glob.glob(\"fiuba_1_postulantes_educacion*\")):\n",
    "    namedf = pd.read_csv(file, skiprows=0)\n",
    "    results = results.append(namedf)\n",
    " \n",
    "results.to_csv('/home/luupesado/7506_Datos/2018/datos_tp/joins/educacion.csv')"
   ]
  },
  {
   "cell_type": "code",
   "execution_count": 3,
   "metadata": {},
   "outputs": [],
   "source": [
    "os.chdir(\"/home/luupesado/7506_Datos/2018/datos_tp\")\n",
    "results = pd.DataFrame([])\n",
    " \n",
    "for counter, file in enumerate(glob.glob(\"fiuba_2_postulantes_genero_y_edad*\")):\n",
    "    namedf = pd.read_csv(file, skiprows=0)\n",
    "    results = results.append(namedf)\n",
    " \n",
    "results.to_csv('/home/luupesado/7506_Datos/2018/datos_tp/joins/genero_y_edad.csv')"
   ]
  },
  {
   "cell_type": "code",
   "execution_count": 4,
   "metadata": {},
   "outputs": [],
   "source": [
    "os.chdir(\"/home/luupesado/7506_Datos/2018/datos_tp\")\n",
    "results = pd.DataFrame([])\n",
    " \n",
    "for counter, file in enumerate(glob.glob(\"fiuba_3_vistas*\")):\n",
    "    namedf = pd.read_csv(file, skiprows=0)\n",
    "    results = results.append(namedf)\n",
    " \n",
    "results.to_csv('/home/luupesado/7506_Datos/2018/datos_tp/joins/vistas.csv')"
   ]
  },
  {
   "cell_type": "code",
   "execution_count": 5,
   "metadata": {
    "collapsed": true
   },
   "outputs": [],
   "source": [
    "os.chdir(\"/home/luupesado/7506_Datos/2018/datos_tp\")\n",
    "results = pd.DataFrame([])\n",
    " \n",
    "for counter, file in enumerate(glob.glob(\"fiuba_4_postulaciones*\")):\n",
    "    namedf = pd.read_csv(file, skiprows=0)\n",
    "    results = results.append(namedf)\n",
    " \n",
    "results.to_csv('/home/luupesado/7506_Datos/2018/datos_tp/joins/postulaciones.csv')"
   ]
  },
  {
   "cell_type": "code",
   "execution_count": 6,
   "metadata": {},
   "outputs": [],
   "source": [
    "os.chdir(\"/home/luupesado/7506_Datos/2018/datos_tp\")\n",
    "results = pd.DataFrame([])\n",
    " \n",
    "for counter, file in enumerate(glob.glob(\"fiuba_5_avisos_online*\")):\n",
    "    namedf = pd.read_csv(file, skiprows=0)\n",
    "    results = results.append(namedf)\n",
    " \n",
    "results.to_csv('/home/luupesado/7506_Datos/2018/datos_tp/joins/avisos_online.csv')"
   ]
  },
  {
   "cell_type": "code",
   "execution_count": 8,
   "metadata": {
    "collapsed": true
   },
   "outputs": [],
   "source": [
    "os.chdir(\"/home/luupesado/7506_Datos/2018/datos_tp\")\n",
    "results = pd.DataFrame([])\n",
    " \n",
    "for counter, file in enumerate(glob.glob(\"fiuba_6_avisos_detalle*\")):\n",
    "    namedf = pd.read_csv(file, skiprows=0)\n",
    "    results = results.append(namedf)\n",
    " \n",
    "results.to_csv('/home/luupesado/7506_Datos/2018/datos_tp/joins/avisos_detalle.csv')"
   ]
  }
 ],
 "metadata": {
  "kernelspec": {
   "display_name": "Python 2",
   "language": "python",
   "name": "python2"
  },
  "language_info": {
   "codemirror_mode": {
    "name": "ipython",
    "version": 2
   },
   "file_extension": ".py",
   "mimetype": "text/x-python",
   "name": "python",
   "nbconvert_exporter": "python",
   "pygments_lexer": "ipython2",
   "version": "2.7.12"
  }
 },
 "nbformat": 4,
 "nbformat_minor": 2
}
