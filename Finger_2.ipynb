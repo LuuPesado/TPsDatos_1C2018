{
 "cells": [
  {
   "cell_type": "markdown",
   "metadata": {},
   "source": [
    "# Set de Datos"
   ]
  },
  {
   "cell_type": "code",
   "execution_count": 1,
   "metadata": {
    "collapsed": true
   },
   "outputs": [],
   "source": [
    "#postulantes_edu = sc.textFile('/home/luupesado/7506_Datos/2018/datos_navent_fiuba/fiuba_1_postulantes_educacion.csv', 10)\n",
    "postulantes = sc.textFile('/home/luupesado/7506_Datos/2018/datos_navent_fiuba/fiuba_2_postulantes_genero_y_edad.csv', 10)#.option(\"header\", true)\n",
    "#vistas = sc.textFile('/home/luupesado/7506_Datos/2018/datos_navent_fiuba/fiuba_3_vistas.csv', 10)\n",
    "#postulaciones = sc.textFile('/home/luupesado/7506_Datos/2018/datos_navent_fiuba/fiuba_4_postulaciones.csv', 10)"
   ]
  },
  {
   "cell_type": "markdown",
   "metadata": {},
   "source": [
    "# Ejercicio 1\n",
    "\n",
    "Encontrar los 5 anuncios cuya tasa de conversión (postulaciones al anuncio sobre visitas totales al anuncio) es la más alta.\n",
    "\n",
    "Nota: Tener en cuenta que es posible que por ejemplo un anuncio con una visita y una postulación quede primero. Para evitar este inconveniente, tomar únicamente los avisos que poseen al menos un 25% de las visitas promedio que poseen los avisos. Por ejemplo, si el promedio de visitas de los avisos es 100, tomar solo los avisos que tengan al menos 25 visitas.\n",
    "\n",
    "Nota2: Tener en cuenta también que los datos de vistas están incompletos. Solo podrá obtenerse la tasa de conversión para el período donde se tengan ambas informaciones (postulaciones y vistas).\n"
   ]
  },
  {
   "cell_type": "code",
   "execution_count": 3,
   "metadata": {},
   "outputs": [
    {
     "data": {
      "text/plain": [
       "[u'idaviso,idpostulante,fechapostulacion',\n",
       " u'1112257047,NM5M,2018-01-15 16:22:34',\n",
       " u'1111920714,NM5M,2018-02-06 09:04:50',\n",
       " u'1112346945,NM5M,2018-02-22 09:04:47',\n",
       " u'1112345547,NM5M,2018-02-22 09:04:59']"
      ]
     },
     "execution_count": 3,
     "metadata": {},
     "output_type": "execute_result"
    }
   ],
   "source": [
    "postulaciones.take(5)"
   ]
  },
  {
   "cell_type": "code",
   "execution_count": 3,
   "metadata": {},
   "outputs": [
    {
     "data": {
      "text/plain": [
       "[u'idAviso,timestamp,idpostulante',\n",
       " u'1111780242,2018-02-23T13:38:13.187-0500,YjVJQ6Z',\n",
       " u'1112263876,2018-02-23T13:38:14.296-0500,BmVpYoR',\n",
       " u'1112327963,2018-02-23T13:38:14.329-0500,wVkBzZd',\n",
       " u'1112318643,2018-02-23T13:38:17.921-0500,OqmP9pv']"
      ]
     },
     "execution_count": 3,
     "metadata": {},
     "output_type": "execute_result"
    }
   ],
   "source": [
    "vistas.take(5)"
   ]
  },
  {
   "cell_type": "markdown",
   "metadata": {},
   "source": [
    "Averiguo para que periodo tengo tanto vistas como postulaciones, haciendo caso a la Nota 2"
   ]
  },
  {
   "cell_type": "code",
   "execution_count": 12,
   "metadata": {
    "collapsed": true
   },
   "outputs": [],
   "source": [
    "vistas_periodo = vistas.map(lambda x: x.split(',')).map(lambda z: z[1].split('T')).map(lambda y: (y[0],1)).reduceByKey(lambda a,b: a+b).takeOrdered(60, lambda f: f[0])"
   ]
  },
  {
   "cell_type": "code",
   "execution_count": 13,
   "metadata": {},
   "outputs": [
    {
     "data": {
      "text/plain": [
       "[(u'2018-02-23', 67747),\n",
       " (u'2018-02-24', 90349),\n",
       " (u'2018-02-25', 105245),\n",
       " (u'2018-02-26', 240783),\n",
       " (u'2018-02-27', 230947),\n",
       " (u'2018-02-28', 226826),\n",
       " (u'timestamp', 1)]"
      ]
     },
     "execution_count": 13,
     "metadata": {},
     "output_type": "execute_result"
    }
   ],
   "source": [
    "vistas_periodo"
   ]
  },
  {
   "cell_type": "markdown",
   "metadata": {},
   "source": [
    "Tengo vistas solo desde el 23/2 al 28/2"
   ]
  },
  {
   "cell_type": "code",
   "execution_count": 15,
   "metadata": {
    "collapsed": true
   },
   "outputs": [],
   "source": [
    "postulaciones_periodo = postulaciones.map(lambda x: x.split(',')).map(lambda y: (y[2],1)).reduceByKey(lambda a,b: a+b).takeOrdered(5, lambda f: f[0])"
   ]
  },
  {
   "cell_type": "code",
   "execution_count": 16,
   "metadata": {},
   "outputs": [
    {
     "data": {
      "text/plain": [
       "[(u'2018-01-15 00:00:01', 1),\n",
       " (u'2018-01-15 00:00:02', 1),\n",
       " (u'2018-01-15 00:00:09', 1),\n",
       " (u'2018-01-15 00:00:10', 1),\n",
       " (u'2018-01-15 00:00:11', 1)]"
      ]
     },
     "execution_count": 16,
     "metadata": {},
     "output_type": "execute_result"
    }
   ],
   "source": [
    "postulaciones_periodo"
   ]
  },
  {
   "cell_type": "markdown",
   "metadata": {
    "collapsed": true
   },
   "source": [
    "Las Postulaciones comienzan el 15/1"
   ]
  },
  {
   "cell_type": "markdown",
   "metadata": {},
   "source": [
    "Ahora voy a comenzar a resolver el ejercicio obteniendo la cantidad de visitas que tuvo cada aviso"
   ]
  },
  {
   "cell_type": "code",
   "execution_count": 3,
   "metadata": {
    "collapsed": true
   },
   "outputs": [],
   "source": [
    "cant_vistas = vistas.map(lambda x: x.split(',')).map(lambda y: (y[0], 1)).reduceByKey(lambda a,b: a+b)"
   ]
  },
  {
   "cell_type": "code",
   "execution_count": 4,
   "metadata": {},
   "outputs": [
    {
     "data": {
      "text/plain": [
       "[(u'1112366334', 557),\n",
       " (u'1112269789', 76),\n",
       " (u'1112312760', 84),\n",
       " (u'1112288001', 48),\n",
       " (u'1112192023', 8)]"
      ]
     },
     "execution_count": 4,
     "metadata": {},
     "output_type": "execute_result"
    }
   ],
   "source": [
    "cant_vistas.take(5)"
   ]
  },
  {
   "cell_type": "markdown",
   "metadata": {},
   "source": [
    "Ahora calculo el promedio de la cantidad de visitas de cada aviso, haciendo caso a la Nota1 y evitando así equivocarme con \"la ecuación más peligrosa de la historia\", filtro los que tienen menos de un %25 de las visitas promedio."
   ]
  },
  {
   "cell_type": "code",
   "execution_count": 5,
   "metadata": {
    "collapsed": true
   },
   "outputs": [],
   "source": [
    "promedio = cant_vistas.map(lambda x: (1, x[1])).reduceByKey(lambda a,b: a+b)"
   ]
  },
  {
   "cell_type": "code",
   "execution_count": 6,
   "metadata": {},
   "outputs": [
    {
     "data": {
      "text/plain": [
       "(1, 961898)"
      ]
     },
     "execution_count": 6,
     "metadata": {},
     "output_type": "execute_result"
    }
   ],
   "source": [
    "promedio.take(1)[0]"
   ]
  },
  {
   "cell_type": "code",
   "execution_count": 7,
   "metadata": {
    "collapsed": true
   },
   "outputs": [],
   "source": [
    "promedio = promedio.take(1)[0][1]/cant_vistas.count()"
   ]
  },
  {
   "cell_type": "code",
   "execution_count": 8,
   "metadata": {},
   "outputs": [
    {
     "data": {
      "text/plain": [
       "128"
      ]
     },
     "execution_count": 8,
     "metadata": {},
     "output_type": "execute_result"
    }
   ],
   "source": [
    "promedio"
   ]
  },
  {
   "cell_type": "code",
   "execution_count": 9,
   "metadata": {
    "collapsed": true
   },
   "outputs": [],
   "source": [
    "cant_vistas = cant_vistas.filter(lambda x: x[1]>(promedio/4))"
   ]
  },
  {
   "cell_type": "markdown",
   "metadata": {},
   "source": [
    "Ahora calculo la cantidad de postulaciones para cada publicacion en ese período"
   ]
  },
  {
   "cell_type": "code",
   "execution_count": 17,
   "metadata": {
    "collapsed": true
   },
   "outputs": [],
   "source": [
    "cant_postulaciones = postulaciones.map(lambda x: x.split(',')).map(lambda y: (y[0], y[2].split(' ')[0], 1)).filter(lambda z: z[1]>='2018-02-23' and z[1]<='2018-02-28').map(lambda v: (v[0], v[2])).reduceByKey(lambda a,b: a+b)"
   ]
  },
  {
   "cell_type": "code",
   "execution_count": 18,
   "metadata": {},
   "outputs": [
    {
     "data": {
      "text/plain": [
       "[(u'1112366334', 227),\n",
       " (u'1112269789', 19),\n",
       " (u'1112312760', 43),\n",
       " (u'1112312098', 18),\n",
       " (u'1112323355', 26)]"
      ]
     },
     "execution_count": 18,
     "metadata": {},
     "output_type": "execute_result"
    }
   ],
   "source": [
    "cant_postulaciones.take(5)"
   ]
  },
  {
   "cell_type": "markdown",
   "metadata": {},
   "source": [
    "Ahora uno la cantidad de postulaciones con la cantidad de visitas para cada sitio para poder calcular la tasa de conversión. Corresponde un inner join ya que la consigna especifica que la tasa se calcule para los avisos que tengan tanto visitas como postulaciones."
   ]
  },
  {
   "cell_type": "code",
   "execution_count": 28,
   "metadata": {
    "collapsed": true
   },
   "outputs": [],
   "source": [
    "tasa = cant_postulaciones.join(cant_vistas).map(lambda x: (x[0], float(x[1][0])/float(x[1][1])))"
   ]
  },
  {
   "cell_type": "code",
   "execution_count": 27,
   "metadata": {},
   "outputs": [
    {
     "data": {
      "text/plain": [
       "[(u'1112366334', (227, 557)),\n",
       " (u'1112312760', (43, 84)),\n",
       " (u'1112323355', (26, 132)),\n",
       " (u'1112269789', (19, 76)),\n",
       " (u'1112335406', (142, 414))]"
      ]
     },
     "execution_count": 27,
     "metadata": {},
     "output_type": "execute_result"
    }
   ],
   "source": [
    " cant_postulaciones.join(cant_vistas).take(5)"
   ]
  },
  {
   "cell_type": "code",
   "execution_count": 29,
   "metadata": {},
   "outputs": [
    {
     "data": {
      "text/plain": [
       "[(u'1112366334', 0.40754039497307004),\n",
       " (u'1112312760', 0.5119047619047619),\n",
       " (u'1112323355', 0.19696969696969696),\n",
       " (u'1112269789', 0.25),\n",
       " (u'1112335406', 0.34299516908212563)]"
      ]
     },
     "execution_count": 29,
     "metadata": {},
     "output_type": "execute_result"
    }
   ],
   "source": [
    "tasa.take(5)"
   ]
  },
  {
   "cell_type": "code",
   "execution_count": 58,
   "metadata": {
    "collapsed": true
   },
   "outputs": [],
   "source": [
    "mayor_tasa = tasa.takeOrdered(5, lambda x: -x[1])"
   ]
  },
  {
   "cell_type": "code",
   "execution_count": 62,
   "metadata": {
    "collapsed": true
   },
   "outputs": [],
   "source": [
    "rdd_tasa = sc.parallelize(mayor_tasa)"
   ]
  },
  {
   "cell_type": "code",
   "execution_count": 64,
   "metadata": {},
   "outputs": [
    {
     "data": {
      "text/plain": [
       "[(u'1112355348', 2.0912052117263844),\n",
       " (u'1112365531', 1.6677814938684503),\n",
       " (u'1112343233', 1.5833333333333333),\n",
       " (u'1112299671', 1.5633802816901408),\n",
       " (u'1112357810', 1.4901960784313726)]"
      ]
     },
     "execution_count": 64,
     "metadata": {},
     "output_type": "execute_result"
    }
   ],
   "source": [
    "rdd_tasa.take(5)"
   ]
  },
  {
   "cell_type": "code",
   "execution_count": 12,
   "metadata": {
    "collapsed": true
   },
   "outputs": [],
   "source": [
    "%matplotlib inline\n",
    "import matplotlib.pyplot as plt\n",
    "import numpy as np"
   ]
  },
  {
   "cell_type": "code",
   "execution_count": 103,
   "metadata": {},
   "outputs": [
    {
     "data": {
      "text/plain": [
       "[u'1112355348', u'1112365531', u'1112343233', u'1112299671', u'1112357810']"
      ]
     },
     "execution_count": 103,
     "metadata": {},
     "output_type": "execute_result"
    }
   ],
   "source": [
    "bar_ids"
   ]
  },
  {
   "cell_type": "code",
   "execution_count": 104,
   "metadata": {},
   "outputs": [
    {
     "data": {
      "text/plain": [
       "[2.0912052117263844,\n",
       " 1.6677814938684503,\n",
       " 1.5833333333333333,\n",
       " 1.5633802816901408,\n",
       " 1.4901960784313726]"
      ]
     },
     "execution_count": 104,
     "metadata": {},
     "output_type": "execute_result"
    }
   ],
   "source": [
    "bar_tasa"
   ]
  },
  {
   "cell_type": "code",
   "execution_count": 116,
   "metadata": {},
   "outputs": [
    {
     "data": {
      "text/plain": [
       "<Container object of 5 artists>"
      ]
     },
     "execution_count": 116,
     "metadata": {},
     "output_type": "execute_result"
    },
    {
     "data": {
      "image/png": "[encoded data removed]",
      "text/plain": [
       "<matplotlib.figure.Figure at 0x7ff597b259d0>"
      ]
     },
     "metadata": {},
     "output_type": "display_data"
    }
   ],
   "source": [
    "bar_ids = rdd_tasa.map(lambda x: x[0]).take(5)\n",
    "bar_tasa = rdd_tasa.map(lambda y: y[1]).take(5)\n",
    "fig, ax = plt.subplots()\n",
    "ax.set_yticks([0,1,2,3,4])\n",
    "ax.set_yticklabels(bar_ids)\n",
    "ax.set_title('5 avisos con mayor tasa de conversion')\n",
    "ax.set_xlabel('Tasa de conversion')\n",
    "ax.set_ylabel('Id avisos')\n",
    "ax.barh([0,1,2,3,4], bar_tasa, color = ['#f65314', '#00ff00', '#0080ff', '#8000ff', '#ff00bf'])"
   ]
  },
  {
   "cell_type": "markdown",
   "metadata": {},
   "source": [
    "# Ejercicio 2\n",
    "\n",
    "Indicar la distribución de la edad de los postulates"
   ]
  },
  {
   "cell_type": "code",
   "execution_count": 2,
   "metadata": {},
   "outputs": [
    {
     "data": {
      "text/plain": [
       "[u'idpostulante,fechanacimiento,sexo',\n",
       " u'NM5M,1970-12-03,FEM',\n",
       " u'5awk,1962-12-04,FEM',\n",
       " u'ZaO5,1978-08-10,FEM',\n",
       " u'NdJl,1969-05-09,MASC']"
      ]
     },
     "execution_count": 2,
     "metadata": {},
     "output_type": "execute_result"
    }
   ],
   "source": [
    "postulantes.take(5)"
   ]
  },
  {
   "cell_type": "code",
   "execution_count": 3,
   "metadata": {
    "collapsed": true
   },
   "outputs": [],
   "source": [
    "import datetime as dt"
   ]
  },
  {
   "cell_type": "code",
   "execution_count": 4,
   "metadata": {
    "collapsed": true
   },
   "outputs": [],
   "source": [
    "fecha_str = u'1995-08-17'\n",
    "fecha = dt.datetime.strptime(fecha_str, \"%Y-%m-%d\")\n",
    "fecha.year\n",
    "edad = fecha_str"
   ]
  },
  {
   "cell_type": "code",
   "execution_count": 4,
   "metadata": {
    "collapsed": true
   },
   "outputs": [],
   "source": [
    "def strdate_to_age(string):\n",
    "    try:\n",
    "        date = dt.datetime.strptime(string, \"%Y-%m-%d\")\n",
    "        today = dt.datetime(2018, 4, 1)\n",
    "        edad = today.year - date.year\n",
    "        if today.month >= date.month and today.day >= date.day:\n",
    "            edad = edad +1\n",
    "        return edad\n",
    "    except:\n",
    "        return 0"
   ]
  },
  {
   "cell_type": "code",
   "execution_count": 5,
   "metadata": {
    "collapsed": true
   },
   "outputs": [],
   "source": [
    "postulantes_edad = postulantes.map(lambda x: x.split(',')).filter(lambda x: x[0] != 'idpostulante').map(lambda y: (strdate_to_age(y[1]), 1)).filter(lambda z: (z[0] <100 and z[0]>16))\n"
   ]
  },
  {
   "cell_type": "code",
   "execution_count": 6,
   "metadata": {},
   "outputs": [
    {
     "data": {
      "text/plain": [
       "[(48, 1), (56, 1), (40, 1), (49, 1), (37, 1)]"
      ]
     },
     "execution_count": 6,
     "metadata": {},
     "output_type": "execute_result"
    }
   ],
   "source": [
    "postulantes_edad.take(5)"
   ]
  },
  {
   "cell_type": "code",
   "execution_count": 7,
   "metadata": {
    "collapsed": true
   },
   "outputs": [],
   "source": [
    "postulantes_edad_count = postulantes_edad.reduceByKey(lambda a, b: a+b)"
   ]
  },
  {
   "cell_type": "code",
   "execution_count": 8,
   "metadata": {
    "collapsed": true
   },
   "outputs": [],
   "source": [
    "lista_edad_cantidad = postulantes_edad_count.takeOrdered(61, lambda a: a[0])"
   ]
  },
  {
   "cell_type": "code",
   "execution_count": 9,
   "metadata": {},
   "outputs": [
    {
     "data": {
      "text/plain": [
       "[(18, 566),\n",
       " (19, 3625),\n",
       " (20, 6449),\n",
       " (21, 8503),\n",
       " (22, 9927),\n",
       " (23, 10874),\n",
       " (24, 11586),\n",
       " (25, 11680),\n",
       " (26, 11804),\n",
       " (27, 11923),\n",
       " (28, 11099),\n",
       " (29, 9890),\n",
       " (30, 9179),\n",
       " (31, 8309),\n",
       " (32, 7643),\n",
       " (33, 6679),\n",
       " (34, 5879),\n",
       " (35, 5450),\n",
       " (36, 5024),\n",
       " (37, 4661),\n",
       " (38, 4189),\n",
       " (39, 3883),\n",
       " (40, 3384),\n",
       " (41, 2933),\n",
       " (42, 2641),\n",
       " (43, 2356),\n",
       " (44, 1979),\n",
       " (45, 1692),\n",
       " (46, 1564),\n",
       " (47, 1462),\n",
       " (48, 1277),\n",
       " (49, 1098),\n",
       " (50, 944),\n",
       " (51, 874),\n",
       " (52, 751),\n",
       " (53, 662),\n",
       " (54, 646),\n",
       " (55, 552),\n",
       " (56, 478),\n",
       " (57, 447),\n",
       " (58, 376),\n",
       " (59, 286),\n",
       " (60, 233),\n",
       " (61, 182),\n",
       " (62, 163),\n",
       " (63, 96),\n",
       " (64, 73),\n",
       " (65, 37),\n",
       " (66, 30),\n",
       " (67, 19),\n",
       " (68, 30),\n",
       " (69, 12),\n",
       " (70, 9),\n",
       " (71, 7),\n",
       " (72, 2),\n",
       " (74, 3),\n",
       " (75, 2),\n",
       " (76, 3),\n",
       " (77, 1),\n",
       " (79, 1),\n",
       " (97, 1)]"
      ]
     },
     "execution_count": 9,
     "metadata": {},
     "output_type": "execute_result"
    }
   ],
   "source": [
    "lista_edad_cantidad"
   ]
  },
  {
   "cell_type": "code",
   "execution_count": 38,
   "metadata": {},
   "outputs": [
    {
     "data": {
      "text/plain": [
       "[18,\n",
       " 19,\n",
       " 20,\n",
       " 21,\n",
       " 22,\n",
       " 23,\n",
       " 24,\n",
       " 25,\n",
       " 26,\n",
       " 27,\n",
       " 28,\n",
       " 29,\n",
       " 30,\n",
       " 31,\n",
       " 32,\n",
       " 33,\n",
       " 34,\n",
       " 35,\n",
       " 36,\n",
       " 37,\n",
       " 38,\n",
       " 39,\n",
       " 40,\n",
       " 41,\n",
       " 42,\n",
       " 43,\n",
       " 44,\n",
       " 45,\n",
       " 46,\n",
       " 47,\n",
       " 48,\n",
       " 49,\n",
       " 50,\n",
       " 51,\n",
       " 52,\n",
       " 53,\n",
       " 54,\n",
       " 55,\n",
       " 56,\n",
       " 57,\n",
       " 58,\n",
       " 59,\n",
       " 60,\n",
       " 61,\n",
       " 62,\n",
       " 63,\n",
       " 64,\n",
       " 65,\n",
       " 66,\n",
       " 67,\n",
       " 68,\n",
       " 69,\n",
       " 70,\n",
       " 71,\n",
       " 72,\n",
       " 73,\n",
       " 74,\n",
       " 75,\n",
       " 76,\n",
       " 77,\n",
       " 78,\n",
       " 79,\n",
       " 80,\n",
       " 81,\n",
       " 82,\n",
       " 83,\n",
       " 84,\n",
       " 85,\n",
       " 86,\n",
       " 87,\n",
       " 88,\n",
       " 89,\n",
       " 90,\n",
       " 91,\n",
       " 92,\n",
       " 93,\n",
       " 94,\n",
       " 95,\n",
       " 96,\n",
       " 97]"
      ]
     },
     "execution_count": 38,
     "metadata": {},
     "output_type": "execute_result"
    }
   ],
   "source": [
    "edades = []\n",
    "count = []\n",
    "edad = 18\n",
    "i = 0\n",
    "while edad <= lista_edad_cantidad[-1][0]:\n",
    "    edades.append(edad)\n",
    "    if lista_edad_cantidad[i][0] == (edad):\n",
    "        count.append(lista_edad_cantidad[i][1])\n",
    "        i = i+1\n",
    "        edad = edad + 1\n",
    "    else:\n",
    "        count.append(0)\n",
    "        edad = edad + 1\n",
    "        \n",
    "edades"
   ]
  },
  {
   "cell_type": "code",
   "execution_count": 41,
   "metadata": {},
   "outputs": [
    {
     "data": {
      "text/plain": [
       "<Container object of 80 artists>"
      ]
     },
     "execution_count": 41,
     "metadata": {},
     "output_type": "execute_result"
    },
    {
     "data": {
      "image/png": "[encoded data removed]",
      "text/plain": [
       "<matplotlib.figure.Figure at 0x7f97639c7710>"
      ]
     },
     "metadata": {},
     "output_type": "display_data"
    }
   ],
   "source": [
    "fig, ax = plt.subplots(figsize = (20,7))\n",
    "width = 0.35\n",
    "ax.set_xticks(np.arange(len(edades)) + width)\n",
    "ax.set_xticklabels(edades)\n",
    "ax.set_title('Edad de los postulantes')\n",
    "ax.set_xlabel('Edad')\n",
    "ax.set_ylabel('Cantidad de postulantes')\n",
    "ax.bar(np.arange(len(edades))+width, count, color = ['#f65314', '#00ff00', '#0080ff', '#8000ff', '#ff00bf'])"
   ]
  },
  {
   "cell_type": "code",
   "execution_count": 14,
   "metadata": {},
   "outputs": [
    {
     "data": {
      "text/plain": [
       "79"
      ]
     },
     "execution_count": 14,
     "metadata": {},
     "output_type": "execute_result"
    }
   ],
   "source": [
    "97-18"
   ]
  }
 ],
 "metadata": {
  "kernelspec": {
   "display_name": "Python 2",
   "language": "python",
   "name": "python2"
  },
  "language_info": {
   "codemirror_mode": {
    "name": "ipython",
    "version": 2
   },
   "file_extension": ".py",
   "mimetype": "text/x-python",
   "name": "python",
   "nbconvert_exporter": "python",
   "pygments_lexer": "ipython2",
   "version": "2.7.12"
  }
 },
 "nbformat": 4,
 "nbformat_minor": 2
}
