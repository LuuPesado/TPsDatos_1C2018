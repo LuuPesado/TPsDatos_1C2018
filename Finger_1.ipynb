{
 "cells": [
  {
   "cell_type": "code",
   "execution_count": 1,
   "metadata": {
    "collapsed": true
   },
   "outputs": [],
   "source": [
    "%matplotlib inline\n",
    "import pandas as pd\n",
    "import matplotlib.pyplot as plt\n",
    "import numpy as np\n",
    "#import seaborn as sns\n",
    "from datetime import datetime"
   ]
  },
  {
   "cell_type": "code",
   "execution_count": 3,
   "metadata": {},
   "outputs": [],
   "source": [
    "avisos = pd.read_csv('/home/luupesado/7506_Datos/2018/datos_navent_fiuba/fiuba_6_avisos_detalle.csv')"
   ]
  },
  {
   "cell_type": "code",
   "execution_count": 6,
   "metadata": {
    "collapsed": true
   },
   "outputs": [],
   "source": [
    "import unicodedata\n",
    "def elimina_tildes(s):\n",
    "   return ''.join((c for c in unicodedata.normalize('NFD', s) if unicodedata.category(c) != 'Mn'))\n",
    " \n",
    "# que se puede usar asi:\n"
   ]
  },
  {
   "cell_type": "markdown",
   "metadata": {},
   "source": [
    "## Cantidad de anuncios por area y por zona del area más solicitada"
   ]
  },
  {
   "cell_type": "code",
   "execution_count": 58,
   "metadata": {},
   "outputs": [
    {
     "data": {
      "text/plain": [
       "<matplotlib.text.Text at 0x7f6ce0d8edd0>"
      ]
     },
     "execution_count": 58,
     "metadata": {},
     "output_type": "execute_result"
    },
    {
     "data": {
      "image/png": "[encoded data removed]",
      "text/plain": [
       "<matplotlib.figure.Figure at 0x7f6ce1644fd0>"
      ]
     },
     "metadata": {},
     "output_type": "display_data"
    }
   ],
   "source": [
    "areas = avisos['nombre_area'].value_counts().head(10)#.plot(kind='bar', color = 'orange'))\n",
    "fig, ax = plt.subplots()\n",
    "#klist = avisos['nombre_area'].value_counts().head(10).index\n",
    "#plt.axes(figsize=(20,10))\n",
    "\n",
    "ax.bar(np.arange(10), areas, color = 'red')\n",
    "ax.set_xticks(np.arange(10))#, ('a','b','c','d','e','f','g','h','i','j'))#ax.set_x\n",
    "ax.set_xticklabels(klist,rotation='vertical')\n",
    "ax.set_title('Oferta por zonas')\n",
    "ax.set_xlabel('Area')\n",
    "ax.set_ylabel('Cantidad de Publicaciones')\n",
    "\n",
    "ventas = avisos[avisos['nombre_area']=='Ventas'] \n",
    "klist2 = ['GBA', 'CABA'] \n",
    "zonas = ventas['nombre_zona'].value_counts().head(2)\n",
    "sub_axes = plt.axes([.6, .5, .20, .25])\n",
    "sub_axes.bar(np.arange(len(zonas)), zonas, color = 'orange')\n",
    "sub_axes.set_xticks(np.arange(2))#, ('a','b','c','d','e','f','g','h','i','j'))#ax.set_x\n",
    "sub_axes.set_xticklabels(klist2,rotation='vertical')\n",
    "sub_axes.set_title('Demanda \"Ventas\" \\n por zona')\n",
    "sub_axes.set_xlabel('Zona')\n",
    "sub_axes.set_ylabel('Cantidad de Publicaciones', size = 8)\n"
   ]
  },
  {
   "cell_type": "code",
   "execution_count": 7,
   "metadata": {},
   "outputs": [
    {
     "data": {
      "text/plain": [
       "[u'Ventas',\n",
       " u'Comercial',\n",
       " u'Administracion',\n",
       " u'Produccion',\n",
       " u'Programacion',\n",
       " u'Contabilidad',\n",
       " u'Tecnologia / Sistemas',\n",
       " u'Atencion al Cliente',\n",
       " u'Mantenimiento',\n",
       " u'Recursos Humanos']"
      ]
     },
     "execution_count": 7,
     "metadata": {},
     "output_type": "execute_result"
    }
   ],
   "source": [
    "keys = areas.keys()\n",
    "klist = []\n",
    "for k in keys:\n",
    "    klist.append(elimina_tildes(k.decode('utf-8')))\n",
    "    \n",
    "klist    "
   ]
  },
  {
   "cell_type": "code",
   "execution_count": 103,
   "metadata": {},
   "outputs": [
    {
     "data": {
      "text/plain": [
       "Gran Buenos Aires              12654\n",
       "Capital Federal                  876\n",
       "GBA Oeste                          2\n",
       "Buenos Aires (fuera de GBA)        2\n",
       "Name: nombre_zona, dtype: int64"
      ]
     },
     "execution_count": 103,
     "metadata": {},
     "output_type": "execute_result"
    }
   ],
   "source": [
    "zonas"
   ]
  },
  {
   "cell_type": "code",
   "execution_count": 23,
   "metadata": {
    "collapsed": true
   },
   "outputs": [],
   "source": [
    "postulaciones = pd.read_csv('/home/luupesado/7506_Datos/2018/datos_navent_fiuba/fiuba_4_postulaciones.csv')\n",
    "postulaciones['fechapostulacion'] = pd.to_datetime(postulaciones['fechapostulacion'])\n",
    "postulaciones['dia'] = postulaciones['fechapostulacion'].dt.weekday_name"
   ]
  },
  {
   "cell_type": "code",
   "execution_count": 24,
   "metadata": {
    "collapsed": true
   },
   "outputs": [],
   "source": [
    "postulaciones['mes'] = postulaciones['fechapostulacion'].dt.month"
   ]
  },
  {
   "cell_type": "code",
   "execution_count": 26,
   "metadata": {},
   "outputs": [],
   "source": [
    "postulaciones['numero_dia'] = postulaciones['fechapostulacion'].dt.day"
   ]
  },
  {
   "cell_type": "code",
   "execution_count": 27,
   "metadata": {},
   "outputs": [
    {
     "data": {
      "text/html": [
       "<div>\n",
       "<style>\n",
       "    .dataframe thead tr:only-child th {\n",
       "        text-align: right;\n",
       "    }\n",
       "\n",
       "    .dataframe thead th {\n",
       "        text-align: left;\n",
       "    }\n",
       "\n",
       "    .dataframe tbody tr th {\n",
       "        vertical-align: top;\n",
       "    }\n",
       "</style>\n",
       "<table border=\"1\" class=\"dataframe\">\n",
       "  <thead>\n",
       "    <tr style=\"text-align: right;\">\n",
       "      <th></th>\n",
       "      <th>idaviso</th>\n",
       "      <th>idpostulante</th>\n",
       "      <th>fechapostulacion</th>\n",
       "      <th>dia</th>\n",
       "      <th>mes</th>\n",
       "      <th>numero_dia</th>\n",
       "    </tr>\n",
       "  </thead>\n",
       "  <tbody>\n",
       "    <tr>\n",
       "      <th>0</th>\n",
       "      <td>1112257047</td>\n",
       "      <td>NM5M</td>\n",
       "      <td>2018-01-15 16:22:34</td>\n",
       "      <td>Monday</td>\n",
       "      <td>1</td>\n",
       "      <td>15</td>\n",
       "    </tr>\n",
       "    <tr>\n",
       "      <th>1</th>\n",
       "      <td>1111920714</td>\n",
       "      <td>NM5M</td>\n",
       "      <td>2018-02-06 09:04:50</td>\n",
       "      <td>Tuesday</td>\n",
       "      <td>2</td>\n",
       "      <td>6</td>\n",
       "    </tr>\n",
       "    <tr>\n",
       "      <th>2</th>\n",
       "      <td>1112346945</td>\n",
       "      <td>NM5M</td>\n",
       "      <td>2018-02-22 09:04:47</td>\n",
       "      <td>Thursday</td>\n",
       "      <td>2</td>\n",
       "      <td>22</td>\n",
       "    </tr>\n",
       "    <tr>\n",
       "      <th>3</th>\n",
       "      <td>1112345547</td>\n",
       "      <td>NM5M</td>\n",
       "      <td>2018-02-22 09:04:59</td>\n",
       "      <td>Thursday</td>\n",
       "      <td>2</td>\n",
       "      <td>22</td>\n",
       "    </tr>\n",
       "    <tr>\n",
       "      <th>4</th>\n",
       "      <td>1112237522</td>\n",
       "      <td>5awk</td>\n",
       "      <td>2018-01-25 18:55:03</td>\n",
       "      <td>Thursday</td>\n",
       "      <td>1</td>\n",
       "      <td>25</td>\n",
       "    </tr>\n",
       "  </tbody>\n",
       "</table>\n",
       "</div>"
      ],
      "text/plain": [
       "      idaviso idpostulante    fechapostulacion       dia  mes  numero_dia\n",
       "0  1112257047         NM5M 2018-01-15 16:22:34    Monday    1          15\n",
       "1  1111920714         NM5M 2018-02-06 09:04:50   Tuesday    2           6\n",
       "2  1112346945         NM5M 2018-02-22 09:04:47  Thursday    2          22\n",
       "3  1112345547         NM5M 2018-02-22 09:04:59  Thursday    2          22\n",
       "4  1112237522         5awk 2018-01-25 18:55:03  Thursday    1          25"
      ]
     },
     "execution_count": 27,
     "metadata": {},
     "output_type": "execute_result"
    }
   ],
   "source": [
    "postulaciones.head()"
   ]
  },
  {
   "cell_type": "code",
   "execution_count": 28,
   "metadata": {
    "collapsed": true
   },
   "outputs": [],
   "source": [
    "enero = postulaciones[postulaciones['mes']==1]"
   ]
  },
  {
   "cell_type": "code",
   "execution_count": 39,
   "metadata": {},
   "outputs": [
    {
     "name": "stdout",
     "output_type": "stream",
     "text": [
      "Int64Index([24, 30, 29, 22, 23, 15, 31, 17, 16, 18, 25, 26, 19, 27, 28, 21,\n",
      "            20],\n",
      "           dtype='int64')\n",
      "Int64Index([19, 20, 21, 26, 27, 28, 22, 15,  5,  6, 14, 23, 16,  1,  7,  2,  8,\n",
      "             9, 25, 13, 24, 18, 17,  4, 12,  3, 10, 11],\n",
      "           dtype='int64')\n"
     ]
    }
   ],
   "source": [
    "print enero['numero_dia'].value_counts().index\n",
    "print febrero['numero_dia'].value_counts().index"
   ]
  },
  {
   "cell_type": "markdown",
   "metadata": {},
   "source": [
    "Tenemos información a partir del 15 de enero, por lo que para poder comparar, vamos a tomar los datos de febrero de cada quincena"
   ]
  },
  {
   "cell_type": "code",
   "execution_count": 37,
   "metadata": {},
   "outputs": [],
   "source": [
    "febrero = postulaciones[postulaciones['mes']==2]\n",
    "febrero_1quincena = febrero[febrero['numero_dia']<15]\n",
    "febrero_2quincena = febrero[febrero['numero_dia']>=15]"
   ]
  },
  {
   "cell_type": "code",
   "execution_count": 47,
   "metadata": {},
   "outputs": [
    {
     "data": {
      "text/html": [
       "<div>\n",
       "<style>\n",
       "    .dataframe thead tr:only-child th {\n",
       "        text-align: right;\n",
       "    }\n",
       "\n",
       "    .dataframe thead th {\n",
       "        text-align: left;\n",
       "    }\n",
       "\n",
       "    .dataframe tbody tr th {\n",
       "        vertical-align: top;\n",
       "    }\n",
       "</style>\n",
       "<table border=\"1\" class=\"dataframe\">\n",
       "  <thead>\n",
       "    <tr style=\"text-align: right;\">\n",
       "      <th></th>\n",
       "      <th>idaviso</th>\n",
       "      <th>idpostulante</th>\n",
       "      <th>fechapostulacion</th>\n",
       "      <th>dia</th>\n",
       "      <th>mes</th>\n",
       "      <th>numero_dia</th>\n",
       "    </tr>\n",
       "  </thead>\n",
       "  <tbody>\n",
       "    <tr>\n",
       "      <th>2</th>\n",
       "      <td>1112346945</td>\n",
       "      <td>NM5M</td>\n",
       "      <td>2018-02-22 09:04:47</td>\n",
       "      <td>Thursday</td>\n",
       "      <td>2</td>\n",
       "      <td>22</td>\n",
       "    </tr>\n",
       "    <tr>\n",
       "      <th>3</th>\n",
       "      <td>1112345547</td>\n",
       "      <td>NM5M</td>\n",
       "      <td>2018-02-22 09:04:59</td>\n",
       "      <td>Thursday</td>\n",
       "      <td>2</td>\n",
       "      <td>22</td>\n",
       "    </tr>\n",
       "    <tr>\n",
       "      <th>10</th>\n",
       "      <td>1112303543</td>\n",
       "      <td>5awk</td>\n",
       "      <td>2018-02-18 23:49:34</td>\n",
       "      <td>Sunday</td>\n",
       "      <td>2</td>\n",
       "      <td>18</td>\n",
       "    </tr>\n",
       "    <tr>\n",
       "      <th>11</th>\n",
       "      <td>1112315393</td>\n",
       "      <td>5awk</td>\n",
       "      <td>2018-02-19 00:01:20</td>\n",
       "      <td>Monday</td>\n",
       "      <td>2</td>\n",
       "      <td>19</td>\n",
       "    </tr>\n",
       "    <tr>\n",
       "      <th>12</th>\n",
       "      <td>1112315188</td>\n",
       "      <td>5awk</td>\n",
       "      <td>2018-02-28 15:54:28</td>\n",
       "      <td>Wednesday</td>\n",
       "      <td>2</td>\n",
       "      <td>28</td>\n",
       "    </tr>\n",
       "  </tbody>\n",
       "</table>\n",
       "</div>"
      ],
      "text/plain": [
       "       idaviso idpostulante    fechapostulacion        dia  mes  numero_dia\n",
       "2   1112346945         NM5M 2018-02-22 09:04:47   Thursday    2          22\n",
       "3   1112345547         NM5M 2018-02-22 09:04:59   Thursday    2          22\n",
       "10  1112303543         5awk 2018-02-18 23:49:34     Sunday    2          18\n",
       "11  1112315393         5awk 2018-02-19 00:01:20     Monday    2          19\n",
       "12  1112315188         5awk 2018-02-28 15:54:28  Wednesday    2          28"
      ]
     },
     "execution_count": 47,
     "metadata": {},
     "output_type": "execute_result"
    }
   ],
   "source": [
    "febrero_2quincena.head()"
   ]
  },
  {
   "cell_type": "code",
   "execution_count": 51,
   "metadata": {
    "collapsed": true
   },
   "outputs": [],
   "source": [
    "y = [postulacionesdia.Monday, postulacionesdia.Tuesday, postulacionesdia.Wednesday, postulacionesdia.Thursday, postulacionesdia.Friday,postulacionesdia.Saturday,postulacionesdia.Sunday]\n",
    "x = ['Monday', 'Tuesday','Wednesday', 'Thursday',  'Friday', 'Saturday', 'Sunday']"
   ]
  },
  {
   "cell_type": "code",
   "execution_count": 40,
   "metadata": {
    "collapsed": true
   },
   "outputs": [],
   "source": [
    "enero = enero.groupby(['mes','dia'])['idaviso'].count()"
   ]
  },
  {
   "cell_type": "code",
   "execution_count": 49,
   "metadata": {
    "collapsed": true
   },
   "outputs": [],
   "source": [
    "febrero_1quincena = febrero_1quincena.groupby(['mes','dia'])['idaviso'].count()\n",
    "febrero_2quincena = febrero_2quincena.groupby(['mes','dia'])['idaviso'].count()"
   ]
  },
  {
   "cell_type": "code",
   "execution_count": 41,
   "metadata": {},
   "outputs": [
    {
     "data": {
      "text/plain": [
       "mes  dia      \n",
       "1    Friday       141935\n",
       "     Monday       283169\n",
       "     Saturday      68344\n",
       "     Sunday        70437\n",
       "     Thursday     161108\n",
       "     Tuesday      275708\n",
       "     Wednesday    275497\n",
       "Name: idaviso, dtype: int64"
      ]
     },
     "execution_count": 41,
     "metadata": {},
     "output_type": "execute_result"
    }
   ],
   "source": [
    "enero"
   ]
  },
  {
   "cell_type": "code",
   "execution_count": 50,
   "metadata": {},
   "outputs": [],
   "source": [
    "jan_y = [enero[1].Monday, enero[1].Tuesday, enero[1].Wednesday, enero[1].Thursday, enero[1].Friday,enero[1].Saturday,enero[1].Sunday]\n",
    "feb1_y = [febrero_1quincena[2].Monday, febrero_1quincena[2].Tuesday, febrero_1quincena[2].Wednesday, febrero_1quincena[2].Thursday, febrero_1quincena[2].Friday,febrero_1quincena[2].Saturday,febrero_1quincena[2].Sunday]\n",
    "feb2_y = [febrero_2quincena[2].Monday, febrero_2quincena[2].Tuesday, febrero_2quincena[2].Wednesday, febrero_2quincena[2].Thursday, febrero_2quincena[2].Friday,febrero_2quincena[2].Saturday,febrero_2quincena[2].Sunday]"
   ]
  },
  {
   "cell_type": "code",
   "execution_count": 68,
   "metadata": {},
   "outputs": [
    {
     "data": {
      "text/plain": [
       "([283169, 275708, 275497, 161108, 141935, 68344, 70437],\n",
       " [385141, 382720, 402339, 345055, 304763, 148987, 156420])"
      ]
     },
     "execution_count": 68,
     "metadata": {},
     "output_type": "execute_result"
    }
   ],
   "source": [
    "jan_y, feb_y"
   ]
  },
  {
   "cell_type": "markdown",
   "metadata": {},
   "source": [
    "## Cantidad de publicaciones por día total y por quincenas"
   ]
  },
  {
   "cell_type": "code",
   "execution_count": 59,
   "metadata": {},
   "outputs": [
    {
     "data": {
      "text/plain": [
       "<matplotlib.text.Text at 0x7f6ce0ceb190>"
      ]
     },
     "execution_count": 59,
     "metadata": {},
     "output_type": "execute_result"
    },
    {
     "data": {
      "image/png": "[encoded data removed]",
      "text/plain": [
       "<matplotlib.figure.Figure at 0x7f6ce0d0d410>"
      ]
     },
     "metadata": {},
     "output_type": "display_data"
    }
   ],
   "source": [
    "fig, (ax1, ax2)=plt.subplots(2,1,sharex = True)\n",
    "ax1.scatter(np.arange(7), y)\n",
    "ax1.set_xticks(np.arange(7))\n",
    "ax1.set_xticklabels(x,rotation='horizontal')\n",
    "ax2.set_xlabel('Dia de la semana')\n",
    "ax2.set_ylabel('Cantidad de Publicaciones', x=1,y=1)\n",
    "\n",
    "width = 0.25\n",
    "jan = ax2.bar(np.arange(len(jan_y))-width, jan_y, width, color = '#3399ff')\n",
    "feb1 = ax2.bar(np.arange(len(feb1_y)), feb1_y, width, color = '#ff33cc')\n",
    "feb2 = ax2.bar(np.arange(len(feb2_y))+width, feb2_y, width, color = '#ffcc00')\n",
    "ax2.set_xticks(np.arange(7))\n",
    "ax2.set_xticklabels(x,rotation=85)\n",
    "\n",
    "ax2.legend((jan[0], feb1[0], feb2[0]), ('Enero 2da quincena', 'Febrero 1er quincena', 'Febrero 2da quincena'))\n",
    "\n",
    "ax1.set_title('Cantidad de publicaciones por dia')\n",
    "#ax2.set_title('Cantidad de publicaciones por dia')\n"
   ]
  }
 ],
 "metadata": {
  "kernelspec": {
   "display_name": "Python 2",
   "language": "python",
   "name": "python2"
  },
  "language_info": {
   "codemirror_mode": {
    "name": "ipython",
    "version": 2
   },
   "file_extension": ".py",
   "mimetype": "text/x-python",
   "name": "python",
   "nbconvert_exporter": "python",
   "pygments_lexer": "ipython2",
   "version": "2.7.12"
  }
 },
 "nbformat": 4,
 "nbformat_minor": 2
}
