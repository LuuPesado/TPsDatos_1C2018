{
 "cells": [
  {
   "cell_type": "code",
   "execution_count": 4,
   "metadata": {},
   "outputs": [],
   "source": [
    "import datetime as datetime\n",
    "import pandas as pd\n",
    "import numpy as np\n",
    "import matplotlib.pyplot as plt"
   ]
  },
  {
   "cell_type": "code",
   "execution_count": 5,
   "metadata": {},
   "outputs": [],
   "source": [
    "postulantes_educacion = pd.read_csv('datos_navent_fiuba/fiuba_1_postulantes_educacion.csv')\n",
    "postulantes_genero_edad = pd.read_csv('datos_navent_fiuba/fiuba_2_postulantes_genero_y_edad.csv')\n",
    "vistas = pd.read_csv('datos_navent_fiuba/fiuba_3_vistas.csv')\n",
    "postulaciones = pd.read_csv('datos_navent_fiuba/fiuba_4_postulaciones.csv')\n",
    "avisos_online = pd.read_csv('datos_navent_fiuba/fiuba_5_avisos_online.csv')\n",
    "avisos_detalles = pd.read_csv('datos_navent_fiuba/fiuba_6_avisos_detalle.csv')"
   ]
  },
  {
   "cell_type": "markdown",
   "metadata": {},
   "source": [
    "## Vemos como están conformados los data sets"
   ]
  },
  {
   "cell_type": "code",
   "execution_count": 3,
   "metadata": {},
   "outputs": [
    {
     "data": {
      "text/html": [
       "<div>\n",
       "<table border=\"1\" class=\"dataframe\">\n",
       "  <thead>\n",
       "    <tr style=\"text-align: right;\">\n",
       "      <th></th>\n",
       "      <th>idpostulante</th>\n",
       "      <th>nombre</th>\n",
       "      <th>estado</th>\n",
       "    </tr>\n",
       "  </thead>\n",
       "  <tbody>\n",
       "    <tr>\n",
       "      <th>0</th>\n",
       "      <td>NdJl</td>\n",
       "      <td>Posgrado</td>\n",
       "      <td>En Curso</td>\n",
       "    </tr>\n",
       "    <tr>\n",
       "      <th>1</th>\n",
       "      <td>8BkL</td>\n",
       "      <td>Universitario</td>\n",
       "      <td>En Curso</td>\n",
       "    </tr>\n",
       "    <tr>\n",
       "      <th>2</th>\n",
       "      <td>1d2B</td>\n",
       "      <td>Universitario</td>\n",
       "      <td>En Curso</td>\n",
       "    </tr>\n",
       "    <tr>\n",
       "      <th>3</th>\n",
       "      <td>NPBx</td>\n",
       "      <td>Universitario</td>\n",
       "      <td>En Curso</td>\n",
       "    </tr>\n",
       "    <tr>\n",
       "      <th>4</th>\n",
       "      <td>NPBx</td>\n",
       "      <td>Master</td>\n",
       "      <td>En Curso</td>\n",
       "    </tr>\n",
       "  </tbody>\n",
       "</table>\n",
       "</div>"
      ],
      "text/plain": [
       "  idpostulante         nombre    estado\n",
       "0         NdJl       Posgrado  En Curso\n",
       "1         8BkL  Universitario  En Curso\n",
       "2         1d2B  Universitario  En Curso\n",
       "3         NPBx  Universitario  En Curso\n",
       "4         NPBx         Master  En Curso"
      ]
     },
     "execution_count": 3,
     "metadata": {},
     "output_type": "execute_result"
    }
   ],
   "source": [
    "postulantes_educacion.head()"
   ]
  },
  {
   "cell_type": "code",
   "execution_count": 4,
   "metadata": {},
   "outputs": [
    {
     "data": {
      "text/html": [
       "<div>\n",
       "<table border=\"1\" class=\"dataframe\">\n",
       "  <thead>\n",
       "    <tr style=\"text-align: right;\">\n",
       "      <th></th>\n",
       "      <th>idpostulante</th>\n",
       "      <th>fechanacimiento</th>\n",
       "      <th>sexo</th>\n",
       "    </tr>\n",
       "  </thead>\n",
       "  <tbody>\n",
       "    <tr>\n",
       "      <th>0</th>\n",
       "      <td>NM5M</td>\n",
       "      <td>1970-12-03</td>\n",
       "      <td>FEM</td>\n",
       "    </tr>\n",
       "    <tr>\n",
       "      <th>1</th>\n",
       "      <td>5awk</td>\n",
       "      <td>1962-12-04</td>\n",
       "      <td>FEM</td>\n",
       "    </tr>\n",
       "    <tr>\n",
       "      <th>2</th>\n",
       "      <td>ZaO5</td>\n",
       "      <td>1978-08-10</td>\n",
       "      <td>FEM</td>\n",
       "    </tr>\n",
       "    <tr>\n",
       "      <th>3</th>\n",
       "      <td>NdJl</td>\n",
       "      <td>1969-05-09</td>\n",
       "      <td>MASC</td>\n",
       "    </tr>\n",
       "    <tr>\n",
       "      <th>4</th>\n",
       "      <td>eo2p</td>\n",
       "      <td>1981-02-16</td>\n",
       "      <td>MASC</td>\n",
       "    </tr>\n",
       "  </tbody>\n",
       "</table>\n",
       "</div>"
      ],
      "text/plain": [
       "  idpostulante fechanacimiento  sexo\n",
       "0         NM5M      1970-12-03   FEM\n",
       "1         5awk      1962-12-04   FEM\n",
       "2         ZaO5      1978-08-10   FEM\n",
       "3         NdJl      1969-05-09  MASC\n",
       "4         eo2p      1981-02-16  MASC"
      ]
     },
     "execution_count": 4,
     "metadata": {},
     "output_type": "execute_result"
    }
   ],
   "source": [
    "postulantes_genero_edad.head()"
   ]
  },
  {
   "cell_type": "code",
   "execution_count": 5,
   "metadata": {},
   "outputs": [
    {
     "data": {
      "text/html": [
       "<div>\n",
       "<table border=\"1\" class=\"dataframe\">\n",
       "  <thead>\n",
       "    <tr style=\"text-align: right;\">\n",
       "      <th></th>\n",
       "      <th>idAviso</th>\n",
       "      <th>timestamp</th>\n",
       "      <th>idpostulante</th>\n",
       "    </tr>\n",
       "  </thead>\n",
       "  <tbody>\n",
       "    <tr>\n",
       "      <th>0</th>\n",
       "      <td>1111780242</td>\n",
       "      <td>2018-02-23T13:38:13.187-0500</td>\n",
       "      <td>YjVJQ6Z</td>\n",
       "    </tr>\n",
       "    <tr>\n",
       "      <th>1</th>\n",
       "      <td>1112263876</td>\n",
       "      <td>2018-02-23T13:38:14.296-0500</td>\n",
       "      <td>BmVpYoR</td>\n",
       "    </tr>\n",
       "    <tr>\n",
       "      <th>2</th>\n",
       "      <td>1112327963</td>\n",
       "      <td>2018-02-23T13:38:14.329-0500</td>\n",
       "      <td>wVkBzZd</td>\n",
       "    </tr>\n",
       "    <tr>\n",
       "      <th>3</th>\n",
       "      <td>1112318643</td>\n",
       "      <td>2018-02-23T13:38:17.921-0500</td>\n",
       "      <td>OqmP9pv</td>\n",
       "    </tr>\n",
       "    <tr>\n",
       "      <th>4</th>\n",
       "      <td>1111903673</td>\n",
       "      <td>2018-02-23T13:38:18.973-0500</td>\n",
       "      <td>DrpbXDP</td>\n",
       "    </tr>\n",
       "  </tbody>\n",
       "</table>\n",
       "</div>"
      ],
      "text/plain": [
       "      idAviso                     timestamp idpostulante\n",
       "0  1111780242  2018-02-23T13:38:13.187-0500      YjVJQ6Z\n",
       "1  1112263876  2018-02-23T13:38:14.296-0500      BmVpYoR\n",
       "2  1112327963  2018-02-23T13:38:14.329-0500      wVkBzZd\n",
       "3  1112318643  2018-02-23T13:38:17.921-0500      OqmP9pv\n",
       "4  1111903673  2018-02-23T13:38:18.973-0500      DrpbXDP"
      ]
     },
     "execution_count": 5,
     "metadata": {},
     "output_type": "execute_result"
    }
   ],
   "source": [
    "vistas.head()"
   ]
  },
  {
   "cell_type": "code",
   "execution_count": 6,
   "metadata": {},
   "outputs": [
    {
     "data": {
      "text/html": [
       "<div>\n",
       "<table border=\"1\" class=\"dataframe\">\n",
       "  <thead>\n",
       "    <tr style=\"text-align: right;\">\n",
       "      <th></th>\n",
       "      <th>idaviso</th>\n",
       "    </tr>\n",
       "  </thead>\n",
       "  <tbody>\n",
       "    <tr>\n",
       "      <th>0</th>\n",
       "      <td>1112355872</td>\n",
       "    </tr>\n",
       "    <tr>\n",
       "      <th>1</th>\n",
       "      <td>1112335374</td>\n",
       "    </tr>\n",
       "    <tr>\n",
       "      <th>2</th>\n",
       "      <td>1112374842</td>\n",
       "    </tr>\n",
       "    <tr>\n",
       "      <th>3</th>\n",
       "      <td>1111984070</td>\n",
       "    </tr>\n",
       "    <tr>\n",
       "      <th>4</th>\n",
       "      <td>1111822480</td>\n",
       "    </tr>\n",
       "  </tbody>\n",
       "</table>\n",
       "</div>"
      ],
      "text/plain": [
       "      idaviso\n",
       "0  1112355872\n",
       "1  1112335374\n",
       "2  1112374842\n",
       "3  1111984070\n",
       "4  1111822480"
      ]
     },
     "execution_count": 6,
     "metadata": {},
     "output_type": "execute_result"
    }
   ],
   "source": [
    "avisos_online.head()"
   ]
  },
  {
   "cell_type": "markdown",
   "metadata": {},
   "source": [
    "#### Este data set sólo posee los ids de los avisos que son online"
   ]
  },
  {
   "cell_type": "code",
   "execution_count": 7,
   "metadata": {},
   "outputs": [
    {
     "data": {
      "text/html": [
       "<div>\n",
       "<table border=\"1\" class=\"dataframe\">\n",
       "  <thead>\n",
       "    <tr style=\"text-align: right;\">\n",
       "      <th></th>\n",
       "      <th>idaviso</th>\n",
       "      <th>idpais</th>\n",
       "      <th>titulo</th>\n",
       "      <th>descripcion</th>\n",
       "      <th>nombre_zona</th>\n",
       "      <th>ciudad</th>\n",
       "      <th>mapacalle</th>\n",
       "      <th>tipo_de_trabajo</th>\n",
       "      <th>nivel_laboral</th>\n",
       "      <th>nombre_area</th>\n",
       "      <th>denominacion_empresa</th>\n",
       "    </tr>\n",
       "  </thead>\n",
       "  <tbody>\n",
       "    <tr>\n",
       "      <th>0</th>\n",
       "      <td>8725750</td>\n",
       "      <td>1</td>\n",
       "      <td>VENDEDOR/A PROVINCIA DE SANTA FE</td>\n",
       "      <td>&lt;p&gt;&lt;strong&gt;&lt;strong&gt;Empresa:&lt;/strong&gt;&lt;/strong&gt; ...</td>\n",
       "      <td>Gran Buenos Aires</td>\n",
       "      <td>NaN</td>\n",
       "      <td>NaN</td>\n",
       "      <td>Full-time</td>\n",
       "      <td>Senior / Semi-Senior</td>\n",
       "      <td>Comercial</td>\n",
       "      <td>VENTOR</td>\n",
       "    </tr>\n",
       "    <tr>\n",
       "      <th>1</th>\n",
       "      <td>17903700</td>\n",
       "      <td>1</td>\n",
       "      <td>Enfermeras</td>\n",
       "      <td>&lt;p&gt;Solicitamos para importante cadena de farma...</td>\n",
       "      <td>Gran Buenos Aires</td>\n",
       "      <td>NaN</td>\n",
       "      <td>NaN</td>\n",
       "      <td>Full-time</td>\n",
       "      <td>Senior / Semi-Senior</td>\n",
       "      <td>Salud</td>\n",
       "      <td>Farmacias Central Oeste</td>\n",
       "    </tr>\n",
       "    <tr>\n",
       "      <th>2</th>\n",
       "      <td>1000150677</td>\n",
       "      <td>1</td>\n",
       "      <td>Chofer de taxi</td>\n",
       "      <td>&lt;p&gt;TE GUSTA MANEJAR? QUERES GANAR PLATA HACIEN...</td>\n",
       "      <td>Capital Federal</td>\n",
       "      <td>NaN</td>\n",
       "      <td>Empedrado 2336</td>\n",
       "      <td>Full-time</td>\n",
       "      <td>Senior / Semi-Senior</td>\n",
       "      <td>Transporte</td>\n",
       "      <td>FAMITAX SRL</td>\n",
       "    </tr>\n",
       "    <tr>\n",
       "      <th>3</th>\n",
       "      <td>1000610287</td>\n",
       "      <td>1</td>\n",
       "      <td>CHOFER DE CAMIONETA BAHIA BLANCA - PUNTA ALTA</td>\n",
       "      <td>&lt;p&gt;&lt;strong&gt;Somos una empresa multinacional que...</td>\n",
       "      <td>Gran Buenos Aires</td>\n",
       "      <td>NaN</td>\n",
       "      <td>NaN</td>\n",
       "      <td>Full-time</td>\n",
       "      <td>Senior / Semi-Senior</td>\n",
       "      <td>Transporte</td>\n",
       "      <td>Wurth Argentina S.A</td>\n",
       "    </tr>\n",
       "    <tr>\n",
       "      <th>4</th>\n",
       "      <td>1000872556</td>\n",
       "      <td>1</td>\n",
       "      <td>Operarios de Planta - Rubro Electrodomésticos</td>\n",
       "      <td>&lt;p&gt;&lt;strong&gt;OPERARIOS DE PLANTA&lt;/strong&gt;&lt;/p&gt;&lt;p&gt;...</td>\n",
       "      <td>Gran Buenos Aires</td>\n",
       "      <td>NaN</td>\n",
       "      <td>NaN</td>\n",
       "      <td>Full-time</td>\n",
       "      <td>Senior / Semi-Senior</td>\n",
       "      <td>Producción</td>\n",
       "      <td>ELECTRO OUTLET SRL</td>\n",
       "    </tr>\n",
       "  </tbody>\n",
       "</table>\n",
       "</div>"
      ],
      "text/plain": [
       "      idaviso  idpais                                         titulo  \\\n",
       "0     8725750       1               VENDEDOR/A PROVINCIA DE SANTA FE   \n",
       "1    17903700       1                                     Enfermeras   \n",
       "2  1000150677       1                                 Chofer de taxi   \n",
       "3  1000610287       1  CHOFER DE CAMIONETA BAHIA BLANCA - PUNTA ALTA   \n",
       "4  1000872556       1  Operarios de Planta - Rubro Electrodomésticos   \n",
       "\n",
       "                                         descripcion        nombre_zona  \\\n",
       "0  <p><strong><strong>Empresa:</strong></strong> ...  Gran Buenos Aires   \n",
       "1  <p>Solicitamos para importante cadena de farma...  Gran Buenos Aires   \n",
       "2  <p>TE GUSTA MANEJAR? QUERES GANAR PLATA HACIEN...    Capital Federal   \n",
       "3  <p><strong>Somos una empresa multinacional que...  Gran Buenos Aires   \n",
       "4  <p><strong>OPERARIOS DE PLANTA</strong></p><p>...  Gran Buenos Aires   \n",
       "\n",
       "  ciudad       mapacalle tipo_de_trabajo         nivel_laboral nombre_area  \\\n",
       "0    NaN             NaN       Full-time  Senior / Semi-Senior   Comercial   \n",
       "1    NaN             NaN       Full-time  Senior / Semi-Senior       Salud   \n",
       "2    NaN  Empedrado 2336       Full-time  Senior / Semi-Senior  Transporte   \n",
       "3    NaN             NaN       Full-time  Senior / Semi-Senior  Transporte   \n",
       "4    NaN             NaN       Full-time  Senior / Semi-Senior  Producción   \n",
       "\n",
       "      denominacion_empresa  \n",
       "0                   VENTOR  \n",
       "1  Farmacias Central Oeste  \n",
       "2              FAMITAX SRL  \n",
       "3      Wurth Argentina S.A  \n",
       "4       ELECTRO OUTLET SRL  "
      ]
     },
     "execution_count": 7,
     "metadata": {},
     "output_type": "execute_result"
    }
   ],
   "source": [
    "avisos_detalles.head()"
   ]
  },
  {
   "cell_type": "code",
   "execution_count": 8,
   "metadata": {},
   "outputs": [
    {
     "data": {
      "text/html": [
       "<div>\n",
       "<table border=\"1\" class=\"dataframe\">\n",
       "  <thead>\n",
       "    <tr style=\"text-align: right;\">\n",
       "      <th></th>\n",
       "      <th>idpostulante</th>\n",
       "      <th>nombre</th>\n",
       "      <th>estado</th>\n",
       "    </tr>\n",
       "  </thead>\n",
       "  <tbody>\n",
       "    <tr>\n",
       "      <th>count</th>\n",
       "      <td>298231</td>\n",
       "      <td>298231</td>\n",
       "      <td>298231</td>\n",
       "    </tr>\n",
       "    <tr>\n",
       "      <th>unique</th>\n",
       "      <td>188752</td>\n",
       "      <td>7</td>\n",
       "      <td>3</td>\n",
       "    </tr>\n",
       "    <tr>\n",
       "      <th>top</th>\n",
       "      <td>YlMLGD</td>\n",
       "      <td>Secundario</td>\n",
       "      <td>Graduado</td>\n",
       "    </tr>\n",
       "    <tr>\n",
       "      <th>freq</th>\n",
       "      <td>9</td>\n",
       "      <td>110256</td>\n",
       "      <td>194474</td>\n",
       "    </tr>\n",
       "  </tbody>\n",
       "</table>\n",
       "</div>"
      ],
      "text/plain": [
       "       idpostulante      nombre    estado\n",
       "count        298231      298231    298231\n",
       "unique       188752           7         3\n",
       "top          YlMLGD  Secundario  Graduado\n",
       "freq              9      110256    194474"
      ]
     },
     "execution_count": 8,
     "metadata": {},
     "output_type": "execute_result"
    }
   ],
   "source": [
    "postulantes_educacion.describe()"
   ]
  },
  {
   "cell_type": "markdown",
   "metadata": {},
   "source": [
    "#### Vemos que los ids de postulantes se repiten, deben tener mas de un tipo de educación y/o estado"
   ]
  },
  {
   "cell_type": "code",
   "execution_count": 9,
   "metadata": {},
   "outputs": [
    {
     "name": "stdout",
     "output_type": "stream",
     "text": [
      "<class 'pandas.core.frame.DataFrame'>\n",
      "Int64Index: 298231 entries, 0 to 298230\n",
      "Data columns (total 3 columns):\n",
      "idpostulante    298231 non-null object\n",
      "nombre          298231 non-null object\n",
      "estado          298231 non-null object\n",
      "dtypes: object(3)\n",
      "memory usage: 9.1+ MB\n"
     ]
    }
   ],
   "source": [
    "postulantes_educacion.info()"
   ]
  },
  {
   "cell_type": "code",
   "execution_count": 4,
   "metadata": {},
   "outputs": [
    {
     "data": {
      "text/html": [
       "<div>\n",
       "<table border=\"1\" class=\"dataframe\">\n",
       "  <thead>\n",
       "    <tr style=\"text-align: right;\">\n",
       "      <th></th>\n",
       "      <th>idpostulante</th>\n",
       "      <th>educacion</th>\n",
       "      <th>estado</th>\n",
       "    </tr>\n",
       "  </thead>\n",
       "  <tbody>\n",
       "    <tr>\n",
       "      <th>0</th>\n",
       "      <td>NdJl</td>\n",
       "      <td>Posgrado</td>\n",
       "      <td>En Curso</td>\n",
       "    </tr>\n",
       "    <tr>\n",
       "      <th>1</th>\n",
       "      <td>8BkL</td>\n",
       "      <td>Universitario</td>\n",
       "      <td>En Curso</td>\n",
       "    </tr>\n",
       "    <tr>\n",
       "      <th>2</th>\n",
       "      <td>1d2B</td>\n",
       "      <td>Universitario</td>\n",
       "      <td>En Curso</td>\n",
       "    </tr>\n",
       "    <tr>\n",
       "      <th>3</th>\n",
       "      <td>NPBx</td>\n",
       "      <td>Universitario</td>\n",
       "      <td>En Curso</td>\n",
       "    </tr>\n",
       "    <tr>\n",
       "      <th>4</th>\n",
       "      <td>NPBx</td>\n",
       "      <td>Master</td>\n",
       "      <td>En Curso</td>\n",
       "    </tr>\n",
       "  </tbody>\n",
       "</table>\n",
       "</div>"
      ],
      "text/plain": [
       "  idpostulante      educacion    estado\n",
       "0         NdJl       Posgrado  En Curso\n",
       "1         8BkL  Universitario  En Curso\n",
       "2         1d2B  Universitario  En Curso\n",
       "3         NPBx  Universitario  En Curso\n",
       "4         NPBx         Master  En Curso"
      ]
     },
     "execution_count": 4,
     "metadata": {},
     "output_type": "execute_result"
    }
   ],
   "source": [
    "##Cambiamos la columna nombre por educacion\n",
    "postulantes_educacion = postulantes_educacion.rename(index=str, columns={'nombre':'educacion'})\n",
    "postulantes_educacion.head()"
   ]
  },
  {
   "cell_type": "code",
   "execution_count": 15,
   "metadata": {},
   "outputs": [
    {
     "data": {
      "text/html": [
       "<div>\n",
       "<table border=\"1\" class=\"dataframe\">\n",
       "  <thead>\n",
       "    <tr style=\"text-align: right;\">\n",
       "      <th></th>\n",
       "      <th>idaviso</th>\n",
       "      <th>idpais</th>\n",
       "      <th>titulo</th>\n",
       "      <th>descripcion</th>\n",
       "      <th>nombre_zona</th>\n",
       "      <th>ciudad</th>\n",
       "      <th>mapacalle</th>\n",
       "      <th>tipo_de_trabajo</th>\n",
       "      <th>nivel_laboral</th>\n",
       "      <th>nombre_area</th>\n",
       "      <th>denominacion_empresa</th>\n",
       "      <th>online</th>\n",
       "    </tr>\n",
       "  </thead>\n",
       "  <tbody>\n",
       "    <tr>\n",
       "      <th>0</th>\n",
       "      <td>8725750</td>\n",
       "      <td>1</td>\n",
       "      <td>VENDEDOR/A PROVINCIA DE SANTA FE</td>\n",
       "      <td>&lt;p&gt;&lt;strong&gt;&lt;strong&gt;Empresa:&lt;/strong&gt;&lt;/strong&gt; ...</td>\n",
       "      <td>Gran Buenos Aires</td>\n",
       "      <td>NaN</td>\n",
       "      <td>NaN</td>\n",
       "      <td>Full-time</td>\n",
       "      <td>Senior / Semi-Senior</td>\n",
       "      <td>Comercial</td>\n",
       "      <td>VENTOR</td>\n",
       "      <td>NaN</td>\n",
       "    </tr>\n",
       "    <tr>\n",
       "      <th>1</th>\n",
       "      <td>17903700</td>\n",
       "      <td>1</td>\n",
       "      <td>Enfermeras</td>\n",
       "      <td>&lt;p&gt;Solicitamos para importante cadena de farma...</td>\n",
       "      <td>Gran Buenos Aires</td>\n",
       "      <td>NaN</td>\n",
       "      <td>NaN</td>\n",
       "      <td>Full-time</td>\n",
       "      <td>Senior / Semi-Senior</td>\n",
       "      <td>Salud</td>\n",
       "      <td>Farmacias Central Oeste</td>\n",
       "      <td>NaN</td>\n",
       "    </tr>\n",
       "    <tr>\n",
       "      <th>2</th>\n",
       "      <td>1000150677</td>\n",
       "      <td>1</td>\n",
       "      <td>Chofer de taxi</td>\n",
       "      <td>&lt;p&gt;TE GUSTA MANEJAR? QUERES GANAR PLATA HACIEN...</td>\n",
       "      <td>Capital Federal</td>\n",
       "      <td>NaN</td>\n",
       "      <td>Empedrado 2336</td>\n",
       "      <td>Full-time</td>\n",
       "      <td>Senior / Semi-Senior</td>\n",
       "      <td>Transporte</td>\n",
       "      <td>FAMITAX SRL</td>\n",
       "      <td>NaN</td>\n",
       "    </tr>\n",
       "    <tr>\n",
       "      <th>3</th>\n",
       "      <td>1000610287</td>\n",
       "      <td>1</td>\n",
       "      <td>CHOFER DE CAMIONETA BAHIA BLANCA - PUNTA ALTA</td>\n",
       "      <td>&lt;p&gt;&lt;strong&gt;Somos una empresa multinacional que...</td>\n",
       "      <td>Gran Buenos Aires</td>\n",
       "      <td>NaN</td>\n",
       "      <td>NaN</td>\n",
       "      <td>Full-time</td>\n",
       "      <td>Senior / Semi-Senior</td>\n",
       "      <td>Transporte</td>\n",
       "      <td>Wurth Argentina S.A</td>\n",
       "      <td>True</td>\n",
       "    </tr>\n",
       "    <tr>\n",
       "      <th>4</th>\n",
       "      <td>1000872556</td>\n",
       "      <td>1</td>\n",
       "      <td>Operarios de Planta - Rubro Electrodomésticos</td>\n",
       "      <td>&lt;p&gt;&lt;strong&gt;OPERARIOS DE PLANTA&lt;/strong&gt;&lt;/p&gt;&lt;p&gt;...</td>\n",
       "      <td>Gran Buenos Aires</td>\n",
       "      <td>NaN</td>\n",
       "      <td>NaN</td>\n",
       "      <td>Full-time</td>\n",
       "      <td>Senior / Semi-Senior</td>\n",
       "      <td>Producción</td>\n",
       "      <td>ELECTRO OUTLET SRL</td>\n",
       "      <td>NaN</td>\n",
       "    </tr>\n",
       "  </tbody>\n",
       "</table>\n",
       "</div>"
      ],
      "text/plain": [
       "      idaviso  idpais                                         titulo  \\\n",
       "0     8725750       1               VENDEDOR/A PROVINCIA DE SANTA FE   \n",
       "1    17903700       1                                     Enfermeras   \n",
       "2  1000150677       1                                 Chofer de taxi   \n",
       "3  1000610287       1  CHOFER DE CAMIONETA BAHIA BLANCA - PUNTA ALTA   \n",
       "4  1000872556       1  Operarios de Planta - Rubro Electrodomésticos   \n",
       "\n",
       "                                         descripcion        nombre_zona  \\\n",
       "0  <p><strong><strong>Empresa:</strong></strong> ...  Gran Buenos Aires   \n",
       "1  <p>Solicitamos para importante cadena de farma...  Gran Buenos Aires   \n",
       "2  <p>TE GUSTA MANEJAR? QUERES GANAR PLATA HACIEN...    Capital Federal   \n",
       "3  <p><strong>Somos una empresa multinacional que...  Gran Buenos Aires   \n",
       "4  <p><strong>OPERARIOS DE PLANTA</strong></p><p>...  Gran Buenos Aires   \n",
       "\n",
       "  ciudad       mapacalle tipo_de_trabajo         nivel_laboral nombre_area  \\\n",
       "0    NaN             NaN       Full-time  Senior / Semi-Senior   Comercial   \n",
       "1    NaN             NaN       Full-time  Senior / Semi-Senior       Salud   \n",
       "2    NaN  Empedrado 2336       Full-time  Senior / Semi-Senior  Transporte   \n",
       "3    NaN             NaN       Full-time  Senior / Semi-Senior  Transporte   \n",
       "4    NaN             NaN       Full-time  Senior / Semi-Senior  Producción   \n",
       "\n",
       "      denominacion_empresa online  \n",
       "0                   VENTOR    NaN  \n",
       "1  Farmacias Central Oeste    NaN  \n",
       "2              FAMITAX SRL    NaN  \n",
       "3      Wurth Argentina S.A   True  \n",
       "4       ELECTRO OUTLET SRL    NaN  "
      ]
     },
     "execution_count": 15,
     "metadata": {},
     "output_type": "execute_result"
    }
   ],
   "source": [
    "##Agregamos una columna para indicar que el aviso es online en avisos_detalles\n",
    "avisos_online['online'] = True\n",
    "##unimos los avisos para agregar la columna online en avisos_detalles\n",
    "avisos = avisos_detalles.join(avisos_online.set_index('idaviso'),on='idaviso',how='left')\n",
    "avisos.head()"
   ]
  },
  {
   "cell_type": "markdown",
   "metadata": {},
   "source": [
    "#### Vemos que la nueva columna online de tipo booleano posee NaN por los ids de aviso de que no son online, entonces cambiamos ese valor por false"
   ]
  },
  {
   "cell_type": "code",
   "execution_count": 16,
   "metadata": {},
   "outputs": [
    {
     "data": {
      "text/html": [
       "<div>\n",
       "<table border=\"1\" class=\"dataframe\">\n",
       "  <thead>\n",
       "    <tr style=\"text-align: right;\">\n",
       "      <th></th>\n",
       "      <th>idaviso</th>\n",
       "      <th>idpais</th>\n",
       "      <th>titulo</th>\n",
       "      <th>descripcion</th>\n",
       "      <th>nombre_zona</th>\n",
       "      <th>ciudad</th>\n",
       "      <th>mapacalle</th>\n",
       "      <th>tipo_de_trabajo</th>\n",
       "      <th>nivel_laboral</th>\n",
       "      <th>nombre_area</th>\n",
       "      <th>denominacion_empresa</th>\n",
       "      <th>online</th>\n",
       "    </tr>\n",
       "  </thead>\n",
       "  <tbody>\n",
       "    <tr>\n",
       "      <th>0</th>\n",
       "      <td>8725750</td>\n",
       "      <td>1</td>\n",
       "      <td>VENDEDOR/A PROVINCIA DE SANTA FE</td>\n",
       "      <td>&lt;p&gt;&lt;strong&gt;&lt;strong&gt;Empresa:&lt;/strong&gt;&lt;/strong&gt; ...</td>\n",
       "      <td>Gran Buenos Aires</td>\n",
       "      <td>NaN</td>\n",
       "      <td>NaN</td>\n",
       "      <td>Full-time</td>\n",
       "      <td>Senior / Semi-Senior</td>\n",
       "      <td>Comercial</td>\n",
       "      <td>VENTOR</td>\n",
       "      <td>False</td>\n",
       "    </tr>\n",
       "    <tr>\n",
       "      <th>1</th>\n",
       "      <td>17903700</td>\n",
       "      <td>1</td>\n",
       "      <td>Enfermeras</td>\n",
       "      <td>&lt;p&gt;Solicitamos para importante cadena de farma...</td>\n",
       "      <td>Gran Buenos Aires</td>\n",
       "      <td>NaN</td>\n",
       "      <td>NaN</td>\n",
       "      <td>Full-time</td>\n",
       "      <td>Senior / Semi-Senior</td>\n",
       "      <td>Salud</td>\n",
       "      <td>Farmacias Central Oeste</td>\n",
       "      <td>False</td>\n",
       "    </tr>\n",
       "    <tr>\n",
       "      <th>2</th>\n",
       "      <td>1000150677</td>\n",
       "      <td>1</td>\n",
       "      <td>Chofer de taxi</td>\n",
       "      <td>&lt;p&gt;TE GUSTA MANEJAR? QUERES GANAR PLATA HACIEN...</td>\n",
       "      <td>Capital Federal</td>\n",
       "      <td>NaN</td>\n",
       "      <td>Empedrado 2336</td>\n",
       "      <td>Full-time</td>\n",
       "      <td>Senior / Semi-Senior</td>\n",
       "      <td>Transporte</td>\n",
       "      <td>FAMITAX SRL</td>\n",
       "      <td>False</td>\n",
       "    </tr>\n",
       "    <tr>\n",
       "      <th>3</th>\n",
       "      <td>1000610287</td>\n",
       "      <td>1</td>\n",
       "      <td>CHOFER DE CAMIONETA BAHIA BLANCA - PUNTA ALTA</td>\n",
       "      <td>&lt;p&gt;&lt;strong&gt;Somos una empresa multinacional que...</td>\n",
       "      <td>Gran Buenos Aires</td>\n",
       "      <td>NaN</td>\n",
       "      <td>NaN</td>\n",
       "      <td>Full-time</td>\n",
       "      <td>Senior / Semi-Senior</td>\n",
       "      <td>Transporte</td>\n",
       "      <td>Wurth Argentina S.A</td>\n",
       "      <td>True</td>\n",
       "    </tr>\n",
       "    <tr>\n",
       "      <th>4</th>\n",
       "      <td>1000872556</td>\n",
       "      <td>1</td>\n",
       "      <td>Operarios de Planta - Rubro Electrodomésticos</td>\n",
       "      <td>&lt;p&gt;&lt;strong&gt;OPERARIOS DE PLANTA&lt;/strong&gt;&lt;/p&gt;&lt;p&gt;...</td>\n",
       "      <td>Gran Buenos Aires</td>\n",
       "      <td>NaN</td>\n",
       "      <td>NaN</td>\n",
       "      <td>Full-time</td>\n",
       "      <td>Senior / Semi-Senior</td>\n",
       "      <td>Producción</td>\n",
       "      <td>ELECTRO OUTLET SRL</td>\n",
       "      <td>False</td>\n",
       "    </tr>\n",
       "  </tbody>\n",
       "</table>\n",
       "</div>"
      ],
      "text/plain": [
       "      idaviso  idpais                                         titulo  \\\n",
       "0     8725750       1               VENDEDOR/A PROVINCIA DE SANTA FE   \n",
       "1    17903700       1                                     Enfermeras   \n",
       "2  1000150677       1                                 Chofer de taxi   \n",
       "3  1000610287       1  CHOFER DE CAMIONETA BAHIA BLANCA - PUNTA ALTA   \n",
       "4  1000872556       1  Operarios de Planta - Rubro Electrodomésticos   \n",
       "\n",
       "                                         descripcion        nombre_zona  \\\n",
       "0  <p><strong><strong>Empresa:</strong></strong> ...  Gran Buenos Aires   \n",
       "1  <p>Solicitamos para importante cadena de farma...  Gran Buenos Aires   \n",
       "2  <p>TE GUSTA MANEJAR? QUERES GANAR PLATA HACIEN...    Capital Federal   \n",
       "3  <p><strong>Somos una empresa multinacional que...  Gran Buenos Aires   \n",
       "4  <p><strong>OPERARIOS DE PLANTA</strong></p><p>...  Gran Buenos Aires   \n",
       "\n",
       "  ciudad       mapacalle tipo_de_trabajo         nivel_laboral nombre_area  \\\n",
       "0    NaN             NaN       Full-time  Senior / Semi-Senior   Comercial   \n",
       "1    NaN             NaN       Full-time  Senior / Semi-Senior       Salud   \n",
       "2    NaN  Empedrado 2336       Full-time  Senior / Semi-Senior  Transporte   \n",
       "3    NaN             NaN       Full-time  Senior / Semi-Senior  Transporte   \n",
       "4    NaN             NaN       Full-time  Senior / Semi-Senior  Producción   \n",
       "\n",
       "      denominacion_empresa online  \n",
       "0                   VENTOR  False  \n",
       "1  Farmacias Central Oeste  False  \n",
       "2              FAMITAX SRL  False  \n",
       "3      Wurth Argentina S.A   True  \n",
       "4       ELECTRO OUTLET SRL  False  "
      ]
     },
     "execution_count": 16,
     "metadata": {},
     "output_type": "execute_result"
    }
   ],
   "source": [
    "##Los que no son avisos online la fila en la columna online tiene valor False\n",
    "avisos[\"online\"].fillna(False,inplace=True)\n",
    "avisos.head()"
   ]
  },
  {
   "cell_type": "markdown",
   "metadata": {},
   "source": [
    "## Top 5 de avisos mas visitados"
   ]
  },
  {
   "cell_type": "markdown",
   "metadata": {},
   "source": [
    "#### Analizamos las fechas de las visitas, para ver si se pueden filtrar las mismas. "
   ]
  },
  {
   "cell_type": "code",
   "execution_count": 16,
   "metadata": {},
   "outputs": [
    {
     "name": "stdout",
     "output_type": "stream",
     "text": [
      "<class 'pandas.core.frame.DataFrame'>\n",
      "Int64Index: 961897 entries, 0 to 961896\n",
      "Data columns (total 3 columns):\n",
      "idAviso         961897 non-null int64\n",
      "timestamp       961897 non-null object\n",
      "idpostulante    961897 non-null object\n",
      "dtypes: int64(1), object(2)\n",
      "memory usage: 29.4+ MB\n"
     ]
    }
   ],
   "source": [
    "vistas.info()"
   ]
  },
  {
   "cell_type": "markdown",
   "metadata": {},
   "source": [
    "#### Como podemos observar timestamp hay que cambiarle el tipo por datetime"
   ]
  },
  {
   "cell_type": "code",
   "execution_count": 8,
   "metadata": {
    "scrolled": false
   },
   "outputs": [
    {
     "data": {
      "text/plain": [
       "2373     2018-02-23 18:38:10.808\n",
       "1041     2018-02-23 18:38:12.173\n",
       "1352     2018-02-23 18:38:12.581\n",
       "1691     2018-02-23 18:38:12.790\n",
       "1692     2018-02-23 18:38:12.945\n",
       "0        2018-02-23 18:38:13.187\n",
       "2029     2018-02-23 18:38:13.269\n",
       "2030     2018-02-23 18:38:13.343\n",
       "351      2018-02-23 18:38:13.849\n",
       "1        2018-02-23 18:38:14.296\n",
       "1353     2018-02-23 18:38:14.327\n",
       "2        2018-02-23 18:38:14.329\n",
       "352      2018-02-23 18:38:14.978\n",
       "353      2018-02-23 18:38:15.506\n",
       "2374     2018-02-23 18:38:15.583\n",
       "2031     2018-02-23 18:38:15.996\n",
       "2032     2018-02-23 18:38:16.532\n",
       "1042     2018-02-23 18:38:16.552\n",
       "354      2018-02-23 18:38:16.869\n",
       "2375     2018-02-23 18:38:16.893\n",
       "1043     2018-02-23 18:38:16.934\n",
       "2033     2018-02-23 18:38:17.169\n",
       "1044     2018-02-23 18:38:17.695\n",
       "3        2018-02-23 18:38:17.921\n",
       "2034     2018-02-23 18:38:17.987\n",
       "2376     2018-02-23 18:38:18.557\n",
       "1354     2018-02-23 18:38:18.585\n",
       "1045     2018-02-23 18:38:18.690\n",
       "4        2018-02-23 18:38:18.973\n",
       "671      2018-02-23 18:38:19.099\n",
       "                   ...          \n",
       "959374   2018-03-01 04:59:26.096\n",
       "960414   2018-03-01 04:59:28.126\n",
       "960415   2018-03-01 04:59:29.521\n",
       "959375   2018-03-01 04:59:30.369\n",
       "952788   2018-03-01 04:59:31.816\n",
       "960416   2018-03-01 04:59:32.180\n",
       "961563   2018-03-01 04:59:32.235\n",
       "960417   2018-03-01 04:59:32.474\n",
       "959376   2018-03-01 04:59:33.881\n",
       "952789   2018-03-01 04:59:35.792\n",
       "960418   2018-03-01 04:59:36.062\n",
       "961893   2018-03-01 04:59:37.000\n",
       "959377   2018-03-01 04:59:38.553\n",
       "952790   2018-03-01 04:59:38.780\n",
       "958983   2018-03-01 04:59:39.694\n",
       "952791   2018-03-01 04:59:41.096\n",
       "959378   2018-03-01 04:59:43.569\n",
       "961564   2018-03-01 04:59:44.016\n",
       "959379   2018-03-01 04:59:44.795\n",
       "961894   2018-03-01 04:59:46.181\n",
       "961864   2018-03-01 04:59:48.212\n",
       "961208   2018-03-01 04:59:49.344\n",
       "959380   2018-03-01 04:59:50.844\n",
       "961895   2018-03-01 04:59:52.754\n",
       "959381   2018-03-01 04:59:54.532\n",
       "961896   2018-03-01 04:59:55.409\n",
       "961865   2018-03-01 04:59:55.535\n",
       "958984   2018-03-01 04:59:55.636\n",
       "961565   2018-03-01 04:59:56.142\n",
       "952792   2018-03-01 04:59:56.812\n",
       "Name: timestamp, dtype: datetime64[ns]"
      ]
     },
     "execution_count": 8,
     "metadata": {},
     "output_type": "execute_result"
    }
   ],
   "source": [
    "vistas[\"timestamp\"] = pd.to_datetime(vistas[\"timestamp\"], errors='coerce')\n",
    "vistas[\"timestamp\"].sort_values()"
   ]
  },
  {
   "cell_type": "markdown",
   "metadata": {},
   "source": [
    "#### Solo se poseen datos de Febrero y Marzo del 2018"
   ]
  },
  {
   "cell_type": "code",
   "execution_count": 17,
   "metadata": {},
   "outputs": [
    {
     "data": {
      "text/plain": [
       "1112363488    4169\n",
       "1112359836    4120\n",
       "1112352317    4003\n",
       "1112366909    3669\n",
       "1112355872    3472\n",
       "Name: idAviso, dtype: int64"
      ]
     },
     "execution_count": 17,
     "metadata": {},
     "output_type": "execute_result"
    }
   ],
   "source": [
    "vistas[\"idAviso\"].value_counts().head()"
   ]
  },
  {
   "cell_type": "code",
   "execution_count": 18,
   "metadata": {},
   "outputs": [
    {
     "data": {
      "text/plain": [
       "Ventas                 128025\n",
       "Administración         102812\n",
       "Producción              64485\n",
       "Comercial               58885\n",
       "Atención al Cliente     49203\n",
       "Name: nombre_area, dtype: int64"
      ]
     },
     "execution_count": 18,
     "metadata": {},
     "output_type": "execute_result"
    }
   ],
   "source": [
    "## Reemplazamos los IdAviso por el area de los postulantes\n",
    "vistas_all = vistas.join(avisos_detalles.set_index(\"idaviso\"), on=\"idAviso\", how='inner')\n",
    "vistas_all[\"nombre_area\"].value_counts().head()"
   ]
  },
  {
   "cell_type": "code",
   "execution_count": 11,
   "metadata": {},
   "outputs": [
    {
     "data": {
      "text/plain": [
       "<matplotlib.text.Text at 0x7f9302a109b0>"
      ]
     },
     "execution_count": 11,
     "metadata": {},
     "output_type": "execute_result"
    },
    {
     "data": {
      "image/png": "[encoded data removed]",
      "text/plain": [
       "<matplotlib.figure.Figure at 0x7f93029f70f0>"
      ]
     },
     "metadata": {},
     "output_type": "display_data"
    }
   ],
   "source": [
    "vistas_all[\"nombre_area\"].value_counts().head().plot(kind='bar',\n",
    "                                                     color = ['#ff1a1a', '#00ff00', '#0080ff', '#8000ff', '#ff00bf'])\n",
    "plt.title(\"Cantidad de visitas vs Area\")\n",
    "plt.xlabel(\"Area\")\n",
    "plt.ylabel(\"Candidad de visitas\")"
   ]
  },
  {
   "cell_type": "markdown",
   "metadata": {},
   "source": [
    "### Top 10 de los avisos mas vistos"
   ]
  },
  {
   "cell_type": "code",
   "execution_count": 12,
   "metadata": {},
   "outputs": [
    {
     "data": {
      "text/plain": [
       "<matplotlib.text.Text at 0x7f930d07c278>"
      ]
     },
     "execution_count": 12,
     "metadata": {},
     "output_type": "execute_result"
    },
    {
     "data": {
      "image/png": "[encoded data removed]",
      "text/plain": [
       "<matplotlib.figure.Figure at 0x7f93066a6748>"
      ]
     },
     "metadata": {},
     "output_type": "display_data"
    }
   ],
   "source": [
    "vistas_all[\"nombre_area\"].value_counts().head(10).plot(kind='bar',  \n",
    "                                                     color = ['#ff1a1a', '#00ff00', '#0080ff', '#8000ff', '#ff00bf'])\n",
    "plt.title(\"Cantidad de visitas vs Area\")\n",
    "plt.xlabel(\"Area\")\n",
    "plt.ylabel(\"Candidad de visitas\")"
   ]
  },
  {
   "cell_type": "markdown",
   "metadata": {},
   "source": [
    "### Top 10 de los avisos mas visitados por empresa"
   ]
  },
  {
   "cell_type": "code",
   "execution_count": 13,
   "metadata": {},
   "outputs": [
    {
     "data": {
      "text/plain": [
       "<matplotlib.text.Text at 0x7f930d00aac8>"
      ]
     },
     "execution_count": 13,
     "metadata": {},
     "output_type": "execute_result"
    },
    {
     "data": {
      "image/png": "[encoded data removed]",
      "text/plain": [
       "<matplotlib.figure.Figure at 0x7f930cfe8a20>"
      ]
     },
     "metadata": {},
     "output_type": "display_data"
    }
   ],
   "source": [
    "vistas_all[\"denominacion_empresa\"].value_counts().head().plot(kind='bar')\n",
    "plt.title(\"Cantidad de visitas vs Empresas\")\n",
    "plt.xlabel(\"Empresa\")\n",
    "plt.ylabel(\"Candidad de visitas\")"
   ]
  },
  {
   "cell_type": "markdown",
   "metadata": {},
   "source": [
    "#### ¿Cuál de los 2 meses tiene mas cantidad de visitas?"
   ]
  },
  {
   "cell_type": "code",
   "execution_count": 40,
   "metadata": {},
   "outputs": [
    {
     "data": {
      "text/plain": [
       "timestamp\n",
       "2    921074\n",
       "3     40823\n",
       "dtype: int64"
      ]
     },
     "execution_count": 40,
     "metadata": {},
     "output_type": "execute_result"
    }
   ],
   "source": [
    "vistas.loc[:,[\"idAviso\",\"timestamp\"]].groupby(vistas[\"timestamp\"].dt.month).size()"
   ]
  },
  {
   "cell_type": "code",
   "execution_count": 59,
   "metadata": {},
   "outputs": [
    {
     "data": {
      "image/png": "[encoded data removed]",
      "text/plain": [
       "<matplotlib.figure.Figure at 0x7f393d3ba080>"
      ]
     },
     "metadata": {},
     "output_type": "display_data"
    }
   ],
   "source": [
    "sizes = [vistas[vistas[\"timestamp\"].dt.month==2][\"timestamp\"].count(), vistas[vistas[\"timestamp\"].dt.month==3][\"timestamp\"].count()]\n",
    "nombres = ['Febrero', 'Marzo']\n",
    "\n",
    "plt.figure(figsize=(6, 6))\n",
    "plt.title('Cantidad de visitas por mes', fontsize=20)\n",
    "plt.pie(sizes, labels=nombres, autopct='%1.1f%%', startangle=20, colors=['red', 'yellow'], explode=(0.1, 0))\n",
    "plt.show()"
   ]
  },
  {
   "cell_type": "markdown",
   "metadata": {},
   "source": [
    "### Cantidad de visitas según su Estado "
   ]
  },
  {
   "cell_type": "code",
   "execution_count": 53,
   "metadata": {
    "scrolled": true
   },
   "outputs": [
    {
     "data": {
      "image/png": "[encoded data removed]",
      "text/plain": [
       "<matplotlib.figure.Figure at 0x7f12c68d7ef0>"
      ]
     },
     "metadata": {},
     "output_type": "display_data"
    }
   ],
   "source": [
    "sizes = [avisos[avisos[\"online\"]==True][\"online\"].count(), avisos[avisos[\"online\"]==False][\"online\"].count()]\n",
    "nombres = ['Activo', 'No Activo']\n",
    "\n",
    "plt.figure(figsize=(6, 6))\n",
    "plt.title('Cantidad de visitas según tipo de aviso', fontsize=20)\n",
    "plt.pie(sizes, labels=nombres, autopct='%1.1f%%', colors=['pink', 'red'], explode=(0.1, 0))\n",
    "plt.show()"
   ]
  },
  {
   "cell_type": "markdown",
   "metadata": {},
   "source": [
    "#### Existen muchos anuncios no activos asi que analizamos que pasa si descartamos los no activos a la hora de analizar que mes tiene mas cantidad de visitas"
   ]
  },
  {
   "cell_type": "code",
   "execution_count": 67,
   "metadata": {},
   "outputs": [],
   "source": [
    "avisos_online[\"online\"] = True \n",
    "vistas_activas = vistas.join(avisos_online.set_index(\"idaviso\"), on=\"idAviso\", how='inner')"
   ]
  },
  {
   "cell_type": "code",
   "execution_count": 76,
   "metadata": {},
   "outputs": [
    {
     "data": {
      "text/html": [
       "<div>\n",
       "<table border=\"1\" class=\"dataframe\">\n",
       "  <thead>\n",
       "    <tr style=\"text-align: right;\">\n",
       "      <th></th>\n",
       "      <th>idAviso</th>\n",
       "      <th>timestamp</th>\n",
       "      <th>idpostulante</th>\n",
       "      <th>online</th>\n",
       "    </tr>\n",
       "  </thead>\n",
       "  <tbody>\n",
       "    <tr>\n",
       "      <th>0</th>\n",
       "      <td>1111780242</td>\n",
       "      <td>2018-02-23 18:38:13.187</td>\n",
       "      <td>YjVJQ6Z</td>\n",
       "      <td>True</td>\n",
       "    </tr>\n",
       "    <tr>\n",
       "      <th>22</th>\n",
       "      <td>1111780242</td>\n",
       "      <td>2018-02-23 18:39:03.119</td>\n",
       "      <td>dYjRpMD</td>\n",
       "      <td>True</td>\n",
       "    </tr>\n",
       "    <tr>\n",
       "      <th>471</th>\n",
       "      <td>1111780242</td>\n",
       "      <td>2018-02-23 18:43:52.058</td>\n",
       "      <td>wVopPXl</td>\n",
       "      <td>True</td>\n",
       "    </tr>\n",
       "    <tr>\n",
       "      <th>490</th>\n",
       "      <td>1111780242</td>\n",
       "      <td>2018-02-23 18:45:06.956</td>\n",
       "      <td>wVopPXl</td>\n",
       "      <td>True</td>\n",
       "    </tr>\n",
       "    <tr>\n",
       "      <th>720</th>\n",
       "      <td>1111780242</td>\n",
       "      <td>2018-02-23 18:40:23.265</td>\n",
       "      <td>wVoOPoL</td>\n",
       "      <td>True</td>\n",
       "    </tr>\n",
       "    <tr>\n",
       "      <th>1067</th>\n",
       "      <td>1111780242</td>\n",
       "      <td>2018-02-23 18:39:04.385</td>\n",
       "      <td>dYjRpMD</td>\n",
       "      <td>True</td>\n",
       "    </tr>\n",
       "    <tr>\n",
       "      <th>1753</th>\n",
       "      <td>1111780242</td>\n",
       "      <td>2018-02-23 18:40:37.567</td>\n",
       "      <td>wVoOPoL</td>\n",
       "      <td>True</td>\n",
       "    </tr>\n",
       "    <tr>\n",
       "      <th>2095</th>\n",
       "      <td>1111780242</td>\n",
       "      <td>2018-02-23 18:40:36.307</td>\n",
       "      <td>wVoOPoL</td>\n",
       "      <td>True</td>\n",
       "    </tr>\n",
       "    <tr>\n",
       "      <th>3461</th>\n",
       "      <td>1111780242</td>\n",
       "      <td>2018-02-23 19:00:58.249</td>\n",
       "      <td>KBdJJKd</td>\n",
       "      <td>True</td>\n",
       "    </tr>\n",
       "    <tr>\n",
       "      <th>4772</th>\n",
       "      <td>1111780242</td>\n",
       "      <td>2018-02-23 19:20:05.713</td>\n",
       "      <td>3N2brQK</td>\n",
       "      <td>True</td>\n",
       "    </tr>\n",
       "    <tr>\n",
       "      <th>9242</th>\n",
       "      <td>1111780242</td>\n",
       "      <td>2018-02-23 19:32:04.093</td>\n",
       "      <td>qekKLlk</td>\n",
       "      <td>True</td>\n",
       "    </tr>\n",
       "    <tr>\n",
       "      <th>10605</th>\n",
       "      <td>1111780242</td>\n",
       "      <td>2018-02-23 19:46:17.367</td>\n",
       "      <td>DrJlqdX</td>\n",
       "      <td>True</td>\n",
       "    </tr>\n",
       "    <tr>\n",
       "      <th>10796</th>\n",
       "      <td>1111780242</td>\n",
       "      <td>2018-02-23 19:39:14.499</td>\n",
       "      <td>GNOe85A</td>\n",
       "      <td>True</td>\n",
       "    </tr>\n",
       "    <tr>\n",
       "      <th>11817</th>\n",
       "      <td>1111780242</td>\n",
       "      <td>2018-02-23 19:39:12.820</td>\n",
       "      <td>GNOe85A</td>\n",
       "      <td>True</td>\n",
       "    </tr>\n",
       "    <tr>\n",
       "      <th>12319</th>\n",
       "      <td>1111780242</td>\n",
       "      <td>2018-02-23 19:32:06.005</td>\n",
       "      <td>qekKLlk</td>\n",
       "      <td>True</td>\n",
       "    </tr>\n",
       "    <tr>\n",
       "      <th>13119</th>\n",
       "      <td>1111780242</td>\n",
       "      <td>2018-02-23 19:55:08.643</td>\n",
       "      <td>JBmrw2E</td>\n",
       "      <td>True</td>\n",
       "    </tr>\n",
       "    <tr>\n",
       "      <th>15058</th>\n",
       "      <td>1111780242</td>\n",
       "      <td>2018-02-23 20:14:55.833</td>\n",
       "      <td>xkvp8zP</td>\n",
       "      <td>True</td>\n",
       "    </tr>\n",
       "    <tr>\n",
       "      <th>15060</th>\n",
       "      <td>1111780242</td>\n",
       "      <td>2018-02-23 20:15:01.094</td>\n",
       "      <td>xkvp8zP</td>\n",
       "      <td>True</td>\n",
       "    </tr>\n",
       "    <tr>\n",
       "      <th>15486</th>\n",
       "      <td>1111780242</td>\n",
       "      <td>2018-02-23 20:08:03.692</td>\n",
       "      <td>qekKLlk</td>\n",
       "      <td>True</td>\n",
       "    </tr>\n",
       "    <tr>\n",
       "      <th>15513</th>\n",
       "      <td>1111780242</td>\n",
       "      <td>2018-02-23 20:09:23.585</td>\n",
       "      <td>qekKLlk</td>\n",
       "      <td>True</td>\n",
       "    </tr>\n",
       "    <tr>\n",
       "      <th>16358</th>\n",
       "      <td>1111780242</td>\n",
       "      <td>2018-02-23 20:08:06.683</td>\n",
       "      <td>qekKLlk</td>\n",
       "      <td>True</td>\n",
       "    </tr>\n",
       "    <tr>\n",
       "      <th>16515</th>\n",
       "      <td>1111780242</td>\n",
       "      <td>2018-02-23 20:14:10.935</td>\n",
       "      <td>zvPoEM8</td>\n",
       "      <td>True</td>\n",
       "    </tr>\n",
       "    <tr>\n",
       "      <th>16803</th>\n",
       "      <td>1111780242</td>\n",
       "      <td>2018-02-23 20:13:43.619</td>\n",
       "      <td>xkvp8zP</td>\n",
       "      <td>True</td>\n",
       "    </tr>\n",
       "    <tr>\n",
       "      <th>16815</th>\n",
       "      <td>1111780242</td>\n",
       "      <td>2018-02-23 20:14:15.599</td>\n",
       "      <td>zvPoEM8</td>\n",
       "      <td>True</td>\n",
       "    </tr>\n",
       "    <tr>\n",
       "      <th>17587</th>\n",
       "      <td>1111780242</td>\n",
       "      <td>2018-02-23 20:09:21.648</td>\n",
       "      <td>qekKLlk</td>\n",
       "      <td>True</td>\n",
       "    </tr>\n",
       "    <tr>\n",
       "      <th>17702</th>\n",
       "      <td>1111780242</td>\n",
       "      <td>2018-02-23 20:14:54.477</td>\n",
       "      <td>xkvp8zP</td>\n",
       "      <td>True</td>\n",
       "    </tr>\n",
       "    <tr>\n",
       "      <th>18017</th>\n",
       "      <td>1111780242</td>\n",
       "      <td>2018-02-23 20:30:23.836</td>\n",
       "      <td>VNrRL5l</td>\n",
       "      <td>True</td>\n",
       "    </tr>\n",
       "    <tr>\n",
       "      <th>18311</th>\n",
       "      <td>1111780242</td>\n",
       "      <td>2018-02-23 20:30:24.946</td>\n",
       "      <td>VNrRL5l</td>\n",
       "      <td>True</td>\n",
       "    </tr>\n",
       "    <tr>\n",
       "      <th>18407</th>\n",
       "      <td>1111780242</td>\n",
       "      <td>2018-02-23 20:35:29.834</td>\n",
       "      <td>vV9GqWo</td>\n",
       "      <td>True</td>\n",
       "    </tr>\n",
       "    <tr>\n",
       "      <th>19875</th>\n",
       "      <td>1111780242</td>\n",
       "      <td>2018-02-23 20:30:14.817</td>\n",
       "      <td>96XY1Ea</td>\n",
       "      <td>True</td>\n",
       "    </tr>\n",
       "    <tr>\n",
       "      <th>...</th>\n",
       "      <td>...</td>\n",
       "      <td>...</td>\n",
       "      <td>...</td>\n",
       "      <td>...</td>\n",
       "    </tr>\n",
       "    <tr>\n",
       "      <th>952327</th>\n",
       "      <td>1112206824</td>\n",
       "      <td>2018-03-01 03:01:40.127</td>\n",
       "      <td>ZpONwR</td>\n",
       "      <td>True</td>\n",
       "    </tr>\n",
       "    <tr>\n",
       "      <th>936579</th>\n",
       "      <td>1112370440</td>\n",
       "      <td>2018-03-01 01:45:38.506</td>\n",
       "      <td>mzVVX4E</td>\n",
       "      <td>True</td>\n",
       "    </tr>\n",
       "    <tr>\n",
       "      <th>939681</th>\n",
       "      <td>1112370440</td>\n",
       "      <td>2018-03-01 02:00:17.810</td>\n",
       "      <td>ZqEeA5</td>\n",
       "      <td>True</td>\n",
       "    </tr>\n",
       "    <tr>\n",
       "      <th>940131</th>\n",
       "      <td>1112370440</td>\n",
       "      <td>2018-03-01 02:14:28.584</td>\n",
       "      <td>OqrAKNN</td>\n",
       "      <td>True</td>\n",
       "    </tr>\n",
       "    <tr>\n",
       "      <th>942489</th>\n",
       "      <td>1112370440</td>\n",
       "      <td>2018-03-01 03:12:44.991</td>\n",
       "      <td>6pNkRl</td>\n",
       "      <td>True</td>\n",
       "    </tr>\n",
       "    <tr>\n",
       "      <th>944115</th>\n",
       "      <td>1112370440</td>\n",
       "      <td>2018-03-01 01:31:08.845</td>\n",
       "      <td>88GLlL</td>\n",
       "      <td>True</td>\n",
       "    </tr>\n",
       "    <tr>\n",
       "      <th>947609</th>\n",
       "      <td>1112370440</td>\n",
       "      <td>2018-03-01 03:10:12.346</td>\n",
       "      <td>5EzAXz</td>\n",
       "      <td>True</td>\n",
       "    </tr>\n",
       "    <tr>\n",
       "      <th>956704</th>\n",
       "      <td>1112370440</td>\n",
       "      <td>2018-03-01 03:10:13.153</td>\n",
       "      <td>5EzAXz</td>\n",
       "      <td>True</td>\n",
       "    </tr>\n",
       "    <tr>\n",
       "      <th>959491</th>\n",
       "      <td>1112370440</td>\n",
       "      <td>2018-03-01 03:53:09.924</td>\n",
       "      <td>bOVO1MY</td>\n",
       "      <td>True</td>\n",
       "    </tr>\n",
       "    <tr>\n",
       "      <th>937631</th>\n",
       "      <td>1112370500</td>\n",
       "      <td>2018-03-01 02:37:22.769</td>\n",
       "      <td>5mqz2Wq</td>\n",
       "      <td>True</td>\n",
       "    </tr>\n",
       "    <tr>\n",
       "      <th>942472</th>\n",
       "      <td>1112370500</td>\n",
       "      <td>2018-03-01 03:11:46.859</td>\n",
       "      <td>eeoNQ4</td>\n",
       "      <td>True</td>\n",
       "    </tr>\n",
       "    <tr>\n",
       "      <th>948250</th>\n",
       "      <td>1112370500</td>\n",
       "      <td>2018-03-01 03:05:38.015</td>\n",
       "      <td>4rdRBBM</td>\n",
       "      <td>True</td>\n",
       "    </tr>\n",
       "    <tr>\n",
       "      <th>955753</th>\n",
       "      <td>1112370500</td>\n",
       "      <td>2018-03-01 03:04:57.002</td>\n",
       "      <td>ZDr9XxP</td>\n",
       "      <td>True</td>\n",
       "    </tr>\n",
       "    <tr>\n",
       "      <th>960860</th>\n",
       "      <td>1112370500</td>\n",
       "      <td>2018-03-01 04:14:05.262</td>\n",
       "      <td>kPjl8eV</td>\n",
       "      <td>True</td>\n",
       "    </tr>\n",
       "    <tr>\n",
       "      <th>940125</th>\n",
       "      <td>1112370424</td>\n",
       "      <td>2018-03-01 02:14:13.155</td>\n",
       "      <td>Bmaowbv</td>\n",
       "      <td>True</td>\n",
       "    </tr>\n",
       "    <tr>\n",
       "      <th>946648</th>\n",
       "      <td>1112370424</td>\n",
       "      <td>2018-03-01 02:18:45.840</td>\n",
       "      <td>dYjbR9P</td>\n",
       "      <td>True</td>\n",
       "    </tr>\n",
       "    <tr>\n",
       "      <th>943102</th>\n",
       "      <td>1112280484</td>\n",
       "      <td>2018-03-01 01:42:15.558</td>\n",
       "      <td>6rP9xKr</td>\n",
       "      <td>True</td>\n",
       "    </tr>\n",
       "    <tr>\n",
       "      <th>944576</th>\n",
       "      <td>1112317215</td>\n",
       "      <td>2018-03-01 02:37:35.352</td>\n",
       "      <td>ZD864Q8</td>\n",
       "      <td>True</td>\n",
       "    </tr>\n",
       "    <tr>\n",
       "      <th>952527</th>\n",
       "      <td>1111734483</td>\n",
       "      <td>2018-03-01 03:48:19.433</td>\n",
       "      <td>bOj11Pq</td>\n",
       "      <td>True</td>\n",
       "    </tr>\n",
       "    <tr>\n",
       "      <th>958916</th>\n",
       "      <td>1111734483</td>\n",
       "      <td>2018-03-01 04:51:58.944</td>\n",
       "      <td>VNxjpxM</td>\n",
       "      <td>True</td>\n",
       "    </tr>\n",
       "    <tr>\n",
       "      <th>960101</th>\n",
       "      <td>1111734483</td>\n",
       "      <td>2018-03-01 04:23:14.654</td>\n",
       "      <td>ow2Qm1j</td>\n",
       "      <td>True</td>\n",
       "    </tr>\n",
       "    <tr>\n",
       "      <th>960640</th>\n",
       "      <td>1111734483</td>\n",
       "      <td>2018-03-01 04:27:19.065</td>\n",
       "      <td>1Z5eXB</td>\n",
       "      <td>True</td>\n",
       "    </tr>\n",
       "    <tr>\n",
       "      <th>960702</th>\n",
       "      <td>1111734483</td>\n",
       "      <td>2018-03-01 04:34:13.781</td>\n",
       "      <td>aXW6e9</td>\n",
       "      <td>True</td>\n",
       "    </tr>\n",
       "    <tr>\n",
       "      <th>960981</th>\n",
       "      <td>1111734483</td>\n",
       "      <td>2018-03-01 04:35:25.631</td>\n",
       "      <td>EzeraY6</td>\n",
       "      <td>True</td>\n",
       "    </tr>\n",
       "    <tr>\n",
       "      <th>961020</th>\n",
       "      <td>1111734483</td>\n",
       "      <td>2018-03-01 04:38:10.603</td>\n",
       "      <td>wVomkJL</td>\n",
       "      <td>True</td>\n",
       "    </tr>\n",
       "    <tr>\n",
       "      <th>961236</th>\n",
       "      <td>1111734483</td>\n",
       "      <td>2018-03-01 04:33:45.290</td>\n",
       "      <td>aXW6e9</td>\n",
       "      <td>True</td>\n",
       "    </tr>\n",
       "    <tr>\n",
       "      <th>957752</th>\n",
       "      <td>1112132555</td>\n",
       "      <td>2018-03-01 04:36:31.512</td>\n",
       "      <td>xkde6o0</td>\n",
       "      <td>True</td>\n",
       "    </tr>\n",
       "    <tr>\n",
       "      <th>958909</th>\n",
       "      <td>1112132555</td>\n",
       "      <td>2018-03-01 04:51:03.794</td>\n",
       "      <td>VNxjpxM</td>\n",
       "      <td>True</td>\n",
       "    </tr>\n",
       "    <tr>\n",
       "      <th>960738</th>\n",
       "      <td>1112132555</td>\n",
       "      <td>2018-03-01 04:37:17.091</td>\n",
       "      <td>wVomkJL</td>\n",
       "      <td>True</td>\n",
       "    </tr>\n",
       "    <tr>\n",
       "      <th>961638</th>\n",
       "      <td>1112132555</td>\n",
       "      <td>2018-03-01 04:32:52.071</td>\n",
       "      <td>vVDl1RP</td>\n",
       "      <td>True</td>\n",
       "    </tr>\n",
       "  </tbody>\n",
       "</table>\n",
       "<p>760068 rows × 4 columns</p>\n",
       "</div>"
      ],
      "text/plain": [
       "           idAviso               timestamp idpostulante online\n",
       "0       1111780242 2018-02-23 18:38:13.187      YjVJQ6Z   True\n",
       "22      1111780242 2018-02-23 18:39:03.119      dYjRpMD   True\n",
       "471     1111780242 2018-02-23 18:43:52.058      wVopPXl   True\n",
       "490     1111780242 2018-02-23 18:45:06.956      wVopPXl   True\n",
       "720     1111780242 2018-02-23 18:40:23.265      wVoOPoL   True\n",
       "1067    1111780242 2018-02-23 18:39:04.385      dYjRpMD   True\n",
       "1753    1111780242 2018-02-23 18:40:37.567      wVoOPoL   True\n",
       "2095    1111780242 2018-02-23 18:40:36.307      wVoOPoL   True\n",
       "3461    1111780242 2018-02-23 19:00:58.249      KBdJJKd   True\n",
       "4772    1111780242 2018-02-23 19:20:05.713      3N2brQK   True\n",
       "9242    1111780242 2018-02-23 19:32:04.093      qekKLlk   True\n",
       "10605   1111780242 2018-02-23 19:46:17.367      DrJlqdX   True\n",
       "10796   1111780242 2018-02-23 19:39:14.499      GNOe85A   True\n",
       "11817   1111780242 2018-02-23 19:39:12.820      GNOe85A   True\n",
       "12319   1111780242 2018-02-23 19:32:06.005      qekKLlk   True\n",
       "13119   1111780242 2018-02-23 19:55:08.643      JBmrw2E   True\n",
       "15058   1111780242 2018-02-23 20:14:55.833      xkvp8zP   True\n",
       "15060   1111780242 2018-02-23 20:15:01.094      xkvp8zP   True\n",
       "15486   1111780242 2018-02-23 20:08:03.692      qekKLlk   True\n",
       "15513   1111780242 2018-02-23 20:09:23.585      qekKLlk   True\n",
       "16358   1111780242 2018-02-23 20:08:06.683      qekKLlk   True\n",
       "16515   1111780242 2018-02-23 20:14:10.935      zvPoEM8   True\n",
       "16803   1111780242 2018-02-23 20:13:43.619      xkvp8zP   True\n",
       "16815   1111780242 2018-02-23 20:14:15.599      zvPoEM8   True\n",
       "17587   1111780242 2018-02-23 20:09:21.648      qekKLlk   True\n",
       "17702   1111780242 2018-02-23 20:14:54.477      xkvp8zP   True\n",
       "18017   1111780242 2018-02-23 20:30:23.836      VNrRL5l   True\n",
       "18311   1111780242 2018-02-23 20:30:24.946      VNrRL5l   True\n",
       "18407   1111780242 2018-02-23 20:35:29.834      vV9GqWo   True\n",
       "19875   1111780242 2018-02-23 20:30:14.817      96XY1Ea   True\n",
       "...            ...                     ...          ...    ...\n",
       "952327  1112206824 2018-03-01 03:01:40.127       ZpONwR   True\n",
       "936579  1112370440 2018-03-01 01:45:38.506      mzVVX4E   True\n",
       "939681  1112370440 2018-03-01 02:00:17.810       ZqEeA5   True\n",
       "940131  1112370440 2018-03-01 02:14:28.584      OqrAKNN   True\n",
       "942489  1112370440 2018-03-01 03:12:44.991       6pNkRl   True\n",
       "944115  1112370440 2018-03-01 01:31:08.845       88GLlL   True\n",
       "947609  1112370440 2018-03-01 03:10:12.346       5EzAXz   True\n",
       "956704  1112370440 2018-03-01 03:10:13.153       5EzAXz   True\n",
       "959491  1112370440 2018-03-01 03:53:09.924      bOVO1MY   True\n",
       "937631  1112370500 2018-03-01 02:37:22.769      5mqz2Wq   True\n",
       "942472  1112370500 2018-03-01 03:11:46.859       eeoNQ4   True\n",
       "948250  1112370500 2018-03-01 03:05:38.015      4rdRBBM   True\n",
       "955753  1112370500 2018-03-01 03:04:57.002      ZDr9XxP   True\n",
       "960860  1112370500 2018-03-01 04:14:05.262      kPjl8eV   True\n",
       "940125  1112370424 2018-03-01 02:14:13.155      Bmaowbv   True\n",
       "946648  1112370424 2018-03-01 02:18:45.840      dYjbR9P   True\n",
       "943102  1112280484 2018-03-01 01:42:15.558      6rP9xKr   True\n",
       "944576  1112317215 2018-03-01 02:37:35.352      ZD864Q8   True\n",
       "952527  1111734483 2018-03-01 03:48:19.433      bOj11Pq   True\n",
       "958916  1111734483 2018-03-01 04:51:58.944      VNxjpxM   True\n",
       "960101  1111734483 2018-03-01 04:23:14.654      ow2Qm1j   True\n",
       "960640  1111734483 2018-03-01 04:27:19.065       1Z5eXB   True\n",
       "960702  1111734483 2018-03-01 04:34:13.781       aXW6e9   True\n",
       "960981  1111734483 2018-03-01 04:35:25.631      EzeraY6   True\n",
       "961020  1111734483 2018-03-01 04:38:10.603      wVomkJL   True\n",
       "961236  1111734483 2018-03-01 04:33:45.290       aXW6e9   True\n",
       "957752  1112132555 2018-03-01 04:36:31.512      xkde6o0   True\n",
       "958909  1112132555 2018-03-01 04:51:03.794      VNxjpxM   True\n",
       "960738  1112132555 2018-03-01 04:37:17.091      wVomkJL   True\n",
       "961638  1112132555 2018-03-01 04:32:52.071      vVDl1RP   True\n",
       "\n",
       "[760068 rows x 4 columns]"
      ]
     },
     "execution_count": 76,
     "metadata": {},
     "output_type": "execute_result"
    }
   ],
   "source": [
    "vistas_activas"
   ]
  },
  {
   "cell_type": "markdown",
   "metadata": {},
   "source": [
    "#### Deducimos que el data set de vistas sólo posee datos activos "
   ]
  },
  {
   "cell_type": "markdown",
   "metadata": {},
   "source": [
    "## Analizamos el set de datos de los postulantes\n",
    "\n",
    "### Evaluamos si los postulantes poseen datos validos"
   ]
  },
  {
   "cell_type": "code",
   "execution_count": 6,
   "metadata": {},
   "outputs": [
    {
     "data": {
      "text/plain": [
       "154559   1775-07-09\n",
       "164618   1917-07-08\n",
       "156483   1921-08-18\n",
       "83825    1939-07-27\n",
       "99345    1941-09-21\n",
       "55962    1942-07-16\n",
       "15039    1942-08-21\n",
       "199706   1942-12-19\n",
       "25080    1943-02-07\n",
       "17969    1943-03-17\n",
       "11671    1944-03-23\n",
       "64272    1944-08-02\n",
       "98648    1944-11-13\n",
       "44744    1946-06-16\n",
       "520      1946-12-03\n",
       "63142    1947-01-21\n",
       "52616    1947-06-30\n",
       "97800    1947-07-12\n",
       "41689    1947-07-27\n",
       "49323    1947-10-13\n",
       "145374   1947-11-27\n",
       "115060   1947-12-04\n",
       "80254    1948-01-31\n",
       "1440     1948-05-14\n",
       "84750    1948-06-23\n",
       "108855   1948-07-01\n",
       "135106   1948-07-10\n",
       "3784     1948-08-01\n",
       "5274     1948-10-04\n",
       "3750     1948-10-04\n",
       "            ...    \n",
       "200597          NaT\n",
       "200598          NaT\n",
       "200604          NaT\n",
       "200607          NaT\n",
       "200609          NaT\n",
       "200614          NaT\n",
       "200616          NaT\n",
       "200630          NaT\n",
       "200650          NaT\n",
       "200652          NaT\n",
       "200673          NaT\n",
       "200676          NaT\n",
       "200703          NaT\n",
       "200710          NaT\n",
       "200728          NaT\n",
       "200733          NaT\n",
       "200763          NaT\n",
       "200770          NaT\n",
       "200779          NaT\n",
       "200804          NaT\n",
       "200813          NaT\n",
       "200814          NaT\n",
       "200844          NaT\n",
       "200849          NaT\n",
       "200870          NaT\n",
       "200872          NaT\n",
       "200876          NaT\n",
       "200879          NaT\n",
       "200880          NaT\n",
       "200887          NaT\n",
       "Name: fechanacimiento, dtype: datetime64[ns]"
      ]
     },
     "execution_count": 6,
     "metadata": {},
     "output_type": "execute_result"
    }
   ],
   "source": [
    "postulantes = postulantes_genero_edad\n",
    "postulantes[\"fechanacimiento\"] = pd.to_datetime(postulantes[\"fechanacimiento\"], errors='coerce')\n",
    "postulantes[\"fechanacimiento\"].sort_values()"
   ]
  },
  {
   "cell_type": "code",
   "execution_count": 7,
   "metadata": {},
   "outputs": [
    {
     "data": {
      "text/html": [
       "<div>\n",
       "<table border=\"1\" class=\"dataframe\">\n",
       "  <thead>\n",
       "    <tr style=\"text-align: right;\">\n",
       "      <th></th>\n",
       "      <th>idpostulante</th>\n",
       "      <th>fechanacimiento</th>\n",
       "      <th>sexo</th>\n",
       "    </tr>\n",
       "  </thead>\n",
       "  <tbody>\n",
       "    <tr>\n",
       "      <th>287</th>\n",
       "      <td>aXm1J</td>\n",
       "      <td>1952-04-16</td>\n",
       "      <td>MASC</td>\n",
       "    </tr>\n",
       "    <tr>\n",
       "      <th>302</th>\n",
       "      <td>eV1jp</td>\n",
       "      <td>1950-11-28</td>\n",
       "      <td>MASC</td>\n",
       "    </tr>\n",
       "    <tr>\n",
       "      <th>303</th>\n",
       "      <td>ZLwmV</td>\n",
       "      <td>1953-12-22</td>\n",
       "      <td>FEM</td>\n",
       "    </tr>\n",
       "    <tr>\n",
       "      <th>520</th>\n",
       "      <td>52DWRk</td>\n",
       "      <td>1946-12-03</td>\n",
       "      <td>MASC</td>\n",
       "    </tr>\n",
       "    <tr>\n",
       "      <th>529</th>\n",
       "      <td>Y06KOr</td>\n",
       "      <td>1952-01-08</td>\n",
       "      <td>MASC</td>\n",
       "    </tr>\n",
       "  </tbody>\n",
       "</table>\n",
       "</div>"
      ],
      "text/plain": [
       "    idpostulante fechanacimiento  sexo\n",
       "287        aXm1J      1952-04-16  MASC\n",
       "302        eV1jp      1950-11-28  MASC\n",
       "303        ZLwmV      1953-12-22   FEM\n",
       "520       52DWRk      1946-12-03  MASC\n",
       "529       Y06KOr      1952-01-08  MASC"
      ]
     },
     "execution_count": 7,
     "metadata": {},
     "output_type": "execute_result"
    }
   ],
   "source": [
    "postulantes_invalidos = postulantes.loc[-((postulantes[\"fechanacimiento\"].dt.year > 1953)\n",
    "                                          &(postulantes[\"fechanacimiento\"].dt.year<2000))]\n",
    "postulantes_invalidos.head()"
   ]
  },
  {
   "cell_type": "code",
   "execution_count": 8,
   "metadata": {},
   "outputs": [
    {
     "data": {
      "text/html": [
       "<div>\n",
       "<table border=\"1\" class=\"dataframe\">\n",
       "  <thead>\n",
       "    <tr style=\"text-align: right;\">\n",
       "      <th></th>\n",
       "      <th>idpostulante</th>\n",
       "      <th>fechanacimiento</th>\n",
       "      <th>sexo</th>\n",
       "    </tr>\n",
       "  </thead>\n",
       "  <tbody>\n",
       "    <tr>\n",
       "      <th>0</th>\n",
       "      <td>NM5M</td>\n",
       "      <td>1970-12-03</td>\n",
       "      <td>FEM</td>\n",
       "    </tr>\n",
       "    <tr>\n",
       "      <th>1</th>\n",
       "      <td>5awk</td>\n",
       "      <td>1962-12-04</td>\n",
       "      <td>FEM</td>\n",
       "    </tr>\n",
       "    <tr>\n",
       "      <th>2</th>\n",
       "      <td>ZaO5</td>\n",
       "      <td>1978-08-10</td>\n",
       "      <td>FEM</td>\n",
       "    </tr>\n",
       "    <tr>\n",
       "      <th>3</th>\n",
       "      <td>NdJl</td>\n",
       "      <td>1969-05-09</td>\n",
       "      <td>MASC</td>\n",
       "    </tr>\n",
       "    <tr>\n",
       "      <th>4</th>\n",
       "      <td>eo2p</td>\n",
       "      <td>1981-02-16</td>\n",
       "      <td>MASC</td>\n",
       "    </tr>\n",
       "  </tbody>\n",
       "</table>\n",
       "</div>"
      ],
      "text/plain": [
       "  idpostulante fechanacimiento  sexo\n",
       "0         NM5M      1970-12-03   FEM\n",
       "1         5awk      1962-12-04   FEM\n",
       "2         ZaO5      1978-08-10   FEM\n",
       "3         NdJl      1969-05-09  MASC\n",
       "4         eo2p      1981-02-16  MASC"
      ]
     },
     "execution_count": 8,
     "metadata": {},
     "output_type": "execute_result"
    }
   ],
   "source": [
    "postulantes = postulantes.loc[((postulantes[\"fechanacimiento\"].dt.year > 1953)\n",
    "                             &(postulantes[\"fechanacimiento\"].dt.year<2000))]\n",
    "postulantes.head()"
   ]
  },
  {
   "cell_type": "markdown",
   "metadata": {},
   "source": [
    "#### Consideramos como tope la edad de jubilación (65 años) como fecha de nacimiento válida para un postulante y como mínimo la de la mayoría de edad (18 años)"
   ]
  },
  {
   "cell_type": "code",
   "execution_count": 9,
   "metadata": {},
   "outputs": [
    {
     "data": {
      "text/plain": [
       "count      195390\n",
       "unique     195390\n",
       "top       A3vRwKL\n",
       "freq            1\n",
       "Name: idpostulante, dtype: object"
      ]
     },
     "execution_count": 9,
     "metadata": {},
     "output_type": "execute_result"
    }
   ],
   "source": [
    "postulantes[\"idpostulante\"].describe()"
   ]
  },
  {
   "cell_type": "code",
   "execution_count": 10,
   "metadata": {},
   "outputs": [
    {
     "data": {
      "text/plain": [
       "idpostulante\n",
       "0z5VvGv    1\n",
       "aDK4Nm     1\n",
       "aDL6zm     1\n",
       "aDL9N      1\n",
       "aDN5ED     1\n",
       "aDNA6N     1\n",
       "aDPrJ9     1\n",
       "aDRx3Z     1\n",
       "aDVeb0     1\n",
       "aDVq2J     1\n",
       "aDWdrJ     1\n",
       "aDXNaN     1\n",
       "aDXXe9     1\n",
       "aDXbzW     1\n",
       "aDXeaJ     1\n",
       "aDYN9W     1\n",
       "aDb92N     1\n",
       "aDkQQ5     1\n",
       "aDmQem     1\n",
       "aDrxVJ     1\n",
       "aDJzQq     1\n",
       "aDD1xZ     1\n",
       "aDBNB9     1\n",
       "aDAaYN     1\n",
       "aBm4vm     1\n",
       "aBmAxq     1\n",
       "aBmeVJ     1\n",
       "aBp6B0     1\n",
       "aBpLo9     1\n",
       "aBpMkW     1\n",
       "          ..\n",
       "Eze9dR2    1\n",
       "Eze9dWz    1\n",
       "Eze9e5o    1\n",
       "Eze9e9o    1\n",
       "Eze9Zjz    1\n",
       "Eze9Jl2    1\n",
       "Eze9Rq2    1\n",
       "Eze9R3J    1\n",
       "Eze9KA9    1\n",
       "Eze9L0J    1\n",
       "Eze9LA0    1\n",
       "Eze9LE9    1\n",
       "Eze9LN8    1\n",
       "Eze9Ll9    1\n",
       "Eze9Lo9    1\n",
       "Eze9M02    1\n",
       "Eze9MJ4    1\n",
       "Eze9RP9    1\n",
       "Eze9N16    1\n",
       "Eze9NQz    1\n",
       "Eze9Np0    1\n",
       "Eze9O52    1\n",
       "Eze9OV8    1\n",
       "Eze9Olo    1\n",
       "Eze9PA8    1\n",
       "Eze9PON    1\n",
       "Eze9PV4    1\n",
       "Eze9Q4b    1\n",
       "Eze9NL6    1\n",
       "zvxzrWm    1\n",
       "dtype: int64"
      ]
     },
     "execution_count": 10,
     "metadata": {},
     "output_type": "execute_result"
    }
   ],
   "source": [
    "postulantes.groupby(\"idpostulante\").size().sort_values()"
   ]
  },
  {
   "cell_type": "markdown",
   "metadata": {},
   "source": [
    "#### Vemos si los avisos son visitados por postulantes válidos"
   ]
  },
  {
   "cell_type": "code",
   "execution_count": 11,
   "metadata": {},
   "outputs": [
    {
     "name": "stdout",
     "output_type": "stream",
     "text": [
      "<class 'pandas.core.frame.DataFrame'>\n",
      "Int64Index: 5498 entries, 287 to 200887\n",
      "Data columns (total 3 columns):\n",
      "idpostulante       5498 non-null object\n",
      "fechanacimiento    741 non-null datetime64[ns]\n",
      "sexo               5498 non-null object\n",
      "dtypes: datetime64[ns](1), object(2)\n",
      "memory usage: 171.8+ KB\n"
     ]
    }
   ],
   "source": [
    "postulantes_invalidos.info()"
   ]
  },
  {
   "cell_type": "code",
   "execution_count": 12,
   "metadata": {},
   "outputs": [
    {
     "name": "stdout",
     "output_type": "stream",
     "text": [
      "<class 'pandas.core.frame.DataFrame'>\n",
      "Int64Index: 195390 entries, 0 to 200886\n",
      "Data columns (total 3 columns):\n",
      "idpostulante       195390 non-null object\n",
      "fechanacimiento    195390 non-null datetime64[ns]\n",
      "sexo               195390 non-null object\n",
      "dtypes: datetime64[ns](1), object(2)\n",
      "memory usage: 6.0+ MB\n"
     ]
    }
   ],
   "source": [
    "postulantes.info()"
   ]
  },
  {
   "cell_type": "code",
   "execution_count": 42,
   "metadata": {},
   "outputs": [
    {
     "data": {
      "text/plain": [
       "Ventas                                   6179\n",
       "Administración                           4393\n",
       "Recepcionista                            2882\n",
       "Producción                               2742\n",
       "Comercial                                2288\n",
       "Atención al Cliente                      1818\n",
       "Telemarketing                            1219\n",
       "Call Center                              1172\n",
       "Mantenimiento y Limpieza                  917\n",
       "Tesorería                                 789\n",
       "Recursos Humanos                          782\n",
       "Gastronomia                               721\n",
       "Administración de Personal                690\n",
       "Camareros                                 688\n",
       "Contabilidad                              642\n",
       "Secretaria                                545\n",
       "Otros                                     515\n",
       "Farmacéutica                              509\n",
       "Almacén / Depósito / Expedición           474\n",
       "Salud                                     472\n",
       "Compras                                   391\n",
       "Oficios y Profesiones                     390\n",
       "Créditos y Cobranzas                      355\n",
       "Mantenimiento                             339\n",
       "Logística                                 338\n",
       "Legal                                     334\n",
       "Seguridad                                 325\n",
       "Servicios                                 316\n",
       "Soporte Técnico                           301\n",
       "Marketing                                 279\n",
       "                                         ... \n",
       "Media Planning                             10\n",
       "Educación                                   8\n",
       "Operaciones                                 8\n",
       "Diseño Textil e Indumentaria                8\n",
       "Independientes                              8\n",
       "Evaluación Económica                        8\n",
       "Química                                     7\n",
       "Ingeniería de Ventas                        7\n",
       "Comunicaciones Internas                     7\n",
       "Planeamiento                                7\n",
       "Ingeniería en Minas                         6\n",
       "Bioquímica                                  6\n",
       "Diseño Multimedia                           6\n",
       "Corporate Finance / Banca Inversión         6\n",
       "Creatividad                                 5\n",
       "Internet                                    5\n",
       "Seguridad Industrial                        4\n",
       "Apoderado Aduanal                           4\n",
       "Educación especial                          3\n",
       "Investigación y Desarrollo                  3\n",
       "Ingeniería  Metalurgica                     3\n",
       "Administración de Base de Datos             3\n",
       "Instrumentación                             2\n",
       "Ingeniería en Petróleo y Petroquímica       2\n",
       "Medio Ambiente                              2\n",
       "Diseño Industrial                           2\n",
       "Dirección                                   1\n",
       "Diseño 3D                                   1\n",
       "Negocios Internacionales                    1\n",
       "Multimedia                                  1\n",
       "Name: nombre_area, dtype: int64"
      ]
     },
     "execution_count": 42,
     "metadata": {},
     "output_type": "execute_result"
    }
   ],
   "source": [
    "vistas[\"timestamp\"] = pd.to_datetime(vistas[\"timestamp\"], errors='coerce')\n",
    "vistas[vistas[\"timestamp\"].dt.month == 3][\"nombre_area\"].value_counts()"
   ]
  },
  {
   "cell_type": "code",
   "execution_count": 36,
   "metadata": {},
   "outputs": [
    {
     "data": {
      "text/plain": [
       "<matplotlib.text.Text at 0x7f12f00a0828>"
      ]
     },
     "execution_count": 36,
     "metadata": {},
     "output_type": "execute_result"
    },
    {
     "data": {
      "image/png": "[encoded data removed]",
      "text/plain": [
       "<matplotlib.figure.Figure at 0x7f12f0bebf28>"
      ]
     },
     "metadata": {},
     "output_type": "display_data"
    }
   ],
   "source": [
    "## Avisos mas visitados en el Mes de Marzo\n",
    "## vistas = vistas.join(avisos.set_index(\"idaviso\"), on=\"idAviso\", how=\"inner\")\n",
    "vistas_marzo = vistas.loc[:,[\"nombre_area\",\"timestamp\"]]\n",
    "vistas_marzo[\"timestamp\"] = pd.to_datetime(vistas_marzo[\"timestamp\"], errors='coerce')\n",
    "vistas_marzo = vistas_marzo[vistas_marzo[\"timestamp\"].dt.month == 3]\n",
    "vistas_marzo[\"nombre_area\"].value_counts().head().plot(kind=\"bar\", title=\"Areas mas requeridas del mes de Marzo\")\n",
    "plt.xlabel(\"Area\")\n",
    "plt.ylabel(\"Cantidad de postulaciones\")"
   ]
  },
  {
   "cell_type": "code",
   "execution_count": 44,
   "metadata": {},
   "outputs": [
    {
     "data": {
      "text/plain": [
       "<matplotlib.text.Text at 0x7f12efdc1dd8>"
      ]
     },
     "execution_count": 44,
     "metadata": {},
     "output_type": "execute_result"
    },
    {
     "data": {
      "image/png": "[encoded data removed]",
      "text/plain": [
       "<matplotlib.figure.Figure at 0x7f12f0053cc0>"
      ]
     },
     "metadata": {},
     "output_type": "display_data"
    }
   ],
   "source": [
    "## Avisos mas visitados segun el área del mes de Febrero\n",
    "vistas_febrero = vistas[vistas[\"timestamp\"].dt.month == 2]\n",
    "vistas_febrero = vistas.loc[:,[\"nombre_area\",\"timestamp\"]]\n",
    "vistas_febrero[\"nombre_area\"].value_counts().head().plot(kind=\"bar\", color='red')\n",
    "plt.title(\"Areas mas visitadas en el mes de Febrero\")\n",
    "plt.xlabel(\"Area\")\n",
    "plt.ylabel(\"Cantidad de postulaciones\")"
   ]
  },
  {
   "cell_type": "code",
   "execution_count": 49,
   "metadata": {},
   "outputs": [
    {
     "data": {
      "text/plain": [
       "<matplotlib.text.Text at 0x7f12d38f09e8>"
      ]
     },
     "execution_count": 49,
     "metadata": {},
     "output_type": "execute_result"
    },
    {
     "data": {
      "image/png": "[encoded data removed]",
      "text/plain": [
       "<matplotlib.figure.Figure at 0x7f12e6a53780>"
      ]
     },
     "metadata": {},
     "output_type": "display_data"
    }
   ],
   "source": [
    "##cantidad de avisos vistos por cada postulante\n",
    "vistas[\"idpostulante\"].value_counts().head(20).plot(kind='bar', rot=0, color = 'pink',\n",
    "                                                    figsize=(16,8),\n",
    "                                           title='Cantidad de visitas a anuncios de cada postulante')\n",
    "plt.xlabel(\"Postulante\")\n",
    "plt.ylabel(\"Cantidad de Visitas\")"
   ]
  },
  {
   "cell_type": "markdown",
   "metadata": {},
   "source": [
    "#### Solo representamos el id del postulante\n"
   ]
  },
  {
   "cell_type": "markdown",
   "metadata": {},
   "source": [
    "Esto serviria a la hora de saber a que postulante mandarle mas avisos, cual está mas pendiente o más conectado\n",
    "\n"
   ]
  },
  {
   "cell_type": "markdown",
   "metadata": {},
   "source": [
    "### Vamos a ver la cantidad de visitas según el dia del mes"
   ]
  },
  {
   "cell_type": "code",
   "execution_count": 9,
   "metadata": {},
   "outputs": [],
   "source": [
    "vistas[\"timestamp\"] = pd.to_datetime(vistas[\"timestamp\"], errors='coerce')"
   ]
  },
  {
   "cell_type": "code",
   "execution_count": 35,
   "metadata": {},
   "outputs": [
    {
     "data": {
      "text/plain": [
       "27    232145\n",
       "26    227957\n",
       "28    227160\n",
       "24     95930\n",
       "25     90646\n",
       "23     47236\n",
       "1      40823\n",
       "Name: timestamp, dtype: int64"
      ]
     },
     "execution_count": 35,
     "metadata": {},
     "output_type": "execute_result"
    }
   ],
   "source": [
    "vistas[\"timestamp\"].dt.day.value_counts()"
   ]
  },
  {
   "cell_type": "code",
   "execution_count": 63,
   "metadata": {},
   "outputs": [
    {
     "data": {
      "text/plain": [
       "<matplotlib.text.Text at 0x7fa26f2ec710>"
      ]
     },
     "execution_count": 63,
     "metadata": {},
     "output_type": "execute_result"
    },
    {
     "data": {
      "image/png": "[encoded data removed]",
      "text/plain": [
       "<matplotlib.figure.Figure at 0x7fa26f2fc0f0>"
      ]
     },
     "metadata": {},
     "output_type": "display_data"
    }
   ],
   "source": [
    "vistas[\"timestamp\"].dt.day.value_counts().sort_values().plot(kind='bar', figsize=(16,8), rot=0, color='red')\n",
    "plt.title(\"Días mas visitados\", fontsize=20)\n",
    "plt.xlabel(\"Día del mes\", fontsize= 15)\n",
    "plt.ylabel(\"Cantidad de visitas\", fontsize= 15)"
   ]
  },
  {
   "cell_type": "markdown",
   "metadata": {},
   "source": [
    "#### Como se puede observar en el gráfico a fin de mes son los días que mas se visitan los anuncios de trabajo. Por ende si se quiere activar/lanzar un aviso es preferible que se realice a fines de mes para que no se pierda entre los más viejos, si es que se muestran los anuncios nuevos al comienzo de la búsqueda"
   ]
  }
 ],
 "metadata": {
  "kernelspec": {
   "display_name": "Python 3",
   "language": "python",
   "name": "python3"
  },
  "language_info": {
   "codemirror_mode": {
    "name": "ipython",
    "version": 3
   },
   "file_extension": ".py",
   "mimetype": "text/x-python",
   "name": "python",
   "nbconvert_exporter": "python",
   "pygments_lexer": "ipython3",
   "version": "3.5.2"
  }
 },
 "nbformat": 4,
 "nbformat_minor": 2
}
